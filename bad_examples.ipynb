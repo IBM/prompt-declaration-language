{
 "cells": [
  {
   "cell_type": "markdown",
   "metadata": {},
   "source": [
    "Task: Josh decides to try flipping a house.  He buys a house for $80,000 and then puts in $50,000 in repairs.  This increased the value of the house by 150%.  How much profit did he make?\n",
    "Plan: The cost of the house was $80,000 and the cost of the repairs was $50,000. Calculate the total cost. #E1 = Calculator[80000+50000]\n",
    "Plan: The value of the house increased by 150% after the repairs. Calculate the new value of the house. #E2 = Calculator[80000*1.5]\n",
    "Plan: The profit is the value of the house minus the cost. Calculate the profit. #E3 = Calculator[#E2-#E1]\n",
    "\n",
    "--- Extracted Blueprint ---\n",
    "Plan: The cost of the house was $80,000 and the cost of the repairs was $50,000. Calculate the total cost.\n",
    "#E1 = Calculator[80000+50000]\n",
    "Plan: The value of the house increased by 150% after the repairs. Calculate the new value of the house.\n",
    "#E2 = Calculator[80000*1.5]\n",
    "Plan: The profit is the value of the house minus the cost. Calculate the profit.\n",
    "#E3 = Calculator[#E2-#E1]"
   ]
  },
  {
   "cell_type": "code",
   "execution_count": 1,
   "metadata": {},
   "outputs": [
    {
     "data": {
      "text/plain": [
       "120000.0"
      ]
     },
     "execution_count": 1,
     "metadata": {},
     "output_type": "execute_result"
    }
   ],
   "source": [
    "80000*1.5"
   ]
  },
  {
   "cell_type": "code",
   "execution_count": 3,
   "metadata": {},
   "outputs": [
    {
     "data": {
      "text/plain": [
       "70000"
      ]
     },
     "execution_count": 3,
     "metadata": {},
     "output_type": "execute_result"
    }
   ],
   "source": [
    "120000-50000"
   ]
  },
  {
   "cell_type": "markdown",
   "metadata": {},
   "source": [
    "Task: A new program had 60 downloads in the first month. The number of downloads in the second month was three times as many as the downloads in the first month, but then reduced by 30% in the third month. How many downloads did the program have total over the three months?\n",
    "Plan: In the first month, the program had 60 downloads. #E1 = 60\n",
    "Plan: In the second month, the number of downloads was three times as many as the downloads in the first month. Calculate the number of downloads in the second month. #E2 = Calculator[3*#E1]\n",
    "Plan: In the third month, the number of downloads was reduced by 30%. Calculate the number of downloads in the third month. #E3 = Calculator[0.7*#E2]\n",
    "Plan: Add up the number of downloads from all three months. #E4 = Calculator[#E1+#E2+#E3]\n",
    "\n",
    "--- Extracted Blueprint ---\n",
    "Plan: In the first month, the program had 60 downloads. #E1 = 60\n",
    "Plan: In the second month, the number of downloads was three times as many as the downloads in the first month. Calculate the number of downloads in the second month.\n",
    "#E2 = Calculator[3*#E1]\n",
    "Plan: In the third month, the number of downloads was reduced by 30%. Calculate the number of downloads in the third month.\n",
    "#E3 = Calculator[0.7*#E2]\n",
    "Plan: Add up the number of downloads from all three months.\n",
    "#E4 = Calculator[#E1+#E2+#E3]"
   ]
  }
 ],
 "metadata": {
  "kernelspec": {
   "display_name": "pdl",
   "language": "python",
   "name": "python3"
  },
  "language_info": {
   "codemirror_mode": {
    "name": "ipython",
    "version": 3
   },
   "file_extension": ".py",
   "mimetype": "text/x-python",
   "name": "python",
   "nbconvert_exporter": "python",
   "pygments_lexer": "ipython3",
   "version": "3.12.4"
  }
 },
 "nbformat": 4,
 "nbformat_minor": 2
}
