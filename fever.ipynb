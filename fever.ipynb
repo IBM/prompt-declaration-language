{
 "cells": [
  {
   "cell_type": "code",
   "execution_count": 382,
   "metadata": {},
   "outputs": [],
   "source": [
    "from datasets import load_dataset, DatasetDict, load_from_disk, Dataset\n",
    "import json\n",
    "from pathlib import Path\n",
    "from pprint import pprint\n",
    "import pandas as pd\n",
    "from itertools import groupby\n",
    "from funcy import flatten\n",
    "from tqdm.autonotebook import tqdm"
   ]
  },
  {
   "cell_type": "code",
   "execution_count": 434,
   "metadata": {},
   "outputs": [],
   "source": [
    "import warnings, wikipedia\n",
    "warnings.simplefilter(\"ignore\")\n",
    "\n",
    "from functools import cache\n",
    "\n",
    "@cache\n",
    "def search_new(subject: str, auto_suggest=False, redirect=False):\n",
    "    try:\n",
    "      result = wikipedia.summary(subject, auto_suggest=auto_suggest, redirect=redirect).strip(), \"success\"\n",
    "    except wikipedia.DisambiguationError as d:\n",
    "      result = f\"\\\"{subject}\\\" may refer to one of {d.args[1]}. Please retry the search with one of the subjects using Search[<subject>].\", \"disambg\"\n",
    "    except wikipedia.PageError as e:\n",
    "      result = f\"{e} Please retry the search using Search[<subject>].\", \"pageerror\"\n",
    "    except wikipedia.WikipediaException as e:\n",
    "      print(e, type(e))\n",
    "      result = str(e), f\"other:{type(e)}\"\n",
    "    except Exception as e:\n",
    "      print(e, type(e))\n",
    "      result = str(e), f\"other:{type(e)}\"\n",
    "    return result"
   ]
  },
  {
   "cell_type": "code",
   "execution_count": 407,
   "metadata": {},
   "outputs": [
    {
     "data": {
      "text/plain": [
       "'Psych is an American detective comedy-drama television series created by Steve Franks for USA Network. The series stars James Roday as Shawn Spencer, a young crime consultant for the Santa Barbara Police Department whose \"heightened observational skills\" and impressive eidetic memory allow him to convince people that he solves cases with psychic abilities. The program also stars Dulé Hill as Shawn\\'s intelligent best friend and reluctant partner Burton \"Gus\" Guster, as well as Corbin Bernsen as Shawn\\'s father Henry, a former detective with the Santa Barbara Police Department.\\nPsych premiered on July 7, 2006, following the fifth-season premiere of Monk, and continued to be paired with the series until Monk\\'s conclusion on December 4, 2009. During the second season, an animated segment titled \"The Big Adventures of Little Shawn and Gus\" was added to the series. Psych was the highest-rated US basic cable television premiere of 2006. USA Network renewed the series for an eighth season on December 19, 2012, to include eight episodes, and ordered two more episodes on June 25, 2013, bringing the episode order to ten. On February 5, 2014, USA Network confirmed that the eighth season of Psych would be its last, with the series finale airing on March 26, 2014.\\nPsych: The Movie, a two-hour television film, aired on USA Network on December 7, 2017, launching the Psych film series, with Franks\\' hope being to make five more Psych movies following Psych: The Movie. On February 14, 2019, it was announced Psych: The Movie 2 was greenlit and set to premiere in late 2019, for which the main cast would return, but the premiere thereof was subsequently delayed to 2020, with the film renamed Psych 2: Lassie Come Home, and released on NBCUniversal\\'s streaming service, Peacock, July 15, 2020, the day the service officially launched. On May 13, 2021, Peacock announced a third film, Psych 3: This Is Gus, which premiered on November 18, 2021. Three further Psych films are in development.'"
      ]
     },
     "execution_count": 407,
     "metadata": {},
     "output_type": "execute_result"
    }
   ],
   "source": [
    "wikipedia.page(\"Psych\", auto_suggest=False, redirect=True).summary"
   ]
  },
  {
   "cell_type": "code",
   "execution_count": 404,
   "metadata": {},
   "outputs": [
    {
     "data": {
      "text/plain": [
       "'Psych is an American detective comedy-drama television series created by Steve Franks for USA Network. The series stars James Roday as Shawn Spencer, a young crime consultant for the Santa Barbara Police Department whose \"heightened observational skills\" and impressive eidetic memory allow him to convince people that he solves cases with psychic abilities. The program also stars Dulé Hill as Shawn\\'s intelligent best friend and reluctant partner Burton \"Gus\" Guster, as well as Corbin Bernsen as Shawn\\'s father Henry, a former detective with the Santa Barbara Police Department.\\nPsych premiered on July 7, 2006, following the fifth-season premiere of Monk, and continued to be paired with the series until Monk\\'s conclusion on December 4, 2009. During the second season, an animated segment titled \"The Big Adventures of Little Shawn and Gus\" was added to the series. Psych was the highest-rated US basic cable television premiere of 2006. USA Network renewed the series for an eighth season on December 19, 2012, to include eight episodes, and ordered two more episodes on June 25, 2013, bringing the episode order to ten. On February 5, 2014, USA Network confirmed that the eighth season of Psych would be its last, with the series finale airing on March 26, 2014.\\nPsych: The Movie, a two-hour television film, aired on USA Network on December 7, 2017, launching the Psych film series, with Franks\\' hope being to make five more Psych movies following Psych: The Movie. On February 14, 2019, it was announced Psych: The Movie 2 was greenlit and set to premiere in late 2019, for which the main cast would return, but the premiere thereof was subsequently delayed to 2020, with the film renamed Psych 2: Lassie Come Home, and released on NBCUniversal\\'s streaming service, Peacock, July 15, 2020, the day the service officially launched. On May 13, 2021, Peacock announced a third film, Psych 3: This Is Gus, which premiered on November 18, 2021. Three further Psych films are in development.'"
      ]
     },
     "execution_count": 404,
     "metadata": {},
     "output_type": "execute_result"
    }
   ],
   "source": [
    "wikipedia.summary(\"Psych\", auto_suggest=False, redirect=False)"
   ]
  },
  {
   "cell_type": "code",
   "execution_count": 308,
   "metadata": {},
   "outputs": [
    {
     "data": {
      "text/plain": [
       "('Page id \"kentucky inmates execution\" does not match any pages. Try another id! Please retry the search using Search[<subject>].',\n",
       " 'pageerror')"
      ]
     },
     "execution_count": 308,
     "metadata": {},
     "output_type": "execute_result"
    }
   ],
   "source": [
    "search(\"Kentucky inmate executions\")"
   ]
  },
  {
   "cell_type": "code",
   "execution_count": 255,
   "metadata": {},
   "outputs": [
    {
     "data": {
      "text/plain": [
       "(\"Audience analysis is a task that is often performed by technical writers in a project's early stages. It consists of assessing the audience to make sure the information provided to them is at the appropriate level.  The audience is often referred to as the end-user, and all communications need to be targeted towards the defined audience.  Defining an audience requires the consideration of many factors, such as age, culture and knowledge of the subject.  After considering all the known factors, a profile of the intended audience can be created, allowing writers to write in a manner that is understood by the intended audience.\",\n",
       " 'success')"
      ]
     },
     "execution_count": 255,
     "metadata": {},
     "output_type": "execute_result"
    }
   ],
   "source": [
    "search('what \"Gray Matters\" means')"
   ]
  },
  {
   "cell_type": "code",
   "execution_count": 133,
   "metadata": {},
   "outputs": [],
   "source": [
    "fever = load_dataset(\"fever/fever\", \"v1.0\")\n",
    "js = json.loads(Path(\"task.json\").read_text())"
   ]
  },
  {
   "cell_type": "code",
   "execution_count": 11,
   "metadata": {},
   "outputs": [
    {
     "data": {
      "text/plain": [
       "311431"
      ]
     },
     "execution_count": 11,
     "metadata": {},
     "output_type": "execute_result"
    }
   ],
   "source": [
    "len(fever[\"train\"][\"id\"])"
   ]
  },
  {
   "cell_type": "code",
   "execution_count": 12,
   "metadata": {},
   "outputs": [
    {
     "data": {
      "text/plain": [
       "145449"
      ]
     },
     "execution_count": 12,
     "metadata": {},
     "output_type": "execute_result"
    }
   ],
   "source": [
    "len(set(fever[\"train\"][\"id\"]))"
   ]
  },
  {
   "cell_type": "code",
   "execution_count": 135,
   "metadata": {},
   "outputs": [
    {
     "data": {
      "application/vnd.jupyter.widget-view+json": {
       "model_id": "36f6620951724aeea03d6aef21c0cf8b",
       "version_major": 2,
       "version_minor": 0
      },
      "text/plain": [
       "Map (num_proc=32):   0%|          | 0/28625 [00:00<?, ? examples/s]"
      ]
     },
     "metadata": {},
     "output_type": "display_data"
    },
    {
     "data": {
      "application/vnd.jupyter.widget-view+json": {
       "model_id": "f89ce749a5614510871e6a83489dc9a2",
       "version_major": 2,
       "version_minor": 0
      },
      "text/plain": [
       "Map (num_proc=32):   0%|          | 0/14475 [00:00<?, ? examples/s]"
      ]
     },
     "metadata": {},
     "output_type": "display_data"
    },
    {
     "data": {
      "application/vnd.jupyter.widget-view+json": {
       "model_id": "9c0e75c2d9dd4c0791e9a0ac8aab3ef9",
       "version_major": 2,
       "version_minor": 0
      },
      "text/plain": [
       "Map (num_proc=32):   0%|          | 0/14150 [00:00<?, ? examples/s]"
      ]
     },
     "metadata": {},
     "output_type": "display_data"
    }
   ],
   "source": [
    "def mapper(row):\n",
    "    if row[\"label\"] == \"SUPPORTS\":\n",
    "        bool_label = True\n",
    "    elif row[\"label\"] == \"REFUTES\":\n",
    "        bool_label = False\n",
    "    else:\n",
    "        print(row[\"label\"])\n",
    "        raise ValueError(\"WOW! That's unexpected.\")\n",
    "\n",
    "    wikipedia_title = row[\"evidence_wiki_url\"].replace(\"_\", \" \").replace(\"-LRB-\", \"(\").replace(\"-RRB-\", \")\")\n",
    "    in_bigbench = any(row[\"claim\"] in y[\"input\"] for y in js[\"examples\"])\n",
    "    return {\"bool_label\": bool_label, \"wikipedia_title\": wikipedia_title, \"in_bigbench\": in_bigbench}\n",
    "ds = fever.filter(lambda x: x[\"label\"] in [\"SUPPORTS\", \"REFUTES\"]).map(mapper, num_proc=32)"
   ]
  },
  {
   "cell_type": "code",
   "execution_count": 136,
   "metadata": {},
   "outputs": [
    {
     "data": {
      "text/plain": [
       "12549"
      ]
     },
     "execution_count": 136,
     "metadata": {},
     "output_type": "execute_result"
    }
   ],
   "source": [
    "len(set(ds[\"train\"][\"wikipedia_title\"]))"
   ]
  },
  {
   "cell_type": "code",
   "execution_count": 137,
   "metadata": {},
   "outputs": [
    {
     "data": {
      "application/vnd.jupyter.widget-view+json": {
       "model_id": "d53bd5800b9745b796b5552b6d1a1d0b",
       "version_major": 2,
       "version_minor": 0
      },
      "text/plain": [
       "Filter:   0%|          | 0/5000 [00:00<?, ? examples/s]"
      ]
     },
     "metadata": {},
     "output_type": "display_data"
    },
    {
     "data": {
      "application/vnd.jupyter.widget-view+json": {
       "model_id": "566135e8a9f14eafb675957443ac02a3",
       "version_major": 2,
       "version_minor": 0
      },
      "text/plain": [
       "Map (num_proc=32):   0%|          | 0/4999 [00:00<?, ? examples/s]"
      ]
     },
     "metadata": {},
     "output_type": "display_data"
    },
    {
     "data": {
      "application/vnd.jupyter.widget-view+json": {
       "model_id": "2742fafec8fd40bf8c65635ed09257cf",
       "version_major": 2,
       "version_minor": 0
      },
      "text/plain": [
       "Filter:   0%|          | 0/4999 [00:00<?, ? examples/s]"
      ]
     },
     "metadata": {},
     "output_type": "display_data"
    }
   ],
   "source": [
    "def trajectorize(row):\n",
    "    claim = row[\"claim\"].strip()\n",
    "    task = f\"On June 2017, the following claim was made: {claim}\\nQ: Was this claim true or false?\"\n",
    "    answer = row[\"bool_label\"]\n",
    "    wiki, worked = search(row[\"wikipedia_title\"])\n",
    "    wiki = wiki.strip()\n",
    "\n",
    "    trajectory = [\n",
    "        {\"task\": task},\n",
    "        {\"thought\": f\"I need to search {row['wikipedia_title']}.\"},\n",
    "        {\"action\": f\"Search[{row['wikipedia_title']}]\"},\n",
    "        {\"observation\": f\"[Document]\\n{wiki}\\n[End]\"},\n",
    "        {\"thought\": f\"The claim is {answer}.\"},\n",
    "        {\"action\": f\"Finish[{answer}]\"},\n",
    "    ]\n",
    "\n",
    "    traj_keys = [next(iter(t.keys())) for t in trajectory]\n",
    "    traj_values = [next(iter(t.values())) for t in trajectory]\n",
    "\n",
    "    rewoo_trajectory = [\n",
    "        {\"task\": task},\n",
    "        {\"thought\": f\"Search for more information about {row['wikipedia_title']}.\"},\n",
    "        {\"action\": f\"Search[{row['wikipedia_title']}]\"},\n",
    "        {\"observation\": f\"[Document]\\n{wiki}\\n[End]\"},\n",
    "    ]\n",
    "\n",
    "    rewoo_traj_keys = [next(iter(t.keys())) for t in rewoo_trajectory]\n",
    "    rewoo_traj_values = [next(iter(t.values())) for t in rewoo_trajectory]\n",
    "\n",
    "    return {\n",
    "        \"traj_keys\": traj_keys,\n",
    "        \"traj_values\": traj_values,\n",
    "        \"rewoo_traj_keys\": rewoo_traj_keys,\n",
    "        \"rewoo_traj_values\": rewoo_traj_values,\n",
    "        \"wiki_worked\": worked,\n",
    "        \"wiki\": wiki,\n",
    "    }\n",
    "\n",
    "ds[\"train_react\"] = (\n",
    "    ds[\"train\"]\n",
    "    .shuffle()\n",
    "    .select(range(5000))\n",
    "    .filter(lambda x: x[\"in_bigbench\"] == False)\n",
    "    .map(trajectorize, num_proc=32)\n",
    ")\n",
    "ds[\"train_react_wiki_positive\"] = ds[\"train_react\"].filter(\n",
    "    lambda x: x[\"wiki_worked\"] == True\n",
    ")"
   ]
  },
  {
   "cell_type": "markdown",
   "metadata": {},
   "source": [
    "## Redo based off original FEVER"
   ]
  },
  {
   "cell_type": "code",
   "execution_count": 458,
   "metadata": {},
   "outputs": [
    {
     "data": {
      "text/plain": [
       "DatasetDict({\n",
       "    train: Dataset({\n",
       "        features: ['label', 'claim', 'unique_evidence', 'evidence_sentences', 'evidence_sentence_count', 'id'],\n",
       "        num_rows: 6720\n",
       "    })\n",
       "    test: Dataset({\n",
       "        features: ['label', 'claim', 'unique_evidence', 'evidence_sentences', 'evidence_sentence_count', 'id'],\n",
       "        num_rows: 6612\n",
       "    })\n",
       "})"
      ]
     },
     "execution_count": 458,
     "metadata": {},
     "output_type": "execute_result"
    }
   ],
   "source": [
    "fever = load_from_disk(\"var/fever_reprocessed\")\n",
    "fever"
   ]
  },
  {
   "cell_type": "code",
   "execution_count": 459,
   "metadata": {},
   "outputs": [],
   "source": [
    "def clean_fever(text) -> str:\n",
    "    mapping = {\"_\": \" \",\n",
    "               \"-LRB- \": \"(\",\n",
    "               \" -RRB-\": \")\",\n",
    "               \"-LSB- \": \"[\",\n",
    "               \" -RSB-\": \"]\",\n",
    "               \"-LRB-\": \"(\",\n",
    "               \"-RRB-\": \")\",\n",
    "               \"-LSB-\": \"[\",\n",
    "               \"-RSB-\": \"]\",\n",
    "               \"-COLON-\": \":\"\n",
    "               }\n",
    "    \n",
    "    for k,v in mapping.items():\n",
    "        text = text.replace(k, v)\n",
    "\n",
    "    return text.strip()"
   ]
  },
  {
   "cell_type": "code",
   "execution_count": 460,
   "metadata": {},
   "outputs": [],
   "source": [
    "def trajectorize(row):\n",
    "    evidence_sentences = row[\"evidence_sentences\"]\n",
    "\n",
    "    claim = row[\"claim\"].strip()\n",
    "    task = f\"On June 2017, the following claim was made: {claim}\\nQ: Was this claim true or false?\"\n",
    "    answer = str(row[\"label\"]).lower()\n",
    "\n",
    "    article_sentence_group = { k:list(v) for k,v in groupby(evidence_sentences, lambda x: x[0]) }\n",
    "\n",
    "    articles = {}\n",
    "    statuses = []\n",
    "    wiki_worked = True\n",
    "    for article in article_sentence_group:\n",
    "        cleaned_article = clean_fever(article)\n",
    "        wiki, worked = search(article)\n",
    "        wiki = wiki.strip()\n",
    "        if worked != \"success\":\n",
    "            wiki_worked = False\n",
    "            # if article in wiki_pages_df.index:\n",
    "            #     # lines = wiki_pages_df.loc[article][\"lines_split\"]\n",
    "            #     # lines = [ clean_fever(l.split('\\t')[0]) for l in lines ]\n",
    "            #     # wiki = \"\\n\".join(lines).strip().replace(\"\\n\", \" \")\n",
    "            #     wiki = wiki_pages_df.loc[article][\"text\"]\n",
    "\n",
    "            #     worked = \"fallback\"\n",
    "            # else:\n",
    "            #     worked = \"fallback_fail\"\n",
    "\n",
    "        articles[cleaned_article] = wiki\n",
    "        statuses.append(worked)\n",
    "    all_wiki_success = all(x in [\"success\",\"fallback\"] for x in statuses)\n",
    "\n",
    "    trajectory = [\n",
    "        {\"task\": task}]\n",
    "    \n",
    "    for article,evidences in article_sentence_group.items():\n",
    "        cleaned_article = clean_fever(article)\n",
    "        trajectory.extend([\n",
    "        {\"thought\": f\"I need to search {cleaned_article}.\"},\n",
    "        {\"action\": f\"Search[{cleaned_article}]\"},\n",
    "        {\"observation\": f\"[Document]\\n{articles[cleaned_article]}\\n[End]\"}])\n",
    "\n",
    "        for title,line,sent in evidences:\n",
    "            trajectory.append(\n",
    "        {\"observation\": clean_fever(sent.split('\\t')[0])})\n",
    "    \n",
    "    trajectory.extend([\n",
    "        {\"thought\": f\"The claim is {answer}.\"},\n",
    "        {\"action\": f\"Finish[{answer}]\"},\n",
    "    ])\n",
    "\n",
    "    traj_keys = [next(iter(t.keys())) for t in trajectory]\n",
    "    traj_values = [next(iter(t.values())) for t in trajectory]\n",
    "\n",
    "    rewoo_trajectory = [\n",
    "        {\"task\": task}]\n",
    "    \n",
    "    for article,evidences in article_sentence_group.items():\n",
    "        cleaned_article = clean_fever(article)\n",
    "        rewoo_trajectory.extend([\n",
    "        {\"thought\": f\"Search for more information about {cleaned_article}.\"},\n",
    "        {\"action\": f\"Search[{cleaned_article}]\"},\n",
    "        {\"observation\": f\"[Document]\\n{articles[cleaned_article]}\\n[End]\"}])\n",
    "\n",
    "        for title,line,sent in evidences:\n",
    "            rewoo_trajectory.append(\n",
    "        {\"observation\": clean_fever(sent.split('\\t')[0])})\n",
    "\n",
    "    rewoo_traj_keys = [next(iter(t.keys())) for t in rewoo_trajectory]\n",
    "    rewoo_traj_values = [next(iter(t.values())) for t in rewoo_trajectory]\n",
    "\n",
    "    return {\n",
    "        \"traj_keys\": traj_keys,\n",
    "        \"traj_values\": traj_values,\n",
    "        \"rewoo_traj_keys\": rewoo_traj_keys,\n",
    "        \"rewoo_traj_values\": rewoo_traj_values,\n",
    "        \"all_wiki_success\": all_wiki_success,\n",
    "        \"wiki_worked\": wiki_worked,\n",
    "        \"articles\": list(articles.values()),\n",
    "        \"statuses\": statuses\n",
    "    }"
   ]
  },
  {
   "cell_type": "code",
   "execution_count": 461,
   "metadata": {},
   "outputs": [],
   "source": [
    "def sentencify(row):\n",
    "    evidence_sentences = row[\"evidence_sentences\"]\n",
    "\n",
    "    article_sentence_group = { clean_fever(k):list(v) for k,v in groupby(evidence_sentences, lambda x: x[0]) }\n",
    "\n",
    "    sentences = []\n",
    "    for article,evidences in article_sentence_group.items():\n",
    "        for title,line,sent in evidences:\n",
    "            sentences.append(clean_fever(sent.split('\\t')[0]))\n",
    "\n",
    "    return {\n",
    "        \"cot\": \" \".join(sentences).strip().replace(\"\\n\", \" \")\n",
    "    }"
   ]
  },
  {
   "cell_type": "code",
   "execution_count": 462,
   "metadata": {},
   "outputs": [
    {
     "data": {
      "application/vnd.jupyter.widget-view+json": {
       "model_id": "17448e5a91d340f5b5de9f1217b80e93",
       "version_major": 2,
       "version_minor": 0
      },
      "text/plain": [
       "Map (num_proc=16):   0%|          | 0/6720 [00:00<?, ? examples/s]"
      ]
     },
     "metadata": {},
     "output_type": "display_data"
    },
    {
     "data": {
      "application/vnd.jupyter.widget-view+json": {
       "model_id": "bbcc05194c43421f80323cb6b6069b8f",
       "version_major": 2,
       "version_minor": 0
      },
      "text/plain": [
       "Map (num_proc=16):   0%|          | 0/6720 [00:00<?, ? examples/s]"
      ]
     },
     "metadata": {},
     "output_type": "display_data"
    },
    {
     "ename": "",
     "evalue": "",
     "output_type": "error",
     "traceback": [
      "\u001b[1;31mThe Kernel crashed while executing code in the current cell or a previous cell. \n",
      "\u001b[1;31mPlease review the code in the cell(s) to identify a possible cause of the failure. \n",
      "\u001b[1;31mClick <a href='https://aka.ms/vscodeJupyterKernelCrash'>here</a> for more info. \n",
      "\u001b[1;31mView Jupyter <a href='command:jupyter.viewOutput'>log</a> for further details."
     ]
    }
   ],
   "source": [
    "fever[\"train\"] = (\n",
    "    fever[\"train\"]\n",
    "    # .select(range(500))\n",
    "    .map(trajectorize, num_proc=16)\n",
    "    .map(sentencify, num_proc=16)\n",
    ")"
   ]
  },
  {
   "cell_type": "code",
   "execution_count": 457,
   "metadata": {},
   "outputs": [
    {
     "data": {
      "application/vnd.jupyter.widget-view+json": {
       "model_id": "00e956922b73479098712fa1801a6104",
       "version_major": 2,
       "version_minor": 0
      },
      "text/plain": [
       "Saving the dataset (0/1 shards):   0%|          | 0/6720 [00:00<?, ? examples/s]"
      ]
     },
     "metadata": {},
     "output_type": "display_data"
    },
    {
     "data": {
      "application/vnd.jupyter.widget-view+json": {
       "model_id": "aa30b6b0ffdf457fb452f7d29eaf8d45",
       "version_major": 2,
       "version_minor": 0
      },
      "text/plain": [
       "Saving the dataset (0/1 shards):   0%|          | 0/6612 [00:00<?, ? examples/s]"
      ]
     },
     "metadata": {},
     "output_type": "display_data"
    }
   ],
   "source": [
    "fever.save_to_disk(\"var/fever_augmented_nowikipages\")"
   ]
  },
  {
   "cell_type": "code",
   "execution_count": 341,
   "metadata": {},
   "outputs": [
    {
     "name": "stderr",
     "output_type": "stream",
     "text": [
      "Parameter 'function'=<function trajectorize at 0x7c7742f20> of the transform datasets.arrow_dataset.Dataset._map_single couldn't be hashed properly, a random hash was used instead. Make sure your transforms and parameters are serializable with pickle or dill for the dataset fingerprinting and caching to work. If you reuse this transform, the caching mechanism will consider it to be different from the previous calls and recompute everything. This warning is only showed once. Subsequent hashing failures won't be showed.\n"
     ]
    },
    {
     "data": {
      "application/vnd.jupyter.widget-view+json": {
       "model_id": "8b2f345e63b04fe9965b09ba7867d2d5",
       "version_major": 2,
       "version_minor": 0
      },
      "text/plain": [
       "Map (num_proc=8):   0%|          | 0/2116 [00:00<?, ? examples/s]"
      ]
     },
     "metadata": {},
     "output_type": "display_data"
    }
   ],
   "source": [
    "wiki_reworked = fever[\"train\"].filter(lambda x: x[\"wiki_worked\"] == False).map(trajectorize, num_proc=8)"
   ]
  },
  {
   "cell_type": "code",
   "execution_count": 449,
   "metadata": {},
   "outputs": [
    {
     "data": {
      "application/vnd.jupyter.widget-view+json": {
       "model_id": "ab68dfb338e940e4a032e488690cfdf7",
       "version_major": 2,
       "version_minor": 0
      },
      "text/plain": [
       "Filter:   0%|          | 0/6720 [00:00<?, ? examples/s]"
      ]
     },
     "metadata": {},
     "output_type": "display_data"
    }
   ],
   "source": [
    "failed = fever[\"train\"].filter(lambda x: x[\"wiki_worked\"] == False).to_pandas()"
   ]
  },
  {
   "cell_type": "code",
   "execution_count": 450,
   "metadata": {},
   "outputs": [
    {
     "data": {
      "text/html": [
       "<div>\n",
       "<style scoped>\n",
       "    .dataframe tbody tr th:only-of-type {\n",
       "        vertical-align: middle;\n",
       "    }\n",
       "\n",
       "    .dataframe tbody tr th {\n",
       "        vertical-align: top;\n",
       "    }\n",
       "\n",
       "    .dataframe thead th {\n",
       "        text-align: right;\n",
       "    }\n",
       "</style>\n",
       "<table border=\"1\" class=\"dataframe\">\n",
       "  <thead>\n",
       "    <tr style=\"text-align: right;\">\n",
       "      <th></th>\n",
       "      <th>label</th>\n",
       "      <th>claim</th>\n",
       "      <th>unique_evidence</th>\n",
       "      <th>evidence_sentences</th>\n",
       "      <th>evidence_sentence_count</th>\n",
       "      <th>id</th>\n",
       "      <th>cot</th>\n",
       "      <th>traj_keys</th>\n",
       "      <th>traj_values</th>\n",
       "      <th>rewoo_traj_keys</th>\n",
       "      <th>rewoo_traj_values</th>\n",
       "      <th>all_wiki_success</th>\n",
       "      <th>wiki_worked</th>\n",
       "      <th>articles</th>\n",
       "      <th>statuses</th>\n",
       "    </tr>\n",
       "  </thead>\n",
       "  <tbody>\n",
       "    <tr>\n",
       "      <th>0</th>\n",
       "      <td>True</td>\n",
       "      <td>Trollhunters was produced by an animation comp...</td>\n",
       "      <td>[[Trollhunters, 0]]</td>\n",
       "      <td>[[Trollhunters, 0, Trollhunters is an American...</td>\n",
       "      <td>1</td>\n",
       "      <td>60685</td>\n",
       "      <td>Trollhunters is an American computer-animated ...</td>\n",
       "      <td>[task, thought, action, observation, observati...</td>\n",
       "      <td>[On June 2017, the following claim was made: T...</td>\n",
       "      <td>[task]</td>\n",
       "      <td>[On June 2017, the following claim was made: T...</td>\n",
       "      <td>False</td>\n",
       "      <td>False</td>\n",
       "      <td>[Page id \"troll hunters\" does not match any pa...</td>\n",
       "      <td>[pageerror]</td>\n",
       "    </tr>\n",
       "    <tr>\n",
       "      <th>1</th>\n",
       "      <td>True</td>\n",
       "      <td>DreamWorks Animation produced Trollhunters.</td>\n",
       "      <td>[[Trollhunters, 0]]</td>\n",
       "      <td>[[Trollhunters, 0, Trollhunters is an American...</td>\n",
       "      <td>1</td>\n",
       "      <td>46475</td>\n",
       "      <td>Trollhunters is an American computer-animated ...</td>\n",
       "      <td>[task, thought, action, observation, observati...</td>\n",
       "      <td>[On June 2017, the following claim was made: D...</td>\n",
       "      <td>[task]</td>\n",
       "      <td>[On June 2017, the following claim was made: D...</td>\n",
       "      <td>False</td>\n",
       "      <td>False</td>\n",
       "      <td>[Page id \"troll hunters\" does not match any pa...</td>\n",
       "      <td>[pageerror]</td>\n",
       "    </tr>\n",
       "    <tr>\n",
       "      <th>2</th>\n",
       "      <td>True</td>\n",
       "      <td>Trollhunters is computer-animated.</td>\n",
       "      <td>[[Trollhunters, 0]]</td>\n",
       "      <td>[[Trollhunters, 0, Trollhunters is an American...</td>\n",
       "      <td>1</td>\n",
       "      <td>53330</td>\n",
       "      <td>Trollhunters is an American computer-animated ...</td>\n",
       "      <td>[task, thought, action, observation, observati...</td>\n",
       "      <td>[On June 2017, the following claim was made: T...</td>\n",
       "      <td>[task]</td>\n",
       "      <td>[On June 2017, the following claim was made: T...</td>\n",
       "      <td>False</td>\n",
       "      <td>False</td>\n",
       "      <td>[Page id \"troll hunters\" does not match any pa...</td>\n",
       "      <td>[pageerror]</td>\n",
       "    </tr>\n",
       "    <tr>\n",
       "      <th>3</th>\n",
       "      <td>True</td>\n",
       "      <td>Robert Palmer (writer) has written for the New...</td>\n",
       "      <td>[[Robert_Palmer_-LRB-writer-RRB-, 1]]</td>\n",
       "      <td>[[Robert_Palmer_-LRB-writer-RRB-, 1, He is bes...</td>\n",
       "      <td>1</td>\n",
       "      <td>3583</td>\n",
       "      <td>He is best known for his books , including Dee...</td>\n",
       "      <td>[task, thought, action, observation, observati...</td>\n",
       "      <td>[On June 2017, the following claim was made: R...</td>\n",
       "      <td>[task]</td>\n",
       "      <td>[On June 2017, the following claim was made: R...</td>\n",
       "      <td>False</td>\n",
       "      <td>False</td>\n",
       "      <td>[\"Robert Palmer (writer)\" may refer to one of ...</td>\n",
       "      <td>[disambg]</td>\n",
       "    </tr>\n",
       "    <tr>\n",
       "      <th>4</th>\n",
       "      <td>True</td>\n",
       "      <td>Robert Palmer (writer) wrote Deep Blues.</td>\n",
       "      <td>[[Robert_Palmer_-LRB-writer-RRB-, 1]]</td>\n",
       "      <td>[[Robert_Palmer_-LRB-writer-RRB-, 1, He is bes...</td>\n",
       "      <td>1</td>\n",
       "      <td>55999</td>\n",
       "      <td>He is best known for his books , including Dee...</td>\n",
       "      <td>[task, thought, action, observation, observati...</td>\n",
       "      <td>[On June 2017, the following claim was made: R...</td>\n",
       "      <td>[task]</td>\n",
       "      <td>[On June 2017, the following claim was made: R...</td>\n",
       "      <td>False</td>\n",
       "      <td>False</td>\n",
       "      <td>[\"Robert Palmer (writer)\" may refer to one of ...</td>\n",
       "      <td>[disambg]</td>\n",
       "    </tr>\n",
       "    <tr>\n",
       "      <th>5</th>\n",
       "      <td>True</td>\n",
       "      <td>Trollhunters is a television series.</td>\n",
       "      <td>[[Trollhunters, 0]]</td>\n",
       "      <td>[[Trollhunters, 0, Trollhunters is an American...</td>\n",
       "      <td>1</td>\n",
       "      <td>18523</td>\n",
       "      <td>Trollhunters is an American computer-animated ...</td>\n",
       "      <td>[task, thought, action, observation, observati...</td>\n",
       "      <td>[On June 2017, the following claim was made: T...</td>\n",
       "      <td>[task]</td>\n",
       "      <td>[On June 2017, the following claim was made: T...</td>\n",
       "      <td>False</td>\n",
       "      <td>False</td>\n",
       "      <td>[Page id \"troll hunters\" does not match any pa...</td>\n",
       "      <td>[pageerror]</td>\n",
       "    </tr>\n",
       "    <tr>\n",
       "      <th>6</th>\n",
       "      <td>False</td>\n",
       "      <td>Robert Palmer (writer) isn't a journalist.</td>\n",
       "      <td>[[Robert_Palmer_-LRB-writer-RRB-, 1]]</td>\n",
       "      <td>[[Robert_Palmer_-LRB-writer-RRB-, 1, He is bes...</td>\n",
       "      <td>1</td>\n",
       "      <td>130181</td>\n",
       "      <td>He is best known for his books , including Dee...</td>\n",
       "      <td>[task, thought, action, observation, observati...</td>\n",
       "      <td>[On June 2017, the following claim was made: R...</td>\n",
       "      <td>[task]</td>\n",
       "      <td>[On June 2017, the following claim was made: R...</td>\n",
       "      <td>False</td>\n",
       "      <td>False</td>\n",
       "      <td>[\"Robert Palmer (writer)\" may refer to one of ...</td>\n",
       "      <td>[disambg]</td>\n",
       "    </tr>\n",
       "    <tr>\n",
       "      <th>7</th>\n",
       "      <td>False</td>\n",
       "      <td>Trollhunters was only produced by Donald Trump.</td>\n",
       "      <td>[[Trollhunters, 0]]</td>\n",
       "      <td>[[Trollhunters, 0, Trollhunters is an American...</td>\n",
       "      <td>1</td>\n",
       "      <td>28716</td>\n",
       "      <td>Trollhunters is an American computer-animated ...</td>\n",
       "      <td>[task, thought, action, observation, observati...</td>\n",
       "      <td>[On June 2017, the following claim was made: T...</td>\n",
       "      <td>[task]</td>\n",
       "      <td>[On June 2017, the following claim was made: T...</td>\n",
       "      <td>False</td>\n",
       "      <td>False</td>\n",
       "      <td>[Page id \"troll hunters\" does not match any pa...</td>\n",
       "      <td>[pageerror]</td>\n",
       "    </tr>\n",
       "    <tr>\n",
       "      <th>8</th>\n",
       "      <td>False</td>\n",
       "      <td>Robert Palmer (writer) has yet to write for a ...</td>\n",
       "      <td>[[Robert_Palmer_-LRB-writer-RRB-, 1]]</td>\n",
       "      <td>[[Robert_Palmer_-LRB-writer-RRB-, 1, He is bes...</td>\n",
       "      <td>1</td>\n",
       "      <td>58735</td>\n",
       "      <td>He is best known for his books , including Dee...</td>\n",
       "      <td>[task, thought, action, observation, observati...</td>\n",
       "      <td>[On June 2017, the following claim was made: R...</td>\n",
       "      <td>[task]</td>\n",
       "      <td>[On June 2017, the following claim was made: R...</td>\n",
       "      <td>False</td>\n",
       "      <td>False</td>\n",
       "      <td>[\"Robert Palmer (writer)\" may refer to one of ...</td>\n",
       "      <td>[disambg]</td>\n",
       "    </tr>\n",
       "    <tr>\n",
       "      <th>9</th>\n",
       "      <td>True</td>\n",
       "      <td>Tim McGraw had a supporting role in a film.</td>\n",
       "      <td>[[Four_Christmases, 0], [Friday_Night_Lights_-...</td>\n",
       "      <td>[[Four_Christmases, 0, Four Christmases -LRB- ...</td>\n",
       "      <td>7</td>\n",
       "      <td>53062</td>\n",
       "      <td>Four Christmases (Four Holidays in Australia a...</td>\n",
       "      <td>[task, thought, action, observation, observati...</td>\n",
       "      <td>[On June 2017, the following claim was made: T...</td>\n",
       "      <td>[task]</td>\n",
       "      <td>[On June 2017, the following claim was made: T...</td>\n",
       "      <td>False</td>\n",
       "      <td>False</td>\n",
       "      <td>[Four Christmases is a 2008 American Christmas...</td>\n",
       "      <td>[success, success, success, success, success, ...</td>\n",
       "    </tr>\n",
       "    <tr>\n",
       "      <th>10</th>\n",
       "      <td>True</td>\n",
       "      <td>Netflix is who Trollhunters was created for.</td>\n",
       "      <td>[[Trollhunters, 0]]</td>\n",
       "      <td>[[Trollhunters, 0, Trollhunters is an American...</td>\n",
       "      <td>1</td>\n",
       "      <td>82973</td>\n",
       "      <td>Trollhunters is an American computer-animated ...</td>\n",
       "      <td>[task, thought, action, observation, observati...</td>\n",
       "      <td>[On June 2017, the following claim was made: N...</td>\n",
       "      <td>[task]</td>\n",
       "      <td>[On June 2017, the following claim was made: N...</td>\n",
       "      <td>False</td>\n",
       "      <td>False</td>\n",
       "      <td>[Page id \"troll hunters\" does not match any pa...</td>\n",
       "      <td>[pageerror]</td>\n",
       "    </tr>\n",
       "    <tr>\n",
       "      <th>11</th>\n",
       "      <td>False</td>\n",
       "      <td>Trollhunters was only created for Hulu.</td>\n",
       "      <td>[[Trollhunters, 0]]</td>\n",
       "      <td>[[Trollhunters, 0, Trollhunters is an American...</td>\n",
       "      <td>1</td>\n",
       "      <td>32923</td>\n",
       "      <td>Trollhunters is an American computer-animated ...</td>\n",
       "      <td>[task, thought, action, observation, observati...</td>\n",
       "      <td>[On June 2017, the following claim was made: T...</td>\n",
       "      <td>[task]</td>\n",
       "      <td>[On June 2017, the following claim was made: T...</td>\n",
       "      <td>False</td>\n",
       "      <td>False</td>\n",
       "      <td>[Page id \"troll hunters\" does not match any pa...</td>\n",
       "      <td>[pageerror]</td>\n",
       "    </tr>\n",
       "    <tr>\n",
       "      <th>12</th>\n",
       "      <td>False</td>\n",
       "      <td>Trollhunters was created by a horse.</td>\n",
       "      <td>[[Guillermo_del_Toro, 0], [Trollhunters, 0]]</td>\n",
       "      <td>[[Guillermo_del_Toro, 0, Guillermo del Toro Gó...</td>\n",
       "      <td>2</td>\n",
       "      <td>101434</td>\n",
       "      <td>Guillermo del Toro Gómez ([ɡiˈʝeɾmo ðel ˈtoɾo]...</td>\n",
       "      <td>[task, thought, action, observation, observati...</td>\n",
       "      <td>[On June 2017, the following claim was made: T...</td>\n",
       "      <td>[task]</td>\n",
       "      <td>[On June 2017, the following claim was made: T...</td>\n",
       "      <td>False</td>\n",
       "      <td>False</td>\n",
       "      <td>[Guillermo del Toro Gómez (Spanish: [ɡiˈʝeɾmo ...</td>\n",
       "      <td>[success, pageerror]</td>\n",
       "    </tr>\n",
       "    <tr>\n",
       "      <th>13</th>\n",
       "      <td>False</td>\n",
       "      <td>Trollhunters is only hand-drawn.</td>\n",
       "      <td>[[Trollhunters, 0]]</td>\n",
       "      <td>[[Trollhunters, 0, Trollhunters is an American...</td>\n",
       "      <td>1</td>\n",
       "      <td>115863</td>\n",
       "      <td>Trollhunters is an American computer-animated ...</td>\n",
       "      <td>[task, thought, action, observation, observati...</td>\n",
       "      <td>[On June 2017, the following claim was made: T...</td>\n",
       "      <td>[task]</td>\n",
       "      <td>[On June 2017, the following claim was made: T...</td>\n",
       "      <td>False</td>\n",
       "      <td>False</td>\n",
       "      <td>[Page id \"troll hunters\" does not match any pa...</td>\n",
       "      <td>[pageerror]</td>\n",
       "    </tr>\n",
       "    <tr>\n",
       "      <th>14</th>\n",
       "      <td>False</td>\n",
       "      <td>Trollhunters was produced by Adam Sandler.</td>\n",
       "      <td>[[Trollhunters, 0]]</td>\n",
       "      <td>[[Trollhunters, 0, Trollhunters is an American...</td>\n",
       "      <td>1</td>\n",
       "      <td>68828</td>\n",
       "      <td>Trollhunters is an American computer-animated ...</td>\n",
       "      <td>[task, thought, action, observation, observati...</td>\n",
       "      <td>[On June 2017, the following claim was made: T...</td>\n",
       "      <td>[task]</td>\n",
       "      <td>[On June 2017, the following claim was made: T...</td>\n",
       "      <td>False</td>\n",
       "      <td>False</td>\n",
       "      <td>[Page id \"troll hunters\" does not match any pa...</td>\n",
       "      <td>[pageerror]</td>\n",
       "    </tr>\n",
       "    <tr>\n",
       "      <th>15</th>\n",
       "      <td>True</td>\n",
       "      <td>Trollhunters was created by a person.</td>\n",
       "      <td>[[Guillermo_del_Toro, 0], [Trollhunters, 0]]</td>\n",
       "      <td>[[Guillermo_del_Toro, 0, Guillermo del Toro Gó...</td>\n",
       "      <td>2</td>\n",
       "      <td>10041</td>\n",
       "      <td>Guillermo del Toro Gómez ([ɡiˈʝeɾmo ðel ˈtoɾo]...</td>\n",
       "      <td>[task, thought, action, observation, observati...</td>\n",
       "      <td>[On June 2017, the following claim was made: T...</td>\n",
       "      <td>[task]</td>\n",
       "      <td>[On June 2017, the following claim was made: T...</td>\n",
       "      <td>False</td>\n",
       "      <td>False</td>\n",
       "      <td>[Guillermo del Toro Gómez (Spanish: [ɡiˈʝeɾmo ...</td>\n",
       "      <td>[success, pageerror]</td>\n",
       "    </tr>\n",
       "    <tr>\n",
       "      <th>16</th>\n",
       "      <td>False</td>\n",
       "      <td>Robert Palmer (writer) has yet to write anything.</td>\n",
       "      <td>[[Robert_Palmer_-LRB-writer-RRB-, 1]]</td>\n",
       "      <td>[[Robert_Palmer_-LRB-writer-RRB-, 1, He is bes...</td>\n",
       "      <td>1</td>\n",
       "      <td>119253</td>\n",
       "      <td>He is best known for his books , including Dee...</td>\n",
       "      <td>[task, thought, action, observation, observati...</td>\n",
       "      <td>[On June 2017, the following claim was made: R...</td>\n",
       "      <td>[task]</td>\n",
       "      <td>[On June 2017, the following claim was made: R...</td>\n",
       "      <td>False</td>\n",
       "      <td>False</td>\n",
       "      <td>[\"Robert Palmer (writer)\" may refer to one of ...</td>\n",
       "      <td>[disambg]</td>\n",
       "    </tr>\n",
       "    <tr>\n",
       "      <th>17</th>\n",
       "      <td>False</td>\n",
       "      <td>Trollhunters is 3 years old.</td>\n",
       "      <td>[[Trollhunters, 3]]</td>\n",
       "      <td>[[Trollhunters, 3, The first two episodes of t...</td>\n",
       "      <td>1</td>\n",
       "      <td>53331</td>\n",
       "      <td>The first two episodes of the series premiered...</td>\n",
       "      <td>[task, thought, action, observation, observati...</td>\n",
       "      <td>[On June 2017, the following claim was made: T...</td>\n",
       "      <td>[task]</td>\n",
       "      <td>[On June 2017, the following claim was made: T...</td>\n",
       "      <td>False</td>\n",
       "      <td>False</td>\n",
       "      <td>[Page id \"troll hunters\" does not match any pa...</td>\n",
       "      <td>[pageerror]</td>\n",
       "    </tr>\n",
       "    <tr>\n",
       "      <th>18</th>\n",
       "      <td>False</td>\n",
       "      <td>Trollhunters is a squid.</td>\n",
       "      <td>[[Trollhunters, 0]]</td>\n",
       "      <td>[[Trollhunters, 0, Trollhunters is an American...</td>\n",
       "      <td>1</td>\n",
       "      <td>150096</td>\n",
       "      <td>Trollhunters is an American computer-animated ...</td>\n",
       "      <td>[task, thought, action, observation, observati...</td>\n",
       "      <td>[On June 2017, the following claim was made: T...</td>\n",
       "      <td>[task]</td>\n",
       "      <td>[On June 2017, the following claim was made: T...</td>\n",
       "      <td>False</td>\n",
       "      <td>False</td>\n",
       "      <td>[Page id \"troll hunters\" does not match any pa...</td>\n",
       "      <td>[pageerror]</td>\n",
       "    </tr>\n",
       "    <tr>\n",
       "      <th>19</th>\n",
       "      <td>True</td>\n",
       "      <td>Robert Palmer (writer) has produced blues reco...</td>\n",
       "      <td>[[Robert_Palmer_-LRB-writer-RRB-, 0]]</td>\n",
       "      <td>[[Robert_Palmer_-LRB-writer-RRB-, 0, Robert Fr...</td>\n",
       "      <td>1</td>\n",
       "      <td>2683</td>\n",
       "      <td>Robert Franklin Palmer Jr. (June 19 , 1945 -- ...</td>\n",
       "      <td>[task, thought, action, observation, observati...</td>\n",
       "      <td>[On June 2017, the following claim was made: R...</td>\n",
       "      <td>[task]</td>\n",
       "      <td>[On June 2017, the following claim was made: R...</td>\n",
       "      <td>False</td>\n",
       "      <td>False</td>\n",
       "      <td>[\"Robert Palmer (writer)\" may refer to one of ...</td>\n",
       "      <td>[disambg]</td>\n",
       "    </tr>\n",
       "    <tr>\n",
       "      <th>20</th>\n",
       "      <td>False</td>\n",
       "      <td>Trollhunters is a podcast series.</td>\n",
       "      <td>[[Trollhunters, 0]]</td>\n",
       "      <td>[[Trollhunters, 0, Trollhunters is an American...</td>\n",
       "      <td>1</td>\n",
       "      <td>18524</td>\n",
       "      <td>Trollhunters is an American computer-animated ...</td>\n",
       "      <td>[task, thought, action, observation, observati...</td>\n",
       "      <td>[On June 2017, the following claim was made: T...</td>\n",
       "      <td>[task]</td>\n",
       "      <td>[On June 2017, the following claim was made: T...</td>\n",
       "      <td>False</td>\n",
       "      <td>False</td>\n",
       "      <td>[Page id \"troll hunters\" does not match any pa...</td>\n",
       "      <td>[pageerror]</td>\n",
       "    </tr>\n",
       "    <tr>\n",
       "      <th>21</th>\n",
       "      <td>False</td>\n",
       "      <td>Trollhunters is only a film.</td>\n",
       "      <td>[[Trollhunters, 0]]</td>\n",
       "      <td>[[Trollhunters, 0, Trollhunters is an American...</td>\n",
       "      <td>1</td>\n",
       "      <td>124363</td>\n",
       "      <td>Trollhunters is an American computer-animated ...</td>\n",
       "      <td>[task, thought, action, observation, observati...</td>\n",
       "      <td>[On June 2017, the following claim was made: T...</td>\n",
       "      <td>[task]</td>\n",
       "      <td>[On June 2017, the following claim was made: T...</td>\n",
       "      <td>False</td>\n",
       "      <td>False</td>\n",
       "      <td>[Page id \"troll hunters\" does not match any pa...</td>\n",
       "      <td>[pageerror]</td>\n",
       "    </tr>\n",
       "    <tr>\n",
       "      <th>22</th>\n",
       "      <td>False</td>\n",
       "      <td>Robert Palmer (writer) has yet to produce any ...</td>\n",
       "      <td>[[Robert_Palmer_-LRB-writer-RRB-, 1]]</td>\n",
       "      <td>[[Robert_Palmer_-LRB-writer-RRB-, 1, He is bes...</td>\n",
       "      <td>1</td>\n",
       "      <td>74126</td>\n",
       "      <td>He is best known for his books , including Dee...</td>\n",
       "      <td>[task, thought, action, observation, observati...</td>\n",
       "      <td>[On June 2017, the following claim was made: R...</td>\n",
       "      <td>[task]</td>\n",
       "      <td>[On June 2017, the following claim was made: R...</td>\n",
       "      <td>False</td>\n",
       "      <td>False</td>\n",
       "      <td>[\"Robert Palmer (writer)\" may refer to one of ...</td>\n",
       "      <td>[disambg]</td>\n",
       "    </tr>\n",
       "    <tr>\n",
       "      <th>23</th>\n",
       "      <td>True</td>\n",
       "      <td>Robert Palmer (writer) is involved in media.</td>\n",
       "      <td>[[Robert_Palmer_-LRB-writer-RRB-, 1]]</td>\n",
       "      <td>[[Robert_Palmer_-LRB-writer-RRB-, 1, He is bes...</td>\n",
       "      <td>1</td>\n",
       "      <td>89544</td>\n",
       "      <td>He is best known for his books , including Dee...</td>\n",
       "      <td>[task, thought, action, observation, observati...</td>\n",
       "      <td>[On June 2017, the following claim was made: R...</td>\n",
       "      <td>[task]</td>\n",
       "      <td>[On June 2017, the following claim was made: R...</td>\n",
       "      <td>False</td>\n",
       "      <td>False</td>\n",
       "      <td>[\"Robert Palmer (writer)\" may refer to one of ...</td>\n",
       "      <td>[disambg]</td>\n",
       "    </tr>\n",
       "    <tr>\n",
       "      <th>24</th>\n",
       "      <td>False</td>\n",
       "      <td>Trollhunters was created by Ron Howard.</td>\n",
       "      <td>[[Trollhunters, 0]]</td>\n",
       "      <td>[[Trollhunters, 0, Trollhunters is an American...</td>\n",
       "      <td>1</td>\n",
       "      <td>41935</td>\n",
       "      <td>Trollhunters is an American computer-animated ...</td>\n",
       "      <td>[task, thought, action, observation, observati...</td>\n",
       "      <td>[On June 2017, the following claim was made: T...</td>\n",
       "      <td>[task]</td>\n",
       "      <td>[On June 2017, the following claim was made: T...</td>\n",
       "      <td>False</td>\n",
       "      <td>False</td>\n",
       "      <td>[Page id \"troll hunters\" does not match any pa...</td>\n",
       "      <td>[pageerror]</td>\n",
       "    </tr>\n",
       "    <tr>\n",
       "      <th>25</th>\n",
       "      <td>True</td>\n",
       "      <td>Robert Palmer (writer) has written for a newsp...</td>\n",
       "      <td>[[The_New_York_Times, 0], [Robert_Palmer_-LRB-...</td>\n",
       "      <td>[[The_New_York_Times, 0, The New York Times -L...</td>\n",
       "      <td>2</td>\n",
       "      <td>119193</td>\n",
       "      <td>The New York Times (sometimes abbreviated NYT ...</td>\n",
       "      <td>[task, thought, action, observation, observati...</td>\n",
       "      <td>[On June 2017, the following claim was made: R...</td>\n",
       "      <td>[task]</td>\n",
       "      <td>[On June 2017, the following claim was made: R...</td>\n",
       "      <td>False</td>\n",
       "      <td>False</td>\n",
       "      <td>[The New York Times (NYT) is an American daily...</td>\n",
       "      <td>[success, disambg]</td>\n",
       "    </tr>\n",
       "    <tr>\n",
       "      <th>26</th>\n",
       "      <td>True</td>\n",
       "      <td>Trollhunters is animated.</td>\n",
       "      <td>[[Trollhunters, 0]]</td>\n",
       "      <td>[[Trollhunters, 0, Trollhunters is an American...</td>\n",
       "      <td>1</td>\n",
       "      <td>126466</td>\n",
       "      <td>Trollhunters is an American computer-animated ...</td>\n",
       "      <td>[task, thought, action, observation, observati...</td>\n",
       "      <td>[On June 2017, the following claim was made: T...</td>\n",
       "      <td>[task]</td>\n",
       "      <td>[On June 2017, the following claim was made: T...</td>\n",
       "      <td>False</td>\n",
       "      <td>False</td>\n",
       "      <td>[Page id \"troll hunters\" does not match any pa...</td>\n",
       "      <td>[pageerror]</td>\n",
       "    </tr>\n",
       "    <tr>\n",
       "      <th>27</th>\n",
       "      <td>False</td>\n",
       "      <td>Trollhunters was created for HBO.</td>\n",
       "      <td>[[Trollhunters, 0]]</td>\n",
       "      <td>[[Trollhunters, 0, Trollhunters is an American...</td>\n",
       "      <td>1</td>\n",
       "      <td>141476</td>\n",
       "      <td>Trollhunters is an American computer-animated ...</td>\n",
       "      <td>[task, thought, action, observation, observati...</td>\n",
       "      <td>[On June 2017, the following claim was made: T...</td>\n",
       "      <td>[task]</td>\n",
       "      <td>[On June 2017, the following claim was made: T...</td>\n",
       "      <td>False</td>\n",
       "      <td>False</td>\n",
       "      <td>[Page id \"troll hunters\" does not match any pa...</td>\n",
       "      <td>[pageerror]</td>\n",
       "    </tr>\n",
       "    <tr>\n",
       "      <th>28</th>\n",
       "      <td>False</td>\n",
       "      <td>Trollhunters was created for cats.</td>\n",
       "      <td>[[Trollhunters, 0]]</td>\n",
       "      <td>[[Trollhunters, 0, Trollhunters is an American...</td>\n",
       "      <td>1</td>\n",
       "      <td>43378</td>\n",
       "      <td>Trollhunters is an American computer-animated ...</td>\n",
       "      <td>[task, thought, action, observation, observati...</td>\n",
       "      <td>[On June 2017, the following claim was made: T...</td>\n",
       "      <td>[task]</td>\n",
       "      <td>[On June 2017, the following claim was made: T...</td>\n",
       "      <td>False</td>\n",
       "      <td>False</td>\n",
       "      <td>[Page id \"troll hunters\" does not match any pa...</td>\n",
       "      <td>[pageerror]</td>\n",
       "    </tr>\n",
       "    <tr>\n",
       "      <th>29</th>\n",
       "      <td>True</td>\n",
       "      <td>Robert Palmer (writer) played the clarinet in ...</td>\n",
       "      <td>[[Robert_Palmer_-LRB-writer-RRB-, 1]]</td>\n",
       "      <td>[[Robert_Palmer_-LRB-writer-RRB-, 1, He is bes...</td>\n",
       "      <td>1</td>\n",
       "      <td>44332</td>\n",
       "      <td>He is best known for his books , including Dee...</td>\n",
       "      <td>[task, thought, action, observation, observati...</td>\n",
       "      <td>[On June 2017, the following claim was made: R...</td>\n",
       "      <td>[task]</td>\n",
       "      <td>[On June 2017, the following claim was made: R...</td>\n",
       "      <td>False</td>\n",
       "      <td>False</td>\n",
       "      <td>[\"Robert Palmer (writer)\" may refer to one of ...</td>\n",
       "      <td>[disambg]</td>\n",
       "    </tr>\n",
       "    <tr>\n",
       "      <th>30</th>\n",
       "      <td>True</td>\n",
       "      <td>Trollhunters was created by Guillermo del Toro.</td>\n",
       "      <td>[[Trollhunters, 0]]</td>\n",
       "      <td>[[Trollhunters, 0, Trollhunters is an American...</td>\n",
       "      <td>1</td>\n",
       "      <td>10040</td>\n",
       "      <td>Trollhunters is an American computer-animated ...</td>\n",
       "      <td>[task, thought, action, observation, observati...</td>\n",
       "      <td>[On June 2017, the following claim was made: T...</td>\n",
       "      <td>[task]</td>\n",
       "      <td>[On June 2017, the following claim was made: T...</td>\n",
       "      <td>False</td>\n",
       "      <td>False</td>\n",
       "      <td>[Page id \"troll hunters\" does not match any pa...</td>\n",
       "      <td>[pageerror]</td>\n",
       "    </tr>\n",
       "    <tr>\n",
       "      <th>31</th>\n",
       "      <td>False</td>\n",
       "      <td>Trollhunters was only created by Adam Sandler.</td>\n",
       "      <td>[[Trollhunters, 0]]</td>\n",
       "      <td>[[Trollhunters, 0, Trollhunters is an American...</td>\n",
       "      <td>1</td>\n",
       "      <td>58707</td>\n",
       "      <td>Trollhunters is an American computer-animated ...</td>\n",
       "      <td>[task, thought, action, observation, observati...</td>\n",
       "      <td>[On June 2017, the following claim was made: T...</td>\n",
       "      <td>[task]</td>\n",
       "      <td>[On June 2017, the following claim was made: T...</td>\n",
       "      <td>False</td>\n",
       "      <td>False</td>\n",
       "      <td>[Page id \"troll hunters\" does not match any pa...</td>\n",
       "      <td>[pageerror]</td>\n",
       "    </tr>\n",
       "    <tr>\n",
       "      <th>32</th>\n",
       "      <td>True</td>\n",
       "      <td>Trollhunters is computer-animated and of the f...</td>\n",
       "      <td>[[Trollhunters, 0]]</td>\n",
       "      <td>[[Trollhunters, 0, Trollhunters is an American...</td>\n",
       "      <td>1</td>\n",
       "      <td>116890</td>\n",
       "      <td>Trollhunters is an American computer-animated ...</td>\n",
       "      <td>[task, thought, action, observation, observati...</td>\n",
       "      <td>[On June 2017, the following claim was made: T...</td>\n",
       "      <td>[task]</td>\n",
       "      <td>[On June 2017, the following claim was made: T...</td>\n",
       "      <td>False</td>\n",
       "      <td>False</td>\n",
       "      <td>[Page id \"troll hunters\" does not match any pa...</td>\n",
       "      <td>[pageerror]</td>\n",
       "    </tr>\n",
       "  </tbody>\n",
       "</table>\n",
       "</div>"
      ],
      "text/plain": [
       "    label                                              claim                                    unique_evidence                                 evidence_sentences  evidence_sentence_count      id                                                cot                                          traj_keys                                        traj_values rewoo_traj_keys                                  rewoo_traj_values  all_wiki_success  wiki_worked                                           articles                                           statuses\n",
       "0    True  Trollhunters was produced by an animation comp...                                [[Trollhunters, 0]]  [[Trollhunters, 0, Trollhunters is an American...                        1   60685  Trollhunters is an American computer-animated ...  [task, thought, action, observation, observati...  [On June 2017, the following claim was made: T...          [task]  [On June 2017, the following claim was made: T...             False        False  [Page id \"troll hunters\" does not match any pa...                                        [pageerror]\n",
       "1    True        DreamWorks Animation produced Trollhunters.                                [[Trollhunters, 0]]  [[Trollhunters, 0, Trollhunters is an American...                        1   46475  Trollhunters is an American computer-animated ...  [task, thought, action, observation, observati...  [On June 2017, the following claim was made: D...          [task]  [On June 2017, the following claim was made: D...             False        False  [Page id \"troll hunters\" does not match any pa...                                        [pageerror]\n",
       "2    True                 Trollhunters is computer-animated.                                [[Trollhunters, 0]]  [[Trollhunters, 0, Trollhunters is an American...                        1   53330  Trollhunters is an American computer-animated ...  [task, thought, action, observation, observati...  [On June 2017, the following claim was made: T...          [task]  [On June 2017, the following claim was made: T...             False        False  [Page id \"troll hunters\" does not match any pa...                                        [pageerror]\n",
       "3    True  Robert Palmer (writer) has written for the New...              [[Robert_Palmer_-LRB-writer-RRB-, 1]]  [[Robert_Palmer_-LRB-writer-RRB-, 1, He is bes...                        1    3583  He is best known for his books , including Dee...  [task, thought, action, observation, observati...  [On June 2017, the following claim was made: R...          [task]  [On June 2017, the following claim was made: R...             False        False  [\"Robert Palmer (writer)\" may refer to one of ...                                          [disambg]\n",
       "4    True           Robert Palmer (writer) wrote Deep Blues.              [[Robert_Palmer_-LRB-writer-RRB-, 1]]  [[Robert_Palmer_-LRB-writer-RRB-, 1, He is bes...                        1   55999  He is best known for his books , including Dee...  [task, thought, action, observation, observati...  [On June 2017, the following claim was made: R...          [task]  [On June 2017, the following claim was made: R...             False        False  [\"Robert Palmer (writer)\" may refer to one of ...                                          [disambg]\n",
       "5    True               Trollhunters is a television series.                                [[Trollhunters, 0]]  [[Trollhunters, 0, Trollhunters is an American...                        1   18523  Trollhunters is an American computer-animated ...  [task, thought, action, observation, observati...  [On June 2017, the following claim was made: T...          [task]  [On June 2017, the following claim was made: T...             False        False  [Page id \"troll hunters\" does not match any pa...                                        [pageerror]\n",
       "6   False         Robert Palmer (writer) isn't a journalist.              [[Robert_Palmer_-LRB-writer-RRB-, 1]]  [[Robert_Palmer_-LRB-writer-RRB-, 1, He is bes...                        1  130181  He is best known for his books , including Dee...  [task, thought, action, observation, observati...  [On June 2017, the following claim was made: R...          [task]  [On June 2017, the following claim was made: R...             False        False  [\"Robert Palmer (writer)\" may refer to one of ...                                          [disambg]\n",
       "7   False    Trollhunters was only produced by Donald Trump.                                [[Trollhunters, 0]]  [[Trollhunters, 0, Trollhunters is an American...                        1   28716  Trollhunters is an American computer-animated ...  [task, thought, action, observation, observati...  [On June 2017, the following claim was made: T...          [task]  [On June 2017, the following claim was made: T...             False        False  [Page id \"troll hunters\" does not match any pa...                                        [pageerror]\n",
       "8   False  Robert Palmer (writer) has yet to write for a ...              [[Robert_Palmer_-LRB-writer-RRB-, 1]]  [[Robert_Palmer_-LRB-writer-RRB-, 1, He is bes...                        1   58735  He is best known for his books , including Dee...  [task, thought, action, observation, observati...  [On June 2017, the following claim was made: R...          [task]  [On June 2017, the following claim was made: R...             False        False  [\"Robert Palmer (writer)\" may refer to one of ...                                          [disambg]\n",
       "9    True        Tim McGraw had a supporting role in a film.  [[Four_Christmases, 0], [Friday_Night_Lights_-...  [[Four_Christmases, 0, Four Christmases -LRB- ...                        7   53062  Four Christmases (Four Holidays in Australia a...  [task, thought, action, observation, observati...  [On June 2017, the following claim was made: T...          [task]  [On June 2017, the following claim was made: T...             False        False  [Four Christmases is a 2008 American Christmas...  [success, success, success, success, success, ...\n",
       "10   True       Netflix is who Trollhunters was created for.                                [[Trollhunters, 0]]  [[Trollhunters, 0, Trollhunters is an American...                        1   82973  Trollhunters is an American computer-animated ...  [task, thought, action, observation, observati...  [On June 2017, the following claim was made: N...          [task]  [On June 2017, the following claim was made: N...             False        False  [Page id \"troll hunters\" does not match any pa...                                        [pageerror]\n",
       "11  False            Trollhunters was only created for Hulu.                                [[Trollhunters, 0]]  [[Trollhunters, 0, Trollhunters is an American...                        1   32923  Trollhunters is an American computer-animated ...  [task, thought, action, observation, observati...  [On June 2017, the following claim was made: T...          [task]  [On June 2017, the following claim was made: T...             False        False  [Page id \"troll hunters\" does not match any pa...                                        [pageerror]\n",
       "12  False               Trollhunters was created by a horse.       [[Guillermo_del_Toro, 0], [Trollhunters, 0]]  [[Guillermo_del_Toro, 0, Guillermo del Toro Gó...                        2  101434  Guillermo del Toro Gómez ([ɡiˈʝeɾmo ðel ˈtoɾo]...  [task, thought, action, observation, observati...  [On June 2017, the following claim was made: T...          [task]  [On June 2017, the following claim was made: T...             False        False  [Guillermo del Toro Gómez (Spanish: [ɡiˈʝeɾmo ...                               [success, pageerror]\n",
       "13  False                   Trollhunters is only hand-drawn.                                [[Trollhunters, 0]]  [[Trollhunters, 0, Trollhunters is an American...                        1  115863  Trollhunters is an American computer-animated ...  [task, thought, action, observation, observati...  [On June 2017, the following claim was made: T...          [task]  [On June 2017, the following claim was made: T...             False        False  [Page id \"troll hunters\" does not match any pa...                                        [pageerror]\n",
       "14  False         Trollhunters was produced by Adam Sandler.                                [[Trollhunters, 0]]  [[Trollhunters, 0, Trollhunters is an American...                        1   68828  Trollhunters is an American computer-animated ...  [task, thought, action, observation, observati...  [On June 2017, the following claim was made: T...          [task]  [On June 2017, the following claim was made: T...             False        False  [Page id \"troll hunters\" does not match any pa...                                        [pageerror]\n",
       "15   True              Trollhunters was created by a person.       [[Guillermo_del_Toro, 0], [Trollhunters, 0]]  [[Guillermo_del_Toro, 0, Guillermo del Toro Gó...                        2   10041  Guillermo del Toro Gómez ([ɡiˈʝeɾmo ðel ˈtoɾo]...  [task, thought, action, observation, observati...  [On June 2017, the following claim was made: T...          [task]  [On June 2017, the following claim was made: T...             False        False  [Guillermo del Toro Gómez (Spanish: [ɡiˈʝeɾmo ...                               [success, pageerror]\n",
       "16  False  Robert Palmer (writer) has yet to write anything.              [[Robert_Palmer_-LRB-writer-RRB-, 1]]  [[Robert_Palmer_-LRB-writer-RRB-, 1, He is bes...                        1  119253  He is best known for his books , including Dee...  [task, thought, action, observation, observati...  [On June 2017, the following claim was made: R...          [task]  [On June 2017, the following claim was made: R...             False        False  [\"Robert Palmer (writer)\" may refer to one of ...                                          [disambg]\n",
       "17  False                       Trollhunters is 3 years old.                                [[Trollhunters, 3]]  [[Trollhunters, 3, The first two episodes of t...                        1   53331  The first two episodes of the series premiered...  [task, thought, action, observation, observati...  [On June 2017, the following claim was made: T...          [task]  [On June 2017, the following claim was made: T...             False        False  [Page id \"troll hunters\" does not match any pa...                                        [pageerror]\n",
       "18  False                           Trollhunters is a squid.                                [[Trollhunters, 0]]  [[Trollhunters, 0, Trollhunters is an American...                        1  150096  Trollhunters is an American computer-animated ...  [task, thought, action, observation, observati...  [On June 2017, the following claim was made: T...          [task]  [On June 2017, the following claim was made: T...             False        False  [Page id \"troll hunters\" does not match any pa...                                        [pageerror]\n",
       "19   True  Robert Palmer (writer) has produced blues reco...              [[Robert_Palmer_-LRB-writer-RRB-, 0]]  [[Robert_Palmer_-LRB-writer-RRB-, 0, Robert Fr...                        1    2683  Robert Franklin Palmer Jr. (June 19 , 1945 -- ...  [task, thought, action, observation, observati...  [On June 2017, the following claim was made: R...          [task]  [On June 2017, the following claim was made: R...             False        False  [\"Robert Palmer (writer)\" may refer to one of ...                                          [disambg]\n",
       "20  False                  Trollhunters is a podcast series.                                [[Trollhunters, 0]]  [[Trollhunters, 0, Trollhunters is an American...                        1   18524  Trollhunters is an American computer-animated ...  [task, thought, action, observation, observati...  [On June 2017, the following claim was made: T...          [task]  [On June 2017, the following claim was made: T...             False        False  [Page id \"troll hunters\" does not match any pa...                                        [pageerror]\n",
       "21  False                       Trollhunters is only a film.                                [[Trollhunters, 0]]  [[Trollhunters, 0, Trollhunters is an American...                        1  124363  Trollhunters is an American computer-animated ...  [task, thought, action, observation, observati...  [On June 2017, the following claim was made: T...          [task]  [On June 2017, the following claim was made: T...             False        False  [Page id \"troll hunters\" does not match any pa...                                        [pageerror]\n",
       "22  False  Robert Palmer (writer) has yet to produce any ...              [[Robert_Palmer_-LRB-writer-RRB-, 1]]  [[Robert_Palmer_-LRB-writer-RRB-, 1, He is bes...                        1   74126  He is best known for his books , including Dee...  [task, thought, action, observation, observati...  [On June 2017, the following claim was made: R...          [task]  [On June 2017, the following claim was made: R...             False        False  [\"Robert Palmer (writer)\" may refer to one of ...                                          [disambg]\n",
       "23   True       Robert Palmer (writer) is involved in media.              [[Robert_Palmer_-LRB-writer-RRB-, 1]]  [[Robert_Palmer_-LRB-writer-RRB-, 1, He is bes...                        1   89544  He is best known for his books , including Dee...  [task, thought, action, observation, observati...  [On June 2017, the following claim was made: R...          [task]  [On June 2017, the following claim was made: R...             False        False  [\"Robert Palmer (writer)\" may refer to one of ...                                          [disambg]\n",
       "24  False            Trollhunters was created by Ron Howard.                                [[Trollhunters, 0]]  [[Trollhunters, 0, Trollhunters is an American...                        1   41935  Trollhunters is an American computer-animated ...  [task, thought, action, observation, observati...  [On June 2017, the following claim was made: T...          [task]  [On June 2017, the following claim was made: T...             False        False  [Page id \"troll hunters\" does not match any pa...                                        [pageerror]\n",
       "25   True  Robert Palmer (writer) has written for a newsp...  [[The_New_York_Times, 0], [Robert_Palmer_-LRB-...  [[The_New_York_Times, 0, The New York Times -L...                        2  119193  The New York Times (sometimes abbreviated NYT ...  [task, thought, action, observation, observati...  [On June 2017, the following claim was made: R...          [task]  [On June 2017, the following claim was made: R...             False        False  [The New York Times (NYT) is an American daily...                                 [success, disambg]\n",
       "26   True                          Trollhunters is animated.                                [[Trollhunters, 0]]  [[Trollhunters, 0, Trollhunters is an American...                        1  126466  Trollhunters is an American computer-animated ...  [task, thought, action, observation, observati...  [On June 2017, the following claim was made: T...          [task]  [On June 2017, the following claim was made: T...             False        False  [Page id \"troll hunters\" does not match any pa...                                        [pageerror]\n",
       "27  False                  Trollhunters was created for HBO.                                [[Trollhunters, 0]]  [[Trollhunters, 0, Trollhunters is an American...                        1  141476  Trollhunters is an American computer-animated ...  [task, thought, action, observation, observati...  [On June 2017, the following claim was made: T...          [task]  [On June 2017, the following claim was made: T...             False        False  [Page id \"troll hunters\" does not match any pa...                                        [pageerror]\n",
       "28  False                 Trollhunters was created for cats.                                [[Trollhunters, 0]]  [[Trollhunters, 0, Trollhunters is an American...                        1   43378  Trollhunters is an American computer-animated ...  [task, thought, action, observation, observati...  [On June 2017, the following claim was made: T...          [task]  [On June 2017, the following claim was made: T...             False        False  [Page id \"troll hunters\" does not match any pa...                                        [pageerror]\n",
       "29   True  Robert Palmer (writer) played the clarinet in ...              [[Robert_Palmer_-LRB-writer-RRB-, 1]]  [[Robert_Palmer_-LRB-writer-RRB-, 1, He is bes...                        1   44332  He is best known for his books , including Dee...  [task, thought, action, observation, observati...  [On June 2017, the following claim was made: R...          [task]  [On June 2017, the following claim was made: R...             False        False  [\"Robert Palmer (writer)\" may refer to one of ...                                          [disambg]\n",
       "30   True    Trollhunters was created by Guillermo del Toro.                                [[Trollhunters, 0]]  [[Trollhunters, 0, Trollhunters is an American...                        1   10040  Trollhunters is an American computer-animated ...  [task, thought, action, observation, observati...  [On June 2017, the following claim was made: T...          [task]  [On June 2017, the following claim was made: T...             False        False  [Page id \"troll hunters\" does not match any pa...                                        [pageerror]\n",
       "31  False     Trollhunters was only created by Adam Sandler.                                [[Trollhunters, 0]]  [[Trollhunters, 0, Trollhunters is an American...                        1   58707  Trollhunters is an American computer-animated ...  [task, thought, action, observation, observati...  [On June 2017, the following claim was made: T...          [task]  [On June 2017, the following claim was made: T...             False        False  [Page id \"troll hunters\" does not match any pa...                                        [pageerror]\n",
       "32   True  Trollhunters is computer-animated and of the f...                                [[Trollhunters, 0]]  [[Trollhunters, 0, Trollhunters is an American...                        1  116890  Trollhunters is an American computer-animated ...  [task, thought, action, observation, observati...  [On June 2017, the following claim was made: T...          [task]  [On June 2017, the following claim was made: T...             False        False  [Page id \"troll hunters\" does not match any pa...                                        [pageerror]"
      ]
     },
     "execution_count": 450,
     "metadata": {},
     "output_type": "execute_result"
    }
   ],
   "source": [
    "failed"
   ]
  },
  {
   "cell_type": "code",
   "execution_count": 373,
   "metadata": {},
   "outputs": [
    {
     "data": {
      "text/plain": [
       "7608"
      ]
     },
     "execution_count": 373,
     "metadata": {},
     "output_type": "execute_result"
    }
   ],
   "source": [
    "len(list(flatten([ [y[0] for y in x] for x in fever[\"train\"][\"unique_evidence\"] ])))"
   ]
  },
  {
   "cell_type": "code",
   "execution_count": 375,
   "metadata": {},
   "outputs": [],
   "source": [
    "articles = list(set(flatten([ [y[0] for y in x] for x in fever[\"train\"][\"unique_evidence\"] ])))"
   ]
  },
  {
   "cell_type": "code",
   "execution_count": 383,
   "metadata": {},
   "outputs": [
    {
     "data": {
      "text/plain": [
       "Dataset({\n",
       "    features: ['article'],\n",
       "    num_rows: 1043\n",
       "})"
      ]
     },
     "execution_count": 383,
     "metadata": {},
     "output_type": "execute_result"
    }
   ],
   "source": [
    "article_ds = Dataset.from_dict({\"article\": articles})\n",
    "article_ds"
   ]
  },
  {
   "cell_type": "code",
   "execution_count": 437,
   "metadata": {},
   "outputs": [
    {
     "data": {
      "application/vnd.jupyter.widget-view+json": {
       "model_id": "162345a06827462a93317abf3a1853bc",
       "version_major": 2,
       "version_minor": 0
      },
      "text/plain": [
       "Map (num_proc=4):   0%|          | 0/1043 [00:00<?, ? examples/s]"
      ]
     },
     "metadata": {},
     "output_type": "display_data"
    },
    {
     "data": {
      "text/html": [
       "<div>\n",
       "<style scoped>\n",
       "    .dataframe tbody tr th:only-of-type {\n",
       "        vertical-align: middle;\n",
       "    }\n",
       "\n",
       "    .dataframe tbody tr th {\n",
       "        vertical-align: top;\n",
       "    }\n",
       "\n",
       "    .dataframe thead th {\n",
       "        text-align: right;\n",
       "    }\n",
       "</style>\n",
       "<table border=\"1\" class=\"dataframe\">\n",
       "  <thead>\n",
       "    <tr style=\"text-align: right;\">\n",
       "      <th></th>\n",
       "      <th>article</th>\n",
       "      <th>wiki</th>\n",
       "      <th>msg</th>\n",
       "      <th>cleaned</th>\n",
       "    </tr>\n",
       "  </thead>\n",
       "  <tbody>\n",
       "    <tr>\n",
       "      <th>204</th>\n",
       "      <td>Trollhunters</td>\n",
       "      <td>Page id \"troll hunters\" does not match any pag...</td>\n",
       "      <td>pageerror</td>\n",
       "      <td>Trollhunters</td>\n",
       "    </tr>\n",
       "    <tr>\n",
       "      <th>588</th>\n",
       "      <td>The_Kingdom_-LRB-film-RRB-</td>\n",
       "      <td>\"The Kingdom (film)\" may refer to one of ['The...</td>\n",
       "      <td>disambg</td>\n",
       "      <td>The Kingdom (film)</td>\n",
       "    </tr>\n",
       "    <tr>\n",
       "      <th>712</th>\n",
       "      <td>Robert_Palmer_-LRB-writer-RRB-</td>\n",
       "      <td>\"Robert Palmer (writer)\" may refer to one of [...</td>\n",
       "      <td>disambg</td>\n",
       "      <td>Robert Palmer (writer)</td>\n",
       "    </tr>\n",
       "  </tbody>\n",
       "</table>\n",
       "</div>"
      ],
      "text/plain": [
       "                            article                                               wiki        msg                 cleaned\n",
       "204                    Trollhunters  Page id \"troll hunters\" does not match any pag...  pageerror            Trollhunters\n",
       "588      The_Kingdom_-LRB-film-RRB-  \"The Kingdom (film)\" may refer to one of ['The...    disambg      The Kingdom (film)\n",
       "712  Robert_Palmer_-LRB-writer-RRB-  \"Robert Palmer (writer)\" may refer to one of [...    disambg  Robert Palmer (writer)"
      ]
     },
     "execution_count": 437,
     "metadata": {},
     "output_type": "execute_result"
    }
   ],
   "source": [
    "def searcher(row):\n",
    "    cleaned = clean_fever(row[\"article\"])\n",
    "    if row[\"msg\"] != \"success\":\n",
    "        wiki, msg = search_new(cleaned, auto_suggest=True, redirect=True)\n",
    "    else:\n",
    "        wiki = row[\"wiki\"]\n",
    "        msg = row[\"msg\"]\n",
    "    return {\"wiki\": wiki, \"msg\": msg, \"cleaned\": cleaned}\n",
    "article_ds = article_ds_noauto.map(searcher, num_proc=4)\n",
    "article_df = article_ds.to_pandas()\n",
    "article_df[article_df.msg != \"success\"]"
   ]
  },
  {
   "cell_type": "code",
   "execution_count": 438,
   "metadata": {},
   "outputs": [],
   "source": [
    "article_df = article_df.set_index(\"article\")"
   ]
  },
  {
   "cell_type": "code",
   "execution_count": 440,
   "metadata": {},
   "outputs": [
    {
     "ename": "ValueError",
     "evalue": "too many values to unpack (expected 2)",
     "output_type": "error",
     "traceback": [
      "\u001b[0;31m---------------------------------------------------------------------------\u001b[0m",
      "\u001b[0;31mValueError\u001b[0m                                Traceback (most recent call last)",
      "Cell \u001b[0;32mIn[440], line 1\u001b[0m\n\u001b[0;32m----> 1\u001b[0m wiki, msg \u001b[38;5;241m=\u001b[39m article_df\u001b[38;5;241m.\u001b[39mloc[\u001b[38;5;124m\"\u001b[39m\u001b[38;5;124mPsych\u001b[39m\u001b[38;5;124m\"\u001b[39m]\n",
      "\u001b[0;31mValueError\u001b[0m: too many values to unpack (expected 2)"
     ]
    }
   ],
   "source": [
    "article_df.loc[\"Psych\"]"
   ]
  },
  {
   "cell_type": "code",
   "execution_count": 441,
   "metadata": {},
   "outputs": [],
   "source": [
    "def search(query):\n",
    "    row = article_df.loc[query]\n",
    "    return row[\"wiki\"], row[\"msg\"]"
   ]
  },
  {
   "cell_type": "code",
   "execution_count": 436,
   "metadata": {},
   "outputs": [
    {
     "name": "stdout",
     "output_type": "stream",
     "text": [
      "Underdog (film) Underdog is a 2007 American superhero comedy film based on W. Watts Biggers, Chet Stover, and Joe Harris‘ 1960s animated television series Underdog, which in turn is a spoof on the DC Comics character Superman, created by Jerry Siegel and Joe Shuster. Directed by Frederik Du Chau and written by Joe Piscatella, Adam Rifkin, and Craig A. Williams, the film stars Jim Belushi, Peter Dinklage, John Slattery, and Patrick Warburton with the voice talents of Jason Lee, Amy Adams, and Brad Garrett. Unlike the TV series, the Underdog character is portrayed as a regular dog rather than an anthropomorphic one. Underdog/Shoeshine, voiced by Jason Lee, was played by a lemon beagle named Leo sporting a red sweater and a blue cape. The film grossed $65.3 million worldwide and received generally negative reviews from critics.\n",
      "James Jones (basketball player) James Andrew Jones (born October 4, 1980) is an American professional basketball executive and former player. He is both the president of basketball operations and general manager for the Phoenix Suns. He played 14 seasons in the National Basketball Association (NBA).\n",
      "Jones was a four-year letterman at American High School in Hialeah, Florida. He averaged 25 points per game as a senior, earning Class 6A Player of the Year and First-team All-State honors. Jones played college basketball for the Miami Hurricanes of the University of Miami, where he was a three-year starter and finished his career averaging 11 points per game. He was named Third-team All-Big East his junior year and Second-team Verizon Academic All-American his senior year. He was inducted into the University of Miami Sports Hall of Fame in 2014.\n",
      "Jones was drafted by the Indiana Pacers in the second round of the 2003 NBA draft. He went on to play for the Pacers, Phoenix Suns, Portland Trail Blazers, Miami Heat and Cleveland Cavaliers. He won three NBA championships, two with the Heat and one with the Cavaliers. Jones was never on an NBA team with a losing record and only missed the playoffs once—with the Trail Blazers in 2007–08. He finished third in the NBA in three-point percentage during the 2007–08 season and won the Three-Point Contest in 2011. His nickname is \"Champ\".\n"
     ]
    },
    {
     "ename": "PageError",
     "evalue": "Page id \"troll hunters\" does not match any pages. Try another id!",
     "output_type": "error",
     "traceback": [
      "\u001b[0;31m---------------------------------------------------------------------------\u001b[0m",
      "\u001b[0;31mPageError\u001b[0m                                 Traceback (most recent call last)",
      "Cell \u001b[0;32mIn[436], line 2\u001b[0m\n\u001b[1;32m      1\u001b[0m \u001b[38;5;28;01mfor\u001b[39;00m i \u001b[38;5;129;01min\u001b[39;00m article_df[article_df\u001b[38;5;241m.\u001b[39mmsg \u001b[38;5;241m!=\u001b[39m \u001b[38;5;124m\"\u001b[39m\u001b[38;5;124msuccess\u001b[39m\u001b[38;5;124m\"\u001b[39m][\u001b[38;5;124m\"\u001b[39m\u001b[38;5;124mcleaned\u001b[39m\u001b[38;5;124m\"\u001b[39m]:\n\u001b[0;32m----> 2\u001b[0m     \u001b[38;5;28mprint\u001b[39m(i, \u001b[43mwikipedia\u001b[49m\u001b[38;5;241;43m.\u001b[39;49m\u001b[43msummary\u001b[49m\u001b[43m(\u001b[49m\u001b[43mi\u001b[49m\u001b[43m)\u001b[49m)\n",
      "File \u001b[0;32m~/.pyenv/versions/3.12.4/envs/pdl/lib/python3.12/site-packages/wikipedia/util.py:28\u001b[0m, in \u001b[0;36mcache.__call__\u001b[0;34m(self, *args, **kwargs)\u001b[0m\n\u001b[1;32m     26\u001b[0m   ret \u001b[38;5;241m=\u001b[39m \u001b[38;5;28mself\u001b[39m\u001b[38;5;241m.\u001b[39m_cache[key]\n\u001b[1;32m     27\u001b[0m \u001b[38;5;28;01melse\u001b[39;00m:\n\u001b[0;32m---> 28\u001b[0m   ret \u001b[38;5;241m=\u001b[39m \u001b[38;5;28mself\u001b[39m\u001b[38;5;241m.\u001b[39m_cache[key] \u001b[38;5;241m=\u001b[39m \u001b[38;5;28;43mself\u001b[39;49m\u001b[38;5;241;43m.\u001b[39;49m\u001b[43mfn\u001b[49m\u001b[43m(\u001b[49m\u001b[38;5;241;43m*\u001b[39;49m\u001b[43margs\u001b[49m\u001b[43m,\u001b[49m\u001b[43m \u001b[49m\u001b[38;5;241;43m*\u001b[39;49m\u001b[38;5;241;43m*\u001b[39;49m\u001b[43mkwargs\u001b[49m\u001b[43m)\u001b[49m\n\u001b[1;32m     30\u001b[0m \u001b[38;5;28;01mreturn\u001b[39;00m ret\n",
      "File \u001b[0;32m~/.pyenv/versions/3.12.4/envs/pdl/lib/python3.12/site-packages/wikipedia/wikipedia.py:231\u001b[0m, in \u001b[0;36msummary\u001b[0;34m(title, sentences, chars, auto_suggest, redirect)\u001b[0m\n\u001b[1;32m    216\u001b[0m \u001b[38;5;250m\u001b[39m\u001b[38;5;124;03m'''\u001b[39;00m\n\u001b[1;32m    217\u001b[0m \u001b[38;5;124;03mPlain text summary of the page.\u001b[39;00m\n\u001b[1;32m    218\u001b[0m \n\u001b[0;32m   (...)\u001b[0m\n\u001b[1;32m    226\u001b[0m \u001b[38;5;124;03m* redirect - allow redirection without raising RedirectError\u001b[39;00m\n\u001b[1;32m    227\u001b[0m \u001b[38;5;124;03m'''\u001b[39;00m\n\u001b[1;32m    229\u001b[0m \u001b[38;5;66;03m# use auto_suggest and redirect to get the correct article\u001b[39;00m\n\u001b[1;32m    230\u001b[0m \u001b[38;5;66;03m# also, use page's error checking to raise DisambiguationError if necessary\u001b[39;00m\n\u001b[0;32m--> 231\u001b[0m page_info \u001b[38;5;241m=\u001b[39m \u001b[43mpage\u001b[49m\u001b[43m(\u001b[49m\u001b[43mtitle\u001b[49m\u001b[43m,\u001b[49m\u001b[43m \u001b[49m\u001b[43mauto_suggest\u001b[49m\u001b[38;5;241;43m=\u001b[39;49m\u001b[43mauto_suggest\u001b[49m\u001b[43m,\u001b[49m\u001b[43m \u001b[49m\u001b[43mredirect\u001b[49m\u001b[38;5;241;43m=\u001b[39;49m\u001b[43mredirect\u001b[49m\u001b[43m)\u001b[49m\n\u001b[1;32m    232\u001b[0m title \u001b[38;5;241m=\u001b[39m page_info\u001b[38;5;241m.\u001b[39mtitle\n\u001b[1;32m    233\u001b[0m pageid \u001b[38;5;241m=\u001b[39m page_info\u001b[38;5;241m.\u001b[39mpageid\n",
      "File \u001b[0;32m~/.pyenv/versions/3.12.4/envs/pdl/lib/python3.12/site-packages/wikipedia/wikipedia.py:276\u001b[0m, in \u001b[0;36mpage\u001b[0;34m(title, pageid, auto_suggest, redirect, preload)\u001b[0m\n\u001b[1;32m    273\u001b[0m     \u001b[38;5;28;01mexcept\u001b[39;00m \u001b[38;5;167;01mIndexError\u001b[39;00m:\n\u001b[1;32m    274\u001b[0m       \u001b[38;5;66;03m# if there is no suggestion or search results, the page doesn't exist\u001b[39;00m\n\u001b[1;32m    275\u001b[0m       \u001b[38;5;28;01mraise\u001b[39;00m PageError(title)\n\u001b[0;32m--> 276\u001b[0m   \u001b[38;5;28;01mreturn\u001b[39;00m \u001b[43mWikipediaPage\u001b[49m\u001b[43m(\u001b[49m\u001b[43mtitle\u001b[49m\u001b[43m,\u001b[49m\u001b[43m \u001b[49m\u001b[43mredirect\u001b[49m\u001b[38;5;241;43m=\u001b[39;49m\u001b[43mredirect\u001b[49m\u001b[43m,\u001b[49m\u001b[43m \u001b[49m\u001b[43mpreload\u001b[49m\u001b[38;5;241;43m=\u001b[39;49m\u001b[43mpreload\u001b[49m\u001b[43m)\u001b[49m\n\u001b[1;32m    277\u001b[0m \u001b[38;5;28;01melif\u001b[39;00m pageid \u001b[38;5;129;01mis\u001b[39;00m \u001b[38;5;129;01mnot\u001b[39;00m \u001b[38;5;28;01mNone\u001b[39;00m:\n\u001b[1;32m    278\u001b[0m   \u001b[38;5;28;01mreturn\u001b[39;00m WikipediaPage(pageid\u001b[38;5;241m=\u001b[39mpageid, preload\u001b[38;5;241m=\u001b[39mpreload)\n",
      "File \u001b[0;32m~/.pyenv/versions/3.12.4/envs/pdl/lib/python3.12/site-packages/wikipedia/wikipedia.py:299\u001b[0m, in \u001b[0;36mWikipediaPage.__init__\u001b[0;34m(self, title, pageid, redirect, preload, original_title)\u001b[0m\n\u001b[1;32m    296\u001b[0m \u001b[38;5;28;01melse\u001b[39;00m:\n\u001b[1;32m    297\u001b[0m   \u001b[38;5;28;01mraise\u001b[39;00m \u001b[38;5;167;01mValueError\u001b[39;00m(\u001b[38;5;124m\"\u001b[39m\u001b[38;5;124mEither a title or a pageid must be specified\u001b[39m\u001b[38;5;124m\"\u001b[39m)\n\u001b[0;32m--> 299\u001b[0m \u001b[38;5;28;43mself\u001b[39;49m\u001b[38;5;241;43m.\u001b[39;49m\u001b[43m__load\u001b[49m\u001b[43m(\u001b[49m\u001b[43mredirect\u001b[49m\u001b[38;5;241;43m=\u001b[39;49m\u001b[43mredirect\u001b[49m\u001b[43m,\u001b[49m\u001b[43m \u001b[49m\u001b[43mpreload\u001b[49m\u001b[38;5;241;43m=\u001b[39;49m\u001b[43mpreload\u001b[49m\u001b[43m)\u001b[49m\n\u001b[1;32m    301\u001b[0m \u001b[38;5;28;01mif\u001b[39;00m preload:\n\u001b[1;32m    302\u001b[0m   \u001b[38;5;28;01mfor\u001b[39;00m prop \u001b[38;5;129;01min\u001b[39;00m (\u001b[38;5;124m'\u001b[39m\u001b[38;5;124mcontent\u001b[39m\u001b[38;5;124m'\u001b[39m, \u001b[38;5;124m'\u001b[39m\u001b[38;5;124msummary\u001b[39m\u001b[38;5;124m'\u001b[39m, \u001b[38;5;124m'\u001b[39m\u001b[38;5;124mimages\u001b[39m\u001b[38;5;124m'\u001b[39m, \u001b[38;5;124m'\u001b[39m\u001b[38;5;124mreferences\u001b[39m\u001b[38;5;124m'\u001b[39m, \u001b[38;5;124m'\u001b[39m\u001b[38;5;124mlinks\u001b[39m\u001b[38;5;124m'\u001b[39m, \u001b[38;5;124m'\u001b[39m\u001b[38;5;124msections\u001b[39m\u001b[38;5;124m'\u001b[39m):\n",
      "File \u001b[0;32m~/.pyenv/versions/3.12.4/envs/pdl/lib/python3.12/site-packages/wikipedia/wikipedia.py:345\u001b[0m, in \u001b[0;36mWikipediaPage.__load\u001b[0;34m(self, redirect, preload)\u001b[0m\n\u001b[1;32m    343\u001b[0m \u001b[38;5;28;01mif\u001b[39;00m \u001b[38;5;124m'\u001b[39m\u001b[38;5;124mmissing\u001b[39m\u001b[38;5;124m'\u001b[39m \u001b[38;5;129;01min\u001b[39;00m page:\n\u001b[1;32m    344\u001b[0m   \u001b[38;5;28;01mif\u001b[39;00m \u001b[38;5;28mhasattr\u001b[39m(\u001b[38;5;28mself\u001b[39m, \u001b[38;5;124m'\u001b[39m\u001b[38;5;124mtitle\u001b[39m\u001b[38;5;124m'\u001b[39m):\n\u001b[0;32m--> 345\u001b[0m     \u001b[38;5;28;01mraise\u001b[39;00m PageError(\u001b[38;5;28mself\u001b[39m\u001b[38;5;241m.\u001b[39mtitle)\n\u001b[1;32m    346\u001b[0m   \u001b[38;5;28;01melse\u001b[39;00m:\n\u001b[1;32m    347\u001b[0m     \u001b[38;5;28;01mraise\u001b[39;00m PageError(pageid\u001b[38;5;241m=\u001b[39m\u001b[38;5;28mself\u001b[39m\u001b[38;5;241m.\u001b[39mpageid)\n",
      "\u001b[0;31mPageError\u001b[0m: Page id \"troll hunters\" does not match any pages. Try another id!"
     ]
    }
   ],
   "source": [
    "for i in article_df[article_df.msg != \"success\"][\"cleaned\"]:\n",
    "    print(i, wikipedia.summary(i))"
   ]
  },
  {
   "cell_type": "markdown",
   "metadata": {},
   "source": [
    "## End redo"
   ]
  },
  {
   "cell_type": "code",
   "execution_count": 129,
   "metadata": {},
   "outputs": [
    {
     "data": {
      "application/vnd.jupyter.widget-view+json": {
       "model_id": "4f4a91b582094895bf71fbe938f3c6f0",
       "version_major": 2,
       "version_minor": 0
      },
      "text/plain": [
       "Filter:   0%|          | 0/3336 [00:00<?, ? examples/s]"
      ]
     },
     "metadata": {},
     "output_type": "display_data"
    }
   ],
   "source": [
    "badapple = ds[\"train_react_wiki_positive\"].filter(lambda x: \"Bronson (film) is a fictionalized crime film based on someone's life\" in x[\"claim\"])"
   ]
  },
  {
   "cell_type": "code",
   "execution_count": 130,
   "metadata": {},
   "outputs": [
    {
     "data": {
      "text/plain": [
       "{'id': 152602,\n",
       " 'label': 'SUPPORTS',\n",
       " 'claim': \"Bronson (film) is a fictionalized crime film based on someone's life.\",\n",
       " 'evidence_annotation_id': 341237,\n",
       " 'evidence_id': 325711,\n",
       " 'evidence_wiki_url': 'Bronson_-LRB-film-RRB-',\n",
       " 'evidence_sentence_id': 1,\n",
       " 'bool_label': True,\n",
       " 'wikipedia_title': 'Bronson (film)',\n",
       " 'in_bigbench': False,\n",
       " 'traj_keys': ['task',\n",
       "  'thought',\n",
       "  'action',\n",
       "  'observation',\n",
       "  'thought',\n",
       "  'action'],\n",
       " 'traj_values': [\"On June 2017, the following claim was made: Bronson (film) is a fictionalized crime film based on someone's life.\\nQ: Was this claim true or false?\",\n",
       "  'I need to search Bronson (film).',\n",
       "  'Search[Bronson (film)]',\n",
       "  \"[Document]\\nBronson is a 2008 British biographical prison drama film directed by Nicolas Winding Refn, based on a script written by Refn and Brock Norman Brock. The film stars Tom Hardy as Michael Peterson, known from 1987 as Charles Bronson. The film follows the life of this prisoner, considered Britain's most violent criminal, who has been responsible for a dozen or so cases of hostage taking while incarcerated. He was given the name Charles Bronson by his fight promoter, for his bare-knuckle fighting years.\\nBorn into a respectable middle-class family, Peterson became known as one of the United Kingdom's most dangerous prisoners. Because of his violence, Bronson was repeatedly put into isolation or solitary confinement, which may have contributed to his emotional problems.\\n[End]\",\n",
       "  'The claim is True.',\n",
       "  'Finish[True]'],\n",
       " 'rewoo_traj_keys': ['task', 'thought', 'action', 'observation'],\n",
       " 'rewoo_traj_values': [\"On June 2017, the following claim was made: Bronson (film) is a fictionalized crime film based on someone's life.\\nQ: Was this claim true or false?\",\n",
       "  'Search for more information about Bronson (film).',\n",
       "  'Search[Bronson (film)]',\n",
       "  \"[Document]\\nBronson is a 2008 British biographical prison drama film directed by Nicolas Winding Refn, based on a script written by Refn and Brock Norman Brock. The film stars Tom Hardy as Michael Peterson, known from 1987 as Charles Bronson. The film follows the life of this prisoner, considered Britain's most violent criminal, who has been responsible for a dozen or so cases of hostage taking while incarcerated. He was given the name Charles Bronson by his fight promoter, for his bare-knuckle fighting years.\\nBorn into a respectable middle-class family, Peterson became known as one of the United Kingdom's most dangerous prisoners. Because of his violence, Bronson was repeatedly put into isolation or solitary confinement, which may have contributed to his emotional problems.\\n[End]\"],\n",
       " 'wiki_worked': True}"
      ]
     },
     "execution_count": 130,
     "metadata": {},
     "output_type": "execute_result"
    }
   ],
   "source": [
    "badapple[0]"
   ]
  },
  {
   "cell_type": "code",
   "execution_count": 138,
   "metadata": {},
   "outputs": [
    {
     "data": {
      "text/plain": [
       "0.6515303060612122"
      ]
     },
     "execution_count": 138,
     "metadata": {},
     "output_type": "execute_result"
    }
   ],
   "source": [
    "sum(map(int, ds[\"train_react\"][\"wiki_worked\"]))/len(ds[\"train_react\"])"
   ]
  },
  {
   "cell_type": "code",
   "execution_count": 139,
   "metadata": {},
   "outputs": [
    {
     "data": {
      "application/vnd.jupyter.widget-view+json": {
       "model_id": "9b107a616fe941aba0cbe3a9ccc9ac28",
       "version_major": 2,
       "version_minor": 0
      },
      "text/plain": [
       "Filter:   0%|          | 0/14150 [00:00<?, ? examples/s]"
      ]
     },
     "metadata": {},
     "output_type": "display_data"
    }
   ],
   "source": [
    "ds[\"paper_test_bigbench\"] = ds[\"paper_test\"].filter(lambda x: x[\"in_bigbench\"] == True)"
   ]
  },
  {
   "cell_type": "code",
   "execution_count": 140,
   "metadata": {},
   "outputs": [
    {
     "data": {
      "application/vnd.jupyter.widget-view+json": {
       "model_id": "2d392f6f57af4d4ba6df510c492e474d",
       "version_major": 2,
       "version_minor": 0
      },
      "text/plain": [
       "Saving the dataset (0/1 shards):   0%|          | 0/263822 [00:00<?, ? examples/s]"
      ]
     },
     "metadata": {},
     "output_type": "display_data"
    },
    {
     "data": {
      "application/vnd.jupyter.widget-view+json": {
       "model_id": "8a2437e017fe417bb479c453b3652c27",
       "version_major": 2,
       "version_minor": 0
      },
      "text/plain": [
       "Saving the dataset (0/1 shards):   0%|          | 0/28625 [00:00<?, ? examples/s]"
      ]
     },
     "metadata": {},
     "output_type": "display_data"
    },
    {
     "data": {
      "application/vnd.jupyter.widget-view+json": {
       "model_id": "5d45d6fecdbc4d11b04f3b8c47ce50aa",
       "version_major": 2,
       "version_minor": 0
      },
      "text/plain": [
       "Saving the dataset (0/1 shards): 0 examples [00:00, ? examples/s]"
      ]
     },
     "metadata": {},
     "output_type": "display_data"
    },
    {
     "data": {
      "application/vnd.jupyter.widget-view+json": {
       "model_id": "609bcaacc32f444a9c68d1ba81de0dc1",
       "version_major": 2,
       "version_minor": 0
      },
      "text/plain": [
       "Saving the dataset (0/1 shards): 0 examples [00:00, ? examples/s]"
      ]
     },
     "metadata": {},
     "output_type": "display_data"
    },
    {
     "data": {
      "application/vnd.jupyter.widget-view+json": {
       "model_id": "574f4740a3b24f9db617bcd5c2fa24e7",
       "version_major": 2,
       "version_minor": 0
      },
      "text/plain": [
       "Saving the dataset (0/1 shards):   0%|          | 0/14475 [00:00<?, ? examples/s]"
      ]
     },
     "metadata": {},
     "output_type": "display_data"
    },
    {
     "data": {
      "application/vnd.jupyter.widget-view+json": {
       "model_id": "144a31152bc24c70ab7960080d313d6c",
       "version_major": 2,
       "version_minor": 0
      },
      "text/plain": [
       "Saving the dataset (0/1 shards):   0%|          | 0/14150 [00:00<?, ? examples/s]"
      ]
     },
     "metadata": {},
     "output_type": "display_data"
    },
    {
     "data": {
      "application/vnd.jupyter.widget-view+json": {
       "model_id": "300ca572c382445999884670f1340eb6",
       "version_major": 2,
       "version_minor": 0
      },
      "text/plain": [
       "Saving the dataset (0/1 shards):   0%|          | 0/4999 [00:00<?, ? examples/s]"
      ]
     },
     "metadata": {},
     "output_type": "display_data"
    },
    {
     "data": {
      "application/vnd.jupyter.widget-view+json": {
       "model_id": "bdcc21192cfc438cabd215a1d8e76c63",
       "version_major": 2,
       "version_minor": 0
      },
      "text/plain": [
       "Saving the dataset (0/1 shards):   0%|          | 0/3257 [00:00<?, ? examples/s]"
      ]
     },
     "metadata": {},
     "output_type": "display_data"
    },
    {
     "data": {
      "application/vnd.jupyter.widget-view+json": {
       "model_id": "4a9e6641d01d48f585cda5327f2f00fc",
       "version_major": 2,
       "version_minor": 0
      },
      "text/plain": [
       "Saving the dataset (0/1 shards):   0%|          | 0/13582 [00:00<?, ? examples/s]"
      ]
     },
     "metadata": {},
     "output_type": "display_data"
    }
   ],
   "source": [
    "ds.save_to_disk(\"var/fever_agentic\")"
   ]
  },
  {
   "cell_type": "code",
   "execution_count": 98,
   "metadata": {},
   "outputs": [
    {
     "data": {
      "text/plain": [
       "DatasetDict({\n",
       "    train: Dataset({\n",
       "        features: ['id', 'label', 'claim', 'evidence_annotation_id', 'evidence_id', 'evidence_wiki_url', 'evidence_sentence_id', 'bool_label', 'wikipedia_title'],\n",
       "        num_rows: 263822\n",
       "    })\n",
       "    labelled_dev: Dataset({\n",
       "        features: ['id', 'label', 'claim', 'evidence_annotation_id', 'evidence_id', 'evidence_wiki_url', 'evidence_sentence_id', 'bool_label', 'wikipedia_title'],\n",
       "        num_rows: 28625\n",
       "    })\n",
       "    paper_dev: Dataset({\n",
       "        features: ['id', 'label', 'claim', 'evidence_annotation_id', 'evidence_id', 'evidence_wiki_url', 'evidence_sentence_id', 'bool_label', 'wikipedia_title'],\n",
       "        num_rows: 14475\n",
       "    })\n",
       "    paper_test: Dataset({\n",
       "        features: ['id', 'label', 'claim', 'evidence_annotation_id', 'evidence_id', 'evidence_wiki_url', 'evidence_sentence_id', 'bool_label', 'wikipedia_title'],\n",
       "        num_rows: 14150\n",
       "    })\n",
       "})"
      ]
     },
     "execution_count": 98,
     "metadata": {},
     "output_type": "execute_result"
    }
   ],
   "source": [
    "new_ds = DatasetDict()\n",
    "for k,v in ds_c.items():\n",
    "    if len(v) > 0:\n",
    "        new_ds[k] = v\n",
    "new_ds"
   ]
  },
  {
   "cell_type": "code",
   "execution_count": 99,
   "metadata": {},
   "outputs": [
    {
     "data": {
      "text/plain": [
       "DatasetDict({\n",
       "    train_bigbench: Dataset({\n",
       "        features: ['id', 'label', 'claim', 'evidence_annotation_id', 'evidence_id', 'evidence_wiki_url', 'evidence_sentence_id', 'bool_label', 'wikipedia_title'],\n",
       "        num_rows: 10\n",
       "    })\n",
       "    train_not_bigbench: Dataset({\n",
       "        features: ['id', 'label', 'claim', 'evidence_annotation_id', 'evidence_id', 'evidence_wiki_url', 'evidence_sentence_id', 'bool_label', 'wikipedia_title'],\n",
       "        num_rows: 263812\n",
       "    })\n",
       "    labelled_dev_bigbench: Dataset({\n",
       "        features: ['id', 'label', 'claim', 'evidence_annotation_id', 'evidence_id', 'evidence_wiki_url', 'evidence_sentence_id', 'bool_label', 'wikipedia_title'],\n",
       "        num_rows: 13582\n",
       "    })\n",
       "    labelled_dev_not_bigbench: Dataset({\n",
       "        features: ['id', 'label', 'claim', 'evidence_annotation_id', 'evidence_id', 'evidence_wiki_url', 'evidence_sentence_id', 'bool_label', 'wikipedia_title'],\n",
       "        num_rows: 15043\n",
       "    })\n",
       "    paper_dev_bigbench: Dataset({\n",
       "        features: ['id', 'label', 'claim', 'evidence_annotation_id', 'evidence_id', 'evidence_wiki_url', 'evidence_sentence_id', 'bool_label', 'wikipedia_title'],\n",
       "        num_rows: 0\n",
       "    })\n",
       "    paper_dev_not_bigbench: Dataset({\n",
       "        features: ['id', 'label', 'claim', 'evidence_annotation_id', 'evidence_id', 'evidence_wiki_url', 'evidence_sentence_id', 'bool_label', 'wikipedia_title'],\n",
       "        num_rows: 14475\n",
       "    })\n",
       "    paper_test_bigbench: Dataset({\n",
       "        features: ['id', 'label', 'claim', 'evidence_annotation_id', 'evidence_id', 'evidence_wiki_url', 'evidence_sentence_id', 'bool_label', 'wikipedia_title'],\n",
       "        num_rows: 13582\n",
       "    })\n",
       "    paper_test_not_bigbench: Dataset({\n",
       "        features: ['id', 'label', 'claim', 'evidence_annotation_id', 'evidence_id', 'evidence_wiki_url', 'evidence_sentence_id', 'bool_label', 'wikipedia_title'],\n",
       "        num_rows: 568\n",
       "    })\n",
       "})"
      ]
     },
     "execution_count": 99,
     "metadata": {},
     "output_type": "execute_result"
    }
   ],
   "source": [
    "new_ds_bb = DatasetDict()\n",
    "for k,v in new_ds.items():\n",
    "    new_ds_bb[f\"{k}_bigbench\"] = v.filter(), num_proc=32)\n",
    "    new_ds_bb[f\"{k}_not_bigbench\"] = v.filter(lambda x: all(x[\"claim\"] not in y[\"input\"] for y in js[\"examples\"]), num_proc=32)\n",
    "new_ds_bb"
   ]
  },
  {
   "cell_type": "code",
   "execution_count": 78,
   "metadata": {},
   "outputs": [
    {
     "data": {
      "application/vnd.jupyter.widget-view+json": {
       "model_id": "220abfb92d854338b696a431e953494e",
       "version_major": 2,
       "version_minor": 0
      },
      "text/plain": [
       "Filter (num_proc=32):   0%|          | 0/263822 [00:00<?, ? examples/s]"
      ]
     },
     "metadata": {},
     "output_type": "display_data"
    },
    {
     "data": {
      "application/vnd.jupyter.widget-view+json": {
       "model_id": "70e7079e450448bba8190a3299b2238f",
       "version_major": 2,
       "version_minor": 0
      },
      "text/plain": [
       "Filter (num_proc=32):   0%|          | 0/28625 [00:00<?, ? examples/s]"
      ]
     },
     "metadata": {},
     "output_type": "display_data"
    },
    {
     "data": {
      "application/vnd.jupyter.widget-view+json": {
       "model_id": "455b530f5e2d4dce848bfd7ca17ae582",
       "version_major": 2,
       "version_minor": 0
      },
      "text/plain": [
       "Filter (num_proc=32):   0%|          | 0/14475 [00:00<?, ? examples/s]"
      ]
     },
     "metadata": {},
     "output_type": "display_data"
    },
    {
     "data": {
      "application/vnd.jupyter.widget-view+json": {
       "model_id": "83088963f2904105bf3e1207c63da04f",
       "version_major": 2,
       "version_minor": 0
      },
      "text/plain": [
       "Filter (num_proc=32):   0%|          | 0/14150 [00:00<?, ? examples/s]"
      ]
     },
     "metadata": {},
     "output_type": "display_data"
    }
   ],
   "source": [
    "ref_claim = new_ds.filter(lambda x: any(x[\"claim\"] in y[\"input\"] for y in js[\"examples\"]), num_proc=32)"
   ]
  },
  {
   "cell_type": "code",
   "execution_count": 94,
   "metadata": {},
   "outputs": [
    {
     "data": {
      "text/plain": [
       "DatasetDict({\n",
       "    train: Dataset({\n",
       "        features: ['id', 'label', 'claim', 'evidence_annotation_id', 'evidence_id', 'evidence_wiki_url', 'evidence_sentence_id', 'bool_label', 'wikipedia_title'],\n",
       "        num_rows: 263822\n",
       "    })\n",
       "    labelled_dev: Dataset({\n",
       "        features: ['id', 'label', 'claim', 'evidence_annotation_id', 'evidence_id', 'evidence_wiki_url', 'evidence_sentence_id', 'bool_label', 'wikipedia_title'],\n",
       "        num_rows: 28625\n",
       "    })\n",
       "    paper_dev: Dataset({\n",
       "        features: ['id', 'label', 'claim', 'evidence_annotation_id', 'evidence_id', 'evidence_wiki_url', 'evidence_sentence_id', 'bool_label', 'wikipedia_title'],\n",
       "        num_rows: 14475\n",
       "    })\n",
       "    paper_test: Dataset({\n",
       "        features: ['id', 'label', 'claim', 'evidence_annotation_id', 'evidence_id', 'evidence_wiki_url', 'evidence_sentence_id', 'bool_label', 'wikipedia_title'],\n",
       "        num_rows: 14150\n",
       "    })\n",
       "})"
      ]
     },
     "execution_count": 94,
     "metadata": {},
     "output_type": "execute_result"
    }
   ],
   "source": [
    "new_ds"
   ]
  },
  {
   "cell_type": "code",
   "execution_count": 67,
   "metadata": {},
   "outputs": [
    {
     "data": {
      "text/plain": [
       "DatasetDict({\n",
       "    train: Dataset({\n",
       "        features: ['id', 'label', 'claim', 'evidence_annotation_id', 'evidence_id', 'evidence_wiki_url', 'evidence_sentence_id', 'bool_label', 'wikipedia_title'],\n",
       "        num_rows: 10\n",
       "    })\n",
       "    labelled_dev: Dataset({\n",
       "        features: ['id', 'label', 'claim', 'evidence_annotation_id', 'evidence_id', 'evidence_wiki_url', 'evidence_sentence_id', 'bool_label', 'wikipedia_title'],\n",
       "        num_rows: 13582\n",
       "    })\n",
       "    paper_dev: Dataset({\n",
       "        features: ['id', 'label', 'claim', 'evidence_annotation_id', 'evidence_id', 'evidence_wiki_url', 'evidence_sentence_id', 'bool_label', 'wikipedia_title'],\n",
       "        num_rows: 0\n",
       "    })\n",
       "    paper_test: Dataset({\n",
       "        features: ['id', 'label', 'claim', 'evidence_annotation_id', 'evidence_id', 'evidence_wiki_url', 'evidence_sentence_id', 'bool_label', 'wikipedia_title'],\n",
       "        num_rows: 13582\n",
       "    })\n",
       "})"
      ]
     },
     "execution_count": 67,
     "metadata": {},
     "output_type": "execute_result"
    }
   ],
   "source": [
    "ref_claim"
   ]
  },
  {
   "cell_type": "code",
   "execution_count": 89,
   "metadata": {},
   "outputs": [],
   "source": [
    "ex = search(\"spain\")"
   ]
  },
  {
   "cell_type": "code",
   "execution_count": 91,
   "metadata": {},
   "outputs": [
    {
     "data": {
      "text/plain": [
       "('split',\n",
       " ['Split, Croatia',\n",
       "  'Split Island, Canada',\n",
       "  'Split Island, Falkland Islands',\n",
       "  'Split Island, Fiji',\n",
       "  'Split (1989 film)',\n",
       "  'Split (2016 American film)',\n",
       "  'Split (2016 Canadian film)',\n",
       "  'Split (2016 South Korean film)',\n",
       "  'Split: A Divided America',\n",
       "  'The Split (film)',\n",
       "  'The Manster',\n",
       "  'Split (poker)',\n",
       "  'Split (blackjack)',\n",
       "  'Split (The Groundhogs album)',\n",
       "  'Split (Lush album)',\n",
       "  'Split (Patricia Barber album)',\n",
       "  'The Split CD',\n",
       "  '\"Split\" (KMFDM song)',\n",
       "  '\"Split\" (Tesla Boy song)',\n",
       "  '\"Split\" (Yeat song)',\n",
       "  'Split/Whole Time',\n",
       "  'Coping Mechanism',\n",
       "  'Split (composition)',\n",
       "  'Split album',\n",
       "  'Split (TV series)',\n",
       "  'The Split (TV series)',\n",
       "  '\"Split\" (Coupling episode)',\n",
       "  'Split (novel)',\n",
       "  'Split (sculpture)',\n",
       "  'Split Dynasty',\n",
       "  'Yugoslav destroyer Split',\n",
       "  'Yugoslav frigate Split',\n",
       "  'Split (graph theory)',\n",
       "  'Split (mathematics)',\n",
       "  'Split Lie algebra',\n",
       "  'Split (phylogenetics)',\n",
       "  'split (Unix)',\n",
       "  'Split (bowling)',\n",
       "  'Split (gymnastics)',\n",
       "  'Split jump',\n",
       "  'Split leap',\n",
       "  'Split (bottle size)',\n",
       "  'Split (divorce)',\n",
       "  'Australian Labor Party split of 1955',\n",
       "  'Area code split',\n",
       "  'Stock split',\n",
       "  'Banana split',\n",
       "  'Split system',\n",
       "  'Phonemic split',\n",
       "  'Split screen (disambiguation)',\n",
       "  'Splitter (disambiguation)',\n",
       "  'Split decision',\n",
       "  'All pages with titles beginning with Split'])"
      ]
     },
     "execution_count": 91,
     "metadata": {},
     "output_type": "execute_result"
    }
   ],
   "source": [
    "ex.args"
   ]
  },
  {
   "cell_type": "code",
   "execution_count": null,
   "metadata": {},
   "outputs": [],
   "source": [
    "def rewoo_trajectory(row):\n",
    "    claim = row[\"claim\"]\n",
    "    task = f\"On June 2017, the following claim was made: {claim}\\nQ: Was this claim true or false?\"\n",
    "    answer = row[\"bool_label\"]\n",
    "    wiki, worked = search(row[\"wikipedia_title\"])\n",
    "    trajectory = [\n",
    "        {\"task\": task.strip()},\n",
    "        {\"thought\": f\"Search for more information about {row['wikipedia_title']}.\"},\n",
    "        {\"action\": f\"Search[{row['wikipedia_title']}]\"},\n",
    "        {\"observation\": f\"[Document]\\n{wiki}\\n[End]\"},\n",
    "    ]\n",
    "\n",
    "    traj_keys = [next(iter(t.keys())) for t in trajectory]\n",
    "    traj_values = [next(iter(t.values())) for t in trajectory]\n",
    "\n",
    "    return {\n",
    "            \"rewoo_traj_keys\": traj_keys,\n",
    "            \"rewoo_traj_values\": traj_values,\n",
    "        }\n",
    "\n",
    "ref_claim_react = ref_claim_react.map(rewoo_trajectory).filter(lambda x: x[\"wiki_worked\"])"
   ]
  },
  {
   "cell_type": "code",
   "execution_count": 82,
   "metadata": {},
   "outputs": [
    {
     "data": {
      "text/plain": [
       "Dataset({\n",
       "    features: ['id', 'label', 'claim', 'evidence_annotation_id', 'evidence_id', 'evidence_wiki_url', 'evidence_sentence_id', 'bool_label', 'wikipedia_title', 'traj_keys', 'traj_values', 'wiki_worked'],\n",
       "    num_rows: 4\n",
       "})"
      ]
     },
     "execution_count": 82,
     "metadata": {},
     "output_type": "execute_result"
    }
   ],
   "source": [
    "ref_claim_react"
   ]
  },
  {
   "cell_type": "code",
   "execution_count": 93,
   "metadata": {},
   "outputs": [
    {
     "data": {
      "text/plain": [
       "'Fox 2000 Pictures released the film Soul Food.'"
      ]
     },
     "execution_count": 93,
     "metadata": {},
     "output_type": "execute_result"
    }
   ],
   "source": [
    "import random\n",
    "\n",
    "\n",
    "ref_claim_t[\"test\"][random.randint(0,4)][\"claim\"]"
   ]
  },
  {
   "cell_type": "code",
   "execution_count": 83,
   "metadata": {},
   "outputs": [
    {
     "data": {
      "application/vnd.jupyter.widget-view+json": {
       "model_id": "680d0ffc42104ceda92f390d883865b8",
       "version_major": 2,
       "version_minor": 0
      },
      "text/plain": [
       "Saving the dataset (0/1 shards):   0%|          | 0/4 [00:00<?, ? examples/s]"
      ]
     },
     "metadata": {},
     "output_type": "display_data"
    },
    {
     "data": {
      "application/vnd.jupyter.widget-view+json": {
       "model_id": "94312cc6d4464e7ab0a11e85e9b2bae2",
       "version_major": 2,
       "version_minor": 0
      },
      "text/plain": [
       "Saving the dataset (0/1 shards):   0%|          | 0/14475 [00:00<?, ? examples/s]"
      ]
     },
     "metadata": {},
     "output_type": "display_data"
    }
   ],
   "source": [
    "ref_claim_t = DatasetDict()\n",
    "ref_claim_t[\"train\"] = ref_claim_react\n",
    "ref_claim_t[\"test\"] = new_ds[\"paper_dev\"]\n",
    "ref_claim_t.save_to_disk(\"var/ref_claim_fever_react\")"
   ]
  },
  {
   "cell_type": "code",
   "execution_count": 63,
   "metadata": {},
   "outputs": [
    {
     "data": {
      "application/vnd.jupyter.widget-view+json": {
       "model_id": "ff460df3a9e14e559c4495d9e4aee5d7",
       "version_major": 2,
       "version_minor": 0
      },
      "text/plain": [
       "Saving the dataset (0/1 shards):   0%|          | 0/10 [00:00<?, ? examples/s]"
      ]
     },
     "metadata": {},
     "output_type": "display_data"
    },
    {
     "data": {
      "application/vnd.jupyter.widget-view+json": {
       "model_id": "3fef5ee80491400d974e6c6e20163ced",
       "version_major": 2,
       "version_minor": 0
      },
      "text/plain": [
       "Saving the dataset (0/1 shards):   0%|          | 0/13582 [00:00<?, ? examples/s]"
      ]
     },
     "metadata": {},
     "output_type": "display_data"
    },
    {
     "data": {
      "application/vnd.jupyter.widget-view+json": {
       "model_id": "af8d5aa836cd4576bbe492d4dfb22e8d",
       "version_major": 2,
       "version_minor": 0
      },
      "text/plain": [
       "Saving the dataset (0/1 shards): 0 examples [00:00, ? examples/s]"
      ]
     },
     "metadata": {},
     "output_type": "display_data"
    },
    {
     "data": {
      "application/vnd.jupyter.widget-view+json": {
       "model_id": "0a5d27fbe1994ceeb69e5f60f5afbd11",
       "version_major": 2,
       "version_minor": 0
      },
      "text/plain": [
       "Saving the dataset (0/1 shards):   0%|          | 0/13582 [00:00<?, ? examples/s]"
      ]
     },
     "metadata": {},
     "output_type": "display_data"
    }
   ],
   "source": [
    "ref_claim.save_to_disk(\"var/ref_claim_fever\")"
   ]
  },
  {
   "cell_type": "code",
   "execution_count": 46,
   "metadata": {},
   "outputs": [
    {
     "data": {
      "text/plain": [
       "DatasetDict({\n",
       "    train: Dataset({\n",
       "        features: ['id', 'label', 'claim', 'evidence_annotation_id', 'evidence_id', 'evidence_wiki_url', 'evidence_sentence_id', 'bool_label', 'wikipedia_title'],\n",
       "        num_rows: 263822\n",
       "    })\n",
       "    labelled_dev: Dataset({\n",
       "        features: ['id', 'label', 'claim', 'evidence_annotation_id', 'evidence_id', 'evidence_wiki_url', 'evidence_sentence_id', 'bool_label', 'wikipedia_title'],\n",
       "        num_rows: 28625\n",
       "    })\n",
       "    unlabelled_dev: Dataset({\n",
       "        features: ['id', 'label', 'claim', 'evidence_annotation_id', 'evidence_id', 'evidence_wiki_url', 'evidence_sentence_id'],\n",
       "        num_rows: 0\n",
       "    })\n",
       "    unlabelled_test: Dataset({\n",
       "        features: ['id', 'label', 'claim', 'evidence_annotation_id', 'evidence_id', 'evidence_wiki_url', 'evidence_sentence_id'],\n",
       "        num_rows: 0\n",
       "    })\n",
       "    paper_dev: Dataset({\n",
       "        features: ['id', 'label', 'claim', 'evidence_annotation_id', 'evidence_id', 'evidence_wiki_url', 'evidence_sentence_id', 'bool_label', 'wikipedia_title'],\n",
       "        num_rows: 14475\n",
       "    })\n",
       "    paper_test: Dataset({\n",
       "        features: ['id', 'label', 'claim', 'evidence_annotation_id', 'evidence_id', 'evidence_wiki_url', 'evidence_sentence_id', 'bool_label', 'wikipedia_title'],\n",
       "        num_rows: 14150\n",
       "    })\n",
       "})"
      ]
     },
     "execution_count": 46,
     "metadata": {},
     "output_type": "execute_result"
    }
   ],
   "source": [
    "ds_c"
   ]
  },
  {
   "cell_type": "code",
   "execution_count": 47,
   "metadata": {},
   "outputs": [
    {
     "name": "stdout",
     "output_type": "stream",
     "text": [
      "{'NOT ENOUGH INFO', 'REFUTES', 'SUPPORTS'}\n",
      "{'NOT ENOUGH INFO', 'REFUTES', 'SUPPORTS'}\n",
      "{''}\n",
      "{''}\n",
      "{'NOT ENOUGH INFO', 'REFUTES', 'SUPPORTS'}\n",
      "{'NOT ENOUGH INFO', 'REFUTES', 'SUPPORTS'}\n"
     ]
    }
   ],
   "source": [
    "for k,v in ds.items():\n",
    "    print(set(v[\"label\"]))"
   ]
  },
  {
   "cell_type": "code",
   "execution_count": 32,
   "metadata": {},
   "outputs": [
    {
     "data": {
      "application/vnd.jupyter.widget-view+json": {
       "model_id": "5e7131292a0743a19a5baa1fe5224cc4",
       "version_major": 2,
       "version_minor": 0
      },
      "text/plain": [
       "Filter:   0%|          | 0/311431 [00:00<?, ? examples/s]"
      ]
     },
     "metadata": {},
     "output_type": "display_data"
    },
    {
     "data": {
      "application/vnd.jupyter.widget-view+json": {
       "model_id": "44de62ab9cc843d09caed0cbbc278c5e",
       "version_major": 2,
       "version_minor": 0
      },
      "text/plain": [
       "Filter:   0%|          | 0/37566 [00:00<?, ? examples/s]"
      ]
     },
     "metadata": {},
     "output_type": "display_data"
    },
    {
     "data": {
      "application/vnd.jupyter.widget-view+json": {
       "model_id": "ecb95dae5b2e492491243963f5580787",
       "version_major": 2,
       "version_minor": 0
      },
      "text/plain": [
       "Filter:   0%|          | 0/19998 [00:00<?, ? examples/s]"
      ]
     },
     "metadata": {},
     "output_type": "display_data"
    },
    {
     "data": {
      "application/vnd.jupyter.widget-view+json": {
       "model_id": "f2431a0f62d742ff8f904dcd98d8b6c7",
       "version_major": 2,
       "version_minor": 0
      },
      "text/plain": [
       "Filter:   0%|          | 0/19998 [00:00<?, ? examples/s]"
      ]
     },
     "metadata": {},
     "output_type": "display_data"
    },
    {
     "data": {
      "application/vnd.jupyter.widget-view+json": {
       "model_id": "162701fec0b74794b59621a3e0cc4df9",
       "version_major": 2,
       "version_minor": 0
      },
      "text/plain": [
       "Filter:   0%|          | 0/18999 [00:00<?, ? examples/s]"
      ]
     },
     "metadata": {},
     "output_type": "display_data"
    },
    {
     "data": {
      "application/vnd.jupyter.widget-view+json": {
       "model_id": "33a4b15531b346b18eb8bb12027fc0ee",
       "version_major": 2,
       "version_minor": 0
      },
      "text/plain": [
       "Filter:   0%|          | 0/18567 [00:00<?, ? examples/s]"
      ]
     },
     "metadata": {},
     "output_type": "display_data"
    }
   ],
   "source": [
    "# ds_f = ds.filter(lambda x: \"Ukrainian Soviet Socialist Republic\" in x[\"claim\"] )\n",
    "ds_f = ds.filter(lambda x: x[\"label\"] in [\"SUPPORTS\", \"REFUTES\"] )"
   ]
  },
  {
   "cell_type": "code",
   "execution_count": 33,
   "metadata": {},
   "outputs": [
    {
     "data": {
      "text/plain": [
       "DatasetDict({\n",
       "    train: Dataset({\n",
       "        features: ['id', 'label', 'claim', 'evidence_annotation_id', 'evidence_id', 'evidence_wiki_url', 'evidence_sentence_id'],\n",
       "        num_rows: 263822\n",
       "    })\n",
       "    labelled_dev: Dataset({\n",
       "        features: ['id', 'label', 'claim', 'evidence_annotation_id', 'evidence_id', 'evidence_wiki_url', 'evidence_sentence_id'],\n",
       "        num_rows: 28625\n",
       "    })\n",
       "    unlabelled_dev: Dataset({\n",
       "        features: ['id', 'label', 'claim', 'evidence_annotation_id', 'evidence_id', 'evidence_wiki_url', 'evidence_sentence_id'],\n",
       "        num_rows: 0\n",
       "    })\n",
       "    unlabelled_test: Dataset({\n",
       "        features: ['id', 'label', 'claim', 'evidence_annotation_id', 'evidence_id', 'evidence_wiki_url', 'evidence_sentence_id'],\n",
       "        num_rows: 0\n",
       "    })\n",
       "    paper_dev: Dataset({\n",
       "        features: ['id', 'label', 'claim', 'evidence_annotation_id', 'evidence_id', 'evidence_wiki_url', 'evidence_sentence_id'],\n",
       "        num_rows: 14475\n",
       "    })\n",
       "    paper_test: Dataset({\n",
       "        features: ['id', 'label', 'claim', 'evidence_annotation_id', 'evidence_id', 'evidence_wiki_url', 'evidence_sentence_id'],\n",
       "        num_rows: 14150\n",
       "    })\n",
       "})"
      ]
     },
     "execution_count": 33,
     "metadata": {},
     "output_type": "execute_result"
    }
   ],
   "source": [
    "ds_f"
   ]
  },
  {
   "cell_type": "code",
   "execution_count": 30,
   "metadata": {},
   "outputs": [
    {
     "data": {
      "text/plain": [
       "{'id': 163803,\n",
       " 'label': 'SUPPORTS',\n",
       " 'claim': 'Ukrainian Soviet Socialist Republic was a founding participant of the UN.',\n",
       " 'evidence_annotation_id': 296950,\n",
       " 'evidence_id': 288668,\n",
       " 'evidence_wiki_url': 'Ukrainian_Soviet_Socialist_Republic',\n",
       " 'evidence_sentence_id': 7}"
      ]
     },
     "execution_count": 30,
     "metadata": {},
     "output_type": "execute_result"
    }
   ],
   "source": [
    "ds_f[\"labelled_dev\"][0]"
   ]
  },
  {
   "cell_type": "code",
   "execution_count": 25,
   "metadata": {},
   "outputs": [],
   "source": [
    "for row in ds[\"train\"]:\n",
    "    if \"Ukrainian Soviet Socialist Republic\" in row[\"claim\"]:\n",
    "        print(row)"
   ]
  },
  {
   "cell_type": "code",
   "execution_count": 10,
   "metadata": {},
   "outputs": [],
   "source": []
  },
  {
   "cell_type": "code",
   "execution_count": 31,
   "metadata": {},
   "outputs": [
    {
     "data": {
      "text/plain": [
       "6612"
      ]
     },
     "execution_count": 31,
     "metadata": {},
     "output_type": "execute_result"
    }
   ],
   "source": [
    "len(js[\"examples\"])"
   ]
  },
  {
   "cell_type": "code",
   "execution_count": 13,
   "metadata": {},
   "outputs": [
    {
     "data": {
      "text/plain": [
       "{'id': 163803,\n",
       " 'input': 'On June 2017, the following claim was made: Ukrainian Soviet Socialist Republic was a founding participant of the UN.\\nQ: Was this claim true or false?',\n",
       " 'target_scores': {'true': 1, 'false': 0}}"
      ]
     },
     "execution_count": 13,
     "metadata": {},
     "output_type": "execute_result"
    }
   ],
   "source": [
    "js[\"examples\"][0]"
   ]
  },
  {
   "cell_type": "code",
   "execution_count": 52,
   "metadata": {},
   "outputs": [
    {
     "data": {
      "application/vnd.jupyter.widget-view+json": {
       "model_id": "2b0c6b3bc40f44a590a90748e075bcd0",
       "version_major": 2,
       "version_minor": 0
      },
      "text/plain": [
       "Generating train split: 0 examples [00:00, ? examples/s]"
      ]
     },
     "metadata": {},
     "output_type": "display_data"
    },
    {
     "name": "stderr",
     "output_type": "stream",
     "text": [
      "Failed to load JSON from file '/Users/claudios/Projects/pdl/shared_task_dev.jsonl' with error <class 'pyarrow.lib.ArrowInvalid'>: JSON parse error: Column(/evidence/[]/[]/[]) changed from number to string in row 0\n"
     ]
    },
    {
     "ename": "DatasetGenerationError",
     "evalue": "An error occurred while generating the dataset",
     "output_type": "error",
     "traceback": [
      "\u001b[0;31m---------------------------------------------------------------------------\u001b[0m",
      "\u001b[0;31mValueError\u001b[0m                                Traceback (most recent call last)",
      "File \u001b[0;32m~/.pyenv/versions/3.12.4/envs/pdl/lib/python3.12/site-packages/datasets/packaged_modules/json/json.py:160\u001b[0m, in \u001b[0;36mJson._generate_tables\u001b[0;34m(self, files)\u001b[0m\n\u001b[1;32m    157\u001b[0m     \u001b[38;5;28;01mwith\u001b[39;00m \u001b[38;5;28mopen\u001b[39m(\n\u001b[1;32m    158\u001b[0m         file, encoding\u001b[38;5;241m=\u001b[39m\u001b[38;5;28mself\u001b[39m\u001b[38;5;241m.\u001b[39mconfig\u001b[38;5;241m.\u001b[39mencoding, errors\u001b[38;5;241m=\u001b[39m\u001b[38;5;28mself\u001b[39m\u001b[38;5;241m.\u001b[39mconfig\u001b[38;5;241m.\u001b[39mencoding_errors\n\u001b[1;32m    159\u001b[0m     ) \u001b[38;5;28;01mas\u001b[39;00m f:\n\u001b[0;32m--> 160\u001b[0m         df \u001b[38;5;241m=\u001b[39m \u001b[43mpandas_read_json\u001b[49m\u001b[43m(\u001b[49m\u001b[43mf\u001b[49m\u001b[43m)\u001b[49m\n\u001b[1;32m    161\u001b[0m \u001b[38;5;28;01mexcept\u001b[39;00m \u001b[38;5;167;01mValueError\u001b[39;00m:\n",
      "File \u001b[0;32m~/.pyenv/versions/3.12.4/envs/pdl/lib/python3.12/site-packages/datasets/packaged_modules/json/json.py:38\u001b[0m, in \u001b[0;36mpandas_read_json\u001b[0;34m(path_or_buf, **kwargs)\u001b[0m\n\u001b[1;32m     37\u001b[0m     kwargs[\u001b[38;5;124m\"\u001b[39m\u001b[38;5;124mdtype_backend\u001b[39m\u001b[38;5;124m\"\u001b[39m] \u001b[38;5;241m=\u001b[39m \u001b[38;5;124m\"\u001b[39m\u001b[38;5;124mpyarrow\u001b[39m\u001b[38;5;124m\"\u001b[39m\n\u001b[0;32m---> 38\u001b[0m \u001b[38;5;28;01mreturn\u001b[39;00m \u001b[43mpd\u001b[49m\u001b[38;5;241;43m.\u001b[39;49m\u001b[43mread_json\u001b[49m\u001b[43m(\u001b[49m\u001b[43mpath_or_buf\u001b[49m\u001b[43m,\u001b[49m\u001b[43m \u001b[49m\u001b[38;5;241;43m*\u001b[39;49m\u001b[38;5;241;43m*\u001b[39;49m\u001b[43mkwargs\u001b[49m\u001b[43m)\u001b[49m\n",
      "File \u001b[0;32m~/.pyenv/versions/3.12.4/envs/pdl/lib/python3.12/site-packages/pandas/io/json/_json.py:804\u001b[0m, in \u001b[0;36mread_json\u001b[0;34m(path_or_buf, orient, typ, dtype, convert_axes, convert_dates, keep_default_dates, precise_float, date_unit, encoding, encoding_errors, lines, chunksize, compression, nrows, storage_options, dtype_backend, engine)\u001b[0m\n\u001b[1;32m    803\u001b[0m \u001b[38;5;28;01melse\u001b[39;00m:\n\u001b[0;32m--> 804\u001b[0m     \u001b[38;5;28;01mreturn\u001b[39;00m \u001b[43mjson_reader\u001b[49m\u001b[38;5;241;43m.\u001b[39;49m\u001b[43mread\u001b[49m\u001b[43m(\u001b[49m\u001b[43m)\u001b[49m\n",
      "File \u001b[0;32m~/.pyenv/versions/3.12.4/envs/pdl/lib/python3.12/site-packages/pandas/io/json/_json.py:1014\u001b[0m, in \u001b[0;36mJsonReader.read\u001b[0;34m(self)\u001b[0m\n\u001b[1;32m   1013\u001b[0m \u001b[38;5;28;01melse\u001b[39;00m:\n\u001b[0;32m-> 1014\u001b[0m     obj \u001b[38;5;241m=\u001b[39m \u001b[38;5;28;43mself\u001b[39;49m\u001b[38;5;241;43m.\u001b[39;49m\u001b[43m_get_object_parser\u001b[49m\u001b[43m(\u001b[49m\u001b[38;5;28;43mself\u001b[39;49m\u001b[38;5;241;43m.\u001b[39;49m\u001b[43mdata\u001b[49m\u001b[43m)\u001b[49m\n\u001b[1;32m   1015\u001b[0m \u001b[38;5;28;01mif\u001b[39;00m \u001b[38;5;28mself\u001b[39m\u001b[38;5;241m.\u001b[39mdtype_backend \u001b[38;5;129;01mis\u001b[39;00m \u001b[38;5;129;01mnot\u001b[39;00m lib\u001b[38;5;241m.\u001b[39mno_default:\n",
      "File \u001b[0;32m~/.pyenv/versions/3.12.4/envs/pdl/lib/python3.12/site-packages/pandas/io/json/_json.py:1040\u001b[0m, in \u001b[0;36mJsonReader._get_object_parser\u001b[0;34m(self, json)\u001b[0m\n\u001b[1;32m   1039\u001b[0m \u001b[38;5;28;01mif\u001b[39;00m typ \u001b[38;5;241m==\u001b[39m \u001b[38;5;124m\"\u001b[39m\u001b[38;5;124mframe\u001b[39m\u001b[38;5;124m\"\u001b[39m:\n\u001b[0;32m-> 1040\u001b[0m     obj \u001b[38;5;241m=\u001b[39m \u001b[43mFrameParser\u001b[49m\u001b[43m(\u001b[49m\u001b[43mjson\u001b[49m\u001b[43m,\u001b[49m\u001b[43m \u001b[49m\u001b[38;5;241;43m*\u001b[39;49m\u001b[38;5;241;43m*\u001b[39;49m\u001b[43mkwargs\u001b[49m\u001b[43m)\u001b[49m\u001b[38;5;241;43m.\u001b[39;49m\u001b[43mparse\u001b[49m\u001b[43m(\u001b[49m\u001b[43m)\u001b[49m\n\u001b[1;32m   1042\u001b[0m \u001b[38;5;28;01mif\u001b[39;00m typ \u001b[38;5;241m==\u001b[39m \u001b[38;5;124m\"\u001b[39m\u001b[38;5;124mseries\u001b[39m\u001b[38;5;124m\"\u001b[39m \u001b[38;5;129;01mor\u001b[39;00m obj \u001b[38;5;129;01mis\u001b[39;00m \u001b[38;5;28;01mNone\u001b[39;00m:\n",
      "File \u001b[0;32m~/.pyenv/versions/3.12.4/envs/pdl/lib/python3.12/site-packages/pandas/io/json/_json.py:1173\u001b[0m, in \u001b[0;36mParser.parse\u001b[0;34m(self)\u001b[0m\n\u001b[1;32m   1172\u001b[0m \u001b[38;5;28;01mdef\u001b[39;00m \u001b[38;5;21mparse\u001b[39m(\u001b[38;5;28mself\u001b[39m):\n\u001b[0;32m-> 1173\u001b[0m     \u001b[38;5;28;43mself\u001b[39;49m\u001b[38;5;241;43m.\u001b[39;49m\u001b[43m_parse\u001b[49m\u001b[43m(\u001b[49m\u001b[43m)\u001b[49m\n\u001b[1;32m   1175\u001b[0m     \u001b[38;5;28;01mif\u001b[39;00m \u001b[38;5;28mself\u001b[39m\u001b[38;5;241m.\u001b[39mobj \u001b[38;5;129;01mis\u001b[39;00m \u001b[38;5;28;01mNone\u001b[39;00m:\n",
      "File \u001b[0;32m~/.pyenv/versions/3.12.4/envs/pdl/lib/python3.12/site-packages/pandas/io/json/_json.py:1366\u001b[0m, in \u001b[0;36mFrameParser._parse\u001b[0;34m(self)\u001b[0m\n\u001b[1;32m   1364\u001b[0m \u001b[38;5;28;01mif\u001b[39;00m orient \u001b[38;5;241m==\u001b[39m \u001b[38;5;124m\"\u001b[39m\u001b[38;5;124mcolumns\u001b[39m\u001b[38;5;124m\"\u001b[39m:\n\u001b[1;32m   1365\u001b[0m     \u001b[38;5;28mself\u001b[39m\u001b[38;5;241m.\u001b[39mobj \u001b[38;5;241m=\u001b[39m DataFrame(\n\u001b[0;32m-> 1366\u001b[0m         \u001b[43mujson_loads\u001b[49m\u001b[43m(\u001b[49m\u001b[43mjson\u001b[49m\u001b[43m,\u001b[49m\u001b[43m \u001b[49m\u001b[43mprecise_float\u001b[49m\u001b[38;5;241;43m=\u001b[39;49m\u001b[38;5;28;43mself\u001b[39;49m\u001b[38;5;241;43m.\u001b[39;49m\u001b[43mprecise_float\u001b[49m\u001b[43m)\u001b[49m, dtype\u001b[38;5;241m=\u001b[39m\u001b[38;5;28;01mNone\u001b[39;00m\n\u001b[1;32m   1367\u001b[0m     )\n\u001b[1;32m   1368\u001b[0m \u001b[38;5;28;01melif\u001b[39;00m orient \u001b[38;5;241m==\u001b[39m \u001b[38;5;124m\"\u001b[39m\u001b[38;5;124msplit\u001b[39m\u001b[38;5;124m\"\u001b[39m:\n",
      "\u001b[0;31mValueError\u001b[0m: Trailing data",
      "\nDuring handling of the above exception, another exception occurred:\n",
      "\u001b[0;31mArrowInvalid\u001b[0m                              Traceback (most recent call last)",
      "File \u001b[0;32m~/.pyenv/versions/3.12.4/envs/pdl/lib/python3.12/site-packages/datasets/builder.py:1997\u001b[0m, in \u001b[0;36mArrowBasedBuilder._prepare_split_single\u001b[0;34m(self, gen_kwargs, fpath, file_format, max_shard_size, job_id)\u001b[0m\n\u001b[1;32m   1996\u001b[0m _time \u001b[38;5;241m=\u001b[39m time\u001b[38;5;241m.\u001b[39mtime()\n\u001b[0;32m-> 1997\u001b[0m \u001b[43m\u001b[49m\u001b[38;5;28;43;01mfor\u001b[39;49;00m\u001b[43m \u001b[49m\u001b[43m_\u001b[49m\u001b[43m,\u001b[49m\u001b[43m \u001b[49m\u001b[43mtable\u001b[49m\u001b[43m \u001b[49m\u001b[38;5;129;43;01min\u001b[39;49;00m\u001b[43m \u001b[49m\u001b[43mgenerator\u001b[49m\u001b[43m:\u001b[49m\n\u001b[1;32m   1998\u001b[0m \u001b[43m    \u001b[49m\u001b[38;5;28;43;01mif\u001b[39;49;00m\u001b[43m \u001b[49m\u001b[43mmax_shard_size\u001b[49m\u001b[43m \u001b[49m\u001b[38;5;129;43;01mis\u001b[39;49;00m\u001b[43m \u001b[49m\u001b[38;5;129;43;01mnot\u001b[39;49;00m\u001b[43m \u001b[49m\u001b[38;5;28;43;01mNone\u001b[39;49;00m\u001b[43m \u001b[49m\u001b[38;5;129;43;01mand\u001b[39;49;00m\u001b[43m \u001b[49m\u001b[43mwriter\u001b[49m\u001b[38;5;241;43m.\u001b[39;49m\u001b[43m_num_bytes\u001b[49m\u001b[43m \u001b[49m\u001b[38;5;241;43m>\u001b[39;49m\u001b[43m \u001b[49m\u001b[43mmax_shard_size\u001b[49m\u001b[43m:\u001b[49m\n",
      "File \u001b[0;32m~/.pyenv/versions/3.12.4/envs/pdl/lib/python3.12/site-packages/datasets/packaged_modules/json/json.py:163\u001b[0m, in \u001b[0;36mJson._generate_tables\u001b[0;34m(self, files)\u001b[0m\n\u001b[1;32m    162\u001b[0m     logger\u001b[38;5;241m.\u001b[39merror(\u001b[38;5;124mf\u001b[39m\u001b[38;5;124m\"\u001b[39m\u001b[38;5;124mFailed to load JSON from file \u001b[39m\u001b[38;5;124m'\u001b[39m\u001b[38;5;132;01m{\u001b[39;00mfile\u001b[38;5;132;01m}\u001b[39;00m\u001b[38;5;124m'\u001b[39m\u001b[38;5;124m with error \u001b[39m\u001b[38;5;132;01m{\u001b[39;00m\u001b[38;5;28mtype\u001b[39m(e)\u001b[38;5;132;01m}\u001b[39;00m\u001b[38;5;124m: \u001b[39m\u001b[38;5;132;01m{\u001b[39;00me\u001b[38;5;132;01m}\u001b[39;00m\u001b[38;5;124m\"\u001b[39m)\n\u001b[0;32m--> 163\u001b[0m     \u001b[38;5;28;01mraise\u001b[39;00m e\n\u001b[1;32m    164\u001b[0m \u001b[38;5;28;01mif\u001b[39;00m df\u001b[38;5;241m.\u001b[39mcolumns\u001b[38;5;241m.\u001b[39mtolist() \u001b[38;5;241m==\u001b[39m [\u001b[38;5;241m0\u001b[39m]:\n",
      "File \u001b[0;32m~/.pyenv/versions/3.12.4/envs/pdl/lib/python3.12/site-packages/datasets/packaged_modules/json/json.py:137\u001b[0m, in \u001b[0;36mJson._generate_tables\u001b[0;34m(self, files)\u001b[0m\n\u001b[1;32m    136\u001b[0m \u001b[38;5;28;01mtry\u001b[39;00m:\n\u001b[0;32m--> 137\u001b[0m     pa_table \u001b[38;5;241m=\u001b[39m \u001b[43mpaj\u001b[49m\u001b[38;5;241;43m.\u001b[39;49m\u001b[43mread_json\u001b[49m\u001b[43m(\u001b[49m\n\u001b[1;32m    138\u001b[0m \u001b[43m        \u001b[49m\u001b[43mio\u001b[49m\u001b[38;5;241;43m.\u001b[39;49m\u001b[43mBytesIO\u001b[49m\u001b[43m(\u001b[49m\u001b[43mbatch\u001b[49m\u001b[43m)\u001b[49m\u001b[43m,\u001b[49m\u001b[43m \u001b[49m\u001b[43mread_options\u001b[49m\u001b[38;5;241;43m=\u001b[39;49m\u001b[43mpaj\u001b[49m\u001b[38;5;241;43m.\u001b[39;49m\u001b[43mReadOptions\u001b[49m\u001b[43m(\u001b[49m\u001b[43mblock_size\u001b[49m\u001b[38;5;241;43m=\u001b[39;49m\u001b[43mblock_size\u001b[49m\u001b[43m)\u001b[49m\n\u001b[1;32m    139\u001b[0m \u001b[43m    \u001b[49m\u001b[43m)\u001b[49m\n\u001b[1;32m    140\u001b[0m     \u001b[38;5;28;01mbreak\u001b[39;00m\n",
      "File \u001b[0;32m~/.pyenv/versions/3.12.4/envs/pdl/lib/python3.12/site-packages/pyarrow/_json.pyx:308\u001b[0m, in \u001b[0;36mpyarrow._json.read_json\u001b[0;34m()\u001b[0m\n",
      "File \u001b[0;32m~/.pyenv/versions/3.12.4/envs/pdl/lib/python3.12/site-packages/pyarrow/error.pxi:155\u001b[0m, in \u001b[0;36mpyarrow.lib.pyarrow_internal_check_status\u001b[0;34m()\u001b[0m\n",
      "File \u001b[0;32m~/.pyenv/versions/3.12.4/envs/pdl/lib/python3.12/site-packages/pyarrow/error.pxi:92\u001b[0m, in \u001b[0;36mpyarrow.lib.check_status\u001b[0;34m()\u001b[0m\n",
      "\u001b[0;31mArrowInvalid\u001b[0m: JSON parse error: Column(/evidence/[]/[]/[]) changed from number to string in row 0",
      "\nThe above exception was the direct cause of the following exception:\n",
      "\u001b[0;31mDatasetGenerationError\u001b[0m                    Traceback (most recent call last)",
      "Cell \u001b[0;32mIn[52], line 2\u001b[0m\n\u001b[1;32m      1\u001b[0m \u001b[38;5;28;01mfrom\u001b[39;00m \u001b[38;5;21;01mdatasets\u001b[39;00m \u001b[38;5;28;01mimport\u001b[39;00m Dataset\n\u001b[0;32m----> 2\u001b[0m fever_orig \u001b[38;5;241m=\u001b[39m \u001b[43mDataset\u001b[49m\u001b[38;5;241;43m.\u001b[39;49m\u001b[43mfrom_json\u001b[49m\u001b[43m(\u001b[49m\u001b[38;5;124;43m\"\u001b[39;49m\u001b[38;5;124;43mshared_task_dev.jsonl\u001b[39;49m\u001b[38;5;124;43m\"\u001b[39;49m\u001b[43m)\u001b[49m\n",
      "File \u001b[0;32m~/.pyenv/versions/3.12.4/envs/pdl/lib/python3.12/site-packages/datasets/arrow_dataset.py:1193\u001b[0m, in \u001b[0;36mDataset.from_json\u001b[0;34m(path_or_paths, split, features, cache_dir, keep_in_memory, field, num_proc, **kwargs)\u001b[0m\n\u001b[1;32m   1181\u001b[0m \u001b[38;5;66;03m# Dynamic import to avoid circular dependency\u001b[39;00m\n\u001b[1;32m   1182\u001b[0m \u001b[38;5;28;01mfrom\u001b[39;00m \u001b[38;5;21;01m.\u001b[39;00m\u001b[38;5;21;01mio\u001b[39;00m\u001b[38;5;21;01m.\u001b[39;00m\u001b[38;5;21;01mjson\u001b[39;00m \u001b[38;5;28;01mimport\u001b[39;00m JsonDatasetReader\n\u001b[1;32m   1184\u001b[0m \u001b[38;5;28;01mreturn\u001b[39;00m \u001b[43mJsonDatasetReader\u001b[49m\u001b[43m(\u001b[49m\n\u001b[1;32m   1185\u001b[0m \u001b[43m    \u001b[49m\u001b[43mpath_or_paths\u001b[49m\u001b[43m,\u001b[49m\n\u001b[1;32m   1186\u001b[0m \u001b[43m    \u001b[49m\u001b[43msplit\u001b[49m\u001b[38;5;241;43m=\u001b[39;49m\u001b[43msplit\u001b[49m\u001b[43m,\u001b[49m\n\u001b[1;32m   1187\u001b[0m \u001b[43m    \u001b[49m\u001b[43mfeatures\u001b[49m\u001b[38;5;241;43m=\u001b[39;49m\u001b[43mfeatures\u001b[49m\u001b[43m,\u001b[49m\n\u001b[1;32m   1188\u001b[0m \u001b[43m    \u001b[49m\u001b[43mcache_dir\u001b[49m\u001b[38;5;241;43m=\u001b[39;49m\u001b[43mcache_dir\u001b[49m\u001b[43m,\u001b[49m\n\u001b[1;32m   1189\u001b[0m \u001b[43m    \u001b[49m\u001b[43mkeep_in_memory\u001b[49m\u001b[38;5;241;43m=\u001b[39;49m\u001b[43mkeep_in_memory\u001b[49m\u001b[43m,\u001b[49m\n\u001b[1;32m   1190\u001b[0m \u001b[43m    \u001b[49m\u001b[43mfield\u001b[49m\u001b[38;5;241;43m=\u001b[39;49m\u001b[43mfield\u001b[49m\u001b[43m,\u001b[49m\n\u001b[1;32m   1191\u001b[0m \u001b[43m    \u001b[49m\u001b[43mnum_proc\u001b[49m\u001b[38;5;241;43m=\u001b[39;49m\u001b[43mnum_proc\u001b[49m\u001b[43m,\u001b[49m\n\u001b[1;32m   1192\u001b[0m \u001b[43m    \u001b[49m\u001b[38;5;241;43m*\u001b[39;49m\u001b[38;5;241;43m*\u001b[39;49m\u001b[43mkwargs\u001b[49m\u001b[43m,\u001b[49m\n\u001b[0;32m-> 1193\u001b[0m \u001b[43m\u001b[49m\u001b[43m)\u001b[49m\u001b[38;5;241;43m.\u001b[39;49m\u001b[43mread\u001b[49m\u001b[43m(\u001b[49m\u001b[43m)\u001b[49m\n",
      "File \u001b[0;32m~/.pyenv/versions/3.12.4/envs/pdl/lib/python3.12/site-packages/datasets/io/json.py:59\u001b[0m, in \u001b[0;36mJsonDatasetReader.read\u001b[0;34m(self)\u001b[0m\n\u001b[1;32m     56\u001b[0m     verification_mode \u001b[38;5;241m=\u001b[39m \u001b[38;5;28;01mNone\u001b[39;00m\n\u001b[1;32m     57\u001b[0m     base_path \u001b[38;5;241m=\u001b[39m \u001b[38;5;28;01mNone\u001b[39;00m\n\u001b[0;32m---> 59\u001b[0m     \u001b[38;5;28;43mself\u001b[39;49m\u001b[38;5;241;43m.\u001b[39;49m\u001b[43mbuilder\u001b[49m\u001b[38;5;241;43m.\u001b[39;49m\u001b[43mdownload_and_prepare\u001b[49m\u001b[43m(\u001b[49m\n\u001b[1;32m     60\u001b[0m \u001b[43m        \u001b[49m\u001b[43mdownload_config\u001b[49m\u001b[38;5;241;43m=\u001b[39;49m\u001b[43mdownload_config\u001b[49m\u001b[43m,\u001b[49m\n\u001b[1;32m     61\u001b[0m \u001b[43m        \u001b[49m\u001b[43mdownload_mode\u001b[49m\u001b[38;5;241;43m=\u001b[39;49m\u001b[43mdownload_mode\u001b[49m\u001b[43m,\u001b[49m\n\u001b[1;32m     62\u001b[0m \u001b[43m        \u001b[49m\u001b[43mverification_mode\u001b[49m\u001b[38;5;241;43m=\u001b[39;49m\u001b[43mverification_mode\u001b[49m\u001b[43m,\u001b[49m\n\u001b[1;32m     63\u001b[0m \u001b[43m        \u001b[49m\u001b[38;5;66;43;03m# try_from_hf_gcs=try_from_hf_gcs,\u001b[39;49;00m\n\u001b[1;32m     64\u001b[0m \u001b[43m        \u001b[49m\u001b[43mbase_path\u001b[49m\u001b[38;5;241;43m=\u001b[39;49m\u001b[43mbase_path\u001b[49m\u001b[43m,\u001b[49m\n\u001b[1;32m     65\u001b[0m \u001b[43m        \u001b[49m\u001b[43mnum_proc\u001b[49m\u001b[38;5;241;43m=\u001b[39;49m\u001b[38;5;28;43mself\u001b[39;49m\u001b[38;5;241;43m.\u001b[39;49m\u001b[43mnum_proc\u001b[49m\u001b[43m,\u001b[49m\n\u001b[1;32m     66\u001b[0m \u001b[43m    \u001b[49m\u001b[43m)\u001b[49m\n\u001b[1;32m     67\u001b[0m     dataset \u001b[38;5;241m=\u001b[39m \u001b[38;5;28mself\u001b[39m\u001b[38;5;241m.\u001b[39mbuilder\u001b[38;5;241m.\u001b[39mas_dataset(\n\u001b[1;32m     68\u001b[0m         split\u001b[38;5;241m=\u001b[39m\u001b[38;5;28mself\u001b[39m\u001b[38;5;241m.\u001b[39msplit, verification_mode\u001b[38;5;241m=\u001b[39mverification_mode, in_memory\u001b[38;5;241m=\u001b[39m\u001b[38;5;28mself\u001b[39m\u001b[38;5;241m.\u001b[39mkeep_in_memory\n\u001b[1;32m     69\u001b[0m     )\n\u001b[1;32m     70\u001b[0m \u001b[38;5;28;01mreturn\u001b[39;00m dataset\n",
      "File \u001b[0;32m~/.pyenv/versions/3.12.4/envs/pdl/lib/python3.12/site-packages/datasets/builder.py:1029\u001b[0m, in \u001b[0;36mDatasetBuilder.download_and_prepare\u001b[0;34m(self, output_dir, download_config, download_mode, verification_mode, ignore_verifications, try_from_hf_gcs, dl_manager, base_path, use_auth_token, file_format, max_shard_size, num_proc, storage_options, **download_and_prepare_kwargs)\u001b[0m\n\u001b[1;32m   1027\u001b[0m     \u001b[38;5;28;01mif\u001b[39;00m num_proc \u001b[38;5;129;01mis\u001b[39;00m \u001b[38;5;129;01mnot\u001b[39;00m \u001b[38;5;28;01mNone\u001b[39;00m:\n\u001b[1;32m   1028\u001b[0m         prepare_split_kwargs[\u001b[38;5;124m\"\u001b[39m\u001b[38;5;124mnum_proc\u001b[39m\u001b[38;5;124m\"\u001b[39m] \u001b[38;5;241m=\u001b[39m num_proc\n\u001b[0;32m-> 1029\u001b[0m     \u001b[38;5;28;43mself\u001b[39;49m\u001b[38;5;241;43m.\u001b[39;49m\u001b[43m_download_and_prepare\u001b[49m\u001b[43m(\u001b[49m\n\u001b[1;32m   1030\u001b[0m \u001b[43m        \u001b[49m\u001b[43mdl_manager\u001b[49m\u001b[38;5;241;43m=\u001b[39;49m\u001b[43mdl_manager\u001b[49m\u001b[43m,\u001b[49m\n\u001b[1;32m   1031\u001b[0m \u001b[43m        \u001b[49m\u001b[43mverification_mode\u001b[49m\u001b[38;5;241;43m=\u001b[39;49m\u001b[43mverification_mode\u001b[49m\u001b[43m,\u001b[49m\n\u001b[1;32m   1032\u001b[0m \u001b[43m        \u001b[49m\u001b[38;5;241;43m*\u001b[39;49m\u001b[38;5;241;43m*\u001b[39;49m\u001b[43mprepare_split_kwargs\u001b[49m\u001b[43m,\u001b[49m\n\u001b[1;32m   1033\u001b[0m \u001b[43m        \u001b[49m\u001b[38;5;241;43m*\u001b[39;49m\u001b[38;5;241;43m*\u001b[39;49m\u001b[43mdownload_and_prepare_kwargs\u001b[49m\u001b[43m,\u001b[49m\n\u001b[1;32m   1034\u001b[0m \u001b[43m    \u001b[49m\u001b[43m)\u001b[49m\n\u001b[1;32m   1035\u001b[0m \u001b[38;5;66;03m# Sync info\u001b[39;00m\n\u001b[1;32m   1036\u001b[0m \u001b[38;5;28mself\u001b[39m\u001b[38;5;241m.\u001b[39minfo\u001b[38;5;241m.\u001b[39mdataset_size \u001b[38;5;241m=\u001b[39m \u001b[38;5;28msum\u001b[39m(split\u001b[38;5;241m.\u001b[39mnum_bytes \u001b[38;5;28;01mfor\u001b[39;00m split \u001b[38;5;129;01min\u001b[39;00m \u001b[38;5;28mself\u001b[39m\u001b[38;5;241m.\u001b[39minfo\u001b[38;5;241m.\u001b[39msplits\u001b[38;5;241m.\u001b[39mvalues())\n",
      "File \u001b[0;32m~/.pyenv/versions/3.12.4/envs/pdl/lib/python3.12/site-packages/datasets/builder.py:1124\u001b[0m, in \u001b[0;36mDatasetBuilder._download_and_prepare\u001b[0;34m(self, dl_manager, verification_mode, **prepare_split_kwargs)\u001b[0m\n\u001b[1;32m   1120\u001b[0m split_dict\u001b[38;5;241m.\u001b[39madd(split_generator\u001b[38;5;241m.\u001b[39msplit_info)\n\u001b[1;32m   1122\u001b[0m \u001b[38;5;28;01mtry\u001b[39;00m:\n\u001b[1;32m   1123\u001b[0m     \u001b[38;5;66;03m# Prepare split will record examples associated to the split\u001b[39;00m\n\u001b[0;32m-> 1124\u001b[0m     \u001b[38;5;28;43mself\u001b[39;49m\u001b[38;5;241;43m.\u001b[39;49m\u001b[43m_prepare_split\u001b[49m\u001b[43m(\u001b[49m\u001b[43msplit_generator\u001b[49m\u001b[43m,\u001b[49m\u001b[43m \u001b[49m\u001b[38;5;241;43m*\u001b[39;49m\u001b[38;5;241;43m*\u001b[39;49m\u001b[43mprepare_split_kwargs\u001b[49m\u001b[43m)\u001b[49m\n\u001b[1;32m   1125\u001b[0m \u001b[38;5;28;01mexcept\u001b[39;00m \u001b[38;5;167;01mOSError\u001b[39;00m \u001b[38;5;28;01mas\u001b[39;00m e:\n\u001b[1;32m   1126\u001b[0m     \u001b[38;5;28;01mraise\u001b[39;00m \u001b[38;5;167;01mOSError\u001b[39;00m(\n\u001b[1;32m   1127\u001b[0m         \u001b[38;5;124m\"\u001b[39m\u001b[38;5;124mCannot find data file. \u001b[39m\u001b[38;5;124m\"\u001b[39m\n\u001b[1;32m   1128\u001b[0m         \u001b[38;5;241m+\u001b[39m (\u001b[38;5;28mself\u001b[39m\u001b[38;5;241m.\u001b[39mmanual_download_instructions \u001b[38;5;129;01mor\u001b[39;00m \u001b[38;5;124m\"\u001b[39m\u001b[38;5;124m\"\u001b[39m)\n\u001b[1;32m   1129\u001b[0m         \u001b[38;5;241m+\u001b[39m \u001b[38;5;124m\"\u001b[39m\u001b[38;5;130;01m\\n\u001b[39;00m\u001b[38;5;124mOriginal error:\u001b[39m\u001b[38;5;130;01m\\n\u001b[39;00m\u001b[38;5;124m\"\u001b[39m\n\u001b[1;32m   1130\u001b[0m         \u001b[38;5;241m+\u001b[39m \u001b[38;5;28mstr\u001b[39m(e)\n\u001b[1;32m   1131\u001b[0m     ) \u001b[38;5;28;01mfrom\u001b[39;00m \u001b[38;5;28;01mNone\u001b[39;00m\n",
      "File \u001b[0;32m~/.pyenv/versions/3.12.4/envs/pdl/lib/python3.12/site-packages/datasets/builder.py:1884\u001b[0m, in \u001b[0;36mArrowBasedBuilder._prepare_split\u001b[0;34m(self, split_generator, file_format, num_proc, max_shard_size)\u001b[0m\n\u001b[1;32m   1882\u001b[0m job_id \u001b[38;5;241m=\u001b[39m \u001b[38;5;241m0\u001b[39m\n\u001b[1;32m   1883\u001b[0m \u001b[38;5;28;01mwith\u001b[39;00m pbar:\n\u001b[0;32m-> 1884\u001b[0m \u001b[43m    \u001b[49m\u001b[38;5;28;43;01mfor\u001b[39;49;00m\u001b[43m \u001b[49m\u001b[43mjob_id\u001b[49m\u001b[43m,\u001b[49m\u001b[43m \u001b[49m\u001b[43mdone\u001b[49m\u001b[43m,\u001b[49m\u001b[43m \u001b[49m\u001b[43mcontent\u001b[49m\u001b[43m \u001b[49m\u001b[38;5;129;43;01min\u001b[39;49;00m\u001b[43m \u001b[49m\u001b[38;5;28;43mself\u001b[39;49m\u001b[38;5;241;43m.\u001b[39;49m\u001b[43m_prepare_split_single\u001b[49m\u001b[43m(\u001b[49m\n\u001b[1;32m   1885\u001b[0m \u001b[43m        \u001b[49m\u001b[43mgen_kwargs\u001b[49m\u001b[38;5;241;43m=\u001b[39;49m\u001b[43mgen_kwargs\u001b[49m\u001b[43m,\u001b[49m\u001b[43m \u001b[49m\u001b[43mjob_id\u001b[49m\u001b[38;5;241;43m=\u001b[39;49m\u001b[43mjob_id\u001b[49m\u001b[43m,\u001b[49m\u001b[43m \u001b[49m\u001b[38;5;241;43m*\u001b[39;49m\u001b[38;5;241;43m*\u001b[39;49m\u001b[43m_prepare_split_args\u001b[49m\n\u001b[1;32m   1886\u001b[0m \u001b[43m    \u001b[49m\u001b[43m)\u001b[49m\u001b[43m:\u001b[49m\n\u001b[1;32m   1887\u001b[0m \u001b[43m        \u001b[49m\u001b[38;5;28;43;01mif\u001b[39;49;00m\u001b[43m \u001b[49m\u001b[43mdone\u001b[49m\u001b[43m:\u001b[49m\n\u001b[1;32m   1888\u001b[0m \u001b[43m            \u001b[49m\u001b[43mresult\u001b[49m\u001b[43m \u001b[49m\u001b[38;5;241;43m=\u001b[39;49m\u001b[43m \u001b[49m\u001b[43mcontent\u001b[49m\n",
      "File \u001b[0;32m~/.pyenv/versions/3.12.4/envs/pdl/lib/python3.12/site-packages/datasets/builder.py:2040\u001b[0m, in \u001b[0;36mArrowBasedBuilder._prepare_split_single\u001b[0;34m(self, gen_kwargs, fpath, file_format, max_shard_size, job_id)\u001b[0m\n\u001b[1;32m   2038\u001b[0m     \u001b[38;5;28;01mif\u001b[39;00m \u001b[38;5;28misinstance\u001b[39m(e, DatasetGenerationError):\n\u001b[1;32m   2039\u001b[0m         \u001b[38;5;28;01mraise\u001b[39;00m\n\u001b[0;32m-> 2040\u001b[0m     \u001b[38;5;28;01mraise\u001b[39;00m DatasetGenerationError(\u001b[38;5;124m\"\u001b[39m\u001b[38;5;124mAn error occurred while generating the dataset\u001b[39m\u001b[38;5;124m\"\u001b[39m) \u001b[38;5;28;01mfrom\u001b[39;00m \u001b[38;5;21;01me\u001b[39;00m\n\u001b[1;32m   2042\u001b[0m \u001b[38;5;28;01myield\u001b[39;00m job_id, \u001b[38;5;28;01mTrue\u001b[39;00m, (total_num_examples, total_num_bytes, writer\u001b[38;5;241m.\u001b[39m_features, num_shards, shard_lengths)\n",
      "\u001b[0;31mDatasetGenerationError\u001b[0m: An error occurred while generating the dataset"
     ]
    }
   ],
   "source": [
    "from datasets import Dataset\n",
    "fever_orig = Dataset.from_json(\"shared_task_dev.jsonl\")"
   ]
  },
  {
   "cell_type": "code",
   "execution_count": 101,
   "metadata": {},
   "outputs": [],
   "source": [
    "# df = pd.read_json(\"/Users/claudios/Downloads/wiki-pages/wiki-pages/wiki-003.jsonl\", lines=True)\n",
    "df = pd.read_json(\"shared_task_dev.jsonl\", lines=True, encoding=\"utf-8\")"
   ]
  },
  {
   "cell_type": "code",
   "execution_count": 125,
   "metadata": {},
   "outputs": [],
   "source": [
    "import unicodedata\n",
    "\n",
    "def remove_accents(x):\n",
    "    return (unicodedata.normalize('NFD', x))\n",
    "                       #.encode('ascii', 'ignore')\n",
    "                       #.decode('utf-8'))\n",
    "wiki_pages_df.index = wiki_pages_df.index.map(remove_accents)"
   ]
  },
  {
   "cell_type": "code",
   "execution_count": 102,
   "metadata": {},
   "outputs": [],
   "source": [
    "def evidence_mapper(evidence):\n",
    "    # print(len(evidence))\n",
    "    evidences = set([ (x[2], x[3]) for x in evidence[0] if x[2] is not None])\n",
    "    return list(evidences)\n",
    "df[\"unique_evidence\"] = df[\"evidence\"].apply(evidence_mapper)"
   ]
  },
  {
   "cell_type": "code",
   "execution_count": 126,
   "metadata": {},
   "outputs": [],
   "source": [
    "def evidence_mapper_sentence(evidences):\n",
    "    lines = []\n",
    "    for title,line in evidences:\n",
    "        if title is None or line is None:\n",
    "            continue\n",
    "        title = remove_accents(title)\n",
    "\n",
    "        if title not in wiki_pages_df.index:\n",
    "            print(title)\n",
    "            continue\n",
    "        \n",
    "        sentence = wiki_pages_df.loc[title]\n",
    "        # if len(sentence) > 1:\n",
    "            # print(\"wtf\", sentence)\n",
    "        if sentence[\"lines_split\"] is not None and len(sentence[\"lines_split\"]) > line:\n",
    "            sentence = sentence[\"lines_split\"][line]\n",
    "            lines.append((title, line, sentence))\n",
    "        else:\n",
    "            print(sentence)\n",
    "    return list(lines)\n",
    "df[\"evidence_sentences\"] = df[\"unique_evidence\"].apply(evidence_mapper_sentence)"
   ]
  },
  {
   "cell_type": "code",
   "execution_count": 147,
   "metadata": {},
   "outputs": [],
   "source": [
    "bigbench = pd.DataFrame.from_records(js[\"examples\"])"
   ]
  },
  {
   "cell_type": "code",
   "execution_count": 151,
   "metadata": {},
   "outputs": [
    {
     "data": {
      "text/plain": [
       "True"
      ]
     },
     "execution_count": 151,
     "metadata": {},
     "output_type": "execute_result"
    }
   ],
   "source": [
    "bigbench.input.str.contains(\"Ukraine\").any()"
   ]
  },
  {
   "cell_type": "code",
   "execution_count": 168,
   "metadata": {},
   "outputs": [
    {
     "data": {
      "text/html": [
       "<div>\n",
       "<style scoped>\n",
       "    .dataframe tbody tr th:only-of-type {\n",
       "        vertical-align: middle;\n",
       "    }\n",
       "\n",
       "    .dataframe tbody tr th {\n",
       "        vertical-align: top;\n",
       "    }\n",
       "\n",
       "    .dataframe thead th {\n",
       "        text-align: right;\n",
       "    }\n",
       "</style>\n",
       "<table border=\"1\" class=\"dataframe\">\n",
       "  <thead>\n",
       "    <tr style=\"text-align: right;\">\n",
       "      <th></th>\n",
       "      <th>id</th>\n",
       "      <th>input</th>\n",
       "      <th>target_scores</th>\n",
       "    </tr>\n",
       "  </thead>\n",
       "  <tbody>\n",
       "  </tbody>\n",
       "</table>\n",
       "</div>"
      ],
      "text/plain": [
       "Empty DataFrame\n",
       "Columns: [id, input, target_scores]\n",
       "Index: []"
      ]
     },
     "execution_count": 168,
     "metadata": {},
     "output_type": "execute_result"
    }
   ],
   "source": [
    "bigbench[bigbench.input.str.contains(\"There is a capital called Mogadishu\")]"
   ]
  },
  {
   "cell_type": "code",
   "execution_count": 152,
   "metadata": {},
   "outputs": [],
   "source": [
    "df[\"claim_in_bigbench\"] = df[\"claim\"].apply(lambda x: bigbench.input.str.contains(x).any())#any(x in y[\"input\"] for y in js[\"examples\"]))"
   ]
  },
  {
   "cell_type": "code",
   "execution_count": 169,
   "metadata": {},
   "outputs": [],
   "source": [
    "df[\"evidence_sentence_count\"] = df[\"evidence_sentences\"].map(lambda x: len(x))"
   ]
  },
  {
   "cell_type": "code",
   "execution_count": 233,
   "metadata": {},
   "outputs": [
    {
     "data": {
      "text/html": [
       "<div>\n",
       "<style scoped>\n",
       "    .dataframe tbody tr th:only-of-type {\n",
       "        vertical-align: middle;\n",
       "    }\n",
       "\n",
       "    .dataframe tbody tr th {\n",
       "        vertical-align: top;\n",
       "    }\n",
       "\n",
       "    .dataframe thead th {\n",
       "        text-align: right;\n",
       "    }\n",
       "</style>\n",
       "<table border=\"1\" class=\"dataframe\">\n",
       "  <thead>\n",
       "    <tr style=\"text-align: right;\">\n",
       "      <th></th>\n",
       "      <th>verifiable</th>\n",
       "      <th>label</th>\n",
       "      <th>claim</th>\n",
       "      <th>evidence</th>\n",
       "      <th>unique_evidence</th>\n",
       "      <th>evidence_sentences</th>\n",
       "      <th>claim_in_bigbench</th>\n",
       "      <th>evidence_sentence_count</th>\n",
       "    </tr>\n",
       "    <tr>\n",
       "      <th>id</th>\n",
       "      <th></th>\n",
       "      <th></th>\n",
       "      <th></th>\n",
       "      <th></th>\n",
       "      <th></th>\n",
       "      <th></th>\n",
       "      <th></th>\n",
       "      <th></th>\n",
       "    </tr>\n",
       "  </thead>\n",
       "  <tbody>\n",
       "    <tr>\n",
       "      <th>137334</th>\n",
       "      <td>VERIFIABLE</td>\n",
       "      <td>SUPPORTS</td>\n",
       "      <td>Fox 2000 Pictures released the film Soul Food.</td>\n",
       "      <td>[[[289914, 283015, Soul_Food_-LRB-film-RRB-, 0...</td>\n",
       "      <td>[(Soul_Food_-LRB-film-RRB-, 0)]</td>\n",
       "      <td>[(Soul_Food_-LRB-film-RRB-, 0, Soul Food is a ...</td>\n",
       "      <td>False</td>\n",
       "      <td>1</td>\n",
       "    </tr>\n",
       "    <tr>\n",
       "      <th>111897</th>\n",
       "      <td>VERIFIABLE</td>\n",
       "      <td>REFUTES</td>\n",
       "      <td>Telemundo is a English-language television net...</td>\n",
       "      <td>[[[131371, 146144, Telemundo, 0]], [[131371, 1...</td>\n",
       "      <td>[(Telemundo, 0)]</td>\n",
       "      <td>[(Telemundo, 0, Telemundo -LRB- -LSB- teleˈmun...</td>\n",
       "      <td>False</td>\n",
       "      <td>1</td>\n",
       "    </tr>\n",
       "    <tr>\n",
       "      <th>89891</th>\n",
       "      <td>VERIFIABLE</td>\n",
       "      <td>REFUTES</td>\n",
       "      <td>Damon Albarn's debut album was released in 2011.</td>\n",
       "      <td>[[[107201, 120581, Damon_Albarn, 17]]]</td>\n",
       "      <td>[(Damon_Albarn, 17)]</td>\n",
       "      <td>[(Damon_Albarn, 17, He has also ventured into ...</td>\n",
       "      <td>False</td>\n",
       "      <td>1</td>\n",
       "    </tr>\n",
       "    <tr>\n",
       "      <th>181634</th>\n",
       "      <td>VERIFIABLE</td>\n",
       "      <td>SUPPORTS</td>\n",
       "      <td>There is a capital called Mogadishu.</td>\n",
       "      <td>[[[210946, 218608, Mogadishu, 0]]]</td>\n",
       "      <td>[(Mogadishu, 0)]</td>\n",
       "      <td>[(Mogadishu, 0, Mogadishu -LRB- -LSB- ˌmɔːɡəˈd...</td>\n",
       "      <td>False</td>\n",
       "      <td>1</td>\n",
       "    </tr>\n",
       "    <tr>\n",
       "      <th>219028</th>\n",
       "      <td>VERIFIABLE</td>\n",
       "      <td>REFUTES</td>\n",
       "      <td>Savages was exclusively a German film.</td>\n",
       "      <td>[[[260471, 258880, Savages_-LRB-2012_film-RRB-...</td>\n",
       "      <td>[(Savages_-LRB-2012_film-RRB-, 3)]</td>\n",
       "      <td>[(Savages_-LRB-2012_film-RRB-, 3, Savages is a...</td>\n",
       "      <td>False</td>\n",
       "      <td>1</td>\n",
       "    </tr>\n",
       "    <tr>\n",
       "      <th>...</th>\n",
       "      <td>...</td>\n",
       "      <td>...</td>\n",
       "      <td>...</td>\n",
       "      <td>...</td>\n",
       "      <td>...</td>\n",
       "      <td>...</td>\n",
       "      <td>...</td>\n",
       "      <td>...</td>\n",
       "    </tr>\n",
       "    <tr>\n",
       "      <th>27657</th>\n",
       "      <td>VERIFIABLE</td>\n",
       "      <td>SUPPORTS</td>\n",
       "      <td>Elizabeth Olsen is a person.</td>\n",
       "      <td>[[[43790, 52421, Elizabeth_Olsen, 0]], [[43790...</td>\n",
       "      <td>[(Elizabeth_Olsen, 0)]</td>\n",
       "      <td>[(Elizabeth_Olsen, 0, Elizabeth Chase `` Lizzi...</td>\n",
       "      <td>False</td>\n",
       "      <td>1</td>\n",
       "    </tr>\n",
       "    <tr>\n",
       "      <th>91751</th>\n",
       "      <td>VERIFIABLE</td>\n",
       "      <td>SUPPORTS</td>\n",
       "      <td>Meghan Markle is an empath.</td>\n",
       "      <td>[[[109126, 122822, Meghan_Markle, 5]]]</td>\n",
       "      <td>[(Meghan_Markle, 5)]</td>\n",
       "      <td>[(Meghan_Markle, 5, In 2016 , Markle was appoi...</td>\n",
       "      <td>False</td>\n",
       "      <td>1</td>\n",
       "    </tr>\n",
       "    <tr>\n",
       "      <th>108208</th>\n",
       "      <td>VERIFIABLE</td>\n",
       "      <td>SUPPORTS</td>\n",
       "      <td>The Times is a publication.</td>\n",
       "      <td>[[[127022, 141521, The_Times, 0]], [[127022, 1...</td>\n",
       "      <td>[(The_Times, 0)]</td>\n",
       "      <td>[(The_Times, 0, The Times is a British daily -...</td>\n",
       "      <td>False</td>\n",
       "      <td>1</td>\n",
       "    </tr>\n",
       "    <tr>\n",
       "      <th>85011</th>\n",
       "      <td>VERIFIABLE</td>\n",
       "      <td>SUPPORTS</td>\n",
       "      <td>Mandy Moore had a career.</td>\n",
       "      <td>[[[102120, 115382, Mandy_Moore, 0]], [[102120,...</td>\n",
       "      <td>[(Mandy_Moore, 0)]</td>\n",
       "      <td>[(Mandy_Moore, 0, Amanda Leigh Moore -LRB- bor...</td>\n",
       "      <td>False</td>\n",
       "      <td>1</td>\n",
       "    </tr>\n",
       "    <tr>\n",
       "      <th>105584</th>\n",
       "      <td>VERIFIABLE</td>\n",
       "      <td>SUPPORTS</td>\n",
       "      <td>Eric Bana is a person.</td>\n",
       "      <td>[[[123912, 138259, Eric_Bana, 0]], [[123912, 1...</td>\n",
       "      <td>[(Eric_Bana, 0)]</td>\n",
       "      <td>[(Eric_Bana, 0, Eric Banadinović -LRB- born 9 ...</td>\n",
       "      <td>False</td>\n",
       "      <td>1</td>\n",
       "    </tr>\n",
       "  </tbody>\n",
       "</table>\n",
       "<p>6720 rows × 8 columns</p>\n",
       "</div>"
      ],
      "text/plain": [
       "        verifiable     label  \\\n",
       "id                             \n",
       "137334  VERIFIABLE  SUPPORTS   \n",
       "111897  VERIFIABLE   REFUTES   \n",
       "89891   VERIFIABLE   REFUTES   \n",
       "181634  VERIFIABLE  SUPPORTS   \n",
       "219028  VERIFIABLE   REFUTES   \n",
       "...            ...       ...   \n",
       "27657   VERIFIABLE  SUPPORTS   \n",
       "91751   VERIFIABLE  SUPPORTS   \n",
       "108208  VERIFIABLE  SUPPORTS   \n",
       "85011   VERIFIABLE  SUPPORTS   \n",
       "105584  VERIFIABLE  SUPPORTS   \n",
       "\n",
       "                                                    claim  \\\n",
       "id                                                          \n",
       "137334     Fox 2000 Pictures released the film Soul Food.   \n",
       "111897  Telemundo is a English-language television net...   \n",
       "89891    Damon Albarn's debut album was released in 2011.   \n",
       "181634               There is a capital called Mogadishu.   \n",
       "219028             Savages was exclusively a German film.   \n",
       "...                                                   ...   \n",
       "27657                        Elizabeth Olsen is a person.   \n",
       "91751                         Meghan Markle is an empath.   \n",
       "108208                        The Times is a publication.   \n",
       "85011                           Mandy Moore had a career.   \n",
       "105584                             Eric Bana is a person.   \n",
       "\n",
       "                                                 evidence  \\\n",
       "id                                                          \n",
       "137334  [[[289914, 283015, Soul_Food_-LRB-film-RRB-, 0...   \n",
       "111897  [[[131371, 146144, Telemundo, 0]], [[131371, 1...   \n",
       "89891              [[[107201, 120581, Damon_Albarn, 17]]]   \n",
       "181634                 [[[210946, 218608, Mogadishu, 0]]]   \n",
       "219028  [[[260471, 258880, Savages_-LRB-2012_film-RRB-...   \n",
       "...                                                   ...   \n",
       "27657   [[[43790, 52421, Elizabeth_Olsen, 0]], [[43790...   \n",
       "91751              [[[109126, 122822, Meghan_Markle, 5]]]   \n",
       "108208  [[[127022, 141521, The_Times, 0]], [[127022, 1...   \n",
       "85011   [[[102120, 115382, Mandy_Moore, 0]], [[102120,...   \n",
       "105584  [[[123912, 138259, Eric_Bana, 0]], [[123912, 1...   \n",
       "\n",
       "                           unique_evidence  \\\n",
       "id                                           \n",
       "137334     [(Soul_Food_-LRB-film-RRB-, 0)]   \n",
       "111897                    [(Telemundo, 0)]   \n",
       "89891                 [(Damon_Albarn, 17)]   \n",
       "181634                    [(Mogadishu, 0)]   \n",
       "219028  [(Savages_-LRB-2012_film-RRB-, 3)]   \n",
       "...                                    ...   \n",
       "27657               [(Elizabeth_Olsen, 0)]   \n",
       "91751                 [(Meghan_Markle, 5)]   \n",
       "108208                    [(The_Times, 0)]   \n",
       "85011                   [(Mandy_Moore, 0)]   \n",
       "105584                    [(Eric_Bana, 0)]   \n",
       "\n",
       "                                       evidence_sentences  claim_in_bigbench  \\\n",
       "id                                                                             \n",
       "137334  [(Soul_Food_-LRB-film-RRB-, 0, Soul Food is a ...              False   \n",
       "111897  [(Telemundo, 0, Telemundo -LRB- -LSB- teleˈmun...              False   \n",
       "89891   [(Damon_Albarn, 17, He has also ventured into ...              False   \n",
       "181634  [(Mogadishu, 0, Mogadishu -LRB- -LSB- ˌmɔːɡəˈd...              False   \n",
       "219028  [(Savages_-LRB-2012_film-RRB-, 3, Savages is a...              False   \n",
       "...                                                   ...                ...   \n",
       "27657   [(Elizabeth_Olsen, 0, Elizabeth Chase `` Lizzi...              False   \n",
       "91751   [(Meghan_Markle, 5, In 2016 , Markle was appoi...              False   \n",
       "108208  [(The_Times, 0, The Times is a British daily -...              False   \n",
       "85011   [(Mandy_Moore, 0, Amanda Leigh Moore -LRB- bor...              False   \n",
       "105584  [(Eric_Bana, 0, Eric Banadinović -LRB- born 9 ...              False   \n",
       "\n",
       "        evidence_sentence_count  \n",
       "id                               \n",
       "137334                        1  \n",
       "111897                        1  \n",
       "89891                         1  \n",
       "181634                        1  \n",
       "219028                        1  \n",
       "...                         ...  \n",
       "27657                         1  \n",
       "91751                         1  \n",
       "108208                        1  \n",
       "85011                         1  \n",
       "105584                        1  \n",
       "\n",
       "[6720 rows x 8 columns]"
      ]
     },
     "execution_count": 233,
     "metadata": {},
     "output_type": "execute_result"
    }
   ],
   "source": [
    "train_df = df[(~df.index.isin(bigbench.index)) & (df[\"evidence_sentence_count\"] > 0)]\n",
    "train_df"
   ]
  },
  {
   "cell_type": "code",
   "execution_count": 229,
   "metadata": {},
   "outputs": [],
   "source": [
    "bigbench = bigbench.set_index(\"id\")"
   ]
  },
  {
   "cell_type": "code",
   "execution_count": 230,
   "metadata": {},
   "outputs": [
    {
     "data": {
      "text/html": [
       "<div>\n",
       "<style scoped>\n",
       "    .dataframe tbody tr th:only-of-type {\n",
       "        vertical-align: middle;\n",
       "    }\n",
       "\n",
       "    .dataframe tbody tr th {\n",
       "        vertical-align: top;\n",
       "    }\n",
       "\n",
       "    .dataframe thead th {\n",
       "        text-align: right;\n",
       "    }\n",
       "</style>\n",
       "<table border=\"1\" class=\"dataframe\">\n",
       "  <thead>\n",
       "    <tr style=\"text-align: right;\">\n",
       "      <th></th>\n",
       "      <th>input</th>\n",
       "      <th>target_scores</th>\n",
       "    </tr>\n",
       "    <tr>\n",
       "      <th>id</th>\n",
       "      <th></th>\n",
       "      <th></th>\n",
       "    </tr>\n",
       "  </thead>\n",
       "  <tbody>\n",
       "    <tr>\n",
       "      <th>163803</th>\n",
       "      <td>On June 2017, the following claim was made: Uk...</td>\n",
       "      <td>{'true': 1, 'false': 0}</td>\n",
       "    </tr>\n",
       "    <tr>\n",
       "      <th>70041</th>\n",
       "      <td>On June 2017, the following claim was made: 2 ...</td>\n",
       "      <td>{'true': 1, 'false': 0}</td>\n",
       "    </tr>\n",
       "    <tr>\n",
       "      <th>202314</th>\n",
       "      <td>On June 2017, the following claim was made: Th...</td>\n",
       "      <td>{'true': 0, 'false': 1}</td>\n",
       "    </tr>\n",
       "    <tr>\n",
       "      <th>6032</th>\n",
       "      <td>On June 2017, the following claim was made: Ar...</td>\n",
       "      <td>{'true': 0, 'false': 1}</td>\n",
       "    </tr>\n",
       "    <tr>\n",
       "      <th>130048</th>\n",
       "      <td>On June 2017, the following claim was made: Bu...</td>\n",
       "      <td>{'true': 0, 'false': 1}</td>\n",
       "    </tr>\n",
       "    <tr>\n",
       "      <th>...</th>\n",
       "      <td>...</td>\n",
       "      <td>...</td>\n",
       "    </tr>\n",
       "    <tr>\n",
       "      <th>33339</th>\n",
       "      <td>On June 2017, the following claim was made: Fi...</td>\n",
       "      <td>{'true': 0, 'false': 1}</td>\n",
       "    </tr>\n",
       "    <tr>\n",
       "      <th>8538</th>\n",
       "      <td>On June 2017, the following claim was made: He...</td>\n",
       "      <td>{'true': 0, 'false': 1}</td>\n",
       "    </tr>\n",
       "    <tr>\n",
       "      <th>145641</th>\n",
       "      <td>On June 2017, the following claim was made: Mi...</td>\n",
       "      <td>{'true': 0, 'false': 1}</td>\n",
       "    </tr>\n",
       "    <tr>\n",
       "      <th>87517</th>\n",
       "      <td>On June 2017, the following claim was made: Th...</td>\n",
       "      <td>{'true': 1, 'false': 0}</td>\n",
       "    </tr>\n",
       "    <tr>\n",
       "      <th>81957</th>\n",
       "      <td>On June 2017, the following claim was made: Tr...</td>\n",
       "      <td>{'true': 0, 'false': 1}</td>\n",
       "    </tr>\n",
       "  </tbody>\n",
       "</table>\n",
       "<p>6612 rows × 2 columns</p>\n",
       "</div>"
      ],
      "text/plain": [
       "                                                    input  \\\n",
       "id                                                          \n",
       "163803  On June 2017, the following claim was made: Uk...   \n",
       "70041   On June 2017, the following claim was made: 2 ...   \n",
       "202314  On June 2017, the following claim was made: Th...   \n",
       "6032    On June 2017, the following claim was made: Ar...   \n",
       "130048  On June 2017, the following claim was made: Bu...   \n",
       "...                                                   ...   \n",
       "33339   On June 2017, the following claim was made: Fi...   \n",
       "8538    On June 2017, the following claim was made: He...   \n",
       "145641  On June 2017, the following claim was made: Mi...   \n",
       "87517   On June 2017, the following claim was made: Th...   \n",
       "81957   On June 2017, the following claim was made: Tr...   \n",
       "\n",
       "                  target_scores  \n",
       "id                               \n",
       "163803  {'true': 1, 'false': 0}  \n",
       "70041   {'true': 1, 'false': 0}  \n",
       "202314  {'true': 0, 'false': 1}  \n",
       "6032    {'true': 0, 'false': 1}  \n",
       "130048  {'true': 0, 'false': 1}  \n",
       "...                         ...  \n",
       "33339   {'true': 0, 'false': 1}  \n",
       "8538    {'true': 0, 'false': 1}  \n",
       "145641  {'true': 0, 'false': 1}  \n",
       "87517   {'true': 1, 'false': 0}  \n",
       "81957   {'true': 0, 'false': 1}  \n",
       "\n",
       "[6612 rows x 2 columns]"
      ]
     },
     "execution_count": 230,
     "metadata": {},
     "output_type": "execute_result"
    }
   ],
   "source": [
    "bigbench"
   ]
  },
  {
   "cell_type": "code",
   "execution_count": 227,
   "metadata": {},
   "outputs": [],
   "source": [
    "df = df.set_index(\"id\")"
   ]
  },
  {
   "cell_type": "code",
   "execution_count": 231,
   "metadata": {},
   "outputs": [
    {
     "data": {
      "text/plain": [
       "verifiable                                                        VERIFIABLE\n",
       "label                                                                REFUTES\n",
       "claim                                      Michael Hutchence died on a boat.\n",
       "evidence                         [[[168967, 182663, Michael_Hutchence, 15]]]\n",
       "unique_evidence                                    [(Michael_Hutchence, 15)]\n",
       "evidence_sentences         [(Michael_Hutchence, 15, On the morning of 22 ...\n",
       "claim_in_bigbench                                                       True\n",
       "evidence_sentence_count                                                    1\n",
       "Name: 145641, dtype: object"
      ]
     },
     "execution_count": 231,
     "metadata": {},
     "output_type": "execute_result"
    }
   ],
   "source": [
    "df.loc[145641]"
   ]
  },
  {
   "cell_type": "code",
   "execution_count": 199,
   "metadata": {},
   "outputs": [
    {
     "data": {
      "text/html": [
       "<div>\n",
       "<style scoped>\n",
       "    .dataframe tbody tr th:only-of-type {\n",
       "        vertical-align: middle;\n",
       "    }\n",
       "\n",
       "    .dataframe tbody tr th {\n",
       "        vertical-align: top;\n",
       "    }\n",
       "\n",
       "    .dataframe thead th {\n",
       "        text-align: right;\n",
       "    }\n",
       "</style>\n",
       "<table border=\"1\" class=\"dataframe\">\n",
       "  <thead>\n",
       "    <tr style=\"text-align: right;\">\n",
       "      <th></th>\n",
       "      <th>label</th>\n",
       "      <th>claim</th>\n",
       "      <th>unique_evidence</th>\n",
       "      <th>evidence_sentences</th>\n",
       "      <th>evidence_sentence_count</th>\n",
       "    </tr>\n",
       "    <tr>\n",
       "      <th>id</th>\n",
       "      <th></th>\n",
       "      <th></th>\n",
       "      <th></th>\n",
       "      <th></th>\n",
       "      <th></th>\n",
       "    </tr>\n",
       "  </thead>\n",
       "  <tbody>\n",
       "    <tr>\n",
       "      <th>163803</th>\n",
       "      <td>True</td>\n",
       "      <td>Ukrainian Soviet Socialist Republic was a foun...</td>\n",
       "      <td>[[Ukrainian_Soviet_Socialist_Republic, 7]]</td>\n",
       "      <td>[[Ukrainian_Soviet_Socialist_Republic, 7, The ...</td>\n",
       "      <td>1</td>\n",
       "    </tr>\n",
       "    <tr>\n",
       "      <th>70041</th>\n",
       "      <td>True</td>\n",
       "      <td>2 Hearts is a musical composition by Minogue.</td>\n",
       "      <td>[[2_Hearts_-LRB-Kylie_Minogue_song-RRB-, 0]]</td>\n",
       "      <td>[[2_Hearts_-LRB-Kylie_Minogue_song-RRB-, 0, ``...</td>\n",
       "      <td>1</td>\n",
       "    </tr>\n",
       "    <tr>\n",
       "      <th>202314</th>\n",
       "      <td>False</td>\n",
       "      <td>The New Jersey Turnpike has zero shoulders.</td>\n",
       "      <td>[[New_Jersey_Turnpike, 15]]</td>\n",
       "      <td>[[New_Jersey_Turnpike, 15, It was officially o...</td>\n",
       "      <td>1</td>\n",
       "    </tr>\n",
       "    <tr>\n",
       "      <th>6032</th>\n",
       "      <td>False</td>\n",
       "      <td>Aruba is the only ABC Island.</td>\n",
       "      <td>[[ABC_islands_-LRB-Lesser_Antilles-RRB-, 0]]</td>\n",
       "      <td>[[ABC_islands_-LRB-Lesser_Antilles-RRB-, 0, Th...</td>\n",
       "      <td>1</td>\n",
       "    </tr>\n",
       "    <tr>\n",
       "      <th>130048</th>\n",
       "      <td>False</td>\n",
       "      <td>Burbank, California has always been completely...</td>\n",
       "      <td>[[Burbank,_California, 7]]</td>\n",
       "      <td>[[Burbank,_California, 7, It was the location ...</td>\n",
       "      <td>1</td>\n",
       "    </tr>\n",
       "    <tr>\n",
       "      <th>...</th>\n",
       "      <td>...</td>\n",
       "      <td>...</td>\n",
       "      <td>...</td>\n",
       "      <td>...</td>\n",
       "      <td>...</td>\n",
       "    </tr>\n",
       "    <tr>\n",
       "      <th>33339</th>\n",
       "      <td>False</td>\n",
       "      <td>Firefox is the second most popular dog breed.</td>\n",
       "      <td>[[Firefox, 13]]</td>\n",
       "      <td>[[Firefox, 13, , Firefox has between 9 % and 1...</td>\n",
       "      <td>1</td>\n",
       "    </tr>\n",
       "    <tr>\n",
       "      <th>8538</th>\n",
       "      <td>False</td>\n",
       "      <td>Hermit crabs are arachnids.</td>\n",
       "      <td>[[Hermit_crab, 0], [Decapoda, 0]]</td>\n",
       "      <td>[[Hermit_crab, 0, Hermit crabs are decapod cru...</td>\n",
       "      <td>2</td>\n",
       "    </tr>\n",
       "    <tr>\n",
       "      <th>145641</th>\n",
       "      <td>False</td>\n",
       "      <td>Michael Hutchence died on a boat.</td>\n",
       "      <td>[[Michael_Hutchence, 15]]</td>\n",
       "      <td>[[Michael_Hutchence, 15, On the morning of 22 ...</td>\n",
       "      <td>1</td>\n",
       "    </tr>\n",
       "    <tr>\n",
       "      <th>87517</th>\n",
       "      <td>True</td>\n",
       "      <td>The Cyclades are located to the southeast of G...</td>\n",
       "      <td>[[Cyclades, 0]]</td>\n",
       "      <td>[[Cyclades, 0, The Cyclades -LRB- -LSB- ˈsɪklə...</td>\n",
       "      <td>1</td>\n",
       "    </tr>\n",
       "    <tr>\n",
       "      <th>81957</th>\n",
       "      <td>False</td>\n",
       "      <td>Trouble with the Curve is a television show.</td>\n",
       "      <td>[[Trouble_with_the_Curve, 0]]</td>\n",
       "      <td>[[Trouble_with_the_Curve, 0, Trouble with the ...</td>\n",
       "      <td>1</td>\n",
       "    </tr>\n",
       "  </tbody>\n",
       "</table>\n",
       "<p>6153 rows × 5 columns</p>\n",
       "</div>"
      ],
      "text/plain": [
       "        label                                              claim  \\\n",
       "id                                                                 \n",
       "163803   True  Ukrainian Soviet Socialist Republic was a foun...   \n",
       "70041    True      2 Hearts is a musical composition by Minogue.   \n",
       "202314  False        The New Jersey Turnpike has zero shoulders.   \n",
       "6032    False                      Aruba is the only ABC Island.   \n",
       "130048  False  Burbank, California has always been completely...   \n",
       "...       ...                                                ...   \n",
       "33339   False      Firefox is the second most popular dog breed.   \n",
       "8538    False                        Hermit crabs are arachnids.   \n",
       "145641  False                  Michael Hutchence died on a boat.   \n",
       "87517    True  The Cyclades are located to the southeast of G...   \n",
       "81957   False       Trouble with the Curve is a television show.   \n",
       "\n",
       "                                     unique_evidence  \\\n",
       "id                                                     \n",
       "163803    [[Ukrainian_Soviet_Socialist_Republic, 7]]   \n",
       "70041   [[2_Hearts_-LRB-Kylie_Minogue_song-RRB-, 0]]   \n",
       "202314                   [[New_Jersey_Turnpike, 15]]   \n",
       "6032    [[ABC_islands_-LRB-Lesser_Antilles-RRB-, 0]]   \n",
       "130048                    [[Burbank,_California, 7]]   \n",
       "...                                              ...   \n",
       "33339                                [[Firefox, 13]]   \n",
       "8538               [[Hermit_crab, 0], [Decapoda, 0]]   \n",
       "145641                     [[Michael_Hutchence, 15]]   \n",
       "87517                                [[Cyclades, 0]]   \n",
       "81957                  [[Trouble_with_the_Curve, 0]]   \n",
       "\n",
       "                                       evidence_sentences  \\\n",
       "id                                                          \n",
       "163803  [[Ukrainian_Soviet_Socialist_Republic, 7, The ...   \n",
       "70041   [[2_Hearts_-LRB-Kylie_Minogue_song-RRB-, 0, ``...   \n",
       "202314  [[New_Jersey_Turnpike, 15, It was officially o...   \n",
       "6032    [[ABC_islands_-LRB-Lesser_Antilles-RRB-, 0, Th...   \n",
       "130048  [[Burbank,_California, 7, It was the location ...   \n",
       "...                                                   ...   \n",
       "33339   [[Firefox, 13, , Firefox has between 9 % and 1...   \n",
       "8538    [[Hermit_crab, 0, Hermit crabs are decapod cru...   \n",
       "145641  [[Michael_Hutchence, 15, On the morning of 22 ...   \n",
       "87517   [[Cyclades, 0, The Cyclades -LRB- -LSB- ˈsɪklə...   \n",
       "81957   [[Trouble_with_the_Curve, 0, Trouble with the ...   \n",
       "\n",
       "        evidence_sentence_count  \n",
       "id                               \n",
       "163803                        1  \n",
       "70041                         1  \n",
       "202314                        1  \n",
       "6032                          1  \n",
       "130048                        1  \n",
       "...                         ...  \n",
       "33339                         1  \n",
       "8538                          2  \n",
       "145641                        1  \n",
       "87517                         1  \n",
       "81957                         1  \n",
       "\n",
       "[6153 rows x 5 columns]"
      ]
     },
     "execution_count": 199,
     "metadata": {},
     "output_type": "execute_result"
    }
   ],
   "source": [
    "test_df"
   ]
  },
  {
   "cell_type": "code",
   "execution_count": 344,
   "metadata": {},
   "outputs": [],
   "source": [
    "test_df = (df[(df.index.isin(bigbench.index)) & (df[\"evidence_sentence_count\"] > 0)]\n",
    ".drop(columns=[\"verifiable\", \"claim_in_bigbench\", \"evidence\"]))\n",
    "test_df[\"unique_evidence\"] = test_df[\"unique_evidence\"].map(lambda x: [ [str(title), str(sent_id)] for title,sent_id in x ])\n",
    "test_df[\"evidence_sentences\"] = test_df[\"evidence_sentences\"].map(lambda x: [ [str(title), str(sent_id), str(sent)] for title,sent_id,sent in x ])\n",
    "test_df[\"label\"] = test_df[\"label\"] == \"SUPPORTS\"\n",
    "test_df.index = test_df.index.astype(pd.StringDtype())\n",
    "test_df.claim = test_df.claim.astype(pd.StringDtype())\n",
    "test_df[\"id\"] = test_df.index\n",
    "test_df.to_json(\"fever_test_df.json\", orient='records', lines=True)"
   ]
  },
  {
   "cell_type": "code",
   "execution_count": 346,
   "metadata": {},
   "outputs": [],
   "source": [
    "train_df = (\n",
    "    df[(~df.index.isin(bigbench.index)) & (df[\"evidence_sentence_count\"] > 0)]\n",
    "    .drop(columns=[\"verifiable\", \"claim_in_bigbench\", \"evidence\"])\n",
    ")\n",
    "train_df[\"unique_evidence\"] = train_df[\"unique_evidence\"].map(lambda x: [ [str(title), str(sent_id)] for title,sent_id in x ])\n",
    "train_df[\"evidence_sentences\"] = train_df[\"evidence_sentences\"].map(lambda x: [ [str(title), str(sent_id), str(sent)] for title,sent_id,sent in x ])\n",
    "train_df[\"label\"] = train_df[\"label\"] == \"SUPPORTS\"\n",
    "train_df.index = train_df.index.astype(pd.StringDtype())\n",
    "train_df.claim = train_df.claim.astype(pd.StringDtype())\n",
    "train_df[\"id\"] = train_df.index\n",
    "train_df.to_json(\"fever_train_df.json\", orient='records', lines=True)"
   ]
  },
  {
   "cell_type": "code",
   "execution_count": 237,
   "metadata": {},
   "outputs": [
    {
     "data": {
      "text/html": [
       "<div>\n",
       "<style scoped>\n",
       "    .dataframe tbody tr th:only-of-type {\n",
       "        vertical-align: middle;\n",
       "    }\n",
       "\n",
       "    .dataframe tbody tr th {\n",
       "        vertical-align: top;\n",
       "    }\n",
       "\n",
       "    .dataframe thead th {\n",
       "        text-align: right;\n",
       "    }\n",
       "</style>\n",
       "<table border=\"1\" class=\"dataframe\">\n",
       "  <thead>\n",
       "    <tr style=\"text-align: right;\">\n",
       "      <th></th>\n",
       "      <th>label</th>\n",
       "      <th>claim</th>\n",
       "      <th>unique_evidence</th>\n",
       "      <th>evidence_sentences</th>\n",
       "      <th>evidence_sentence_count</th>\n",
       "    </tr>\n",
       "    <tr>\n",
       "      <th>id</th>\n",
       "      <th></th>\n",
       "      <th></th>\n",
       "      <th></th>\n",
       "      <th></th>\n",
       "      <th></th>\n",
       "    </tr>\n",
       "  </thead>\n",
       "  <tbody>\n",
       "    <tr>\n",
       "      <th>137334</th>\n",
       "      <td>True</td>\n",
       "      <td>Fox 2000 Pictures released the film Soul Food.</td>\n",
       "      <td>[[Soul_Food_-LRB-film-RRB-, 0]]</td>\n",
       "      <td>[[Soul_Food_-LRB-film-RRB-, 0, Soul Food is a ...</td>\n",
       "      <td>1</td>\n",
       "    </tr>\n",
       "    <tr>\n",
       "      <th>111897</th>\n",
       "      <td>False</td>\n",
       "      <td>Telemundo is a English-language television net...</td>\n",
       "      <td>[[Telemundo, 0]]</td>\n",
       "      <td>[[Telemundo, 0, Telemundo -LRB- -LSB- teleˈmun...</td>\n",
       "      <td>1</td>\n",
       "    </tr>\n",
       "    <tr>\n",
       "      <th>89891</th>\n",
       "      <td>False</td>\n",
       "      <td>Damon Albarn's debut album was released in 2011.</td>\n",
       "      <td>[[Damon_Albarn, 17]]</td>\n",
       "      <td>[[Damon_Albarn, 17, He has also ventured into ...</td>\n",
       "      <td>1</td>\n",
       "    </tr>\n",
       "    <tr>\n",
       "      <th>181634</th>\n",
       "      <td>True</td>\n",
       "      <td>There is a capital called Mogadishu.</td>\n",
       "      <td>[[Mogadishu, 0]]</td>\n",
       "      <td>[[Mogadishu, 0, Mogadishu -LRB- -LSB- ˌmɔːɡəˈd...</td>\n",
       "      <td>1</td>\n",
       "    </tr>\n",
       "    <tr>\n",
       "      <th>219028</th>\n",
       "      <td>False</td>\n",
       "      <td>Savages was exclusively a German film.</td>\n",
       "      <td>[[Savages_-LRB-2012_film-RRB-, 3]]</td>\n",
       "      <td>[[Savages_-LRB-2012_film-RRB-, 3, Savages is a...</td>\n",
       "      <td>1</td>\n",
       "    </tr>\n",
       "    <tr>\n",
       "      <th>...</th>\n",
       "      <td>...</td>\n",
       "      <td>...</td>\n",
       "      <td>...</td>\n",
       "      <td>...</td>\n",
       "      <td>...</td>\n",
       "    </tr>\n",
       "    <tr>\n",
       "      <th>27657</th>\n",
       "      <td>True</td>\n",
       "      <td>Elizabeth Olsen is a person.</td>\n",
       "      <td>[[Elizabeth_Olsen, 0]]</td>\n",
       "      <td>[[Elizabeth_Olsen, 0, Elizabeth Chase `` Lizzi...</td>\n",
       "      <td>1</td>\n",
       "    </tr>\n",
       "    <tr>\n",
       "      <th>91751</th>\n",
       "      <td>True</td>\n",
       "      <td>Meghan Markle is an empath.</td>\n",
       "      <td>[[Meghan_Markle, 5]]</td>\n",
       "      <td>[[Meghan_Markle, 5, In 2016 , Markle was appoi...</td>\n",
       "      <td>1</td>\n",
       "    </tr>\n",
       "    <tr>\n",
       "      <th>108208</th>\n",
       "      <td>True</td>\n",
       "      <td>The Times is a publication.</td>\n",
       "      <td>[[The_Times, 0]]</td>\n",
       "      <td>[[The_Times, 0, The Times is a British daily -...</td>\n",
       "      <td>1</td>\n",
       "    </tr>\n",
       "    <tr>\n",
       "      <th>85011</th>\n",
       "      <td>True</td>\n",
       "      <td>Mandy Moore had a career.</td>\n",
       "      <td>[[Mandy_Moore, 0]]</td>\n",
       "      <td>[[Mandy_Moore, 0, Amanda Leigh Moore -LRB- bor...</td>\n",
       "      <td>1</td>\n",
       "    </tr>\n",
       "    <tr>\n",
       "      <th>105584</th>\n",
       "      <td>True</td>\n",
       "      <td>Eric Bana is a person.</td>\n",
       "      <td>[[Eric_Bana, 0]]</td>\n",
       "      <td>[[Eric_Bana, 0, Eric Banadinović -LRB- born 9 ...</td>\n",
       "      <td>1</td>\n",
       "    </tr>\n",
       "  </tbody>\n",
       "</table>\n",
       "<p>6720 rows × 5 columns</p>\n",
       "</div>"
      ],
      "text/plain": [
       "        label                                              claim  \\\n",
       "id                                                                 \n",
       "137334   True     Fox 2000 Pictures released the film Soul Food.   \n",
       "111897  False  Telemundo is a English-language television net...   \n",
       "89891   False   Damon Albarn's debut album was released in 2011.   \n",
       "181634   True               There is a capital called Mogadishu.   \n",
       "219028  False             Savages was exclusively a German film.   \n",
       "...       ...                                                ...   \n",
       "27657    True                       Elizabeth Olsen is a person.   \n",
       "91751    True                        Meghan Markle is an empath.   \n",
       "108208   True                        The Times is a publication.   \n",
       "85011    True                          Mandy Moore had a career.   \n",
       "105584   True                             Eric Bana is a person.   \n",
       "\n",
       "                           unique_evidence  \\\n",
       "id                                           \n",
       "137334     [[Soul_Food_-LRB-film-RRB-, 0]]   \n",
       "111897                    [[Telemundo, 0]]   \n",
       "89891                 [[Damon_Albarn, 17]]   \n",
       "181634                    [[Mogadishu, 0]]   \n",
       "219028  [[Savages_-LRB-2012_film-RRB-, 3]]   \n",
       "...                                    ...   \n",
       "27657               [[Elizabeth_Olsen, 0]]   \n",
       "91751                 [[Meghan_Markle, 5]]   \n",
       "108208                    [[The_Times, 0]]   \n",
       "85011                   [[Mandy_Moore, 0]]   \n",
       "105584                    [[Eric_Bana, 0]]   \n",
       "\n",
       "                                       evidence_sentences  \\\n",
       "id                                                          \n",
       "137334  [[Soul_Food_-LRB-film-RRB-, 0, Soul Food is a ...   \n",
       "111897  [[Telemundo, 0, Telemundo -LRB- -LSB- teleˈmun...   \n",
       "89891   [[Damon_Albarn, 17, He has also ventured into ...   \n",
       "181634  [[Mogadishu, 0, Mogadishu -LRB- -LSB- ˌmɔːɡəˈd...   \n",
       "219028  [[Savages_-LRB-2012_film-RRB-, 3, Savages is a...   \n",
       "...                                                   ...   \n",
       "27657   [[Elizabeth_Olsen, 0, Elizabeth Chase `` Lizzi...   \n",
       "91751   [[Meghan_Markle, 5, In 2016 , Markle was appoi...   \n",
       "108208  [[The_Times, 0, The Times is a British daily -...   \n",
       "85011   [[Mandy_Moore, 0, Amanda Leigh Moore -LRB- bor...   \n",
       "105584  [[Eric_Bana, 0, Eric Banadinović -LRB- born 9 ...   \n",
       "\n",
       "        evidence_sentence_count  \n",
       "id                               \n",
       "137334                        1  \n",
       "111897                        1  \n",
       "89891                         1  \n",
       "181634                        1  \n",
       "219028                        1  \n",
       "...                         ...  \n",
       "27657                         1  \n",
       "91751                         1  \n",
       "108208                        1  \n",
       "85011                         1  \n",
       "105584                        1  \n",
       "\n",
       "[6720 rows x 5 columns]"
      ]
     },
     "execution_count": 237,
     "metadata": {},
     "output_type": "execute_result"
    }
   ],
   "source": [
    "train_df"
   ]
  },
  {
   "cell_type": "code",
   "execution_count": 347,
   "metadata": {},
   "outputs": [
    {
     "data": {
      "application/vnd.jupyter.widget-view+json": {
       "model_id": "bb32711d3b7642eda78862fa20a1e6c1",
       "version_major": 2,
       "version_minor": 0
      },
      "text/plain": [
       "Generating train split: 0 examples [00:00, ? examples/s]"
      ]
     },
     "metadata": {},
     "output_type": "display_data"
    },
    {
     "data": {
      "application/vnd.jupyter.widget-view+json": {
       "model_id": "fb1665a1b4f0401aa69a1e1ea84e6e31",
       "version_major": 2,
       "version_minor": 0
      },
      "text/plain": [
       "Generating test split: 0 examples [00:00, ? examples/s]"
      ]
     },
     "metadata": {},
     "output_type": "display_data"
    },
    {
     "data": {
      "application/vnd.jupyter.widget-view+json": {
       "model_id": "373601d45b514f6faa497f2c0b601848",
       "version_major": 2,
       "version_minor": 0
      },
      "text/plain": [
       "Saving the dataset (0/1 shards):   0%|          | 0/6720 [00:00<?, ? examples/s]"
      ]
     },
     "metadata": {},
     "output_type": "display_data"
    },
    {
     "data": {
      "application/vnd.jupyter.widget-view+json": {
       "model_id": "75f885a9b9b74b8cb45c6872b431cf10",
       "version_major": 2,
       "version_minor": 0
      },
      "text/plain": [
       "Saving the dataset (0/1 shards):   0%|          | 0/6612 [00:00<?, ? examples/s]"
      ]
     },
     "metadata": {},
     "output_type": "display_data"
    },
    {
     "data": {
      "text/plain": [
       "DatasetDict({\n",
       "    train: Dataset({\n",
       "        features: ['label', 'claim', 'unique_evidence', 'evidence_sentences', 'evidence_sentence_count', 'id'],\n",
       "        num_rows: 6720\n",
       "    })\n",
       "    test: Dataset({\n",
       "        features: ['label', 'claim', 'unique_evidence', 'evidence_sentences', 'evidence_sentence_count', 'id'],\n",
       "        num_rows: 6612\n",
       "    })\n",
       "})"
      ]
     },
     "execution_count": 347,
     "metadata": {},
     "output_type": "execute_result"
    }
   ],
   "source": [
    "fever_train_ds = load_dataset(\"json\", data_files={\"train\": \"fever_train_df.json\", \"test\": \"fever_test_df.json\"})\n",
    "fever_train_ds.save_to_disk(\"var/fever_reprocessed\")\n",
    "fever_train_ds"
   ]
  },
  {
   "cell_type": "code",
   "execution_count": 238,
   "metadata": {},
   "outputs": [
    {
     "data": {
      "text/plain": [
       "DatasetDict({\n",
       "    train: Dataset({\n",
       "        features: ['label', 'claim', 'unique_evidence', 'evidence_sentences', 'evidence_sentence_count'],\n",
       "        num_rows: 7179\n",
       "    })\n",
       "    test: Dataset({\n",
       "        features: ['label', 'claim', 'unique_evidence', 'evidence_sentences', 'evidence_sentence_count'],\n",
       "        num_rows: 6153\n",
       "    })\n",
       "})"
      ]
     },
     "execution_count": 238,
     "metadata": {},
     "output_type": "execute_result"
    }
   ],
   "source": [
    "fever_train_ds"
   ]
  },
  {
   "cell_type": "code",
   "execution_count": 213,
   "metadata": {},
   "outputs": [
    {
     "data": {
      "text/plain": [
       "[[['Giada_at_Home',\n",
       "   '1',\n",
       "   'It first aired on October 18 , 2008 on the Food Network .\\tFood Network\\tFood Network\\n'],\n",
       "  ['Food_Network',\n",
       "   '0',\n",
       "   'Food Network -LRB- legally known as Television Food Network -RRB- is an American basic cable and satellite television channel that is owned by Television Food Network , G.P. , a joint venture between Scripps Networks Interactive -LRB- which owns 70 % of the network -RRB- and the Tribune -LRB- FN -RRB- Cable Ventures Inc. -LRB- which owns the remaining 30 % -RRB- .\\tScripps Networks Interactive\\tScripps Networks Interactive\\tAmerican\\tUnited States\\tbasic cable\\tcable television\\tsatellite television\\tsatellite television\\tchannel\\tcable channel\\tjoint venture\\tjoint venture\\n']],\n",
       " [['James_Taylor',\n",
       "   '0',\n",
       "   'James Vernon Taylor -LRB- born March 12 , 1948 -RRB- is an American singer-songwriter and guitarist .\\tsinger-songwriter\\tsinger-songwriter\\tguitarist\\tguitarist\\n'],\n",
       "  ['Hourglass_-LRB-James_Taylor_album-RRB-',\n",
       "   '0',\n",
       "   \"Hourglass is singer-songwriter James Taylor 's fourteenth studio album .\\tJames Taylor\\tJames Taylor\\tsinger-songwriter\\tsinger-songwriter\\n\"]],\n",
       " [['New_Orleans_Pelicans',\n",
       "   '0',\n",
       "   'The New Orleans Pelicans are an American professional basketball team based in New Orleans .\\tbasketball\\tbasketball\\tNew Orleans\\tNew Orleans\\n'],\n",
       "  ['New_Orleans_Pelicans',\n",
       "   '1',\n",
       "   \"The Pelicans compete in the National Basketball Association -LRB- NBA -RRB- as a member club of the league 's Western Conference Southwest Division .\\tWestern\\tWestern Conference (NBA)\\tSouthwest\\tSouthwest Division (NBA)\\tNational Basketball Association\\tNational Basketball Association\\tWestern Conference\\tWestern Conference (NBA)\\tSouthwest Division\\tSouthwest Division (NBA)\\n\"]],\n",
       " [['Arista_Records',\n",
       "   '1',\n",
       "   '-LSB- ˈɛ.rɪ.stə -RSB- was a major American record label .\\trecord label\\trecord label\\n'],\n",
       "  ['L.A._Reid',\n",
       "   '1',\n",
       "   'He has served as the chairman and CEO of Epic Records , a division of Sony Music Entertainment , the president and CEO of Arista Records , and the chairman and CEO of the Island Def Jam Music Group .\\tArista\\tArista Records\\tDef Jam\\tThe Island Def Jam Music Group\\tEpic\\tEpic Records\\tEpic Records\\tEpic Records\\tSony Music Entertainment\\tSony Music Entertainment\\tArista Records\\tArista Records\\tIsland Def Jam Music Group\\tIsland Def Jam Music Group\\n']],\n",
       " [['Home_for_the_Holidays_-LRB-1995_film-RRB-',\n",
       "   '5',\n",
       "   'The film stars Holly Hunter , Robert Downey Jr. , Anne Bancroft , Charles Durning , Dylan McDermott , Geraldine Chaplin , Steve Guttenberg , Cynthia Stevenson , Claire Danes , Austin Pendleton and David Strathairn .\\tHolly Hunter\\tHolly Hunter\\tAnne Bancroft\\tAnne Bancroft\\tDylan McDermott\\tDylan McDermott\\tGeraldine Chaplin\\tGeraldine Chaplin\\tSteve Guttenberg\\tSteve Guttenberg\\tClaire Danes\\tClaire Danes\\tCynthia Stevenson\\tCynthia Stevenson\\tCharles Durning\\tCharles Durning\\tfilm\\tfilm\\tAustin Pendleton\\tAustin Pendleton\\tDavid Strathairn\\tDavid Strathairn\\n'],\n",
       "  ['Holly_Hunter',\n",
       "   '0',\n",
       "   'Holly Hunter -LRB- born March 20 , 1958 -RRB- is an American actress and producer .\\n']]]"
      ]
     },
     "execution_count": 213,
     "metadata": {},
     "output_type": "execute_result"
    }
   ],
   "source": [
    "fever_train_ds[\"train\"][\"evidence_sentences\"]"
   ]
  },
  {
   "cell_type": "code",
   "execution_count": 174,
   "metadata": {},
   "outputs": [
    {
     "data": {
      "text/plain": [
       "id                          int64\n",
       "verifiable                 object\n",
       "label                      object\n",
       "claim                      object\n",
       "evidence                   object\n",
       "unique_evidence            object\n",
       "evidence_sentences         object\n",
       "claim_in_bigbench            bool\n",
       "evidence_sentence_count     int64\n",
       "dtype: object"
      ]
     },
     "execution_count": 174,
     "metadata": {},
     "output_type": "execute_result"
    }
   ],
   "source": [
    "train_df = train_df.astype(\n",
    "    {\"verifiable\": }\n",
    ")\n",
    "train_df.dtypes"
   ]
  },
  {
   "cell_type": "code",
   "execution_count": 158,
   "metadata": {},
   "outputs": [
    {
     "data": {
      "text/html": [
       "<div>\n",
       "<style scoped>\n",
       "    .dataframe tbody tr th:only-of-type {\n",
       "        vertical-align: middle;\n",
       "    }\n",
       "\n",
       "    .dataframe tbody tr th {\n",
       "        vertical-align: top;\n",
       "    }\n",
       "\n",
       "    .dataframe thead th {\n",
       "        text-align: right;\n",
       "    }\n",
       "</style>\n",
       "<table border=\"1\" class=\"dataframe\">\n",
       "  <thead>\n",
       "    <tr style=\"text-align: right;\">\n",
       "      <th></th>\n",
       "      <th>id</th>\n",
       "      <th>verifiable</th>\n",
       "      <th>label</th>\n",
       "      <th>claim</th>\n",
       "      <th>evidence</th>\n",
       "      <th>unique_evidence</th>\n",
       "      <th>evidence_sentences</th>\n",
       "      <th>claim_in_bigbench</th>\n",
       "    </tr>\n",
       "  </thead>\n",
       "  <tbody>\n",
       "    <tr>\n",
       "      <th>10077</th>\n",
       "      <td>126261</td>\n",
       "      <td>NOT VERIFIABLE</td>\n",
       "      <td>NOT ENOUGH INFO</td>\n",
       "      <td>Pocahontas was the daughter of the president.</td>\n",
       "      <td>[[[148109, None, None, None]]]</td>\n",
       "      <td>[(None, None)]</td>\n",
       "      <td>[]</td>\n",
       "      <td>True</td>\n",
       "    </tr>\n",
       "    <tr>\n",
       "      <th>10083</th>\n",
       "      <td>201605</td>\n",
       "      <td>NOT VERIFIABLE</td>\n",
       "      <td>NOT ENOUGH INFO</td>\n",
       "      <td>A thunderstorm can also be called an hurricane.</td>\n",
       "      <td>[[[237312, None, None, None]]]</td>\n",
       "      <td>[(None, None)]</td>\n",
       "      <td>[]</td>\n",
       "      <td>True</td>\n",
       "    </tr>\n",
       "    <tr>\n",
       "      <th>10115</th>\n",
       "      <td>8317</td>\n",
       "      <td>NOT VERIFIABLE</td>\n",
       "      <td>NOT ENOUGH INFO</td>\n",
       "      <td>Donald Trump was a member of the Grateful Dead.</td>\n",
       "      <td>[[[13518, None, None, None], [18925, None, Non...</td>\n",
       "      <td>[(None, None)]</td>\n",
       "      <td>[]</td>\n",
       "      <td>True</td>\n",
       "    </tr>\n",
       "    <tr>\n",
       "      <th>10431</th>\n",
       "      <td>24075</td>\n",
       "      <td>NOT VERIFIABLE</td>\n",
       "      <td>NOT ENOUGH INFO</td>\n",
       "      <td>Musala is a valley.</td>\n",
       "      <td>[[[40031, None, None, None]]]</td>\n",
       "      <td>[(None, None)]</td>\n",
       "      <td>[]</td>\n",
       "      <td>True</td>\n",
       "    </tr>\n",
       "    <tr>\n",
       "      <th>10732</th>\n",
       "      <td>139985</td>\n",
       "      <td>NOT VERIFIABLE</td>\n",
       "      <td>NOT ENOUGH INFO</td>\n",
       "      <td>The Africa Cup of Nations had its schedule cha...</td>\n",
       "      <td>[[[162951, None, None, None]]]</td>\n",
       "      <td>[(None, None)]</td>\n",
       "      <td>[]</td>\n",
       "      <td>True</td>\n",
       "    </tr>\n",
       "    <tr>\n",
       "      <th>10933</th>\n",
       "      <td>201464</td>\n",
       "      <td>NOT VERIFIABLE</td>\n",
       "      <td>NOT ENOUGH INFO</td>\n",
       "      <td>A static web page is delivered to the user.</td>\n",
       "      <td>[[[237129, None, None, None]]]</td>\n",
       "      <td>[(None, None)]</td>\n",
       "      <td>[]</td>\n",
       "      <td>True</td>\n",
       "    </tr>\n",
       "    <tr>\n",
       "      <th>10986</th>\n",
       "      <td>94476</td>\n",
       "      <td>NOT VERIFIABLE</td>\n",
       "      <td>NOT ENOUGH INFO</td>\n",
       "      <td>Georgians arose from a place.</td>\n",
       "      <td>[[[111911, None, None, None]]]</td>\n",
       "      <td>[(None, None)]</td>\n",
       "      <td>[]</td>\n",
       "      <td>True</td>\n",
       "    </tr>\n",
       "    <tr>\n",
       "      <th>11227</th>\n",
       "      <td>164891</td>\n",
       "      <td>NOT VERIFIABLE</td>\n",
       "      <td>NOT ENOUGH INFO</td>\n",
       "      <td>Hezbollah is part of Iran.</td>\n",
       "      <td>[[[189638, None, None, None]]]</td>\n",
       "      <td>[(None, None)]</td>\n",
       "      <td>[]</td>\n",
       "      <td>True</td>\n",
       "    </tr>\n",
       "    <tr>\n",
       "      <th>11578</th>\n",
       "      <td>12819</td>\n",
       "      <td>NOT VERIFIABLE</td>\n",
       "      <td>NOT ENOUGH INFO</td>\n",
       "      <td>Internet access requires the use of computers.</td>\n",
       "      <td>[[[28096, None, None, None]]]</td>\n",
       "      <td>[(None, None)]</td>\n",
       "      <td>[]</td>\n",
       "      <td>True</td>\n",
       "    </tr>\n",
       "    <tr>\n",
       "      <th>11760</th>\n",
       "      <td>226844</td>\n",
       "      <td>NOT VERIFIABLE</td>\n",
       "      <td>NOT ENOUGH INFO</td>\n",
       "      <td>Sejong the Great was a queen.</td>\n",
       "      <td>[[[270486, None, None, None]]]</td>\n",
       "      <td>[(None, None)]</td>\n",
       "      <td>[]</td>\n",
       "      <td>True</td>\n",
       "    </tr>\n",
       "    <tr>\n",
       "      <th>11802</th>\n",
       "      <td>192176</td>\n",
       "      <td>NOT VERIFIABLE</td>\n",
       "      <td>NOT ENOUGH INFO</td>\n",
       "      <td>Sacre-Coeur, Paris is publicly dedicated to th...</td>\n",
       "      <td>[[[224779, None, None, None]]]</td>\n",
       "      <td>[(None, None)]</td>\n",
       "      <td>[]</td>\n",
       "      <td>True</td>\n",
       "    </tr>\n",
       "    <tr>\n",
       "      <th>11973</th>\n",
       "      <td>182692</td>\n",
       "      <td>NOT VERIFIABLE</td>\n",
       "      <td>NOT ENOUGH INFO</td>\n",
       "      <td>Nina Jacobson is an executive.</td>\n",
       "      <td>[[[212542, None, None, None]]]</td>\n",
       "      <td>[(None, None)]</td>\n",
       "      <td>[]</td>\n",
       "      <td>True</td>\n",
       "    </tr>\n",
       "    <tr>\n",
       "      <th>12869</th>\n",
       "      <td>40987</td>\n",
       "      <td>NOT VERIFIABLE</td>\n",
       "      <td>NOT ENOUGH INFO</td>\n",
       "      <td>Sausage Party is a computer-animated horror.</td>\n",
       "      <td>[[[57284, None, None, None]]]</td>\n",
       "      <td>[(None, None)]</td>\n",
       "      <td>[]</td>\n",
       "      <td>True</td>\n",
       "    </tr>\n",
       "    <tr>\n",
       "      <th>13078</th>\n",
       "      <td>215278</td>\n",
       "      <td>NOT VERIFIABLE</td>\n",
       "      <td>NOT ENOUGH INFO</td>\n",
       "      <td>PBS is a private broadcaster.</td>\n",
       "      <td>[[[255660, None, None, None]]]</td>\n",
       "      <td>[(None, None)]</td>\n",
       "      <td>[]</td>\n",
       "      <td>True</td>\n",
       "    </tr>\n",
       "    <tr>\n",
       "      <th>13313</th>\n",
       "      <td>125481</td>\n",
       "      <td>NOT VERIFIABLE</td>\n",
       "      <td>NOT ENOUGH INFO</td>\n",
       "      <td>Wolfgang Amadeus Mozart was married.</td>\n",
       "      <td>[[[147171, None, None, None]]]</td>\n",
       "      <td>[(None, None)]</td>\n",
       "      <td>[]</td>\n",
       "      <td>True</td>\n",
       "    </tr>\n",
       "    <tr>\n",
       "      <th>13494</th>\n",
       "      <td>39381</td>\n",
       "      <td>NOT VERIFIABLE</td>\n",
       "      <td>NOT ENOUGH INFO</td>\n",
       "      <td>The Giver is a drama.</td>\n",
       "      <td>[[[55626, None, None, None]]]</td>\n",
       "      <td>[(None, None)]</td>\n",
       "      <td>[]</td>\n",
       "      <td>True</td>\n",
       "    </tr>\n",
       "    <tr>\n",
       "      <th>13522</th>\n",
       "      <td>156300</td>\n",
       "      <td>NOT VERIFIABLE</td>\n",
       "      <td>NOT ENOUGH INFO</td>\n",
       "      <td>Doxycycline may cause headaches.</td>\n",
       "      <td>[[[180353, None, None, None]]]</td>\n",
       "      <td>[(None, None)]</td>\n",
       "      <td>[]</td>\n",
       "      <td>True</td>\n",
       "    </tr>\n",
       "    <tr>\n",
       "      <th>14130</th>\n",
       "      <td>140385</td>\n",
       "      <td>NOT VERIFIABLE</td>\n",
       "      <td>NOT ENOUGH INFO</td>\n",
       "      <td>One True Thing is a comedy.</td>\n",
       "      <td>[[[163345, None, None, None]]]</td>\n",
       "      <td>[(None, None)]</td>\n",
       "      <td>[]</td>\n",
       "      <td>True</td>\n",
       "    </tr>\n",
       "    <tr>\n",
       "      <th>15158</th>\n",
       "      <td>110260</td>\n",
       "      <td>NOT VERIFIABLE</td>\n",
       "      <td>NOT ENOUGH INFO</td>\n",
       "      <td>The Beverly Hillbillies ranked as the number o...</td>\n",
       "      <td>[[[129377, None, None, None]]]</td>\n",
       "      <td>[(None, None)]</td>\n",
       "      <td>[]</td>\n",
       "      <td>True</td>\n",
       "    </tr>\n",
       "    <tr>\n",
       "      <th>15253</th>\n",
       "      <td>228687</td>\n",
       "      <td>NOT VERIFIABLE</td>\n",
       "      <td>NOT ENOUGH INFO</td>\n",
       "      <td>Two and a Half Men season aired.</td>\n",
       "      <td>[[[272857, None, None, None]]]</td>\n",
       "      <td>[(None, None)]</td>\n",
       "      <td>[]</td>\n",
       "      <td>True</td>\n",
       "    </tr>\n",
       "    <tr>\n",
       "      <th>15517</th>\n",
       "      <td>101441</td>\n",
       "      <td>NOT VERIFIABLE</td>\n",
       "      <td>NOT ENOUGH INFO</td>\n",
       "      <td>The New England Patriots owns the record for m...</td>\n",
       "      <td>[[[121038, None, None, None]]]</td>\n",
       "      <td>[(None, None)]</td>\n",
       "      <td>[]</td>\n",
       "      <td>True</td>\n",
       "    </tr>\n",
       "    <tr>\n",
       "      <th>16633</th>\n",
       "      <td>207333</td>\n",
       "      <td>NOT VERIFIABLE</td>\n",
       "      <td>NOT ENOUGH INFO</td>\n",
       "      <td>Military deception is a form of strategic use ...</td>\n",
       "      <td>[[[245179, None, None, None]]]</td>\n",
       "      <td>[(None, None)]</td>\n",
       "      <td>[]</td>\n",
       "      <td>True</td>\n",
       "    </tr>\n",
       "    <tr>\n",
       "      <th>16717</th>\n",
       "      <td>84685</td>\n",
       "      <td>NOT VERIFIABLE</td>\n",
       "      <td>NOT ENOUGH INFO</td>\n",
       "      <td>Edward Cullen was created.</td>\n",
       "      <td>[[[101756, None, None, None]]]</td>\n",
       "      <td>[(None, None)]</td>\n",
       "      <td>[]</td>\n",
       "      <td>True</td>\n",
       "    </tr>\n",
       "    <tr>\n",
       "      <th>16748</th>\n",
       "      <td>150784</td>\n",
       "      <td>NOT VERIFIABLE</td>\n",
       "      <td>NOT ENOUGH INFO</td>\n",
       "      <td>Keith Stanfield is Canadian.</td>\n",
       "      <td>[[[174588, None, None, None]]]</td>\n",
       "      <td>[(None, None)]</td>\n",
       "      <td>[]</td>\n",
       "      <td>True</td>\n",
       "    </tr>\n",
       "    <tr>\n",
       "      <th>17524</th>\n",
       "      <td>2341</td>\n",
       "      <td>NOT VERIFIABLE</td>\n",
       "      <td>NOT ENOUGH INFO</td>\n",
       "      <td>SummerSlam is thrown by the WWE.</td>\n",
       "      <td>[[[18152, None, None, None]]]</td>\n",
       "      <td>[(None, None)]</td>\n",
       "      <td>[]</td>\n",
       "      <td>True</td>\n",
       "    </tr>\n",
       "    <tr>\n",
       "      <th>17660</th>\n",
       "      <td>11128</td>\n",
       "      <td>NOT VERIFIABLE</td>\n",
       "      <td>NOT ENOUGH INFO</td>\n",
       "      <td>Hermit crabs are animals.</td>\n",
       "      <td>[[[26319, None, None, None]]]</td>\n",
       "      <td>[(None, None)]</td>\n",
       "      <td>[]</td>\n",
       "      <td>True</td>\n",
       "    </tr>\n",
       "    <tr>\n",
       "      <th>17788</th>\n",
       "      <td>164892</td>\n",
       "      <td>NOT VERIFIABLE</td>\n",
       "      <td>NOT ENOUGH INFO</td>\n",
       "      <td>Hezbollah is part of Iran.</td>\n",
       "      <td>[[[189637, None, None, None]]]</td>\n",
       "      <td>[(None, None)]</td>\n",
       "      <td>[]</td>\n",
       "      <td>True</td>\n",
       "    </tr>\n",
       "    <tr>\n",
       "      <th>17896</th>\n",
       "      <td>147085</td>\n",
       "      <td>NOT VERIFIABLE</td>\n",
       "      <td>NOT ENOUGH INFO</td>\n",
       "      <td>The Vandals moved around Asia.</td>\n",
       "      <td>[[[170635, None, None, None]]]</td>\n",
       "      <td>[(None, None)]</td>\n",
       "      <td>[]</td>\n",
       "      <td>True</td>\n",
       "    </tr>\n",
       "    <tr>\n",
       "      <th>17968</th>\n",
       "      <td>153811</td>\n",
       "      <td>NOT VERIFIABLE</td>\n",
       "      <td>NOT ENOUGH INFO</td>\n",
       "      <td>Certain chemicals induce neuromodulation.</td>\n",
       "      <td>[[[293288, None, None, None], [293292, None, N...</td>\n",
       "      <td>[(None, None)]</td>\n",
       "      <td>[]</td>\n",
       "      <td>True</td>\n",
       "    </tr>\n",
       "    <tr>\n",
       "      <th>18344</th>\n",
       "      <td>146593</td>\n",
       "      <td>NOT VERIFIABLE</td>\n",
       "      <td>NOT ENOUGH INFO</td>\n",
       "      <td>Olympic medals had their obverse design standa...</td>\n",
       "      <td>[[[170130, None, None, None]]]</td>\n",
       "      <td>[(None, None)]</td>\n",
       "      <td>[]</td>\n",
       "      <td>True</td>\n",
       "    </tr>\n",
       "    <tr>\n",
       "      <th>18371</th>\n",
       "      <td>57637</td>\n",
       "      <td>NOT VERIFIABLE</td>\n",
       "      <td>NOT ENOUGH INFO</td>\n",
       "      <td>The Battle of the Trebia took place south of t...</td>\n",
       "      <td>[[[74037, None, None, None]]]</td>\n",
       "      <td>[(None, None)]</td>\n",
       "      <td>[]</td>\n",
       "      <td>True</td>\n",
       "    </tr>\n",
       "    <tr>\n",
       "      <th>18500</th>\n",
       "      <td>74270</td>\n",
       "      <td>NOT VERIFIABLE</td>\n",
       "      <td>NOT ENOUGH INFO</td>\n",
       "      <td>The Maltese language is a co-official language...</td>\n",
       "      <td>[[[91038, None, None, None]]]</td>\n",
       "      <td>[(None, None)]</td>\n",
       "      <td>[]</td>\n",
       "      <td>True</td>\n",
       "    </tr>\n",
       "    <tr>\n",
       "      <th>18840</th>\n",
       "      <td>177862</td>\n",
       "      <td>NOT VERIFIABLE</td>\n",
       "      <td>NOT ENOUGH INFO</td>\n",
       "      <td>Milk is based on the life of a person.</td>\n",
       "      <td>[[[206152, None, None, None]]]</td>\n",
       "      <td>[(None, None)]</td>\n",
       "      <td>[]</td>\n",
       "      <td>True</td>\n",
       "    </tr>\n",
       "    <tr>\n",
       "      <th>18870</th>\n",
       "      <td>74058</td>\n",
       "      <td>NOT VERIFIABLE</td>\n",
       "      <td>NOT ENOUGH INFO</td>\n",
       "      <td>Internet access requires the use of hardware.</td>\n",
       "      <td>[[[90838, None, None, None]]]</td>\n",
       "      <td>[(None, None)]</td>\n",
       "      <td>[]</td>\n",
       "      <td>True</td>\n",
       "    </tr>\n",
       "    <tr>\n",
       "      <th>19046</th>\n",
       "      <td>166917</td>\n",
       "      <td>NOT VERIFIABLE</td>\n",
       "      <td>NOT ENOUGH INFO</td>\n",
       "      <td>Baadshah was dubbed under the same name.</td>\n",
       "      <td>[[[191999, None, None, None]]]</td>\n",
       "      <td>[(None, None)]</td>\n",
       "      <td>[]</td>\n",
       "      <td>True</td>\n",
       "    </tr>\n",
       "    <tr>\n",
       "      <th>19531</th>\n",
       "      <td>153706</td>\n",
       "      <td>NOT VERIFIABLE</td>\n",
       "      <td>NOT ENOUGH INFO</td>\n",
       "      <td>Birmingham is in the ocean.</td>\n",
       "      <td>[[[177671, None, None, None]]]</td>\n",
       "      <td>[(None, None)]</td>\n",
       "      <td>[]</td>\n",
       "      <td>True</td>\n",
       "    </tr>\n",
       "  </tbody>\n",
       "</table>\n",
       "</div>"
      ],
      "text/plain": [
       "           id      verifiable            label  \\\n",
       "10077  126261  NOT VERIFIABLE  NOT ENOUGH INFO   \n",
       "10083  201605  NOT VERIFIABLE  NOT ENOUGH INFO   \n",
       "10115    8317  NOT VERIFIABLE  NOT ENOUGH INFO   \n",
       "10431   24075  NOT VERIFIABLE  NOT ENOUGH INFO   \n",
       "10732  139985  NOT VERIFIABLE  NOT ENOUGH INFO   \n",
       "10933  201464  NOT VERIFIABLE  NOT ENOUGH INFO   \n",
       "10986   94476  NOT VERIFIABLE  NOT ENOUGH INFO   \n",
       "11227  164891  NOT VERIFIABLE  NOT ENOUGH INFO   \n",
       "11578   12819  NOT VERIFIABLE  NOT ENOUGH INFO   \n",
       "11760  226844  NOT VERIFIABLE  NOT ENOUGH INFO   \n",
       "11802  192176  NOT VERIFIABLE  NOT ENOUGH INFO   \n",
       "11973  182692  NOT VERIFIABLE  NOT ENOUGH INFO   \n",
       "12869   40987  NOT VERIFIABLE  NOT ENOUGH INFO   \n",
       "13078  215278  NOT VERIFIABLE  NOT ENOUGH INFO   \n",
       "13313  125481  NOT VERIFIABLE  NOT ENOUGH INFO   \n",
       "13494   39381  NOT VERIFIABLE  NOT ENOUGH INFO   \n",
       "13522  156300  NOT VERIFIABLE  NOT ENOUGH INFO   \n",
       "14130  140385  NOT VERIFIABLE  NOT ENOUGH INFO   \n",
       "15158  110260  NOT VERIFIABLE  NOT ENOUGH INFO   \n",
       "15253  228687  NOT VERIFIABLE  NOT ENOUGH INFO   \n",
       "15517  101441  NOT VERIFIABLE  NOT ENOUGH INFO   \n",
       "16633  207333  NOT VERIFIABLE  NOT ENOUGH INFO   \n",
       "16717   84685  NOT VERIFIABLE  NOT ENOUGH INFO   \n",
       "16748  150784  NOT VERIFIABLE  NOT ENOUGH INFO   \n",
       "17524    2341  NOT VERIFIABLE  NOT ENOUGH INFO   \n",
       "17660   11128  NOT VERIFIABLE  NOT ENOUGH INFO   \n",
       "17788  164892  NOT VERIFIABLE  NOT ENOUGH INFO   \n",
       "17896  147085  NOT VERIFIABLE  NOT ENOUGH INFO   \n",
       "17968  153811  NOT VERIFIABLE  NOT ENOUGH INFO   \n",
       "18344  146593  NOT VERIFIABLE  NOT ENOUGH INFO   \n",
       "18371   57637  NOT VERIFIABLE  NOT ENOUGH INFO   \n",
       "18500   74270  NOT VERIFIABLE  NOT ENOUGH INFO   \n",
       "18840  177862  NOT VERIFIABLE  NOT ENOUGH INFO   \n",
       "18870   74058  NOT VERIFIABLE  NOT ENOUGH INFO   \n",
       "19046  166917  NOT VERIFIABLE  NOT ENOUGH INFO   \n",
       "19531  153706  NOT VERIFIABLE  NOT ENOUGH INFO   \n",
       "\n",
       "                                                   claim  \\\n",
       "10077      Pocahontas was the daughter of the president.   \n",
       "10083    A thunderstorm can also be called an hurricane.   \n",
       "10115    Donald Trump was a member of the Grateful Dead.   \n",
       "10431                                Musala is a valley.   \n",
       "10732  The Africa Cup of Nations had its schedule cha...   \n",
       "10933        A static web page is delivered to the user.   \n",
       "10986                      Georgians arose from a place.   \n",
       "11227                         Hezbollah is part of Iran.   \n",
       "11578     Internet access requires the use of computers.   \n",
       "11760                      Sejong the Great was a queen.   \n",
       "11802  Sacre-Coeur, Paris is publicly dedicated to th...   \n",
       "11973                     Nina Jacobson is an executive.   \n",
       "12869       Sausage Party is a computer-animated horror.   \n",
       "13078                      PBS is a private broadcaster.   \n",
       "13313               Wolfgang Amadeus Mozart was married.   \n",
       "13494                              The Giver is a drama.   \n",
       "13522                   Doxycycline may cause headaches.   \n",
       "14130                        One True Thing is a comedy.   \n",
       "15158  The Beverly Hillbillies ranked as the number o...   \n",
       "15253                   Two and a Half Men season aired.   \n",
       "15517  The New England Patriots owns the record for m...   \n",
       "16633  Military deception is a form of strategic use ...   \n",
       "16717                         Edward Cullen was created.   \n",
       "16748                       Keith Stanfield is Canadian.   \n",
       "17524                   SummerSlam is thrown by the WWE.   \n",
       "17660                          Hermit crabs are animals.   \n",
       "17788                         Hezbollah is part of Iran.   \n",
       "17896                     The Vandals moved around Asia.   \n",
       "17968          Certain chemicals induce neuromodulation.   \n",
       "18344  Olympic medals had their obverse design standa...   \n",
       "18371  The Battle of the Trebia took place south of t...   \n",
       "18500  The Maltese language is a co-official language...   \n",
       "18840             Milk is based on the life of a person.   \n",
       "18870      Internet access requires the use of hardware.   \n",
       "19046           Baadshah was dubbed under the same name.   \n",
       "19531                        Birmingham is in the ocean.   \n",
       "\n",
       "                                                evidence unique_evidence  \\\n",
       "10077                     [[[148109, None, None, None]]]  [(None, None)]   \n",
       "10083                     [[[237312, None, None, None]]]  [(None, None)]   \n",
       "10115  [[[13518, None, None, None], [18925, None, Non...  [(None, None)]   \n",
       "10431                      [[[40031, None, None, None]]]  [(None, None)]   \n",
       "10732                     [[[162951, None, None, None]]]  [(None, None)]   \n",
       "10933                     [[[237129, None, None, None]]]  [(None, None)]   \n",
       "10986                     [[[111911, None, None, None]]]  [(None, None)]   \n",
       "11227                     [[[189638, None, None, None]]]  [(None, None)]   \n",
       "11578                      [[[28096, None, None, None]]]  [(None, None)]   \n",
       "11760                     [[[270486, None, None, None]]]  [(None, None)]   \n",
       "11802                     [[[224779, None, None, None]]]  [(None, None)]   \n",
       "11973                     [[[212542, None, None, None]]]  [(None, None)]   \n",
       "12869                      [[[57284, None, None, None]]]  [(None, None)]   \n",
       "13078                     [[[255660, None, None, None]]]  [(None, None)]   \n",
       "13313                     [[[147171, None, None, None]]]  [(None, None)]   \n",
       "13494                      [[[55626, None, None, None]]]  [(None, None)]   \n",
       "13522                     [[[180353, None, None, None]]]  [(None, None)]   \n",
       "14130                     [[[163345, None, None, None]]]  [(None, None)]   \n",
       "15158                     [[[129377, None, None, None]]]  [(None, None)]   \n",
       "15253                     [[[272857, None, None, None]]]  [(None, None)]   \n",
       "15517                     [[[121038, None, None, None]]]  [(None, None)]   \n",
       "16633                     [[[245179, None, None, None]]]  [(None, None)]   \n",
       "16717                     [[[101756, None, None, None]]]  [(None, None)]   \n",
       "16748                     [[[174588, None, None, None]]]  [(None, None)]   \n",
       "17524                      [[[18152, None, None, None]]]  [(None, None)]   \n",
       "17660                      [[[26319, None, None, None]]]  [(None, None)]   \n",
       "17788                     [[[189637, None, None, None]]]  [(None, None)]   \n",
       "17896                     [[[170635, None, None, None]]]  [(None, None)]   \n",
       "17968  [[[293288, None, None, None], [293292, None, N...  [(None, None)]   \n",
       "18344                     [[[170130, None, None, None]]]  [(None, None)]   \n",
       "18371                      [[[74037, None, None, None]]]  [(None, None)]   \n",
       "18500                      [[[91038, None, None, None]]]  [(None, None)]   \n",
       "18840                     [[[206152, None, None, None]]]  [(None, None)]   \n",
       "18870                      [[[90838, None, None, None]]]  [(None, None)]   \n",
       "19046                     [[[191999, None, None, None]]]  [(None, None)]   \n",
       "19531                     [[[177671, None, None, None]]]  [(None, None)]   \n",
       "\n",
       "      evidence_sentences  claim_in_bigbench  \n",
       "10077                 []               True  \n",
       "10083                 []               True  \n",
       "10115                 []               True  \n",
       "10431                 []               True  \n",
       "10732                 []               True  \n",
       "10933                 []               True  \n",
       "10986                 []               True  \n",
       "11227                 []               True  \n",
       "11578                 []               True  \n",
       "11760                 []               True  \n",
       "11802                 []               True  \n",
       "11973                 []               True  \n",
       "12869                 []               True  \n",
       "13078                 []               True  \n",
       "13313                 []               True  \n",
       "13494                 []               True  \n",
       "13522                 []               True  \n",
       "14130                 []               True  \n",
       "15158                 []               True  \n",
       "15253                 []               True  \n",
       "15517                 []               True  \n",
       "16633                 []               True  \n",
       "16717                 []               True  \n",
       "16748                 []               True  \n",
       "17524                 []               True  \n",
       "17660                 []               True  \n",
       "17788                 []               True  \n",
       "17896                 []               True  \n",
       "17968                 []               True  \n",
       "18344                 []               True  \n",
       "18371                 []               True  \n",
       "18500                 []               True  \n",
       "18840                 []               True  \n",
       "18870                 []               True  \n",
       "19046                 []               True  \n",
       "19531                 []               True  "
      ]
     },
     "execution_count": 158,
     "metadata": {},
     "output_type": "execute_result"
    }
   ],
   "source": [
    "df[(df.verifiable != \"VERIFIABLE\") & (df[\"claim_in_bigbench\"] == True)]"
   ]
  },
  {
   "cell_type": "code",
   "execution_count": 106,
   "metadata": {},
   "outputs": [],
   "source": [
    "wiki_pages_df.index = wiki_pages_df.index.str.encode('utf-8').str.decode('utf-8')"
   ]
  },
  {
   "cell_type": "code",
   "execution_count": 118,
   "metadata": {},
   "outputs": [
    {
     "data": {
      "text/html": [
       "<div>\n",
       "<style scoped>\n",
       "    .dataframe tbody tr th:only-of-type {\n",
       "        vertical-align: middle;\n",
       "    }\n",
       "\n",
       "    .dataframe tbody tr th {\n",
       "        vertical-align: top;\n",
       "    }\n",
       "\n",
       "    .dataframe thead th {\n",
       "        text-align: right;\n",
       "    }\n",
       "</style>\n",
       "<table border=\"1\" class=\"dataframe\">\n",
       "  <thead>\n",
       "    <tr style=\"text-align: right;\">\n",
       "      <th></th>\n",
       "      <th>text</th>\n",
       "      <th>lines</th>\n",
       "      <th>lines_split</th>\n",
       "    </tr>\n",
       "    <tr>\n",
       "      <th>id</th>\n",
       "      <th></th>\n",
       "      <th></th>\n",
       "      <th></th>\n",
       "    </tr>\n",
       "  </thead>\n",
       "  <tbody>\n",
       "    <tr>\n",
       "      <th>2009_Copa_Simón_Bolívar</th>\n",
       "      <td>The 2nd tier in the Bolivian Football pyramid ...</td>\n",
       "      <td>0\\tThe 2nd tier in the Bolivian Football pyram...</td>\n",
       "      <td>[The 2nd tier in the Bolivian Football pyramid...</td>\n",
       "    </tr>\n",
       "    <tr>\n",
       "      <th>2010_Copa_Simón_Bolívar</th>\n",
       "      <td>This is the 22nd season of Copa Simon Bolivar ...</td>\n",
       "      <td>0\\tThis is the 22nd season of Copa Simon Boliv...</td>\n",
       "      <td>[This is the 22nd season of Copa Simon Bolivar...</td>\n",
       "    </tr>\n",
       "    <tr>\n",
       "      <th>2008_Copa_Simón_Bolívar</th>\n",
       "      <td>The tournament started in 1960 , initially onl...</td>\n",
       "      <td>0\\tThe tournament started in 1960 , initially ...</td>\n",
       "      <td>[The tournament started in 1960 , initially on...</td>\n",
       "    </tr>\n",
       "    <tr>\n",
       "      <th>Birthplace_of_Simón_Bolívar</th>\n",
       "      <td>The Birthplace of Simón Bolívar -LRB- Casa Nat...</td>\n",
       "      <td>0\\tThe Birthplace of Simón Bolívar -LRB- Casa ...</td>\n",
       "      <td>[The Birthplace of Simón Bolívar -LRB- Casa Na...</td>\n",
       "    </tr>\n",
       "    <tr>\n",
       "      <th>Centro_Simón_Bolívar_Towers</th>\n",
       "      <td>The Centro Simón Bolívar Towers TCSB also know...</td>\n",
       "      <td>0\\tThe Centro Simón Bolívar Towers TCSB also k...</td>\n",
       "      <td>[The Centro Simón Bolívar Towers TCSB also kno...</td>\n",
       "    </tr>\n",
       "    <tr>\n",
       "      <th>Colegio_La_Salle_Simón_Bolívar</th>\n",
       "      <td>Colegio La Salle Simón Bolívar is a private sc...</td>\n",
       "      <td>0\\tColegio La Salle Simón Bolívar is a private...</td>\n",
       "      <td>[Colegio La Salle Simón Bolívar is a private s...</td>\n",
       "    </tr>\n",
       "    <tr>\n",
       "      <th>Colegio_Simón_Bolívar_-LRB-Simon_Bolivar_University-RRB-</th>\n",
       "      <td>Colegio Simón Bolívar -LRB- CSB -RRB- is a pri...</td>\n",
       "      <td>0\\tColegio Simón Bolívar -LRB- CSB -RRB- is a ...</td>\n",
       "      <td>[Colegio Simón Bolívar -LRB- CSB -RRB- is a pr...</td>\n",
       "    </tr>\n",
       "    <tr>\n",
       "      <th>Colegio_Simón_Bolívar</th>\n",
       "      <td>Colegio Simón Bolívar may refer to :  Colegio ...</td>\n",
       "      <td>0\\tColegio Simón Bolívar may refer to :\\tSimón...</td>\n",
       "      <td>[Colegio Simón Bolívar may refer to :\\tSimón B...</td>\n",
       "    </tr>\n",
       "    <tr>\n",
       "      <th>Copa_Simón_Bolívar</th>\n",
       "      <td>The old 2nd tier in the Bolivian Football pyra...</td>\n",
       "      <td>0\\tThe old 2nd tier in the Bolivian Football p...</td>\n",
       "      <td>[The old 2nd tier in the Bolivian Football pyr...</td>\n",
       "    </tr>\n",
       "    <tr>\n",
       "      <th>Copa_Simón_Bolívar_-LRB-Venezuela-RRB-</th>\n",
       "      <td>The Copa Simón Bolívar -LRB- English : Simón B...</td>\n",
       "      <td>0\\tThe Copa Simón Bolívar -LRB- English : Simó...</td>\n",
       "      <td>[The Copa Simón Bolívar -LRB- English : Simón ...</td>\n",
       "    </tr>\n",
       "    <tr>\n",
       "      <th>Estadio_Libertador_Simón_Bolívar</th>\n",
       "      <td>Estadio Libertador Simón Bolivar is a multi-us...</td>\n",
       "      <td>0\\tEstadio Libertador Simón Bolivar is a multi...</td>\n",
       "      <td>[Estadio Libertador Simón Bolivar is a multi-u...</td>\n",
       "    </tr>\n",
       "    <tr>\n",
       "      <th>Estadio_de_Fútbol_de_la_Universidad_Simón_Bolívar</th>\n",
       "      <td>Estadio de Fútbol Universidad Simón Bolívar -L...</td>\n",
       "      <td>0\\tEstadio de Fútbol Universidad Simón Bolívar...</td>\n",
       "      <td>[Estadio de Fútbol Universidad Simón Bolívar -...</td>\n",
       "    </tr>\n",
       "    <tr>\n",
       "      <th>Ensanche_Simón_Bolívar</th>\n",
       "      <td>Ensanche Simón Bolívar is a Sector in the city...</td>\n",
       "      <td>0\\tEnsanche Simón Bolívar is a Sector in the c...</td>\n",
       "      <td>[Ensanche Simón Bolívar is a Sector in the cit...</td>\n",
       "    </tr>\n",
       "    <tr>\n",
       "      <th>Equestrian_of_Simón_Bolívar</th>\n",
       "      <td>Equestrian of Simón Bolívar is a public artwor...</td>\n",
       "      <td>0\\tEquestrian of Simón Bolívar is a public art...</td>\n",
       "      <td>[Equestrian of Simón Bolívar is a public artwo...</td>\n",
       "    </tr>\n",
       "    <tr>\n",
       "      <th>General_Simón_Bolívar</th>\n",
       "      <td>Simón Bolívar , Durango , Mexico is a city and...</td>\n",
       "      <td>0\\tSimón Bolívar , Durango , Mexico is a city ...</td>\n",
       "      <td>[Simón Bolívar , Durango , Mexico is a city an...</td>\n",
       "    </tr>\n",
       "    <tr>\n",
       "      <th>General_Simón_Bolívar_Municipality</th>\n",
       "      <td>General Simón Bolívar is one of the 39 municip...</td>\n",
       "      <td>0\\tGeneral Simón Bolívar is one of the 39 muni...</td>\n",
       "      <td>[General Simón Bolívar is one of the 39 munici...</td>\n",
       "    </tr>\n",
       "    <tr>\n",
       "      <th>Instituto_Simón_Bolívar</th>\n",
       "      <td>Instituto Simón Bolívar -LRB- ISB -RRB- is a p...</td>\n",
       "      <td>0\\tInstituto Simón Bolívar -LRB- ISB -RRB- is ...</td>\n",
       "      <td>[Instituto Simón Bolívar -LRB- ISB -RRB- is a ...</td>\n",
       "    </tr>\n",
       "    <tr>\n",
       "      <th>International_Simón_Bolívar_Prize</th>\n",
       "      <td>The International Simón Bolívar Prize serves t...</td>\n",
       "      <td>0\\tThe International Simón Bolívar Prize serve...</td>\n",
       "      <td>[The International Simón Bolívar Prize serves ...</td>\n",
       "    </tr>\n",
       "    <tr>\n",
       "      <th>Libertador_Simón_Bolívar_Terminal</th>\n",
       "      <td>Caracas Libertador Simón Bolívar railway stati...</td>\n",
       "      <td>0\\tCaracas Libertador Simón Bolívar railway st...</td>\n",
       "      <td>[Caracas Libertador Simón Bolívar railway stat...</td>\n",
       "    </tr>\n",
       "    <tr>\n",
       "      <th>List_of_places_and_things_named_after_Simón_Bolivar</th>\n",
       "      <td></td>\n",
       "      <td></td>\n",
       "      <td>[]</td>\n",
       "    </tr>\n",
       "    <tr>\n",
       "      <th>List_of_events_held_at_Simón_Bolívar_Park</th>\n",
       "      <td>This is the list of events held and announced ...</td>\n",
       "      <td>0\\tThis is the list of events held and announc...</td>\n",
       "      <td>[This is the list of events held and announced...</td>\n",
       "    </tr>\n",
       "    <tr>\n",
       "      <th>Military_career_of_Simón_Bolívar</th>\n",
       "      <td>The military and political career of Simón Bol...</td>\n",
       "      <td>0\\tThe military and political career of Simón ...</td>\n",
       "      <td>[The military and political career of Simón Bo...</td>\n",
       "    </tr>\n",
       "    <tr>\n",
       "      <th>Orquesta_Sinfónica_Simón_Bolívar</th>\n",
       "      <td>The Orquesta Sinfónica Simón Bolívar -LRB- Sim...</td>\n",
       "      <td>0\\tThe Orquesta Sinfónica Simón Bolívar -LRB- ...</td>\n",
       "      <td>[The Orquesta Sinfónica Simón Bolívar -LRB- Si...</td>\n",
       "    </tr>\n",
       "    <tr>\n",
       "      <th>Orindatus_Simon_Bolivar_Wall</th>\n",
       "      <td>Orindatus Simon Bolivar Wall , known as O.S.B....</td>\n",
       "      <td>0\\tOrindatus Simon Bolivar Wall , known as O.S...</td>\n",
       "      <td>[Orindatus Simon Bolivar Wall , known as O.S.B...</td>\n",
       "    </tr>\n",
       "    <tr>\n",
       "      <th>Parque_Zoológico_Nacional_Simón_Bolívar</th>\n",
       "      <td>Parque Nacional Simón Bolívar -LRB- Zoológico ...</td>\n",
       "      <td>0\\tParque Nacional Simón Bolívar -LRB- Zoológi...</td>\n",
       "      <td>[Parque Nacional Simón Bolívar -LRB- Zoológico...</td>\n",
       "    </tr>\n",
       "    <tr>\n",
       "      <th>Simon_Bolivar_Youth_Symphonic_Band</th>\n",
       "      <td>The Simon Bolivar Youth Symphonic Band -LRB- S...</td>\n",
       "      <td>0\\tThe Simon Bolivar Youth Symphonic Band -LRB...</td>\n",
       "      <td>[The Simon Bolivar Youth Symphonic Band -LRB- ...</td>\n",
       "    </tr>\n",
       "    <tr>\n",
       "      <th>Simon_Bolivar_Buckner</th>\n",
       "      <td>Simon Bolivar Buckner -LRB- April 1 , 1823 -- ...</td>\n",
       "      <td>0\\tSimon Bolivar Buckner -LRB- April 1 , 1823 ...</td>\n",
       "      <td>[Simon Bolivar Buckner -LRB- April 1 , 1823 --...</td>\n",
       "    </tr>\n",
       "    <tr>\n",
       "      <th>Simon_Bolivar_Buckner_Jr.</th>\n",
       "      <td>Simon Bolivar Buckner Jr. -LRB- July 18 , 1886...</td>\n",
       "      <td>0\\tSimon Bolivar Buckner Jr. -LRB- July 18 , 1...</td>\n",
       "      <td>[Simon Bolivar Buckner Jr. -LRB- July 18 , 188...</td>\n",
       "    </tr>\n",
       "    <tr>\n",
       "      <th>Simon_Bolivar_University_-LRB-Mexico-RRB-</th>\n",
       "      <td>Simon Bolivar University -LRB- Universidad Sim...</td>\n",
       "      <td>0\\tSimon Bolivar University -LRB- Universidad ...</td>\n",
       "      <td>[Simon Bolivar University -LRB- Universidad Si...</td>\n",
       "    </tr>\n",
       "    <tr>\n",
       "      <th>Simón_Bolívar_International_Airport</th>\n",
       "      <td>Simón Bolívar International Airport may refer ...</td>\n",
       "      <td>0\\tSimón Bolívar International Airport may ref...</td>\n",
       "      <td>[Simón Bolívar International Airport may refer...</td>\n",
       "    </tr>\n",
       "    <tr>\n",
       "      <th>Simón_Bolívar_-LRB-opera-RRB-</th>\n",
       "      <td>Simón Bolívar is an opera in two acts composed...</td>\n",
       "      <td>0\\tSimón Bolívar is an opera in two acts compo...</td>\n",
       "      <td>[Simón Bolívar is an opera in two acts compose...</td>\n",
       "    </tr>\n",
       "    <tr>\n",
       "      <th>Simón_Bolívar_Professor_of_Latin-American_Studies</th>\n",
       "      <td>The Simón Bolívar Chair in Latin American Stud...</td>\n",
       "      <td>0\\tThe Simón Bolívar Chair in Latin American S...</td>\n",
       "      <td>[The Simón Bolívar Chair in Latin American Stu...</td>\n",
       "    </tr>\n",
       "    <tr>\n",
       "      <th>Simón_Bolívar,_Anzoátegui</th>\n",
       "      <td>The Simón Bolívar Municipality is one of the 2...</td>\n",
       "      <td>0\\tThe Simón Bolívar Municipality is one of th...</td>\n",
       "      <td>[The Simón Bolívar Municipality is one of the ...</td>\n",
       "    </tr>\n",
       "    <tr>\n",
       "      <th>Simón_Bolívar_-LRB-1969_film-RRB-</th>\n",
       "      <td>Simón Bolívar is a 1969 Spanish drama film dir...</td>\n",
       "      <td>0\\tSimón Bolívar is a 1969 Spanish drama film ...</td>\n",
       "      <td>[Simón Bolívar is a 1969 Spanish drama film di...</td>\n",
       "    </tr>\n",
       "    <tr>\n",
       "      <th>Simón_Bolívar_-LRB-1942_film-RRB-</th>\n",
       "      <td>Simón Bolívar is a 1942 Mexican historical dra...</td>\n",
       "      <td>0\\tSimón Bolívar is a 1942 Mexican historical ...</td>\n",
       "      <td>[Simón Bolívar is a 1942 Mexican historical dr...</td>\n",
       "    </tr>\n",
       "    <tr>\n",
       "      <th>Simón_Bolívar</th>\n",
       "      <td>Simón José Antonio de la Santísima Trinidad Bo...</td>\n",
       "      <td>0\\tSimón José Antonio de la Santísima Trinidad...</td>\n",
       "      <td>[Simón José Antonio de la Santísima Trinidad B...</td>\n",
       "    </tr>\n",
       "    <tr>\n",
       "      <th>Simón_Bolívar_International_Airport_-LRB-Colombia-RRB-</th>\n",
       "      <td>Simón Bolívar International Airport -LRB- Aero...</td>\n",
       "      <td>0\\tSimón Bolívar International Airport -LRB- A...</td>\n",
       "      <td>[Simón Bolívar International Airport -LRB- Aer...</td>\n",
       "    </tr>\n",
       "    <tr>\n",
       "      <th>Simón_Bolívar_International_Airport_-LRB-Venezuela-RRB-</th>\n",
       "      <td>Simón Bolívar International Airport or Maiquet...</td>\n",
       "      <td>0\\tSimón Bolívar International Airport or Maiq...</td>\n",
       "      <td>[Simón Bolívar International Airport or Maique...</td>\n",
       "    </tr>\n",
       "    <tr>\n",
       "      <th>Simón_Bolívar_Guerrilla_Coordinating_Board</th>\n",
       "      <td>The Simón Bolívar Guerrilla Coordinating Board...</td>\n",
       "      <td>0\\tThe Simón Bolívar Guerrilla Coordinating Bo...</td>\n",
       "      <td>[The Simón Bolívar Guerrilla Coordinating Boar...</td>\n",
       "    </tr>\n",
       "    <tr>\n",
       "      <th>Simón_Bolívar_-LRB-Tadolini-RRB-</th>\n",
       "      <td>Simon Bolivar , also known as General Bolivar ...</td>\n",
       "      <td>0\\tSimon Bolivar , also known as General Boliv...</td>\n",
       "      <td>[Simon Bolivar , also known as General Bolivar...</td>\n",
       "    </tr>\n",
       "    <tr>\n",
       "      <th>Simón_Bolívar_-LRB-barque-RRB-</th>\n",
       "      <td>Simón Bolívar is a training vessel for the Ven...</td>\n",
       "      <td>0\\tSimón Bolívar is a training vessel for the ...</td>\n",
       "      <td>[Simón Bolívar is a training vessel for the Ve...</td>\n",
       "    </tr>\n",
       "    <tr>\n",
       "      <th>Simón_Bolívar,_Miranda</th>\n",
       "      <td>Simón Bolívar is one of the 21 municipalities ...</td>\n",
       "      <td>0\\tSimón Bolívar is one of the 21 municipaliti...</td>\n",
       "      <td>[Simón Bolívar is one of the 21 municipalities...</td>\n",
       "    </tr>\n",
       "    <tr>\n",
       "      <th>Simón_Bolívar_Park</th>\n",
       "      <td>The Simón Bolívar Metropolitan Park , best kno...</td>\n",
       "      <td>0\\tThe Simón Bolívar Metropolitan Park , best ...</td>\n",
       "      <td>[The Simón Bolívar Metropolitan Park , best kn...</td>\n",
       "    </tr>\n",
       "    <tr>\n",
       "      <th>Simón_Bolívar_-LRB-Talacca-RRB-</th>\n",
       "      <td>Simón Bolívar is an outdoor 1977 bronze sculpt...</td>\n",
       "      <td>0\\tSimón Bolívar is an outdoor 1977 bronze scu...</td>\n",
       "      <td>[Simón Bolívar is an outdoor 1977 bronze sculp...</td>\n",
       "    </tr>\n",
       "    <tr>\n",
       "      <th>Simón_Bolívar_metro_station</th>\n",
       "      <td>Simón Bolívar is an underground metro station ...</td>\n",
       "      <td>0\\tSimón Bolívar is an underground metro stati...</td>\n",
       "      <td>[Simón Bolívar is an underground metro station...</td>\n",
       "    </tr>\n",
       "    <tr>\n",
       "      <th>Simón_Bolívar_District,_Paraguay</th>\n",
       "      <td>Simón Bolívar District is one of the districts...</td>\n",
       "      <td>0\\tSimón Bolívar District is one of the distri...</td>\n",
       "      <td>[Simón Bolívar District is one of the district...</td>\n",
       "    </tr>\n",
       "    <tr>\n",
       "      <th>Simón_Bolívar_-LRB-TransMilenio-RRB-</th>\n",
       "      <td>The simple-station Simón Bolívar is part of th...</td>\n",
       "      <td>0\\tThe simple-station Simón Bolívar is part of...</td>\n",
       "      <td>[The simple-station Simón Bolívar is part of t...</td>\n",
       "    </tr>\n",
       "    <tr>\n",
       "      <th>Simón_Bolívar_United_World_College_of_Agriculture</th>\n",
       "      <td>Simón Bolívar United World College of Agricult...</td>\n",
       "      <td>0\\tSimón Bolívar United World College of Agric...</td>\n",
       "      <td>[Simón Bolívar United World College of Agricul...</td>\n",
       "    </tr>\n",
       "    <tr>\n",
       "      <th>Simón_Bolívar_University</th>\n",
       "      <td>-LRB- ES -RRB-   The Simón Bolívar University ...</td>\n",
       "      <td>0\\t-LRB- ES -RRB-\\tES\\t:es:Universidad Simón B...</td>\n",
       "      <td>[-LRB- ES -RRB-\\tES\\t:es:Universidad Simón Bol...</td>\n",
       "    </tr>\n",
       "    <tr>\n",
       "      <th>Simón_Bolívar_-LRB-disambiguation-RRB-</th>\n",
       "      <td>Simón Bolívar -LRB- 1783 -- 1830 -RRB- was a V...</td>\n",
       "      <td>0\\tSimón Bolívar -LRB- 1783 -- 1830 -RRB- was ...</td>\n",
       "      <td>[Simón Bolívar -LRB- 1783 -- 1830 -RRB- was a ...</td>\n",
       "    </tr>\n",
       "    <tr>\n",
       "      <th>Simón_Bolívar_District,_Peru</th>\n",
       "      <td>Simón Bolívar District is one of thirteen dist...</td>\n",
       "      <td>0\\tSimón Bolívar District is one of thirteen d...</td>\n",
       "      <td>[Simón Bolívar District is one of thirteen dis...</td>\n",
       "    </tr>\n",
       "    <tr>\n",
       "      <th>Simón_Bolívar_Canton</th>\n",
       "      <td>Simón Bolívar Canton is a canton of Ecuador , ...</td>\n",
       "      <td>0\\tSimón Bolívar Canton is a canton of Ecuador...</td>\n",
       "      <td>[Simón Bolívar Canton is a canton of Ecuador ,...</td>\n",
       "    </tr>\n",
       "    <tr>\n",
       "      <th>Simón_Bolívar_-LRB-Monterrey_Metro-RRB-</th>\n",
       "      <td>The Simón Bolívar Station -LRB- Estación Simón...</td>\n",
       "      <td>0\\tThe Simón Bolívar Station -LRB- Estación Si...</td>\n",
       "      <td>[The Simón Bolívar Station -LRB- Estación Simó...</td>\n",
       "    </tr>\n",
       "    <tr>\n",
       "      <th>Statue_of_Simón_Bolívar,_London</th>\n",
       "      <td>The statue of Simón Bolívar is an outdoor bron...</td>\n",
       "      <td>0\\tThe statue of Simón Bolívar is an outdoor b...</td>\n",
       "      <td>[The statue of Simón Bolívar is an outdoor bro...</td>\n",
       "    </tr>\n",
       "    <tr>\n",
       "      <th>USS_Simon_Bolivar_-LRB-SSBN-641-RRB-</th>\n",
       "      <td>USS Simon Bolivar -LRB- SSBN-641 -RRB- , a fle...</td>\n",
       "      <td>0\\tUSS Simon Bolivar -LRB- SSBN-641 -RRB- , a ...</td>\n",
       "      <td>[USS Simon Bolivar -LRB- SSBN-641 -RRB- , a fl...</td>\n",
       "    </tr>\n",
       "    <tr>\n",
       "      <th>Villa_Simón_Bolívar</th>\n",
       "      <td>Villa Simón Bolívar is a small town in Bolivia .</td>\n",
       "      <td>0\\tVilla Simón Bolívar is a small town in Boli...</td>\n",
       "      <td>[Villa Simón Bolívar is a small town in Bolivi...</td>\n",
       "    </tr>\n",
       "  </tbody>\n",
       "</table>\n",
       "</div>"
      ],
      "text/plain": [
       "                                                                                                 text  \\\n",
       "id                                                                                                      \n",
       "2009_Copa_Simón_Bolívar                             The 2nd tier in the Bolivian Football pyramid ...   \n",
       "2010_Copa_Simón_Bolívar                             This is the 22nd season of Copa Simon Bolivar ...   \n",
       "2008_Copa_Simón_Bolívar                             The tournament started in 1960 , initially onl...   \n",
       "Birthplace_of_Simón_Bolívar                         The Birthplace of Simón Bolívar -LRB- Casa Nat...   \n",
       "Centro_Simón_Bolívar_Towers                         The Centro Simón Bolívar Towers TCSB also know...   \n",
       "Colegio_La_Salle_Simón_Bolívar                      Colegio La Salle Simón Bolívar is a private sc...   \n",
       "Colegio_Simón_Bolívar_-LRB-Simon_Bolivar_Univer...  Colegio Simón Bolívar -LRB- CSB -RRB- is a pri...   \n",
       "Colegio_Simón_Bolívar                               Colegio Simón Bolívar may refer to :  Colegio ...   \n",
       "Copa_Simón_Bolívar                                  The old 2nd tier in the Bolivian Football pyra...   \n",
       "Copa_Simón_Bolívar_-LRB-Venezuela-RRB-              The Copa Simón Bolívar -LRB- English : Simón B...   \n",
       "Estadio_Libertador_Simón_Bolívar                    Estadio Libertador Simón Bolivar is a multi-us...   \n",
       "Estadio_de_Fútbol_de_la_Universidad_Simón_Bolívar   Estadio de Fútbol Universidad Simón Bolívar -L...   \n",
       "Ensanche_Simón_Bolívar                              Ensanche Simón Bolívar is a Sector in the city...   \n",
       "Equestrian_of_Simón_Bolívar                         Equestrian of Simón Bolívar is a public artwor...   \n",
       "General_Simón_Bolívar                               Simón Bolívar , Durango , Mexico is a city and...   \n",
       "General_Simón_Bolívar_Municipality                  General Simón Bolívar is one of the 39 municip...   \n",
       "Instituto_Simón_Bolívar                             Instituto Simón Bolívar -LRB- ISB -RRB- is a p...   \n",
       "International_Simón_Bolívar_Prize                   The International Simón Bolívar Prize serves t...   \n",
       "Libertador_Simón_Bolívar_Terminal                   Caracas Libertador Simón Bolívar railway stati...   \n",
       "List_of_places_and_things_named_after_Simón_Bol...                                                      \n",
       "List_of_events_held_at_Simón_Bolívar_Park           This is the list of events held and announced ...   \n",
       "Military_career_of_Simón_Bolívar                    The military and political career of Simón Bol...   \n",
       "Orquesta_Sinfónica_Simón_Bolívar                    The Orquesta Sinfónica Simón Bolívar -LRB- Sim...   \n",
       "Orindatus_Simon_Bolivar_Wall                        Orindatus Simon Bolivar Wall , known as O.S.B....   \n",
       "Parque_Zoológico_Nacional_Simón_Bolívar             Parque Nacional Simón Bolívar -LRB- Zoológico ...   \n",
       "Simon_Bolivar_Youth_Symphonic_Band                  The Simon Bolivar Youth Symphonic Band -LRB- S...   \n",
       "Simon_Bolivar_Buckner                               Simon Bolivar Buckner -LRB- April 1 , 1823 -- ...   \n",
       "Simon_Bolivar_Buckner_Jr.                           Simon Bolivar Buckner Jr. -LRB- July 18 , 1886...   \n",
       "Simon_Bolivar_University_-LRB-Mexico-RRB-           Simon Bolivar University -LRB- Universidad Sim...   \n",
       "Simón_Bolívar_International_Airport                 Simón Bolívar International Airport may refer ...   \n",
       "Simón_Bolívar_-LRB-opera-RRB-                       Simón Bolívar is an opera in two acts composed...   \n",
       "Simón_Bolívar_Professor_of_Latin-American_Studies   The Simón Bolívar Chair in Latin American Stud...   \n",
       "Simón_Bolívar,_Anzoátegui                           The Simón Bolívar Municipality is one of the 2...   \n",
       "Simón_Bolívar_-LRB-1969_film-RRB-                   Simón Bolívar is a 1969 Spanish drama film dir...   \n",
       "Simón_Bolívar_-LRB-1942_film-RRB-                   Simón Bolívar is a 1942 Mexican historical dra...   \n",
       "Simón_Bolívar                                       Simón José Antonio de la Santísima Trinidad Bo...   \n",
       "Simón_Bolívar_International_Airport_-LRB-Colomb...  Simón Bolívar International Airport -LRB- Aero...   \n",
       "Simón_Bolívar_International_Airport_-LRB-Venezu...  Simón Bolívar International Airport or Maiquet...   \n",
       "Simón_Bolívar_Guerrilla_Coordinating_Board          The Simón Bolívar Guerrilla Coordinating Board...   \n",
       "Simón_Bolívar_-LRB-Tadolini-RRB-                    Simon Bolivar , also known as General Bolivar ...   \n",
       "Simón_Bolívar_-LRB-barque-RRB-                      Simón Bolívar is a training vessel for the Ven...   \n",
       "Simón_Bolívar,_Miranda                              Simón Bolívar is one of the 21 municipalities ...   \n",
       "Simón_Bolívar_Park                                  The Simón Bolívar Metropolitan Park , best kno...   \n",
       "Simón_Bolívar_-LRB-Talacca-RRB-                     Simón Bolívar is an outdoor 1977 bronze sculpt...   \n",
       "Simón_Bolívar_metro_station                         Simón Bolívar is an underground metro station ...   \n",
       "Simón_Bolívar_District,_Paraguay                    Simón Bolívar District is one of the districts...   \n",
       "Simón_Bolívar_-LRB-TransMilenio-RRB-                The simple-station Simón Bolívar is part of th...   \n",
       "Simón_Bolívar_United_World_College_of_Agriculture   Simón Bolívar United World College of Agricult...   \n",
       "Simón_Bolívar_University                            -LRB- ES -RRB-   The Simón Bolívar University ...   \n",
       "Simón_Bolívar_-LRB-disambiguation-RRB-              Simón Bolívar -LRB- 1783 -- 1830 -RRB- was a V...   \n",
       "Simón_Bolívar_District,_Peru                        Simón Bolívar District is one of thirteen dist...   \n",
       "Simón_Bolívar_Canton                                Simón Bolívar Canton is a canton of Ecuador , ...   \n",
       "Simón_Bolívar_-LRB-Monterrey_Metro-RRB-             The Simón Bolívar Station -LRB- Estación Simón...   \n",
       "Statue_of_Simón_Bolívar,_London                     The statue of Simón Bolívar is an outdoor bron...   \n",
       "USS_Simon_Bolivar_-LRB-SSBN-641-RRB-                USS Simon Bolivar -LRB- SSBN-641 -RRB- , a fle...   \n",
       "Villa_Simón_Bolívar                                 Villa Simón Bolívar is a small town in Bolivia .    \n",
       "\n",
       "                                                                                                lines  \\\n",
       "id                                                                                                      \n",
       "2009_Copa_Simón_Bolívar                             0\\tThe 2nd tier in the Bolivian Football pyram...   \n",
       "2010_Copa_Simón_Bolívar                             0\\tThis is the 22nd season of Copa Simon Boliv...   \n",
       "2008_Copa_Simón_Bolívar                             0\\tThe tournament started in 1960 , initially ...   \n",
       "Birthplace_of_Simón_Bolívar                         0\\tThe Birthplace of Simón Bolívar -LRB- Casa ...   \n",
       "Centro_Simón_Bolívar_Towers                         0\\tThe Centro Simón Bolívar Towers TCSB also k...   \n",
       "Colegio_La_Salle_Simón_Bolívar                      0\\tColegio La Salle Simón Bolívar is a private...   \n",
       "Colegio_Simón_Bolívar_-LRB-Simon_Bolivar_Univer...  0\\tColegio Simón Bolívar -LRB- CSB -RRB- is a ...   \n",
       "Colegio_Simón_Bolívar                               0\\tColegio Simón Bolívar may refer to :\\tSimón...   \n",
       "Copa_Simón_Bolívar                                  0\\tThe old 2nd tier in the Bolivian Football p...   \n",
       "Copa_Simón_Bolívar_-LRB-Venezuela-RRB-              0\\tThe Copa Simón Bolívar -LRB- English : Simó...   \n",
       "Estadio_Libertador_Simón_Bolívar                    0\\tEstadio Libertador Simón Bolivar is a multi...   \n",
       "Estadio_de_Fútbol_de_la_Universidad_Simón_Bolívar   0\\tEstadio de Fútbol Universidad Simón Bolívar...   \n",
       "Ensanche_Simón_Bolívar                              0\\tEnsanche Simón Bolívar is a Sector in the c...   \n",
       "Equestrian_of_Simón_Bolívar                         0\\tEquestrian of Simón Bolívar is a public art...   \n",
       "General_Simón_Bolívar                               0\\tSimón Bolívar , Durango , Mexico is a city ...   \n",
       "General_Simón_Bolívar_Municipality                  0\\tGeneral Simón Bolívar is one of the 39 muni...   \n",
       "Instituto_Simón_Bolívar                             0\\tInstituto Simón Bolívar -LRB- ISB -RRB- is ...   \n",
       "International_Simón_Bolívar_Prize                   0\\tThe International Simón Bolívar Prize serve...   \n",
       "Libertador_Simón_Bolívar_Terminal                   0\\tCaracas Libertador Simón Bolívar railway st...   \n",
       "List_of_places_and_things_named_after_Simón_Bol...                                                      \n",
       "List_of_events_held_at_Simón_Bolívar_Park           0\\tThis is the list of events held and announc...   \n",
       "Military_career_of_Simón_Bolívar                    0\\tThe military and political career of Simón ...   \n",
       "Orquesta_Sinfónica_Simón_Bolívar                    0\\tThe Orquesta Sinfónica Simón Bolívar -LRB- ...   \n",
       "Orindatus_Simon_Bolivar_Wall                        0\\tOrindatus Simon Bolivar Wall , known as O.S...   \n",
       "Parque_Zoológico_Nacional_Simón_Bolívar             0\\tParque Nacional Simón Bolívar -LRB- Zoológi...   \n",
       "Simon_Bolivar_Youth_Symphonic_Band                  0\\tThe Simon Bolivar Youth Symphonic Band -LRB...   \n",
       "Simon_Bolivar_Buckner                               0\\tSimon Bolivar Buckner -LRB- April 1 , 1823 ...   \n",
       "Simon_Bolivar_Buckner_Jr.                           0\\tSimon Bolivar Buckner Jr. -LRB- July 18 , 1...   \n",
       "Simon_Bolivar_University_-LRB-Mexico-RRB-           0\\tSimon Bolivar University -LRB- Universidad ...   \n",
       "Simón_Bolívar_International_Airport                 0\\tSimón Bolívar International Airport may ref...   \n",
       "Simón_Bolívar_-LRB-opera-RRB-                       0\\tSimón Bolívar is an opera in two acts compo...   \n",
       "Simón_Bolívar_Professor_of_Latin-American_Studies   0\\tThe Simón Bolívar Chair in Latin American S...   \n",
       "Simón_Bolívar,_Anzoátegui                           0\\tThe Simón Bolívar Municipality is one of th...   \n",
       "Simón_Bolívar_-LRB-1969_film-RRB-                   0\\tSimón Bolívar is a 1969 Spanish drama film ...   \n",
       "Simón_Bolívar_-LRB-1942_film-RRB-                   0\\tSimón Bolívar is a 1942 Mexican historical ...   \n",
       "Simón_Bolívar                                       0\\tSimón José Antonio de la Santísima Trinidad...   \n",
       "Simón_Bolívar_International_Airport_-LRB-Colomb...  0\\tSimón Bolívar International Airport -LRB- A...   \n",
       "Simón_Bolívar_International_Airport_-LRB-Venezu...  0\\tSimón Bolívar International Airport or Maiq...   \n",
       "Simón_Bolívar_Guerrilla_Coordinating_Board          0\\tThe Simón Bolívar Guerrilla Coordinating Bo...   \n",
       "Simón_Bolívar_-LRB-Tadolini-RRB-                    0\\tSimon Bolivar , also known as General Boliv...   \n",
       "Simón_Bolívar_-LRB-barque-RRB-                      0\\tSimón Bolívar is a training vessel for the ...   \n",
       "Simón_Bolívar,_Miranda                              0\\tSimón Bolívar is one of the 21 municipaliti...   \n",
       "Simón_Bolívar_Park                                  0\\tThe Simón Bolívar Metropolitan Park , best ...   \n",
       "Simón_Bolívar_-LRB-Talacca-RRB-                     0\\tSimón Bolívar is an outdoor 1977 bronze scu...   \n",
       "Simón_Bolívar_metro_station                         0\\tSimón Bolívar is an underground metro stati...   \n",
       "Simón_Bolívar_District,_Paraguay                    0\\tSimón Bolívar District is one of the distri...   \n",
       "Simón_Bolívar_-LRB-TransMilenio-RRB-                0\\tThe simple-station Simón Bolívar is part of...   \n",
       "Simón_Bolívar_United_World_College_of_Agriculture   0\\tSimón Bolívar United World College of Agric...   \n",
       "Simón_Bolívar_University                            0\\t-LRB- ES -RRB-\\tES\\t:es:Universidad Simón B...   \n",
       "Simón_Bolívar_-LRB-disambiguation-RRB-              0\\tSimón Bolívar -LRB- 1783 -- 1830 -RRB- was ...   \n",
       "Simón_Bolívar_District,_Peru                        0\\tSimón Bolívar District is one of thirteen d...   \n",
       "Simón_Bolívar_Canton                                0\\tSimón Bolívar Canton is a canton of Ecuador...   \n",
       "Simón_Bolívar_-LRB-Monterrey_Metro-RRB-             0\\tThe Simón Bolívar Station -LRB- Estación Si...   \n",
       "Statue_of_Simón_Bolívar,_London                     0\\tThe statue of Simón Bolívar is an outdoor b...   \n",
       "USS_Simon_Bolivar_-LRB-SSBN-641-RRB-                0\\tUSS Simon Bolivar -LRB- SSBN-641 -RRB- , a ...   \n",
       "Villa_Simón_Bolívar                                 0\\tVilla Simón Bolívar is a small town in Boli...   \n",
       "\n",
       "                                                                                          lines_split  \n",
       "id                                                                                                     \n",
       "2009_Copa_Simón_Bolívar                             [The 2nd tier in the Bolivian Football pyramid...  \n",
       "2010_Copa_Simón_Bolívar                             [This is the 22nd season of Copa Simon Bolivar...  \n",
       "2008_Copa_Simón_Bolívar                             [The tournament started in 1960 , initially on...  \n",
       "Birthplace_of_Simón_Bolívar                         [The Birthplace of Simón Bolívar -LRB- Casa Na...  \n",
       "Centro_Simón_Bolívar_Towers                         [The Centro Simón Bolívar Towers TCSB also kno...  \n",
       "Colegio_La_Salle_Simón_Bolívar                      [Colegio La Salle Simón Bolívar is a private s...  \n",
       "Colegio_Simón_Bolívar_-LRB-Simon_Bolivar_Univer...  [Colegio Simón Bolívar -LRB- CSB -RRB- is a pr...  \n",
       "Colegio_Simón_Bolívar                               [Colegio Simón Bolívar may refer to :\\tSimón B...  \n",
       "Copa_Simón_Bolívar                                  [The old 2nd tier in the Bolivian Football pyr...  \n",
       "Copa_Simón_Bolívar_-LRB-Venezuela-RRB-              [The Copa Simón Bolívar -LRB- English : Simón ...  \n",
       "Estadio_Libertador_Simón_Bolívar                    [Estadio Libertador Simón Bolivar is a multi-u...  \n",
       "Estadio_de_Fútbol_de_la_Universidad_Simón_Bolívar   [Estadio de Fútbol Universidad Simón Bolívar -...  \n",
       "Ensanche_Simón_Bolívar                              [Ensanche Simón Bolívar is a Sector in the cit...  \n",
       "Equestrian_of_Simón_Bolívar                         [Equestrian of Simón Bolívar is a public artwo...  \n",
       "General_Simón_Bolívar                               [Simón Bolívar , Durango , Mexico is a city an...  \n",
       "General_Simón_Bolívar_Municipality                  [General Simón Bolívar is one of the 39 munici...  \n",
       "Instituto_Simón_Bolívar                             [Instituto Simón Bolívar -LRB- ISB -RRB- is a ...  \n",
       "International_Simón_Bolívar_Prize                   [The International Simón Bolívar Prize serves ...  \n",
       "Libertador_Simón_Bolívar_Terminal                   [Caracas Libertador Simón Bolívar railway stat...  \n",
       "List_of_places_and_things_named_after_Simón_Bol...                                                 []  \n",
       "List_of_events_held_at_Simón_Bolívar_Park           [This is the list of events held and announced...  \n",
       "Military_career_of_Simón_Bolívar                    [The military and political career of Simón Bo...  \n",
       "Orquesta_Sinfónica_Simón_Bolívar                    [The Orquesta Sinfónica Simón Bolívar -LRB- Si...  \n",
       "Orindatus_Simon_Bolivar_Wall                        [Orindatus Simon Bolivar Wall , known as O.S.B...  \n",
       "Parque_Zoológico_Nacional_Simón_Bolívar             [Parque Nacional Simón Bolívar -LRB- Zoológico...  \n",
       "Simon_Bolivar_Youth_Symphonic_Band                  [The Simon Bolivar Youth Symphonic Band -LRB- ...  \n",
       "Simon_Bolivar_Buckner                               [Simon Bolivar Buckner -LRB- April 1 , 1823 --...  \n",
       "Simon_Bolivar_Buckner_Jr.                           [Simon Bolivar Buckner Jr. -LRB- July 18 , 188...  \n",
       "Simon_Bolivar_University_-LRB-Mexico-RRB-           [Simon Bolivar University -LRB- Universidad Si...  \n",
       "Simón_Bolívar_International_Airport                 [Simón Bolívar International Airport may refer...  \n",
       "Simón_Bolívar_-LRB-opera-RRB-                       [Simón Bolívar is an opera in two acts compose...  \n",
       "Simón_Bolívar_Professor_of_Latin-American_Studies   [The Simón Bolívar Chair in Latin American Stu...  \n",
       "Simón_Bolívar,_Anzoátegui                           [The Simón Bolívar Municipality is one of the ...  \n",
       "Simón_Bolívar_-LRB-1969_film-RRB-                   [Simón Bolívar is a 1969 Spanish drama film di...  \n",
       "Simón_Bolívar_-LRB-1942_film-RRB-                   [Simón Bolívar is a 1942 Mexican historical dr...  \n",
       "Simón_Bolívar                                       [Simón José Antonio de la Santísima Trinidad B...  \n",
       "Simón_Bolívar_International_Airport_-LRB-Colomb...  [Simón Bolívar International Airport -LRB- Aer...  \n",
       "Simón_Bolívar_International_Airport_-LRB-Venezu...  [Simón Bolívar International Airport or Maique...  \n",
       "Simón_Bolívar_Guerrilla_Coordinating_Board          [The Simón Bolívar Guerrilla Coordinating Boar...  \n",
       "Simón_Bolívar_-LRB-Tadolini-RRB-                    [Simon Bolivar , also known as General Bolivar...  \n",
       "Simón_Bolívar_-LRB-barque-RRB-                      [Simón Bolívar is a training vessel for the Ve...  \n",
       "Simón_Bolívar,_Miranda                              [Simón Bolívar is one of the 21 municipalities...  \n",
       "Simón_Bolívar_Park                                  [The Simón Bolívar Metropolitan Park , best kn...  \n",
       "Simón_Bolívar_-LRB-Talacca-RRB-                     [Simón Bolívar is an outdoor 1977 bronze sculp...  \n",
       "Simón_Bolívar_metro_station                         [Simón Bolívar is an underground metro station...  \n",
       "Simón_Bolívar_District,_Paraguay                    [Simón Bolívar District is one of the district...  \n",
       "Simón_Bolívar_-LRB-TransMilenio-RRB-                [The simple-station Simón Bolívar is part of t...  \n",
       "Simón_Bolívar_United_World_College_of_Agriculture   [Simón Bolívar United World College of Agricul...  \n",
       "Simón_Bolívar_University                            [-LRB- ES -RRB-\\tES\\t:es:Universidad Simón Bol...  \n",
       "Simón_Bolívar_-LRB-disambiguation-RRB-              [Simón Bolívar -LRB- 1783 -- 1830 -RRB- was a ...  \n",
       "Simón_Bolívar_District,_Peru                        [Simón Bolívar District is one of thirteen dis...  \n",
       "Simón_Bolívar_Canton                                [Simón Bolívar Canton is a canton of Ecuador ,...  \n",
       "Simón_Bolívar_-LRB-Monterrey_Metro-RRB-             [The Simón Bolívar Station -LRB- Estación Simó...  \n",
       "Statue_of_Simón_Bolívar,_London                     [The statue of Simón Bolívar is an outdoor bro...  \n",
       "USS_Simon_Bolivar_-LRB-SSBN-641-RRB-                [USS Simon Bolivar -LRB- SSBN-641 -RRB- , a fl...  \n",
       "Villa_Simón_Bolívar                                 [Villa Simón Bolívar is a small town in Bolivi...  "
      ]
     },
     "execution_count": 118,
     "metadata": {},
     "output_type": "execute_result"
    }
   ],
   "source": [
    "wiki_pages_df[wiki_pages_df.index.str.contains(\"Sim.*n_Bol.*var\") ]"
   ]
  },
  {
   "cell_type": "code",
   "execution_count": 124,
   "metadata": {},
   "outputs": [
    {
     "name": "stdout",
     "output_type": "stream",
     "text": [
      "b'Sim\\xc3\\xb3n_Bol\\xc3\\xadvar'\n",
      "b'Simo\\xcc\\x81n_Boli\\xcc\\x81var'\n",
      "b'Simo\\xcc\\x81n_Boli\\xcc\\x81var'\n",
      "b'Simo\\xcc\\x81n_Boli\\xcc\\x81var'\n"
     ]
    }
   ],
   "source": [
    "print(\"Simón_Bolívar\".encode())\n",
    "print(\"Simón_Bolívar\".encode())\n",
    "print(unicodedata.normalize('NFD', \"Simón_Bolívar\").encode())\n",
    "print(unicodedata.normalize('NFD', \"Simón_Bolívar\").encode())"
   ]
  },
  {
   "cell_type": "code",
   "execution_count": 108,
   "metadata": {},
   "outputs": [
    {
     "ename": "KeyError",
     "evalue": "'Simón_Bolívar'",
     "output_type": "error",
     "traceback": [
      "\u001b[0;31m---------------------------------------------------------------------------\u001b[0m",
      "\u001b[0;31mKeyError\u001b[0m                                  Traceback (most recent call last)",
      "File \u001b[0;32m~/.pyenv/versions/3.12.4/envs/pdl/lib/python3.12/site-packages/pandas/core/indexes/base.py:3791\u001b[0m, in \u001b[0;36mIndex.get_loc\u001b[0;34m(self, key)\u001b[0m\n\u001b[1;32m   3790\u001b[0m \u001b[38;5;28;01mtry\u001b[39;00m:\n\u001b[0;32m-> 3791\u001b[0m     \u001b[38;5;28;01mreturn\u001b[39;00m \u001b[38;5;28;43mself\u001b[39;49m\u001b[38;5;241;43m.\u001b[39;49m\u001b[43m_engine\u001b[49m\u001b[38;5;241;43m.\u001b[39;49m\u001b[43mget_loc\u001b[49m\u001b[43m(\u001b[49m\u001b[43mcasted_key\u001b[49m\u001b[43m)\u001b[49m\n\u001b[1;32m   3792\u001b[0m \u001b[38;5;28;01mexcept\u001b[39;00m \u001b[38;5;167;01mKeyError\u001b[39;00m \u001b[38;5;28;01mas\u001b[39;00m err:\n",
      "File \u001b[0;32mindex.pyx:152\u001b[0m, in \u001b[0;36mpandas._libs.index.IndexEngine.get_loc\u001b[0;34m()\u001b[0m\n",
      "File \u001b[0;32mindex.pyx:181\u001b[0m, in \u001b[0;36mpandas._libs.index.IndexEngine.get_loc\u001b[0;34m()\u001b[0m\n",
      "File \u001b[0;32mpandas/_libs/hashtable_class_helper.pxi:7080\u001b[0m, in \u001b[0;36mpandas._libs.hashtable.PyObjectHashTable.get_item\u001b[0;34m()\u001b[0m\n",
      "File \u001b[0;32mpandas/_libs/hashtable_class_helper.pxi:7088\u001b[0m, in \u001b[0;36mpandas._libs.hashtable.PyObjectHashTable.get_item\u001b[0;34m()\u001b[0m\n",
      "\u001b[0;31mKeyError\u001b[0m: 'Simón_Bolívar'",
      "\nThe above exception was the direct cause of the following exception:\n",
      "\u001b[0;31mKeyError\u001b[0m                                  Traceback (most recent call last)",
      "Cell \u001b[0;32mIn[108], line 1\u001b[0m\n\u001b[0;32m----> 1\u001b[0m \u001b[43mwiki_pages_df\u001b[49m\u001b[38;5;241;43m.\u001b[39;49m\u001b[43mloc\u001b[49m\u001b[43m[\u001b[49m\u001b[38;5;124;43m\"\u001b[39;49m\u001b[38;5;124;43mSimón_Bolívar\u001b[39;49m\u001b[38;5;124;43m\"\u001b[39;49m\u001b[38;5;241;43m.\u001b[39;49m\u001b[43mencode\u001b[49m\u001b[43m(\u001b[49m\u001b[38;5;124;43m'\u001b[39;49m\u001b[38;5;124;43mutf-8\u001b[39;49m\u001b[38;5;124;43m'\u001b[39;49m\u001b[43m)\u001b[49m\u001b[38;5;241;43m.\u001b[39;49m\u001b[43mdecode\u001b[49m\u001b[43m(\u001b[49m\u001b[38;5;124;43m'\u001b[39;49m\u001b[38;5;124;43mutf-8\u001b[39;49m\u001b[38;5;124;43m'\u001b[39;49m\u001b[43m)\u001b[49m\u001b[43m]\u001b[49m\n",
      "File \u001b[0;32m~/.pyenv/versions/3.12.4/envs/pdl/lib/python3.12/site-packages/pandas/core/indexing.py:1153\u001b[0m, in \u001b[0;36m_LocationIndexer.__getitem__\u001b[0;34m(self, key)\u001b[0m\n\u001b[1;32m   1150\u001b[0m axis \u001b[38;5;241m=\u001b[39m \u001b[38;5;28mself\u001b[39m\u001b[38;5;241m.\u001b[39maxis \u001b[38;5;129;01mor\u001b[39;00m \u001b[38;5;241m0\u001b[39m\n\u001b[1;32m   1152\u001b[0m maybe_callable \u001b[38;5;241m=\u001b[39m com\u001b[38;5;241m.\u001b[39mapply_if_callable(key, \u001b[38;5;28mself\u001b[39m\u001b[38;5;241m.\u001b[39mobj)\n\u001b[0;32m-> 1153\u001b[0m \u001b[38;5;28;01mreturn\u001b[39;00m \u001b[38;5;28;43mself\u001b[39;49m\u001b[38;5;241;43m.\u001b[39;49m\u001b[43m_getitem_axis\u001b[49m\u001b[43m(\u001b[49m\u001b[43mmaybe_callable\u001b[49m\u001b[43m,\u001b[49m\u001b[43m \u001b[49m\u001b[43maxis\u001b[49m\u001b[38;5;241;43m=\u001b[39;49m\u001b[43maxis\u001b[49m\u001b[43m)\u001b[49m\n",
      "File \u001b[0;32m~/.pyenv/versions/3.12.4/envs/pdl/lib/python3.12/site-packages/pandas/core/indexing.py:1393\u001b[0m, in \u001b[0;36m_LocIndexer._getitem_axis\u001b[0;34m(self, key, axis)\u001b[0m\n\u001b[1;32m   1391\u001b[0m \u001b[38;5;66;03m# fall thru to straight lookup\u001b[39;00m\n\u001b[1;32m   1392\u001b[0m \u001b[38;5;28mself\u001b[39m\u001b[38;5;241m.\u001b[39m_validate_key(key, axis)\n\u001b[0;32m-> 1393\u001b[0m \u001b[38;5;28;01mreturn\u001b[39;00m \u001b[38;5;28;43mself\u001b[39;49m\u001b[38;5;241;43m.\u001b[39;49m\u001b[43m_get_label\u001b[49m\u001b[43m(\u001b[49m\u001b[43mkey\u001b[49m\u001b[43m,\u001b[49m\u001b[43m \u001b[49m\u001b[43maxis\u001b[49m\u001b[38;5;241;43m=\u001b[39;49m\u001b[43maxis\u001b[49m\u001b[43m)\u001b[49m\n",
      "File \u001b[0;32m~/.pyenv/versions/3.12.4/envs/pdl/lib/python3.12/site-packages/pandas/core/indexing.py:1343\u001b[0m, in \u001b[0;36m_LocIndexer._get_label\u001b[0;34m(self, label, axis)\u001b[0m\n\u001b[1;32m   1341\u001b[0m \u001b[38;5;28;01mdef\u001b[39;00m \u001b[38;5;21m_get_label\u001b[39m(\u001b[38;5;28mself\u001b[39m, label, axis: AxisInt):\n\u001b[1;32m   1342\u001b[0m     \u001b[38;5;66;03m# GH#5567 this will fail if the label is not present in the axis.\u001b[39;00m\n\u001b[0;32m-> 1343\u001b[0m     \u001b[38;5;28;01mreturn\u001b[39;00m \u001b[38;5;28;43mself\u001b[39;49m\u001b[38;5;241;43m.\u001b[39;49m\u001b[43mobj\u001b[49m\u001b[38;5;241;43m.\u001b[39;49m\u001b[43mxs\u001b[49m\u001b[43m(\u001b[49m\u001b[43mlabel\u001b[49m\u001b[43m,\u001b[49m\u001b[43m \u001b[49m\u001b[43maxis\u001b[49m\u001b[38;5;241;43m=\u001b[39;49m\u001b[43maxis\u001b[49m\u001b[43m)\u001b[49m\n",
      "File \u001b[0;32m~/.pyenv/versions/3.12.4/envs/pdl/lib/python3.12/site-packages/pandas/core/generic.py:4236\u001b[0m, in \u001b[0;36mNDFrame.xs\u001b[0;34m(self, key, axis, level, drop_level)\u001b[0m\n\u001b[1;32m   4234\u001b[0m             new_index \u001b[38;5;241m=\u001b[39m index[loc]\n\u001b[1;32m   4235\u001b[0m \u001b[38;5;28;01melse\u001b[39;00m:\n\u001b[0;32m-> 4236\u001b[0m     loc \u001b[38;5;241m=\u001b[39m \u001b[43mindex\u001b[49m\u001b[38;5;241;43m.\u001b[39;49m\u001b[43mget_loc\u001b[49m\u001b[43m(\u001b[49m\u001b[43mkey\u001b[49m\u001b[43m)\u001b[49m\n\u001b[1;32m   4238\u001b[0m     \u001b[38;5;28;01mif\u001b[39;00m \u001b[38;5;28misinstance\u001b[39m(loc, np\u001b[38;5;241m.\u001b[39mndarray):\n\u001b[1;32m   4239\u001b[0m         \u001b[38;5;28;01mif\u001b[39;00m loc\u001b[38;5;241m.\u001b[39mdtype \u001b[38;5;241m==\u001b[39m np\u001b[38;5;241m.\u001b[39mbool_:\n",
      "File \u001b[0;32m~/.pyenv/versions/3.12.4/envs/pdl/lib/python3.12/site-packages/pandas/core/indexes/base.py:3798\u001b[0m, in \u001b[0;36mIndex.get_loc\u001b[0;34m(self, key)\u001b[0m\n\u001b[1;32m   3793\u001b[0m     \u001b[38;5;28;01mif\u001b[39;00m \u001b[38;5;28misinstance\u001b[39m(casted_key, \u001b[38;5;28mslice\u001b[39m) \u001b[38;5;129;01mor\u001b[39;00m (\n\u001b[1;32m   3794\u001b[0m         \u001b[38;5;28misinstance\u001b[39m(casted_key, abc\u001b[38;5;241m.\u001b[39mIterable)\n\u001b[1;32m   3795\u001b[0m         \u001b[38;5;129;01mand\u001b[39;00m \u001b[38;5;28many\u001b[39m(\u001b[38;5;28misinstance\u001b[39m(x, \u001b[38;5;28mslice\u001b[39m) \u001b[38;5;28;01mfor\u001b[39;00m x \u001b[38;5;129;01min\u001b[39;00m casted_key)\n\u001b[1;32m   3796\u001b[0m     ):\n\u001b[1;32m   3797\u001b[0m         \u001b[38;5;28;01mraise\u001b[39;00m InvalidIndexError(key)\n\u001b[0;32m-> 3798\u001b[0m     \u001b[38;5;28;01mraise\u001b[39;00m \u001b[38;5;167;01mKeyError\u001b[39;00m(key) \u001b[38;5;28;01mfrom\u001b[39;00m \u001b[38;5;21;01merr\u001b[39;00m\n\u001b[1;32m   3799\u001b[0m \u001b[38;5;28;01mexcept\u001b[39;00m \u001b[38;5;167;01mTypeError\u001b[39;00m:\n\u001b[1;32m   3800\u001b[0m     \u001b[38;5;66;03m# If we have a listlike key, _check_indexing_error will raise\u001b[39;00m\n\u001b[1;32m   3801\u001b[0m     \u001b[38;5;66;03m#  InvalidIndexError. Otherwise we fall through and re-raise\u001b[39;00m\n\u001b[1;32m   3802\u001b[0m     \u001b[38;5;66;03m#  the TypeError.\u001b[39;00m\n\u001b[1;32m   3803\u001b[0m     \u001b[38;5;28mself\u001b[39m\u001b[38;5;241m.\u001b[39m_check_indexing_error(key)\n",
      "\u001b[0;31mKeyError\u001b[0m: 'Simón_Bolívar'"
     ]
    }
   ],
   "source": [
    "wiki_pages_df.loc[\"Simón_Bolívar\".encode('utf-8').decode('utf-8')]"
   ]
  },
  {
   "cell_type": "code",
   "execution_count": 82,
   "metadata": {},
   "outputs": [
    {
     "data": {
      "text/html": [
       "<div>\n",
       "<style scoped>\n",
       "    .dataframe tbody tr th:only-of-type {\n",
       "        vertical-align: middle;\n",
       "    }\n",
       "\n",
       "    .dataframe tbody tr th {\n",
       "        vertical-align: top;\n",
       "    }\n",
       "\n",
       "    .dataframe thead th {\n",
       "        text-align: right;\n",
       "    }\n",
       "</style>\n",
       "<table border=\"1\" class=\"dataframe\">\n",
       "  <thead>\n",
       "    <tr style=\"text-align: right;\">\n",
       "      <th></th>\n",
       "      <th>text</th>\n",
       "      <th>lines</th>\n",
       "      <th>lines_split</th>\n",
       "    </tr>\n",
       "    <tr>\n",
       "      <th>id</th>\n",
       "      <th></th>\n",
       "      <th></th>\n",
       "      <th></th>\n",
       "    </tr>\n",
       "  </thead>\n",
       "  <tbody>\n",
       "    <tr>\n",
       "      <th>b''</th>\n",
       "      <td></td>\n",
       "      <td></td>\n",
       "      <td>[]</td>\n",
       "    </tr>\n",
       "    <tr>\n",
       "      <th>b'1928_in_association_football'</th>\n",
       "      <td>The following are the football -LRB- soccer -R...</td>\n",
       "      <td>0\\tThe following are the football -LRB- soccer...</td>\n",
       "      <td>[The following are the football -LRB- soccer -...</td>\n",
       "    </tr>\n",
       "    <tr>\n",
       "      <th>b'1986_NBA_Finals'</th>\n",
       "      <td>The 1986 NBA Finals was the championship round...</td>\n",
       "      <td>0\\tThe 1986 NBA Finals was the championship ro...</td>\n",
       "      <td>[The 1986 NBA Finals was the championship roun...</td>\n",
       "    </tr>\n",
       "    <tr>\n",
       "      <th>b'1901_Villanova_Wildcats_football_team'</th>\n",
       "      <td>The 1901 Villanova Wildcats football team repr...</td>\n",
       "      <td>0\\tThe 1901 Villanova Wildcats football team r...</td>\n",
       "      <td>[The 1901 Villanova Wildcats football team rep...</td>\n",
       "    </tr>\n",
       "    <tr>\n",
       "      <th>b'1992_Northwestern_Wildcats_football_team'</th>\n",
       "      <td>The 1992 Northwestern Wildcats team represente...</td>\n",
       "      <td>0\\tThe 1992 Northwestern Wildcats team represe...</td>\n",
       "      <td>[The 1992 Northwestern Wildcats team represent...</td>\n",
       "    </tr>\n",
       "    <tr>\n",
       "      <th>...</th>\n",
       "      <td>...</td>\n",
       "      <td>...</td>\n",
       "      <td>...</td>\n",
       "    </tr>\n",
       "    <tr>\n",
       "      <th>b'Yuto_Agarie'</th>\n",
       "      <td>Yuto Agarie -LRB- born 6 July 1993 -RRB- is a ...</td>\n",
       "      <td>0\\tYuto Agarie -LRB- born 6 July 1993 -RRB- is...</td>\n",
       "      <td>[Yuto Agarie -LRB- born 6 July 1993 -RRB- is a...</td>\n",
       "    </tr>\n",
       "    <tr>\n",
       "      <th>b'Yume_1_Go'</th>\n",
       "      <td>is the eleventh single by the Japanese rock ba...</td>\n",
       "      <td>0\\tis the eleventh single by the Japanese rock...</td>\n",
       "      <td>[is the eleventh single by the Japanese rock b...</td>\n",
       "    </tr>\n",
       "    <tr>\n",
       "      <th>b'Yada_Yada_-LRB-album-RRB-'</th>\n",
       "      <td>Yada Yada is the eighth studio album by Dutch ...</td>\n",
       "      <td>0\\tYada Yada is the eighth studio album by Dut...</td>\n",
       "      <td>[Yada Yada is the eighth studio album by Dutch...</td>\n",
       "    </tr>\n",
       "    <tr>\n",
       "      <th>b'Xylorycta_bipunctella'</th>\n",
       "      <td>Xylorycta bipunctella is a moth in the Xyloryc...</td>\n",
       "      <td>0\\tXylorycta bipunctella is a moth in the Xylo...</td>\n",
       "      <td>[Xylorycta bipunctella is a moth in the Xylory...</td>\n",
       "    </tr>\n",
       "    <tr>\n",
       "      <th>b'\\xc5\\x81\\xc4\\x99czyce,_Greater_Poland_Voivodeship'</th>\n",
       "      <td>Łęczyce -LSB- łen ` czyce -RSB- is a village i...</td>\n",
       "      <td>0\\tŁęczyce -LSB- łen ` czyce -RSB- is a villag...</td>\n",
       "      <td>[Łęczyce -LSB- łen ` czyce -RSB- is a village ...</td>\n",
       "    </tr>\n",
       "  </tbody>\n",
       "</table>\n",
       "<p>5416537 rows × 3 columns</p>\n",
       "</div>"
      ],
      "text/plain": [
       "                                                                                                 text  \\\n",
       "id                                                                                                      \n",
       "b''                                                                                                     \n",
       "b'1928_in_association_football'                     The following are the football -LRB- soccer -R...   \n",
       "b'1986_NBA_Finals'                                  The 1986 NBA Finals was the championship round...   \n",
       "b'1901_Villanova_Wildcats_football_team'            The 1901 Villanova Wildcats football team repr...   \n",
       "b'1992_Northwestern_Wildcats_football_team'         The 1992 Northwestern Wildcats team represente...   \n",
       "...                                                                                               ...   \n",
       "b'Yuto_Agarie'                                      Yuto Agarie -LRB- born 6 July 1993 -RRB- is a ...   \n",
       "b'Yume_1_Go'                                        is the eleventh single by the Japanese rock ba...   \n",
       "b'Yada_Yada_-LRB-album-RRB-'                        Yada Yada is the eighth studio album by Dutch ...   \n",
       "b'Xylorycta_bipunctella'                            Xylorycta bipunctella is a moth in the Xyloryc...   \n",
       "b'\\xc5\\x81\\xc4\\x99czyce,_Greater_Poland_Voivode...  Łęczyce -LSB- łen ` czyce -RSB- is a village i...   \n",
       "\n",
       "                                                                                                lines  \\\n",
       "id                                                                                                      \n",
       "b''                                                                                                     \n",
       "b'1928_in_association_football'                     0\\tThe following are the football -LRB- soccer...   \n",
       "b'1986_NBA_Finals'                                  0\\tThe 1986 NBA Finals was the championship ro...   \n",
       "b'1901_Villanova_Wildcats_football_team'            0\\tThe 1901 Villanova Wildcats football team r...   \n",
       "b'1992_Northwestern_Wildcats_football_team'         0\\tThe 1992 Northwestern Wildcats team represe...   \n",
       "...                                                                                               ...   \n",
       "b'Yuto_Agarie'                                      0\\tYuto Agarie -LRB- born 6 July 1993 -RRB- is...   \n",
       "b'Yume_1_Go'                                        0\\tis the eleventh single by the Japanese rock...   \n",
       "b'Yada_Yada_-LRB-album-RRB-'                        0\\tYada Yada is the eighth studio album by Dut...   \n",
       "b'Xylorycta_bipunctella'                            0\\tXylorycta bipunctella is a moth in the Xylo...   \n",
       "b'\\xc5\\x81\\xc4\\x99czyce,_Greater_Poland_Voivode...  0\\tŁęczyce -LSB- łen ` czyce -RSB- is a villag...   \n",
       "\n",
       "                                                                                          lines_split  \n",
       "id                                                                                                     \n",
       "b''                                                                                                []  \n",
       "b'1928_in_association_football'                     [The following are the football -LRB- soccer -...  \n",
       "b'1986_NBA_Finals'                                  [The 1986 NBA Finals was the championship roun...  \n",
       "b'1901_Villanova_Wildcats_football_team'            [The 1901 Villanova Wildcats football team rep...  \n",
       "b'1992_Northwestern_Wildcats_football_team'         [The 1992 Northwestern Wildcats team represent...  \n",
       "...                                                                                               ...  \n",
       "b'Yuto_Agarie'                                      [Yuto Agarie -LRB- born 6 July 1993 -RRB- is a...  \n",
       "b'Yume_1_Go'                                        [is the eleventh single by the Japanese rock b...  \n",
       "b'Yada_Yada_-LRB-album-RRB-'                        [Yada Yada is the eighth studio album by Dutch...  \n",
       "b'Xylorycta_bipunctella'                            [Xylorycta bipunctella is a moth in the Xylory...  \n",
       "b'\\xc5\\x81\\xc4\\x99czyce,_Greater_Poland_Voivode...  [Łęczyce -LSB- łen ` czyce -RSB- is a village ...  \n",
       "\n",
       "[5416537 rows x 3 columns]"
      ]
     },
     "execution_count": 82,
     "metadata": {},
     "output_type": "execute_result"
    }
   ],
   "source": [
    "wiki_pages_df"
   ]
  },
  {
   "cell_type": "code",
   "execution_count": 64,
   "metadata": {},
   "outputs": [],
   "source": [
    "df[\"ev_len1\"] = df[\"unique_evidence\"].map(len)"
   ]
  },
  {
   "cell_type": "code",
   "execution_count": 65,
   "metadata": {},
   "outputs": [
    {
     "data": {
      "text/plain": [
       "20"
      ]
     },
     "execution_count": 65,
     "metadata": {},
     "output_type": "execute_result"
    }
   ],
   "source": [
    "df[\"ev_len1\"].max()"
   ]
  },
  {
   "cell_type": "code",
   "execution_count": 66,
   "metadata": {},
   "outputs": [
    {
     "data": {
      "text/plain": [
       "id                                                              8538\n",
       "verifiable                                                VERIFIABLE\n",
       "label                                                        REFUTES\n",
       "claim                                    Hermit crabs are arachnids.\n",
       "evidence           [[[15450, 19262, Hermit_crab, 0], [15450, 1926...\n",
       "ev_len                                                             4\n",
       "unique_evidence                    [(Hermit_crab, 0), (Decapoda, 0)]\n",
       "ev_len1                                                            2\n",
       "Name: 19993, dtype: object"
      ]
     },
     "execution_count": 66,
     "metadata": {},
     "output_type": "execute_result"
    }
   ],
   "source": [
    "df.iloc[19993]"
   ]
  },
  {
   "cell_type": "code",
   "execution_count": 24,
   "metadata": {},
   "outputs": [
    {
     "data": {
      "text/plain": [
       "[[[15450, 19262, 'Hermit_crab', 0], [15450, 19262, 'Decapoda', 0]],\n",
       " [[16110, 19977, 'Hermit_crab', 0]],\n",
       " [[17708, 21856, 'Hermit_crab', 0]],\n",
       " [[303930, 294824, 'Hermit_crab', 0],\n",
       "  [303930, 294824, 'Decapoda', 0],\n",
       "  [303930, 294824, 'Arachnid', 0]]]"
      ]
     },
     "execution_count": 24,
     "metadata": {},
     "output_type": "execute_result"
    }
   ],
   "source": [
    "df.iloc[19993]['evidence']"
   ]
  },
  {
   "cell_type": "code",
   "execution_count": 97,
   "metadata": {},
   "outputs": [
    {
     "data": {
      "application/vnd.jupyter.widget-view+json": {
       "model_id": "57cd810ab8d749c28ffa791c6b690737",
       "version_major": 2,
       "version_minor": 0
      },
      "text/plain": [
       "Resolving data files:   0%|          | 0/109 [00:00<?, ?it/s]"
      ]
     },
     "metadata": {},
     "output_type": "display_data"
    },
    {
     "data": {
      "application/vnd.jupyter.widget-view+json": {
       "model_id": "fe3ed38351d440199e76660dc5486e25",
       "version_major": 2,
       "version_minor": 0
      },
      "text/plain": [
       "Downloading data:   0%|          | 0/109 [00:00<?, ?files/s]"
      ]
     },
     "metadata": {},
     "output_type": "display_data"
    },
    {
     "data": {
      "application/vnd.jupyter.widget-view+json": {
       "model_id": "a91965dbf05249b5b9ae85ea5f76d6de",
       "version_major": 2,
       "version_minor": 0
      },
      "text/plain": [
       "Generating train split: 0 examples [00:00, ? examples/s]"
      ]
     },
     "metadata": {},
     "output_type": "display_data"
    }
   ],
   "source": [
    "wikipages = load_dataset(\"json\", data_files=\"/Users/claudios/Downloads/wiki-pages/wiki-pages/wiki-*.jsonl\", encoding=\"utf-8\")"
   ]
  },
  {
   "cell_type": "code",
   "execution_count": 98,
   "metadata": {},
   "outputs": [
    {
     "data": {
      "application/vnd.jupyter.widget-view+json": {
       "model_id": "2b770b5e33734f54a1f21f18c984ead5",
       "version_major": 2,
       "version_minor": 0
      },
      "text/plain": [
       "Map (num_proc=32):   0%|          | 0/5416537 [00:00<?, ? examples/s]"
      ]
     },
     "metadata": {},
     "output_type": "display_data"
    }
   ],
   "source": [
    "wikipages[\"train\"] = wikipages[\"train\"].map(lambda x: {\n",
    "    \"lines_split\": list(filter(lambda x: x != '', re.split(r\"\\d+\\t\", x[\"lines\"])))\n",
    "    }, num_proc=32)"
   ]
  },
  {
   "cell_type": "code",
   "execution_count": 99,
   "metadata": {},
   "outputs": [],
   "source": [
    "wiki_pages_df = wikipages[\"train\"].to_pandas().set_index(\"id\")"
   ]
  },
  {
   "cell_type": "code",
   "execution_count": null,
   "metadata": {},
   "outputs": [
    {
     "data": {
      "application/vnd.jupyter.widget-view+json": {
       "model_id": "76b3f2a58abd4a91aae4ee87a8d16a20",
       "version_major": 2,
       "version_minor": 0
      },
      "text/plain": [
       "Filter:   0%|          | 0/5416537 [00:00<?, ? examples/s]"
      ]
     },
     "metadata": {},
     "output_type": "display_data"
    }
   ],
   "source": [
    "hc = wikipages[\"train\"].filter(lambda x: x[\"id\"] == \"Hermit_crab\")"
   ]
  },
  {
   "cell_type": "code",
   "execution_count": 41,
   "metadata": {},
   "outputs": [
    {
     "data": {
      "text/plain": [
       "'0\\tHermit crabs are decapod crustaceans of the superfamily Paguroidea .\\tdecapod\\tDecapoda\\n1\\t\\n2\\t\\n3\\tMost of the approximately 1100 species possess an asymmetrical abdomen that is concealed in a scavenged gastropod shell carried around by the hermit crab .\\tgastropod shell\\tgastropod shell\\n4\\t'"
      ]
     },
     "execution_count": 41,
     "metadata": {},
     "output_type": "execute_result"
    }
   ],
   "source": [
    "hc_lines = hc[0][\"lines\"]\n",
    "hc_lines"
   ]
  },
  {
   "cell_type": "code",
   "execution_count": 43,
   "metadata": {},
   "outputs": [
    {
     "data": {
      "text/plain": [
       "['Hermit crabs are decapod crustaceans of the superfamily Paguroidea .\\tdecapod\\tDecapoda\\n',\n",
       " '\\n',\n",
       " '\\n',\n",
       " 'Most of the approximately 1100 species possess an asymmetrical abdomen that is concealed in a scavenged gastropod shell carried around by the hermit crab .\\tgastropod shell\\tgastropod shell\\n']"
      ]
     },
     "execution_count": 43,
     "metadata": {},
     "output_type": "execute_result"
    }
   ],
   "source": [
    "import re\n",
    "list(filter(lambda x: x != '', re.split(r\"\\d+\\t\", hc_lines)))"
   ]
  },
  {
   "cell_type": "code",
   "execution_count": 451,
   "metadata": {},
   "outputs": [
    {
     "name": "stdout",
     "output_type": "stream",
     "text": [
      "{'cotqa_simple3': 'Determine if there is Observation that SUPPORTS or REFUTES '\n",
      "                  'a Claim, or if there is NOT ENOUGH INFORMATION. \\n'\n",
      "                  'Claim: Nikolaj Coster-Waldau worked with the Fox '\n",
      "                  'Broadcasting Company.\\n'\n",
      "                  'Thought: Nikolaj William Coster-Waldau appeared in the 2009 '\n",
      "                  'Fox television film Virtuality, so he has worked with the '\n",
      "                  'Fox Broadcasting Company.\\n'\n",
      "                  'Answer: SUPPORTS\\n'\n",
      "                  '\\n'\n",
      "                  'Claim: Stranger Things is set in Bloomington, Indiana.\\n'\n",
      "                  'Thought: Stranger Things is in the fictional town of '\n",
      "                  'Hawkins, Indiana, not in Bloomington, Indiana.\\n'\n",
      "                  'Answer:REFUTES\\n'\n",
      "                  '\\n'\n",
      "                  'Claim: Beautiful reached number two on the Billboard Hot '\n",
      "                  '100 in 2003.?\\n'\n",
      "                  'Thought: The song peaked at number two on the Billboard Hot '\n",
      "                  '100 in the United States, but not sure if it was in 2003.\\n'\n",
      "                  'Answer: NOT ENOUGH INFO\\n',\n",
      " 'webact_simple3': '\\n'\n",
      "                   'Determine if there is Observation that SUPPORTS or REFUTES '\n",
      "                   'a Claim, or if there is NOT ENOUGH INFORMATION. \\n'\n",
      "                   'Claim: Nikolaj Coster-Waldau worked with the Fox '\n",
      "                   'Broadcasting Company.\\n'\n",
      "                   'Action 1: Search[Nikolaj Coster-Waldau]\\n'\n",
      "                   'Observation 1: Nikolaj William Coster-Waldau (born 27 July '\n",
      "                   '1970) is a Danish actor and producer. He graduated from '\n",
      "                   'the Danish National School of Performing Arts in '\n",
      "                   'Copenhagen in 1993,[1] and had his breakthrough role in '\n",
      "                   'Denmark with the film Nightwatch (1994). He played Jaime '\n",
      "                   'Lannister in the HBO fantasy drama series Game of Thrones, '\n",
      "                   'for which he received two Primetime Emmy Award nominations '\n",
      "                   'for Outstanding Supporting Actor in a Drama Series.. '\n",
      "                   'Coster-Waldau has appeared in numerous films in his native '\n",
      "                   'Denmark and Scandinavia, including Headhunters (2011) and '\n",
      "                   'A Thousand Times Good Night (2013). In the U.S, his debut '\n",
      "                   'film role was in the war film Black Hawk Down (2001), '\n",
      "                   'playing Medal of Honor recipient Gary Gordon.[2] He then '\n",
      "                   'played a detective in the short-lived Fox television '\n",
      "                   'series New Amsterdam (2008), and appeared in the 2009 Fox '\n",
      "                   'television film Virtuality, originally intended as a '\n",
      "                   'pilot.\\n'\n",
      "                   'Action 2: Finish[SUPPORTS]\\n'\n",
      "                   '\\n'\n",
      "                   'Claim: Stranger Things is set in Bloomington, Indiana.\\n'\n",
      "                   'Action 1: Search[Stranger Things]\\n'\n",
      "                   'Observation 1: Stranger Things is an American science '\n",
      "                   'fiction horror drama television series created by the '\n",
      "                   'Duffer Brothers. Set in the 1980s, primarily in the '\n",
      "                   'fictional town of Hawkins, Indiana, the series centers on '\n",
      "                   'a number of mysteries and supernatural events occurring '\n",
      "                   'around the town and their impact on an ensemble of child '\n",
      "                   'and adult characters. \\n'\n",
      "                   'Action 2: Finish[REFUTES]\\n'\n",
      "                   '\\n'\n",
      "                   'Claim: Beautiful reached number two on the Billboard Hot '\n",
      "                   '100 in 2003.?\\n'\n",
      "                   'Action 1: Search[Beautiful]\\n'\n",
      "                   'Observation 1: Could not find [Beautiful]. Similar: '\n",
      "                   \"['Beautiful', 'Beautiful, Beautiful', 'A Beautiful Mind \"\n",
      "                   \"(film)', 'Beautiful (Christina Aguilera song)', 'Life Is \"\n",
      "                   \"Beautiful'].\\n\"\n",
      "                   'Action 2: Search[Beautiful (Christina Aguilera song)]\\n'\n",
      "                   'Observation 2: \"Beautiful\" is a song recorded by American '\n",
      "                   'singer Christina Aguilera for her fourth studio album, '\n",
      "                   'Stripped (2002).\\n'\n",
      "                   'Action 3: Lookup[Billboard Hot 100]\\n'\n",
      "                   'Observation 3: (Result 1 / 3) The song peaked at number '\n",
      "                   'two on the Billboard Hot 100 in the United States, where '\n",
      "                   'it was certified Gold for 500,000 units shipped.\\n'\n",
      "                   'Action 4: Finish[NOT ENOUGH INFO]\\n'\n",
      "                   '\\n',\n",
      " 'webqa_simple3': 'Determine if there is Observation that SUPPORTS or REFUTES '\n",
      "                  'a Claim, or if there is NOT ENOUGH INFORMATION. \\n'\n",
      "                  'Claim: Nikolaj Coster-Waldau worked with the Fox '\n",
      "                  'Broadcasting Company.\\n'\n",
      "                  'Answer: SUPPORTS\\n'\n",
      "                  '\\n'\n",
      "                  'Claim: Stranger Things is set in Bloomington, Indiana.\\n'\n",
      "                  'Answer:REFUTES\\n'\n",
      "                  '\\n'\n",
      "                  'Claim: Beautiful reached number two on the Billboard Hot '\n",
      "                  '100 in 2003.?\\n'\n",
      "                  'Answer: NOT ENOUGH INFO\\n',\n",
      " 'webthink_simple3': '\\n'\n",
      "                     'Determine if there is Observation that SUPPORTS or '\n",
      "                     'REFUTES a Claim, or if there is NOT ENOUGH '\n",
      "                     'INFORMATION. \\n'\n",
      "                     'Claim: Nikolaj Coster-Waldau worked with the Fox '\n",
      "                     'Broadcasting Company.\\n'\n",
      "                     'Thought 1: I need to search Nikolaj Coster-Waldau and '\n",
      "                     'find if he has worked with the Fox Broadcasting '\n",
      "                     'Company.\\n'\n",
      "                     'Action 1: Search[Nikolaj Coster-Waldau]\\n'\n",
      "                     'Observation 1: Nikolaj William Coster-Waldau (born 27 '\n",
      "                     'July 1970) is a Danish actor and producer. He graduated '\n",
      "                     'from the Danish National School of Performing Arts in '\n",
      "                     'Copenhagen in 1993,[1] and had his breakthrough role in '\n",
      "                     'Denmark with the film Nightwatch (1994). He played Jaime '\n",
      "                     'Lannister in the HBO fantasy drama series Game of '\n",
      "                     'Thrones, for which he received two Primetime Emmy Award '\n",
      "                     'nominations for Outstanding Supporting Actor in a Drama '\n",
      "                     'Series.. Coster-Waldau has appeared in numerous films in '\n",
      "                     'his native Denmark and Scandinavia, including '\n",
      "                     'Headhunters (2011) and A Thousand Times Good Night '\n",
      "                     '(2013). In the U.S, his debut film role was in the war '\n",
      "                     'film Black Hawk Down (2001), playing Medal of Honor '\n",
      "                     'recipient Gary Gordon.[2] He then played a detective in '\n",
      "                     'the short-lived Fox television series New Amsterdam '\n",
      "                     '(2008), and appeared in the 2009 Fox television film '\n",
      "                     'Virtuality, originally intended as a pilot.\\n'\n",
      "                     'Thought 2: Because he \"appeared in the 2009 Fox '\n",
      "                     'television film Virtuality\", he should have worked with '\n",
      "                     'the Fox Broadcasting Company.\\n'\n",
      "                     'Action 2: Finish[SUPPORTS]\\n'\n",
      "                     '\\n'\n",
      "                     'Claim: Stranger Things is set in Bloomington, Indiana.\\n'\n",
      "                     'Thought 1: I should search for Stranger Things, and see '\n",
      "                     'if it is set in Bloomington, Indiana.\\n'\n",
      "                     'Action 1: Search[Stranger Things]\\n'\n",
      "                     'Observation 1: Stranger Things is an American science '\n",
      "                     'fiction horror drama television series created by the '\n",
      "                     'Duffer Brothers. Set in the 1980s, primarily in the '\n",
      "                     'fictional town of Hawkins, Indiana, the series centers '\n",
      "                     'on a number of mysteries and supernatural events '\n",
      "                     'occurring around the town and their impact on an '\n",
      "                     'ensemble of child and adult characters. \\n'\n",
      "                     'Thought 2: The observation says that it is set in a '\n",
      "                     '\"fictional town of Hawkins, Indiana\", so it is not set '\n",
      "                     'in Bloomington.\\n'\n",
      "                     'Action 2: Finish[REFUTES]\\n'\n",
      "                     '\\n'\n",
      "                     'Claim: Beautiful reached number two on the Billboard Hot '\n",
      "                     '100 in 2003.?\\n'\n",
      "                     'Thought 1: I need to search the song Beautiful and find '\n",
      "                     'if it reached number two on the Billboard Hot 100 in '\n",
      "                     '2003.\\n'\n",
      "                     'Action 1: Search[Beautiful]\\n'\n",
      "                     'Observation 1: Could not find [Beautiful]. Similar: '\n",
      "                     \"['Beautiful', 'Beautiful, Beautiful', 'A Beautiful Mind \"\n",
      "                     \"(film)', 'Beautiful (Christina Aguilera song)', 'Life Is \"\n",
      "                     \"Beautiful'].\\n\"\n",
      "                     'Thought 2: From suggestions, I should search \"Beautiful '\n",
      "                     '(Christina Aguilera song)\" to find the song.\\n'\n",
      "                     'Action 2: Search[Beautiful (Christina Aguilera song)]\\n'\n",
      "                     'Observation 2: \"Beautiful\" is a song recorded by '\n",
      "                     'American singer Christina Aguilera for her fourth studio '\n",
      "                     'album, Stripped (2002).\\n'\n",
      "                     'Thought 3: It does not mention Billboard, so I need to '\n",
      "                     'look up \"Billboard Hot 100\" to find if it reached number '\n",
      "                     'two on it in 2003.\\n'\n",
      "                     'Action 3: Lookup[Billboard Hot 100]\\n'\n",
      "                     'Observation 3: (Result 1 / 3) The song peaked at number '\n",
      "                     'two on the Billboard Hot 100 in the United States, where '\n",
      "                     'it was certified Gold for 500,000 units shipped.\\n'\n",
      "                     'Thought 4: It only says the song peaked at number two on '\n",
      "                     'the Billboard Hot 100, but not if it was in 2003. I am '\n",
      "                     'not sure if this claim is true or not.\\n'\n",
      "                     'Action 4: Finish[NOT ENOUGH INFO]\\n'\n",
      "                     '\\n'}\n"
     ]
    }
   ],
   "source": [
    "prompt = {\"webact_simple3\": \"\\nDetermine if there is Observation that SUPPORTS or REFUTES a Claim, or if there is NOT ENOUGH INFORMATION. \\nClaim: Nikolaj Coster-Waldau worked with the Fox Broadcasting Company.\\nAction 1: Search[Nikolaj Coster-Waldau]\\nObservation 1: Nikolaj William Coster-Waldau (born 27 July 1970) is a Danish actor and producer. He graduated from the Danish National School of Performing Arts in Copenhagen in 1993,[1] and had his breakthrough role in Denmark with the film Nightwatch (1994). He played Jaime Lannister in the HBO fantasy drama series Game of Thrones, for which he received two Primetime Emmy Award nominations for Outstanding Supporting Actor in a Drama Series.. Coster-Waldau has appeared in numerous films in his native Denmark and Scandinavia, including Headhunters (2011) and A Thousand Times Good Night (2013). In the U.S, his debut film role was in the war film Black Hawk Down (2001), playing Medal of Honor recipient Gary Gordon.[2] He then played a detective in the short-lived Fox television series New Amsterdam (2008), and appeared in the 2009 Fox television film Virtuality, originally intended as a pilot.\\nAction 2: Finish[SUPPORTS]\\n\\nClaim: Stranger Things is set in Bloomington, Indiana.\\nAction 1: Search[Stranger Things]\\nObservation 1: Stranger Things is an American science fiction horror drama television series created by the Duffer Brothers. Set in the 1980s, primarily in the fictional town of Hawkins, Indiana, the series centers on a number of mysteries and supernatural events occurring around the town and their impact on an ensemble of child and adult characters. \\nAction 2: Finish[REFUTES]\\n\\nClaim: Beautiful reached number two on the Billboard Hot 100 in 2003.?\\nAction 1: Search[Beautiful]\\nObservation 1: Could not find [Beautiful]. Similar: ['Beautiful', 'Beautiful, Beautiful', 'A Beautiful Mind (film)', 'Beautiful (Christina Aguilera song)', 'Life Is Beautiful'].\\nAction 2: Search[Beautiful (Christina Aguilera song)]\\nObservation 2: \\\"Beautiful\\\" is a song recorded by American singer Christina Aguilera for her fourth studio album, Stripped (2002).\\nAction 3: Lookup[Billboard Hot 100]\\nObservation 3: (Result 1 / 3) The song peaked at number two on the Billboard Hot 100 in the United States, where it was certified Gold for 500,000 units shipped.\\nAction 4: Finish[NOT ENOUGH INFO]\\n\\n\", \"cotqa_simple3\": \"Determine if there is Observation that SUPPORTS or REFUTES a Claim, or if there is NOT ENOUGH INFORMATION. \\nClaim: Nikolaj Coster-Waldau worked with the Fox Broadcasting Company.\\nThought: Nikolaj William Coster-Waldau appeared in the 2009 Fox television film Virtuality, so he has worked with the Fox Broadcasting Company.\\nAnswer: SUPPORTS\\n\\nClaim: Stranger Things is set in Bloomington, Indiana.\\nThought: Stranger Things is in the fictional town of Hawkins, Indiana, not in Bloomington, Indiana.\\nAnswer:REFUTES\\n\\nClaim: Beautiful reached number two on the Billboard Hot 100 in 2003.?\\nThought: The song peaked at number two on the Billboard Hot 100 in the United States, but not sure if it was in 2003.\\nAnswer: NOT ENOUGH INFO\\n\", \"webqa_simple3\": \"Determine if there is Observation that SUPPORTS or REFUTES a Claim, or if there is NOT ENOUGH INFORMATION. \\nClaim: Nikolaj Coster-Waldau worked with the Fox Broadcasting Company.\\nAnswer: SUPPORTS\\n\\nClaim: Stranger Things is set in Bloomington, Indiana.\\nAnswer:REFUTES\\n\\nClaim: Beautiful reached number two on the Billboard Hot 100 in 2003.?\\nAnswer: NOT ENOUGH INFO\\n\", \"webthink_simple3\": \"\\nDetermine if there is Observation that SUPPORTS or REFUTES a Claim, or if there is NOT ENOUGH INFORMATION. \\nClaim: Nikolaj Coster-Waldau worked with the Fox Broadcasting Company.\\nThought 1: I need to search Nikolaj Coster-Waldau and find if he has worked with the Fox Broadcasting Company.\\nAction 1: Search[Nikolaj Coster-Waldau]\\nObservation 1: Nikolaj William Coster-Waldau (born 27 July 1970) is a Danish actor and producer. He graduated from the Danish National School of Performing Arts in Copenhagen in 1993,[1] and had his breakthrough role in Denmark with the film Nightwatch (1994). He played Jaime Lannister in the HBO fantasy drama series Game of Thrones, for which he received two Primetime Emmy Award nominations for Outstanding Supporting Actor in a Drama Series.. Coster-Waldau has appeared in numerous films in his native Denmark and Scandinavia, including Headhunters (2011) and A Thousand Times Good Night (2013). In the U.S, his debut film role was in the war film Black Hawk Down (2001), playing Medal of Honor recipient Gary Gordon.[2] He then played a detective in the short-lived Fox television series New Amsterdam (2008), and appeared in the 2009 Fox television film Virtuality, originally intended as a pilot.\\nThought 2: Because he \\\"appeared in the 2009 Fox television film Virtuality\\\", he should have worked with the Fox Broadcasting Company.\\nAction 2: Finish[SUPPORTS]\\n\\nClaim: Stranger Things is set in Bloomington, Indiana.\\nThought 1: I should search for Stranger Things, and see if it is set in Bloomington, Indiana.\\nAction 1: Search[Stranger Things]\\nObservation 1: Stranger Things is an American science fiction horror drama television series created by the Duffer Brothers. Set in the 1980s, primarily in the fictional town of Hawkins, Indiana, the series centers on a number of mysteries and supernatural events occurring around the town and their impact on an ensemble of child and adult characters. \\nThought 2: The observation says that it is set in a \\\"fictional town of Hawkins, Indiana\\\", so it is not set in Bloomington.\\nAction 2: Finish[REFUTES]\\n\\nClaim: Beautiful reached number two on the Billboard Hot 100 in 2003.?\\nThought 1: I need to search the song Beautiful and find if it reached number two on the Billboard Hot 100 in 2003.\\nAction 1: Search[Beautiful]\\nObservation 1: Could not find [Beautiful]. Similar: ['Beautiful', 'Beautiful, Beautiful', 'A Beautiful Mind (film)', 'Beautiful (Christina Aguilera song)', 'Life Is Beautiful'].\\nThought 2: From suggestions, I should search \\\"Beautiful (Christina Aguilera song)\\\" to find the song.\\nAction 2: Search[Beautiful (Christina Aguilera song)]\\nObservation 2: \\\"Beautiful\\\" is a song recorded by American singer Christina Aguilera for her fourth studio album, Stripped (2002).\\nThought 3: It does not mention Billboard, so I need to look up \\\"Billboard Hot 100\\\" to find if it reached number two on it in 2003.\\nAction 3: Lookup[Billboard Hot 100]\\nObservation 3: (Result 1 / 3) The song peaked at number two on the Billboard Hot 100 in the United States, where it was certified Gold for 500,000 units shipped.\\nThought 4: It only says the song peaked at number two on the Billboard Hot 100, but not if it was in 2003. I am not sure if this claim is true or not.\\nAction 4: Finish[NOT ENOUGH INFO]\\n\\n\"}\n",
    "pprint(prompt)"
   ]
  },
  {
   "cell_type": "code",
   "execution_count": 1,
   "metadata": {},
   "outputs": [],
   "source": [
    "react = {\"webact_simple3\": \"\\nDetermine if there is Observation that SUPPORTS or REFUTES a Claim, or if there is NOT ENOUGH INFORMATION. \\nClaim: Nikolaj Coster-Waldau worked with the Fox Broadcasting Company.\\nAction 1: Search[Nikolaj Coster-Waldau]\\nObservation 1: Nikolaj William Coster-Waldau (born 27 July 1970) is a Danish actor and producer. He graduated from the Danish National School of Performing Arts in Copenhagen in 1993,[1] and had his breakthrough role in Denmark with the film Nightwatch (1994). He played Jaime Lannister in the HBO fantasy drama series Game of Thrones, for which he received two Primetime Emmy Award nominations for Outstanding Supporting Actor in a Drama Series.. Coster-Waldau has appeared in numerous films in his native Denmark and Scandinavia, including Headhunters (2011) and A Thousand Times Good Night (2013). In the U.S, his debut film role was in the war film Black Hawk Down (2001), playing Medal of Honor recipient Gary Gordon.[2] He then played a detective in the short-lived Fox television series New Amsterdam (2008), and appeared in the 2009 Fox television film Virtuality, originally intended as a pilot.\\nAction 2: Finish[SUPPORTS]\\n\\nClaim: Stranger Things is set in Bloomington, Indiana.\\nAction 1: Search[Stranger Things]\\nObservation 1: Stranger Things is an American science fiction horror drama television series created by the Duffer Brothers. Set in the 1980s, primarily in the fictional town of Hawkins, Indiana, the series centers on a number of mysteries and supernatural events occurring around the town and their impact on an ensemble of child and adult characters. \\nAction 2: Finish[REFUTES]\\n\\nClaim: Beautiful reached number two on the Billboard Hot 100 in 2003.?\\nAction 1: Search[Beautiful]\\nObservation 1: Could not find [Beautiful]. Similar: ['Beautiful', 'Beautiful, Beautiful', 'A Beautiful Mind (film)', 'Beautiful (Christina Aguilera song)', 'Life Is Beautiful'].\\nAction 2: Search[Beautiful (Christina Aguilera song)]\\nObservation 2: \\\"Beautiful\\\" is a song recorded by American singer Christina Aguilera for her fourth studio album, Stripped (2002).\\nAction 3: Lookup[Billboard Hot 100]\\nObservation 3: (Result 1 / 3) The song peaked at number two on the Billboard Hot 100 in the United States, where it was certified Gold for 500,000 units shipped.\\nAction 4: Finish[NOT ENOUGH INFO]\\n\\n\", \"cotqa_simple3\": \"Determine if there is Observation that SUPPORTS or REFUTES a Claim, or if there is NOT ENOUGH INFORMATION. \\nClaim: Nikolaj Coster-Waldau worked with the Fox Broadcasting Company.\\nThought: Nikolaj William Coster-Waldau appeared in the 2009 Fox television film Virtuality, so he has worked with the Fox Broadcasting Company.\\nAnswer: SUPPORTS\\n\\nClaim: Stranger Things is set in Bloomington, Indiana.\\nThought: Stranger Things is in the fictional town of Hawkins, Indiana, not in Bloomington, Indiana.\\nAnswer:REFUTES\\n\\nClaim: Beautiful reached number two on the Billboard Hot 100 in 2003.?\\nThought: The song peaked at number two on the Billboard Hot 100 in the United States, but not sure if it was in 2003.\\nAnswer: NOT ENOUGH INFO\\n\", \"webqa_simple3\": \"Determine if there is Observation that SUPPORTS or REFUTES a Claim, or if there is NOT ENOUGH INFORMATION. \\nClaim: Nikolaj Coster-Waldau worked with the Fox Broadcasting Company.\\nAnswer: SUPPORTS\\n\\nClaim: Stranger Things is set in Bloomington, Indiana.\\nAnswer:REFUTES\\n\\nClaim: Beautiful reached number two on the Billboard Hot 100 in 2003.?\\nAnswer: NOT ENOUGH INFO\\n\", \"webthink_simple3\": \"\\nDetermine if there is Observation that SUPPORTS or REFUTES a Claim, or if there is NOT ENOUGH INFORMATION. \\nClaim: Nikolaj Coster-Waldau worked with the Fox Broadcasting Company.\\nThought 1: I need to search Nikolaj Coster-Waldau and find if he has worked with the Fox Broadcasting Company.\\nAction 1: Search[Nikolaj Coster-Waldau]\\nObservation 1: Nikolaj William Coster-Waldau (born 27 July 1970) is a Danish actor and producer. He graduated from the Danish National School of Performing Arts in Copenhagen in 1993,[1] and had his breakthrough role in Denmark with the film Nightwatch (1994). He played Jaime Lannister in the HBO fantasy drama series Game of Thrones, for which he received two Primetime Emmy Award nominations for Outstanding Supporting Actor in a Drama Series.. Coster-Waldau has appeared in numerous films in his native Denmark and Scandinavia, including Headhunters (2011) and A Thousand Times Good Night (2013). In the U.S, his debut film role was in the war film Black Hawk Down (2001), playing Medal of Honor recipient Gary Gordon.[2] He then played a detective in the short-lived Fox television series New Amsterdam (2008), and appeared in the 2009 Fox television film Virtuality, originally intended as a pilot.\\nThought 2: Because he \\\"appeared in the 2009 Fox television film Virtuality\\\", he should have worked with the Fox Broadcasting Company.\\nAction 2: Finish[SUPPORTS]\\n\\nClaim: Stranger Things is set in Bloomington, Indiana.\\nThought 1: I should search for Stranger Things, and see if it is set in Bloomington, Indiana.\\nAction 1: Search[Stranger Things]\\nObservation 1: Stranger Things is an American science fiction horror drama television series created by the Duffer Brothers. Set in the 1980s, primarily in the fictional town of Hawkins, Indiana, the series centers on a number of mysteries and supernatural events occurring around the town and their impact on an ensemble of child and adult characters. \\nThought 2: The observation says that it is set in a \\\"fictional town of Hawkins, Indiana\\\", so it is not set in Bloomington.\\nAction 2: Finish[REFUTES]\\n\\nClaim: Beautiful reached number two on the Billboard Hot 100 in 2003.?\\nThought 1: I need to search the song Beautiful and find if it reached number two on the Billboard Hot 100 in 2003.\\nAction 1: Search[Beautiful]\\nObservation 1: Could not find [Beautiful]. Similar: ['Beautiful', 'Beautiful, Beautiful', 'A Beautiful Mind (film)', 'Beautiful (Christina Aguilera song)', 'Life Is Beautiful'].\\nThought 2: From suggestions, I should search \\\"Beautiful (Christina Aguilera song)\\\" to find the song.\\nAction 2: Search[Beautiful (Christina Aguilera song)]\\nObservation 2: \\\"Beautiful\\\" is a song recorded by American singer Christina Aguilera for her fourth studio album, Stripped (2002).\\nThought 3: It does not mention Billboard, so I need to look up \\\"Billboard Hot 100\\\" to find if it reached number two on it in 2003.\\nAction 3: Lookup[Billboard Hot 100]\\nObservation 3: (Result 1 / 3) The song peaked at number two on the Billboard Hot 100 in the United States, where it was certified Gold for 500,000 units shipped.\\nThought 4: It only says the song peaked at number two on the Billboard Hot 100, but not if it was in 2003. I am not sure if this claim is true or not.\\nAction 4: Finish[NOT ENOUGH INFO]\\n\\n\"}"
   ]
  },
  {
   "cell_type": "code",
   "execution_count": 3,
   "metadata": {},
   "outputs": [
    {
     "name": "stdout",
     "output_type": "stream",
     "text": [
      "Pretty printing has been turned ON\n"
     ]
    }
   ],
   "source": [
    "pprint(react)"
   ]
  },
  {
   "cell_type": "code",
   "execution_count": 4,
   "metadata": {},
   "outputs": [
    {
     "data": {
      "text/plain": [
       "{'webact_simple3': '\\nDetermine if there is Observation that SUPPORTS or REFUTES a Claim, or if there is NOT ENOUGH INFORMATION. \\nClaim: Nikolaj Coster-Waldau worked with the Fox Broadcasting Company.\\nAction 1: Search[Nikolaj Coster-Waldau]\\nObservation 1: Nikolaj William Coster-Waldau (born 27 July 1970) is a Danish actor and producer. He graduated from the Danish National School of Performing Arts in Copenhagen in 1993,[1] and had his breakthrough role in Denmark with the film Nightwatch (1994). He played Jaime Lannister in the HBO fantasy drama series Game of Thrones, for which he received two Primetime Emmy Award nominations for Outstanding Supporting Actor in a Drama Series.. Coster-Waldau has appeared in numerous films in his native Denmark and Scandinavia, including Headhunters (2011) and A Thousand Times Good Night (2013). In the U.S, his debut film role was in the war film Black Hawk Down (2001), playing Medal of Honor recipient Gary Gordon.[2] He then played a detective in the short-lived Fox television series New Amsterdam (2008), and appeared in the 2009 Fox television film Virtuality, originally intended as a pilot.\\nAction 2: Finish[SUPPORTS]\\n\\nClaim: Stranger Things is set in Bloomington, Indiana.\\nAction 1: Search[Stranger Things]\\nObservation 1: Stranger Things is an American science fiction horror drama television series created by the Duffer Brothers. Set in the 1980s, primarily in the fictional town of Hawkins, Indiana, the series centers on a number of mysteries and supernatural events occurring around the town and their impact on an ensemble of child and adult characters. \\nAction 2: Finish[REFUTES]\\n\\nClaim: Beautiful reached number two on the Billboard Hot 100 in 2003.?\\nAction 1: Search[Beautiful]\\nObservation 1: Could not find [Beautiful]. Similar: [\\'Beautiful\\', \\'Beautiful, Beautiful\\', \\'A Beautiful Mind (film)\\', \\'Beautiful (Christina Aguilera song)\\', \\'Life Is Beautiful\\'].\\nAction 2: Search[Beautiful (Christina Aguilera song)]\\nObservation 2: \"Beautiful\" is a song recorded by American singer Christina Aguilera for her fourth studio album, Stripped (2002).\\nAction 3: Lookup[Billboard Hot 100]\\nObservation 3: (Result 1 / 3) The song peaked at number two on the Billboard Hot 100 in the United States, where it was certified Gold for 500,000 units shipped.\\nAction 4: Finish[NOT ENOUGH INFO]\\n\\n',\n",
       " 'cotqa_simple3': 'Determine if there is Observation that SUPPORTS or REFUTES a Claim, or if there is NOT ENOUGH INFORMATION. \\nClaim: Nikolaj Coster-Waldau worked with the Fox Broadcasting Company.\\nThought: Nikolaj William Coster-Waldau appeared in the 2009 Fox television film Virtuality, so he has worked with the Fox Broadcasting Company.\\nAnswer: SUPPORTS\\n\\nClaim: Stranger Things is set in Bloomington, Indiana.\\nThought: Stranger Things is in the fictional town of Hawkins, Indiana, not in Bloomington, Indiana.\\nAnswer:REFUTES\\n\\nClaim: Beautiful reached number two on the Billboard Hot 100 in 2003.?\\nThought: The song peaked at number two on the Billboard Hot 100 in the United States, but not sure if it was in 2003.\\nAnswer: NOT ENOUGH INFO\\n',\n",
       " 'webqa_simple3': 'Determine if there is Observation that SUPPORTS or REFUTES a Claim, or if there is NOT ENOUGH INFORMATION. \\nClaim: Nikolaj Coster-Waldau worked with the Fox Broadcasting Company.\\nAnswer: SUPPORTS\\n\\nClaim: Stranger Things is set in Bloomington, Indiana.\\nAnswer:REFUTES\\n\\nClaim: Beautiful reached number two on the Billboard Hot 100 in 2003.?\\nAnswer: NOT ENOUGH INFO\\n',\n",
       " 'webthink_simple3': '\\nDetermine if there is Observation that SUPPORTS or REFUTES a Claim, or if there is NOT ENOUGH INFORMATION. \\nClaim: Nikolaj Coster-Waldau worked with the Fox Broadcasting Company.\\nThought 1: I need to search Nikolaj Coster-Waldau and find if he has worked with the Fox Broadcasting Company.\\nAction 1: Search[Nikolaj Coster-Waldau]\\nObservation 1: Nikolaj William Coster-Waldau (born 27 July 1970) is a Danish actor and producer. He graduated from the Danish National School of Performing Arts in Copenhagen in 1993,[1] and had his breakthrough role in Denmark with the film Nightwatch (1994). He played Jaime Lannister in the HBO fantasy drama series Game of Thrones, for which he received two Primetime Emmy Award nominations for Outstanding Supporting Actor in a Drama Series.. Coster-Waldau has appeared in numerous films in his native Denmark and Scandinavia, including Headhunters (2011) and A Thousand Times Good Night (2013). In the U.S, his debut film role was in the war film Black Hawk Down (2001), playing Medal of Honor recipient Gary Gordon.[2] He then played a detective in the short-lived Fox television series New Amsterdam (2008), and appeared in the 2009 Fox television film Virtuality, originally intended as a pilot.\\nThought 2: Because he \"appeared in the 2009 Fox television film Virtuality\", he should have worked with the Fox Broadcasting Company.\\nAction 2: Finish[SUPPORTS]\\n\\nClaim: Stranger Things is set in Bloomington, Indiana.\\nThought 1: I should search for Stranger Things, and see if it is set in Bloomington, Indiana.\\nAction 1: Search[Stranger Things]\\nObservation 1: Stranger Things is an American science fiction horror drama television series created by the Duffer Brothers. Set in the 1980s, primarily in the fictional town of Hawkins, Indiana, the series centers on a number of mysteries and supernatural events occurring around the town and their impact on an ensemble of child and adult characters. \\nThought 2: The observation says that it is set in a \"fictional town of Hawkins, Indiana\", so it is not set in Bloomington.\\nAction 2: Finish[REFUTES]\\n\\nClaim: Beautiful reached number two on the Billboard Hot 100 in 2003.?\\nThought 1: I need to search the song Beautiful and find if it reached number two on the Billboard Hot 100 in 2003.\\nAction 1: Search[Beautiful]\\nObservation 1: Could not find [Beautiful]. Similar: [\\'Beautiful\\', \\'Beautiful, Beautiful\\', \\'A Beautiful Mind (film)\\', \\'Beautiful (Christina Aguilera song)\\', \\'Life Is Beautiful\\'].\\nThought 2: From suggestions, I should search \"Beautiful (Christina Aguilera song)\" to find the song.\\nAction 2: Search[Beautiful (Christina Aguilera song)]\\nObservation 2: \"Beautiful\" is a song recorded by American singer Christina Aguilera for her fourth studio album, Stripped (2002).\\nThought 3: It does not mention Billboard, so I need to look up \"Billboard Hot 100\" to find if it reached number two on it in 2003.\\nAction 3: Lookup[Billboard Hot 100]\\nObservation 3: (Result 1 / 3) The song peaked at number two on the Billboard Hot 100 in the United States, where it was certified Gold for 500,000 units shipped.\\nThought 4: It only says the song peaked at number two on the Billboard Hot 100, but not if it was in 2003. I am not sure if this claim is true or not.\\nAction 4: Finish[NOT ENOUGH INFO]\\n\\n'}"
      ]
     },
     "execution_count": 4,
     "metadata": {},
     "output_type": "execute_result"
    }
   ],
   "source": [
    "react"
   ]
  },
  {
   "cell_type": "code",
   "execution_count": 5,
   "metadata": {},
   "outputs": [],
   "source": [
    "react_naive = {\"webthink_simple\": \"\\nQuestion: Musician and satirist Allie Goertz wrote a song about the \\\"The Simpsons\\\" character Milhouse, who Matt Groening named after who?\\nThought 1: I only need to search Milhouse and find who it is named after.\\nAction 1: Search[Milhouse]\\nObservation 1: Milhouse Mussolini Van Houten is a recurring character in the Fox animated television series The Simpsons voiced by Pamela Hayden and created by Matt Groening. Milhouse is Bart Simpson's best friend in Mrs. Krabappel's fourth grade class at Springfield Elementary School. He is an insecure, gullible, and less popular child than Bart who is often led into trouble by Bart, who takes advantage of his friend's na\\u00c3\\u00afvet\\u00c3\\u00a9. Milhouse is a regular target for school bully Nelson Muntz and his friends Jimbo Jones, Dolph Starbeam and Kearney Zzyzwicz. Milhouse has a crush on Bart's sister, Lisa, a common plot element.\\nThought 2: The paragraph does not tell who Milhouse is named after, maybe I can look up \\\"named after\\\".\\nAction 2: Lookup[named after]\\nObservation 2: (Result 1 / 1) Milhouse was designed by Matt Groening for a planned series on NBC, which was abandoned.[4] The design was then used for a Butterfinger commercial, and it was decided to use the character in the series.[5][6] Milhouse was named after U.S. president Richard Nixon, whose middle name was Milhous. The name was the most \\\"unfortunate name Matt Groening could think of for a kid\\\".[1] Years earlier, in a 1986 Life in Hell comic entitled \\\"What to Name the Baby\\\", Groening listed Milhouse as a name \\\"no longer recommended\\\".[7] Milhouse is a favorite among the staff as Al Jean noted \\\"most of the writers are more like Milhouse than Bart\\\".[1] His last name was given to him by Howard Gewirtz, a freelance writer who wrote the episode \\\"Homer Defined\\\". Gewirtz got the name from one of his wife's friends.[8] According to Arden Myrin and Dana Gould (former writer and co-executive producer of The Simpsons), Rob Cohen (Simpsons writer) inspired Milhouse's look.[2]\\nThought 3: Milhouse was named after U.S. president Richard Nixon, so the answer is Richard Nixon.\\nAction 3: Finish[Richard Nixon]\\nQuestion: Guitars for Wounded Warriors is an album that was recorded in the village in which New York county?\\nThought 1: I need to search Guitars for Wounded Warriors, then find in which New York county it was recorded.\\nAction 1: Search[Guitars for Wounded Warriors]\\nObservation 1: Guitars for Wounded Warriors is the sixth solo studio album by guitarist Brian Tarquin, released in August 2014 by Cleopatra Records. In 2016, it received a Best Compilation Album nomination by the Independent Music Awards. All tracks were recorded at Tarquin's Jungle Room Studios in New Paltz (village), New York. Being moved by the lack of support for returning veterans through his life Tarquin decided to compose a heavy instrumental rock album as a way to show his appreciation to all veterans. So once again he enlisted top notch players to guest with him on the album, Billy Sheehan on Black Hawk, Ron \\\"Bumblefoot\\\" Thal and Reb Beach on Taliban Terror, Steve Morse on Freedom, Chris Poland on Charlie Surfs and Hunting, Chuck Loeb on Escape Kabul, Hal Lindes on Sand & Blood, Gary Hoey on 5 Klicks To Hell and Baghdad, Alex De Rosso Dokken on Broken Arrow, and The Flyin' Ryan Brothers on Surgical Strike.  The entire album was engineered, produced and composed by Tarquin especially for each one of the guest guitarists. Partial proceeds are donated to the Fisher House Foundation from sales.\\nThought 2: Guitars for Wounded Warriors was recorded in New Paltz (village), New York. I need to search New Paltz (village), New York and find which county it is in.\\nAction 2: Search[New Paltz (village), New York]\\nObservation 2: New Paltz is a village in Ulster County located in the U.S. state of New York. It is approximately 80 miles (130 km) north of New York City and 70 miles (110 km) south of Albany. The population was 7,324 at the 2020 census.[3]\\nThought 3: New Paltz (village), New York is in Ulster County, so the answer is Ulster County.\\nAction 3: Finish[Ulster County]\\nQuestion: This American actor who starred in \\\"Veep\\\" was also in an action comedy film directed by Seth Rogen and Evan Goldberg heavily inspired by what?\\nThought 1: There could be many American actors who starred in \\\"Veep\\\". So I can first search \\\"directed by Seth Rogen and Evan Goldberg\\\" and find action comedy films directed by Seth Rogen and Evan Goldberg.\\nAction 1: Search[directed by Seth Rogen and Evan Goldberg]\\nObservation 1: Could not find directed by Seth Rogen and Evan Goldberg. Similar: ['The Interview (redirect from The Interview (Seth Rogen film))', 'Evan Goldberg', 'Jay and Seth Versus the Apocalypse', 'This Is the End (category Films directed by Seth Rogen)', 'Seth Rogen filmography', 'Superbad (category Films with screenplays by Seth Rogen)', 'Pineapple Express (film) (category Films with screenplays by Seth Rogen)', 'Sausage Party (category Films produced by Seth Rogen)', 'Untitled Teenage Mutant Ninja Turtles film (category Films produced by Seth Rogen)', 'The Green Hornet (2011 film) (category Films produced by Seth Rogen)', 'Good Boys (film) (category Films produced by Seth Rogen)', 'Seth Rogen', 'Neighbors 2: Sorority Rising (category Films produced by Seth Rogen)', 'An American Pickle (category Films produced by Seth Rogen)', 'The Watch (2012 film) (category Films with screenplays by Seth Rogen)', 'Neighbors (2014 film) (category Films produced by Seth Rogen)', 'The Night Before (2015 film) (category Films produced by Seth Rogen)', 'Martin Starr', 'Preacher (TV series) (category Television shows directed by Steph Green)', 'Long Shot (2019 film) (category Films produced by Seth Rogen)'].\\nThought 2: I can check search The Interview (Seth Rogen film), Jay and Seth Versus the Apocalypse, This Is the End (category Films directed by Seth Rogen) and find which is an action comedy film directed by Seth Rogen and Evan Goldberg.\\nAction 2: Search[The Interview (Seth Rogen film)]\\nObservation 2: The Interview is a 2014 action-adventure comedy film co-produced and directed by Seth Rogen and Evan Goldberg in their second directorial work, following This Is the End (2013). The screenplay was written by Dan Sterling, based on a story he co-wrote with Rogen and Goldberg. The film stars Rogen and James Franco as journalists who set up an interview with North Korean leader Kim Jong-un (Randall Park), and are then recruited by the CIA to assassinate him. The film is inspired by a 2012 Vice documentary.\\nThought 3: The Interview is an action comedy film directed by Seth Rogen and Evan Goldberg, and it is inspired by a 2012 Vice documentary. So I can probably stop now without checking other films, and the answer is probably a 2012 Vice documentary.\\nAction 3: Finish[a 2012 Vice documentary]\\nQuestion: The head coach during the 1997\\u201398 Indiana Pacers season retired as a player from what NBA team?\\nThought 1: I can search Indiana Pacers, find the head coach during the 1997\\u201398 season, then find from what NBA team it is retired as a player.\\nAction 1: Search[Indiana Pacers]\\nObservation 1: The Indiana Pacers are an American professional basketball team based in Indianapolis. The Pacers compete in the National Basketball Association (NBA) as a member of the league's Eastern Conference Central Division. The Pacers were first established in 1967 as a member of the American Basketball Association (ABA) and became a member of the NBA in 1976 as a result of the ABA\\u00e2\\u0080\\u0093NBA merger. They play their home games at Gainbridge Fieldhouse. The team is named after the state of Indiana's history with the Indianapolis 500's pace cars and with the harness racing industry.[8][9]\\nThought 2: I can look up \\\"1997\\u201398\\\" to find the head coach during the 1997\\u201398 season.\\nAction 2: Lookup[1997\\u201398]\\nObservation 2: No more results.\\nThought 3: I can look up \\\"1997\\\" instead to find the head coach during the 1997\\u201398 season\\nAction 3: Lookup[1997]\\nObservation 3: (Result 1 / 5) In the 1997\\u00e2\\u0080\\u009398 NBA season, Indiana native and former Boston Celtics great Larry Bird was hired as head coach. He led the Pacers to a 19-game improvement over the previous season, finishing 58\\u00e2\\u0080\\u009324 \\u00e2\\u0080\\u0093 at the time, the most the franchise had ever won as an NBA team, and tying the 1970\\u00e2\\u0080\\u009371 ABA Pacers for the franchise record. Chris Mullin joined the team in the off-season and immediately became a valuable part of the Pacers lineup\\u00e2\\u0080\\u0094and starting small forward. Assistant coaches Rick Carlisle, in charge of the offense, and Dick Harter, who coached the defense, were key in getting the most out of the Pacers' role players such as Dale Davis, Derrick McKey and a young Antonio Davis. Miller and Rik Smits both made the All-Star team that year, and in the playoffs, the Pacers breezed past the Cleveland Cavaliers and New York Knicks before falling to the Chicago Bulls in a seven-game Eastern Conference Finals.\\nThought 4: In the 1997-98 season, former Boston Celtics great Larry Bird was hired as head coach. So the answer is Boston Celtics.\\nAction 4: Finish[Boston Celtics]\\nQuestion: What profession does Nicholas Ray and Elia Kazan have in common?\\nThought 1: I need to search Nicholas Ray and Elia Kazan, find their professions, then find the profession they have in common.\\nAction 1: Search[Nicholas Ray]\\nObservation 1: Nicholas Ray (born Raymond Nicholas Kienzle Jr., August 7, 1911 \\u2013 June 16, 1979) was an American film director, screenwriter, and actor best known for the 1955 film Rebel Without a Cause. He is appreciated for many narrative features produced between 1947 and 1963 including They Live By Night, In A Lonely Place, Johnny Guitar, and Bigger Than Life, as well as an experimental work produced throughout the 1970s titled We Can't Go Home Again, which was unfinished at the time of Ray's death.\\nThought 2: Professions of Nicholas Ray are director, screenwriter, and actor. I need to search Elia Kazan next and find his professions.\\nAction 2: Search[Elia Kazan]\\nObservation 2: Elia Kazan (/\\u02c8i\\u02d0li\\u0259 k\\u0259\\u02c8z\\u00e6n/;[1][2] born Elias Kazantzoglou (Greek: \\u0397\\u03bb\\u03af\\u03b1\\u03c2 \\u039a\\u03b1\\u03b6\\u03b1\\u03bd\\u03c4\\u03b6\\u03cc\\u03b3\\u03bb\\u03bf\\u03c5);[3] September 7, 1909 \\u2013 September 28, 2003) was an American film and theatre director, producer, screenwriter and actor, described by The New York Times as \\\"one of the most honored and influential directors in Broadway and Hollywood history\\\".[4]\\nThought 3: Professions of Elia Kazan are director, producer, screenwriter, and actor. So profession Nicholas Ray and Elia Kazan have in common is director, screenwriter, and actor.\\nAction 3: Finish[director, screenwriter, actor]\\nQuestion: Which magazine was started first Arthur's Magazine or First for Women?\\nThought 1: I need to search Arthur's Magazine and First for Women, and find which was started first.\\nAction 1: Search[Arthur's Magazine]\\nObservation 1: Arthur's Magazine (1844\\u00e2\\u0080\\u00931846) was an American literary periodical published in Philadelphia in the 19th century. Edited by Timothy Shay Arthur, it featured work by Edgar A. Poe, J.H. Ingraham, Sarah Josepha Hale, Thomas G. Spear, and others.[1][2] In May 1846 it was merged into Godey's Lady's Book.[3]\\nThought 2: Arthur's Magazine was started in 1844. I need to search First for Women next.\\nAction 2: Search[First for Women]\\nObservation 2: First for Women is a woman's magazine published by Bauer Media Group in the USA.[1] The magazine was started in 1989. It is based in Englewood Cliffs, New Jersey.[2] In 2011 the circulation of the magazine was 1,310,696 copies.[3]\\nThought 3: First for Women was started in 1989. 1844 (Arthur's Magazine) < 1989 (First for Women), so Arthur's Magazine was started first.\\nAction 3: Finish[Arthur's Magazine]\\nQuestion: Were Pavel Urysohn and Leonid Levin known for the same type of work?\\nThought 1: I need to search Pavel Urysohn and Leonid Levin, find their types of work, then find if they are the same.\\nAction 1: Search[Pavel Urysohn]\\nObservation 1: Pavel Samuilovich Urysohn (\\u00d0\\u009f\\u00d0\\u00b0\\u00cc\\u0081\\u00d0\\u00b2\\u00d0\\u00b5\\u00d0\\u00bb \\u00d0\\u00a1\\u00d0\\u00b0\\u00d0\\u00bc\\u00d1\\u0083\\u00d0\\u00b8\\u00cc\\u0081\\u00d0\\u00bb\\u00d0\\u00be\\u00d0\\u00b2\\u00d0\\u00b8\\u00d1\\u0087 \\u00d0\\u00a3\\u00d1\\u0080\\u00d1\\u008b\\u00d1\\u0081\\u00d0\\u00be\\u00cc\\u0081\\u00d0\\u00bd) (February 3, 1898 \\u00e2\\u0080\\u0093 August 17, 1924) was a Soviet mathematician who is best known for his contributions in dimension theory, and for developing Urysohn's metrization theorem and Urysohn's lemma, both of which are fundamental results in topology. His name is also commemorated in the terms Urysohn universal space, Fr\\u00c3\\u00a9chet\\u00e2\\u0080\\u0093Urysohn space, Menger\\u00e2\\u0080\\u0093Urysohn dimension and Urysohn integral equation. He and Pavel Alexandrov formulated the modern definition of compactness in 1923.\\nThought 2: Pavel Urysohn is a mathematician. I need to search Leonid Levin next and find its type of work.\\nAction 2: Search[Leonid Levin]\\nObservation 2: Leonid Anatolievich Levin (/le\\u00c9\\u00aa.o\\u00ca\\u008a\\u00cb\\u0088ni\\u00cb\\u0090d \\u00cb\\u0088l\\u00c9\\u009bv\\u00c9\\u00aan/ lay-oh-NEED LEV-in; Russian: \\u00d0\\u009b\\u00d0\\u00b5\\u00d0\\u00be\\u00d0\\u00bd\\u00d0\\u00b8\\u00cc\\u0081\\u00d0\\u00b4 \\u00d0\\u0090\\u00d0\\u00bd\\u00d0\\u00b0\\u00d1\\u0082\\u00d0\\u00be\\u00cc\\u0081\\u00d0\\u00bb\\u00d1\\u008c\\u00d0\\u00b5\\u00d0\\u00b2\\u00d0\\u00b8\\u00d1\\u0087 \\u00d0\\u009b\\u00d0\\u00b5\\u00cc\\u0081\\u00d0\\u00b2\\u00d0\\u00b8\\u00d0\\u00bd; Ukrainian: \\u00d0\\u009b\\u00d0\\u00b5\\u00d0\\u00be\\u00d0\\u00bd\\u00d1\\u0096\\u00cc\\u0081\\u00d0\\u00b4 \\u00d0\\u0090\\u00d0\\u00bd\\u00d0\\u00b0\\u00d1\\u0082\\u00d0\\u00be\\u00cc\\u0081\\u00d0\\u00bb\\u00d1\\u0096\\u00d0\\u00b9\\u00d0\\u00be\\u00d0\\u00b2\\u00d0\\u00b8\\u00d1\\u0087 \\u00d0\\u009b\\u00d0\\u00b5\\u00cc\\u0081\\u00d0\\u00b2\\u00d1\\u0096\\u00d0\\u00bd; born November 2, 1948) is a Soviet-American mathematician and computer scientist. \\nThought 3: Leonid Levin is a mathematician and computer scientist. So Pavel Urysohn and Leonid Levin have the same type of work. \\nAction 3: Finish[yes]\\nQuestion: Which documentary is about Finnish rock groups, Adam Clayton Powell or The Saimaa Gesture?\\nThought 1: I need to search Adam Clayton Powell and The Saimaa Gesture, and find which documentary is about Finnish rock groups.\\nAction 1: Search[Adam Clayton Powell]\\nObservation 1: Could not find [Adam Clayton Powell]. Similar: ['Adam Clayton Powell Jr.', 'Adam Clayton Powell Sr.', 'Adam Clayton Powell IV', 'Adam Clayton Powell III', 'Seventh Avenue (Manhattan) (redirect from Adam Clayton Powell Jr. Boulevard)', 'Adam Clayton Powell Jr. State Office Building', 'Isabel Washington Powell', 'Adam Powell', 'Adam Clayton Powell (film)', 'Giancarlo Esposito', 'Harlem', 'St. Nicholas Historic District', 'Abyssinian Baptist Church', 'Powell (surname)', 'Adam (musical)', 'Statue of Adam Clayton Powell Jr.', 'List of people from Harlem', 'Adam (given name)', 'Five-Percent Nation', 'List of American liberals'].\\nThought 2: I can search Adam Clayton Powell (film) to find the documentary.\\nAction 2: Search[Adam Clayton Powell (film)]\\nObservation 2: Adam Clayton Powell is a 1989 American documentary film directed by Richard Kilberg.\\nThe film is about the rise and fall of influential African-American politician Adam Clayton Powell Jr.[3][4] It was later aired as part of the PBS series The American Experience.\\nThought 3: Adam Clayton Powell (film) is a documentary about an African-American politician, not Finnish rock groups. So the documentary about Finnish rock groups must instead be The Saimaa Gesture.\\nAction 3: Finish[The Saimaa Gesture]\\n\", \"cotqa_simple\": \"\\nQuestion: Musician and satirist Allie Goertz wrote a song about the \\\"The Simpsons\\\" character Milhouse, who Matt Groening named after who?\\nThought: Let's think step by step. Milhouse was named after U.S. president Richard Nixon, so the answer is Richard Nixon.\\nAnswer: Richard Nixon\\nQuestion: Guitars for Wounded Warriors is an album that was recorded in the village in which New York county?\\nThought: Let's think step by step. Guitars for Wounded Warriors was recorded at Tarquin's Jungle Room Studios in New Paltz (village), New York. New Paltz is a village in Ulster County located in the U.S. state of New York. So the answer is Ulster County.\\nAnswer: Ulster County\\nQuestion: This American actor who starred in \\\"Veep\\\" was also in an action comedy film directed by Seth Rogen and Evan Goldberg heavily inspired by what?\\nThought: Let's think step by step. The Interview is an action comedy film directed by Seth Rogen and Evan Goldberg. It is inspired by a 2012 Vice documentary. So the answer is a 2012 Vice documentary.\\nAnswer: a 2012 Vice documentary\\nQuestion: The head coach during the 1997\\u201398 Indiana Pacers season retired as a player from what NBA team?\\nThought: Let's think step by step. The head coach during the 1997\\u201398 Indiana Pacers season was Larry Bird. Larry Bird retired as a player from Boston Celtics. So the answer is Boston Celtics.\\nAnswer: Boston Celtics\\nQuestion: What profession does Nicholas Ray and Elia Kazan have in common?\\nThought: Let's think step by step. Professions of Nicholas Ray are director, screenwriter, and actor. Professions of Elia Kazan are director, producer, screenwriter, and actor. So profession Nicholas Ray and Elia Kazan have in common is director, screenwriter, and actor.\\nAnswer: director, screenwriter, actor\\nQuestion: Which band was founded first, Hole, the rock band that Courtney Love was a frontwoman of, or The Wolfhounds?\\nThought: Let's think step by step. Hole was founded in 1989. The Wolfhounds was founded in 1985. 1989 (Hole) > 1985 (The Wolfhounds), so The Wolfhounds was founded first.\\nAnswer: The Wolfhounds\\nQuestion: Were Pavel Urysohn and Leonid Levin known for the same type of work?\\nThought: Let's think step by step. Pavel Urysohn is a mathematician. Leonid Levin is a mathematician and computer scientist. So Pavel Urysohn and Leonid Levin have the same type of work.\\nAnswer: Yes\\nQuestion: Which documentary is about Finnish rock groups, Adam Clayton Powell or The Saimaa Gesture?\\nThought: Let's think step by step. Adam Clayton Powell (film) is a documentary about an African-American politician, not Finnish rock groups. So the documentary about Finnish rock groups must instead be The Saimaa Gesture.\\nAnswer: The Saimaa Gesture\\n\", \"webqa_simple\": \"\\nQuestion: Musician and satirist Allie Goertz wrote a song about the \\\"The Simpsons\\\" character Milhouse, who Matt Groening named after who?\\nAnswer: Richard Nixon\\nQuestion: Guitars for Wounded Warriors is an album that was recorded in the village in which New York county?\\nAnswer: Ulster County\\nQuestion: This American actor who starred in \\\"Veep\\\" was also in an action comedy film directed by Seth Rogen and Evan Goldberg heavily inspired by what?\\nAnswer: 2012 Vice documentary\\nQuestion: The head coach during the 1997\\u201398 Indiana Pacers season retired as a player from what NBA team?\\nAnswer: Boston Celtics\\nQuestion: What profession does Nicholas Ray and Elia Kazan have in common?\\nAnswer: director, screenwriter, actor\\nQuestion: Which magazine was started first Arthur's Magazine or First for Women?\\nAnswer: Arthur's Magazine\\nQuestion: Were Pavel Urysohn and Leonid Levin known for the same type of work?\\nAnswer: yes\\nQuestion: Which documentary is about Finnish rock groups, Adam Clayton Powell or The Saimaa Gesture?\\nAnswer: The Saimaa Gesture\\n\", \"webthink_simple_3\": \"\\nQuestion: What is the elevation range for the area that the eastern sector of the Colorado orogeny extends into?\\nThought 1: I need to search Colorado orogeny, find the area that the eastern sector of the Colorado orogeny extends into, then find the elevation range of the area.\\nAction 1: Search[Colorado orogeny]\\nObservation 1: The Colorado orogeny was an episode of mountain building (an orogeny) in Colorado and surrounding areas. This took place from 1780 to 1650 million years ago (Mya), during the Paleoproterozoic (Statherian Period). It is recorded in the Colorado orogen, a >500-km-wide belt of oceanic arc rock that extends southward into New Mexico. The Colorado orogeny was likely part of the larger Yavapai orogeny.\\nThought 2: It does not mention the eastern sector of the Colorado orogeny. I need to look up eastern sector.\\nAction 2: Lookup[eastern sector]\\nObservation 2: (Result 1 / 1) The Colorado orogen, formerly called the Colorado province, is a >500-km-wide belt of oceanic arc rock (1.78\\u20131.65 Ga) that extends southward into New Mexico and composes a major part of the Proterozoic provinces of southwestern United States. This transcontinental collisional event occurred during the  Paleoproterozoic (Statherian Period).[1] The Wyoming sector of the Colorado orogeny was formerly called the Medicine Bow orogeny. The eastern sector extends into the High Plains and is called the Central Plains orogeny. The boundary between the Colorado orogeny and the Wyoming craton is the Cheyenne belt, a 5-km-wide mylonitic shear zone that verges northward. The Cheyenne belt transects and cuts off the south edge of the older Trans-Hudson orogeny.[2]\\nThought 3: The eastern sector of Colorado orogeny extends into the High Plains, so High Plains is the area. I need to search High Plains and find its elevation range.\\nAction 3: Search[High Plains]\\nObservation 3: High Plains refers to one of two distinct land regions:\\nThought 4: I need to search High Plains (United States).\\nAction 4: Search[High Plains (United States)]\\nObservation 4: The High Plains are a subregion of the Great Plains, mainly in the Western United States, but also partly in the Midwest states of Nebraska, Kansas, and South Dakota, generally encompassing the western part of the Great Plains before the region reaches the Rocky Mountains. The High Plains are located in eastern Montana, southeastern Wyoming, southwestern South Dakota, western Nebraska, eastern Colorado, western Kansas, eastern New Mexico, western Oklahoma, and to just south of the Texas Panhandle.[4] The southern region of the Western High Plains ecology region contains the geological formation known as Llano Estacado which can be seen from a short distance or on satellite maps.[5] From east to west, the High Plains rise in elevation from around 1,800 to 7,000 ft (550 to 2,130 m).[3]\\nThought 5: High Plains rise in elevation from around 1,800 to 7,000 ft, so the answer is 1,800 to 7,000 ft.\\nAction 5: Finish[1,800 to 7,000 ft]\\nQuestion: Guitars for Wounded Warriors is an album that was recorded in the village in which New York county?\\nThought 1: I need to search Guitars for Wounded Warriors, then find in which New York county it was recorded.\\nAction 1: Search[Guitars for Wounded Warriors]\\nObservation 1: Guitars for Wounded Warriors is the sixth solo studio album by guitarist Brian Tarquin, released in August 2014 by Cleopatra Records. In 2016, it received a Best Compilation Album nomination by the Independent Music Awards. All tracks were recorded at Tarquin's Jungle Room Studios in New Paltz (village), New York. Being moved by the lack of support for returning veterans through his life Tarquin decided to compose a heavy instrumental rock album as a way to show his appreciation to all veterans. So once again he enlisted top notch players to guest with him on the album, Billy Sheehan on Black Hawk, Ron \\\"Bumblefoot\\\" Thal and Reb Beach on Taliban Terror, Steve Morse on Freedom, Chris Poland on Charlie Surfs and Hunting, Chuck Loeb on Escape Kabul, Hal Lindes on Sand & Blood, Gary Hoey on 5 Klicks To Hell and Baghdad, Alex De Rosso Dokken on Broken Arrow, and The Flyin' Ryan Brothers on Surgical Strike.  The entire album was engineered, produced and composed by Tarquin especially for each one of the guest guitarists. Partial proceeds are donated to the Fisher House Foundation from sales.\\nThought 2: Guitars for Wounded Warriors was recorded in New Paltz (village), New York. I need to search New Paltz (village), New York and find which county it is in.\\nAction 2: Search[New Paltz (village), New York]\\nObservation 2: New Paltz is a village in Ulster County located in the U.S. state of New York. It is approximately 80 miles (130 km) north of New York City and 70 miles (110 km) south of Albany. The population was 7,324 at the 2020 census.[3]\\nThought 3: New Paltz (village), New York is in Ulster County, so the answer is Ulster County.\\nAction 3: Finish[Ulster County]\\nQuestion: Which magazine was started first Arthur's Magazine or First for Women?\\nThought 1: I need to search Arthur's Magazine and First for Women, and find which was started first.\\nAction 1: Search[Arthur's Magazine]\\nObservation 1: Arthur's Magazine (1844\\u00e2\\u0080\\u00931846) was an American literary periodical published in Philadelphia in the 19th century. Edited by Timothy Shay Arthur, it featured work by Edgar A. Poe, J.H. Ingraham, Sarah Josepha Hale, Thomas G. Spear, and others.[1][2] In May 1846 it was merged into Godey's Lady's Book.[3]\\nThought 2: Arthur's Magazine was started in 1844. I need to search First for Women next.\\nAction 2: Search[First for Women]\\nObservation 2: First for Women is a woman's magazine published by Bauer Media Group in the USA.[1] The magazine was started in 1989. It is based in Englewood Cliffs, New Jersey.[2] In 2011 the circulation of the magazine was 1,310,696 copies.[3]\\nThought 3: First for Women was started in 1989. 1844 (Arthur's Magazine) < 1989 (First for Women), so Arthur's Magazine was started first.\\nAction 3: Finish[Arthur's Magazine]\\n\", \"webthink_simple6\": \"\\nQuestion: What is the elevation range for the area that the eastern sector of the Colorado orogeny extends into?\\nThought 1: I need to search Colorado orogeny, find the area that the eastern sector of the Colorado orogeny extends into, then find the elevation range of the area.\\nAction 1: Search[Colorado orogeny]\\nObservation 1: The Colorado orogeny was an episode of mountain building (an orogeny) in Colorado and surrounding areas.\\nThought 2: It does not mention the eastern sector. So I need to look up eastern sector.\\nAction 2: Lookup[eastern sector]\\nObservation 2: (Result 1 / 1) The eastern sector extends into the High Plains and is called the Central Plains orogeny.\\nThought 3: The eastern sector of Colorado orogeny extends into the High Plains. So I need to search High Plains and find its elevation range.\\nAction 3: Search[High Plains]\\nObservation 3: High Plains refers to one of two distinct land regions:\\nThought 4: I need to instead search High Plains (United States).\\nAction 4: Search[High Plains (United States)]\\nObservation 4: The High Plains are a subregion of the Great Plains. From east to west, the High Plains rise in elevation from around 1,800 to 7,000 ft (550 to 2,130 m).[3]\\nThought 5: High Plains rise in elevation from around 1,800 to 7,000 ft, so the answer is 1,800 to 7,000 ft.\\nAction 5: Finish[1,800 to 7,000 ft]\\nQuestion: Musician and satirist Allie Goertz wrote a song about the \\\"The Simpsons\\\" character Milhouse, who Matt Groening named after who?\\nThought 1: The question simplifies to \\\"The Simpsons\\\" character Milhouse is named after who. I only need to search Milhouse and find who it is named after.\\nAction 1: Search[Milhouse]\\nObservation 1: Milhouse Mussolini Van Houten is a recurring character in the Fox animated television series The Simpsons voiced by Pamela Hayden and created by Matt Groening.\\nThought 2: The paragraph does not tell who Milhouse is named after, maybe I can look up \\\"named after\\\".\\nAction 2: Lookup[named after]\\nObservation 2: (Result 1 / 1) Milhouse was named after U.S. president Richard Nixon, whose middle name was Milhous. \\nThought 3: Milhouse was named after U.S. president Richard Nixon, so the answer is Richard Nixon.\\nAction 3: Finish[Richard Nixon]\\nQuestion: Which documentary is about Finnish rock groups, Adam Clayton Powell or The Saimaa Gesture?\\nThought 1: I need to search Adam Clayton Powell and The Saimaa Gesture, and find which documentary is about Finnish rock groups.\\nAction 1: Search[Adam Clayton Powell]\\nObservation 1: Could not find [Adam Clayton Powell]. Similar: ['Adam Clayton Powell III', 'Seventh Avenue (Manhattan)', 'Adam Clayton Powell Jr. State Office Building', 'Isabel Washington Powell', 'Adam Powell', 'Adam Clayton Powell (film)', 'Giancarlo Esposito'].\\nThought 2: To find the documentary, I can search Adam Clayton Powell (film).\\nAction 2: Search[Adam Clayton Powell (film)]\\nObservation 2: Adam Clayton Powell is a 1989 American documentary film directed by Richard Kilberg.\\nThe film is about the rise and fall of influential African-American politician Adam Clayton Powell Jr.[3][4] It was later aired as part of the PBS series The American Experience.\\nThought 3: Adam Clayton Powell (film) is a documentary about an African-American politician, not Finnish rock groups. So the documentary about Finnish rock groups must instead be The Saimaa Gesture.\\nAction 3: Finish[The Saimaa Gesture]\\nQuestion: What profession does Nicholas Ray and Elia Kazan have in common?\\nThought 1: I need to search Nicholas Ray and Elia Kazan, find their professions, then find the profession they have in common.\\nAction 1: Search[Nicholas Ray]\\nObservation 1: Nicholas Ray (born Raymond Nicholas Kienzle Jr., August 7, 1911 \\u2013 June 16, 1979) was an American film director, screenwriter, and actor best known for the 1955 film Rebel Without a Cause.\\nThought 2: Professions of Nicholas Ray are director, screenwriter, and actor. I need to search Elia Kazan next and find his professions.\\nAction 2: Search[Elia Kazan]\\nObservation 2: Elia Kazan was an American film and theatre director, producer, screenwriter and actor.\\nThought 3: Professions of Elia Kazan are director, producer, screenwriter, and actor. So profession Nicholas Ray and Elia Kazan have in common is director, screenwriter, and actor.\\nAction 3: Finish[director, screenwriter, actor]\\nQuestion: Which magazine was started first Arthur's Magazine or First for Women?\\nThought 1: I need to search Arthur's Magazine and First for Women, and find which was started first.\\nAction 1: Search[Arthur's Magazine]\\nObservation 1: Arthur's Magazine (1844-\\u0080\\u00931846) was an American literary periodical published in Philadelphia in the 19th century. \\nThought 2: Arthur's Magazine was started in 1844. I need to search First for Women next.\\nAction 2: Search[First for Women]\\nObservation 2: First for Women is a woman's magazine published by Bauer Media Group in the USA.[1] The magazine was started in 1989. \\nThought 3: First for Women was started in 1989. 1844 (Arthur's Magazine) < 1989 (First for Women), so Arthur's Magazine was started first.\\nAction 3: Finish[Arthur's Magazine]\\nQuestion: Were Pavel Urysohn and Leonid Levin known for the same type of work?\\nThought 1: I need to search Pavel Urysohn and Leonid Levin, find their types of work, then find if they are the same.\\nAction 1: Search[Pavel Urysohn]\\nObservation 1: Pavel Samuilovich Urysohn (February 3, 1898 \\u00e2\\u0080\\u0093 August 17, 1924) was a Soviet mathematician who is best known for his contributions in dimension theory.\\nThought 2: Pavel Urysohn is a mathematician. I need to search Leonid Levin next and find its type of work.\\nAction 2: Search[Leonid Levin]\\nObservation 2: Leonid Anatolievich Levin is a Soviet-American mathematician and computer scientist. \\nThought 3: Leonid Levin is a mathematician and computer scientist. So Pavel Urysohn and Leonid Levin have the same type of work. \\nAction 3: Finish[yes]\\n\", \"webact_simple6\": \"Question: What is the elevation range for the area that the eastern sector of the Colorado orogeny extends into?\\nAction 1: Search[Colorado orogeny]\\nObservation 1: The Colorado orogeny was an episode of mountain building (an orogeny) in Colorado and surrounding areas.\\nAction 2: Lookup[eastern sector]\\nObservation 2: (Result 1 / 1) The eastern sector extends into the High Plains and is called the Central Plains orogeny.\\nAction 3: Search[High Plains]\\nObservation 3: High Plains refers to one of two distinct land regions:\\nAction 4: Search[High Plains (United States)]\\nObservation 4: The High Plains are a subregion of the Great Plains. From east to west, the High Plains rise in elevation from around 1,800 to 7,000 ft (550 to 2,130 m).[3]\\nAction 5: Finish[1,800 to 7,000 ft]\\nQuestion: Musician and satirist Allie Goertz wrote a song about the \\\"The Simpsons\\\" character Milhouse, who Matt Groening named after who?\\nAction 1: Search[Milhouse]\\nObservation 1: Milhouse Mussolini Van Houten is a recurring character in the Fox animated television series The Simpsons voiced by Pamela Hayden and created by Matt Groening.\\nAction 2: Lookup[named after]\\nObservation 2: (Result 1 / 1) Milhouse was named after U.S. president Richard Nixon, whose middle name was Milhous. \\nAction 3: Finish[Richard Nixon]\\nQuestion: Which documentary is about Finnish rock groups, Adam Clayton Powell or The Saimaa Gesture?\\nAction 1: Search[Adam Clayton Powell]\\nObservation 1: Could not find [Adam Clayton Powell]. Similar: ['Adam Clayton Powell III', 'Seventh Avenue (Manhattan)', 'Adam Clayton Powell Jr. State Office Building', 'Isabel Washington Powell', 'Adam Powell', 'Adam Clayton Powell (film)', 'Giancarlo Esposito'].\\nAction 2: Search[Adam Clayton Powell (film)]\\nObservation 2: Adam Clayton Powell is a 1989 American documentary film directed by Richard Kilberg.\\nThe film is about the rise and fall of influential African-American politician Adam Clayton Powell Jr.[3][4] It was later aired as part of the PBS series The American Experience.\\nAction 3: Finish[The Saimaa Gesture]\\nQuestion: What profession does Nicholas Ray and Elia Kazan have in common?\\nAction 1: Search[Nicholas Ray]\\nObservation 1: Nicholas Ray (born Raymond Nicholas Kienzle Jr., August 7, 1911 \\u2013 June 16, 1979) was an American film director, screenwriter, and actor best known for the 1955 film Rebel Without a Cause.\\nAction 2: Search[Elia Kazan]\\nObservation 2: Elia Kazan was an American film and theatre director, producer, screenwriter and actor.\\nAction 3: Finish[director, screenwriter, actor]\\nQuestion: Which magazine was started first Arthur's Magazine or First for Women?\\nAction 1: Search[Arthur's Magazine]\\nObservation 1: Arthur's Magazine (1844-\\u0080\\u00931846) was an American literary periodical published in Philadelphia in the 19th century. \\nAction 2: Search[First for Women]\\nObservation 2: First for Women is a woman's magazine published by Bauer Media Group in the USA.[1] The magazine was started in 1989. \\nAction 3: Finish[Arthur's Magazine]\\nQuestion: Were Pavel Urysohn and Leonid Levin known for the same type of work?\\nAction 1: Search[Pavel Urysohn]\\nObservation 1: Pavel Samuilovich Urysohn (February 3, 1898 \\u00e2\\u0080\\u0093 August 17, 1924) was a Soviet mathematician who is best known for his contributions in dimension theory.\\nAction 2: Search[Leonid Levin]\\nObservation 2: Leonid Anatolievich Levin is a Soviet-American mathematician and computer scientist. \\nAction 3: Finish[yes]\\n\\n\", \"cotqa_simple6\": \"Question: What is the elevation range for the area that the eastern sector of the Colorado orogeny extends into?\\nThought: Let's think step by step. The eastern sector of Colorado orogeny extends into the High Plains. High Plains rise in elevation from around 1,800 to 7,000 ft, so the answer is 1,800 to 7,000 ft.\\nAnswer: 1,800 to 7,000 ft\\nQuestion: Musician and satirist Allie Goertz wrote a song about the \\\"The Simpsons\\\" character Milhouse, who Matt Groening named after who?\\nThought: Let's think step by step. Milhouse was named after U.S. president Richard Nixon, so the answer is Richard Nixon.\\nAnswer: Richard Nixon\\nQuestion: Which documentary is about Finnish rock groups, Adam Clayton Powell or The Saimaa Gesture?\\nThought: Let's think step by step. Adam Clayton Powell (film) is a documentary about an African-American politician, not Finnish rock groups. So the documentary about Finnish rock groups must instead be The Saimaa Gesture.\\nAnswer: The Saimaa Gesture\\nQuestion: What profession does Nicholas Ray and Elia Kazan have in common?\\nThought: Let's think step by step. Professions of Nicholas Ray are director, screenwriter, and actor. Professions of Elia Kazan are director, producer, screenwriter, and actor. So profession Nicholas Ray and Elia Kazan have in common is director, screenwriter, and actor.\\nAnswer: director, screenwriter, actor\\nQuestion: Which magazine was started first Arthur's Magazine or First for Women?\\nThought: Let's think step by step. Arthur's Magazine was started in 1844. First for Women was started in 1989. 1844 (Arthur's Magazine) < 1989 (First for Women), so Arthur's Magazine was started first.\\nAnswer: Arthur's Magazine\\nQuestion: Were Pavel Urysohn and Leonid Levin known for the same type of work?\\nThought: Let's think step by step. Pavel Urysohn is a mathematician. Leonid Levin is a mathematician and computer scientist. So Pavel Urysohn and Leonid Levin have the same type of work.\\nAnswer: Yes\\n\", \"webqa_simple6\": \"Question: What is the elevation range for the area that the eastern sector of the Colorado orogeny extends into?\\nAnswer: 1,800 to 7,000 ft\\nQuestion: Musician and satirist Allie Goertz wrote a song about the \\\"The Simpsons\\\" character Milhouse, who Matt Groening named after who?\\nAnswer: Richard Nixon\\nQuestion: Which documentary is about Finnish rock groups, Adam Clayton Powell or The Saimaa Gesture?\\nAnswer: The Saimaa Gesture\\nQuestion: What profession does Nicholas Ray and Elia Kazan have in common?\\nAnswer: director, screenwriter, actor\\nQuestion: Which magazine was started first Arthur's Magazine or First for Women?\\nAnswer: Arthur's Magazine\\nQuestion: Were Pavel Urysohn and Leonid Levin known for the same type of work?\\nAnswer: Yes\\n\"}"
   ]
  },
  {
   "cell_type": "code",
   "execution_count": 7,
   "metadata": {},
   "outputs": [
    {
     "data": {
      "text/plain": [
       "{'webthink_simple': '\\nQuestion: Musician and satirist Allie Goertz wrote a song about the \"The Simpsons\" character Milhouse, who Matt Groening named after who?\\nThought 1: I only need to search Milhouse and find who it is named after.\\nAction 1: Search[Milhouse]\\nObservation 1: Milhouse Mussolini Van Houten is a recurring character in the Fox animated television series The Simpsons voiced by Pamela Hayden and created by Matt Groening. Milhouse is Bart Simpson\\'s best friend in Mrs. Krabappel\\'s fourth grade class at Springfield Elementary School. He is an insecure, gullible, and less popular child than Bart who is often led into trouble by Bart, who takes advantage of his friend\\'s naÃ¯vetÃ©. Milhouse is a regular target for school bully Nelson Muntz and his friends Jimbo Jones, Dolph Starbeam and Kearney Zzyzwicz. Milhouse has a crush on Bart\\'s sister, Lisa, a common plot element.\\nThought 2: The paragraph does not tell who Milhouse is named after, maybe I can look up \"named after\".\\nAction 2: Lookup[named after]\\nObservation 2: (Result 1 / 1) Milhouse was designed by Matt Groening for a planned series on NBC, which was abandoned.[4] The design was then used for a Butterfinger commercial, and it was decided to use the character in the series.[5][6] Milhouse was named after U.S. president Richard Nixon, whose middle name was Milhous. The name was the most \"unfortunate name Matt Groening could think of for a kid\".[1] Years earlier, in a 1986 Life in Hell comic entitled \"What to Name the Baby\", Groening listed Milhouse as a name \"no longer recommended\".[7] Milhouse is a favorite among the staff as Al Jean noted \"most of the writers are more like Milhouse than Bart\".[1] His last name was given to him by Howard Gewirtz, a freelance writer who wrote the episode \"Homer Defined\". Gewirtz got the name from one of his wife\\'s friends.[8] According to Arden Myrin and Dana Gould (former writer and co-executive producer of The Simpsons), Rob Cohen (Simpsons writer) inspired Milhouse\\'s look.[2]\\nThought 3: Milhouse was named after U.S. president Richard Nixon, so the answer is Richard Nixon.\\nAction 3: Finish[Richard Nixon]\\nQuestion: Guitars for Wounded Warriors is an album that was recorded in the village in which New York county?\\nThought 1: I need to search Guitars for Wounded Warriors, then find in which New York county it was recorded.\\nAction 1: Search[Guitars for Wounded Warriors]\\nObservation 1: Guitars for Wounded Warriors is the sixth solo studio album by guitarist Brian Tarquin, released in August 2014 by Cleopatra Records. In 2016, it received a Best Compilation Album nomination by the Independent Music Awards. All tracks were recorded at Tarquin\\'s Jungle Room Studios in New Paltz (village), New York. Being moved by the lack of support for returning veterans through his life Tarquin decided to compose a heavy instrumental rock album as a way to show his appreciation to all veterans. So once again he enlisted top notch players to guest with him on the album, Billy Sheehan on Black Hawk, Ron \"Bumblefoot\" Thal and Reb Beach on Taliban Terror, Steve Morse on Freedom, Chris Poland on Charlie Surfs and Hunting, Chuck Loeb on Escape Kabul, Hal Lindes on Sand & Blood, Gary Hoey on 5 Klicks To Hell and Baghdad, Alex De Rosso Dokken on Broken Arrow, and The Flyin\\' Ryan Brothers on Surgical Strike.  The entire album was engineered, produced and composed by Tarquin especially for each one of the guest guitarists. Partial proceeds are donated to the Fisher House Foundation from sales.\\nThought 2: Guitars for Wounded Warriors was recorded in New Paltz (village), New York. I need to search New Paltz (village), New York and find which county it is in.\\nAction 2: Search[New Paltz (village), New York]\\nObservation 2: New Paltz is a village in Ulster County located in the U.S. state of New York. It is approximately 80 miles (130 km) north of New York City and 70 miles (110 km) south of Albany. The population was 7,324 at the 2020 census.[3]\\nThought 3: New Paltz (village), New York is in Ulster County, so the answer is Ulster County.\\nAction 3: Finish[Ulster County]\\nQuestion: This American actor who starred in \"Veep\" was also in an action comedy film directed by Seth Rogen and Evan Goldberg heavily inspired by what?\\nThought 1: There could be many American actors who starred in \"Veep\". So I can first search \"directed by Seth Rogen and Evan Goldberg\" and find action comedy films directed by Seth Rogen and Evan Goldberg.\\nAction 1: Search[directed by Seth Rogen and Evan Goldberg]\\nObservation 1: Could not find directed by Seth Rogen and Evan Goldberg. Similar: [\\'The Interview (redirect from The Interview (Seth Rogen film))\\', \\'Evan Goldberg\\', \\'Jay and Seth Versus the Apocalypse\\', \\'This Is the End (category Films directed by Seth Rogen)\\', \\'Seth Rogen filmography\\', \\'Superbad (category Films with screenplays by Seth Rogen)\\', \\'Pineapple Express (film) (category Films with screenplays by Seth Rogen)\\', \\'Sausage Party (category Films produced by Seth Rogen)\\', \\'Untitled Teenage Mutant Ninja Turtles film (category Films produced by Seth Rogen)\\', \\'The Green Hornet (2011 film) (category Films produced by Seth Rogen)\\', \\'Good Boys (film) (category Films produced by Seth Rogen)\\', \\'Seth Rogen\\', \\'Neighbors 2: Sorority Rising (category Films produced by Seth Rogen)\\', \\'An American Pickle (category Films produced by Seth Rogen)\\', \\'The Watch (2012 film) (category Films with screenplays by Seth Rogen)\\', \\'Neighbors (2014 film) (category Films produced by Seth Rogen)\\', \\'The Night Before (2015 film) (category Films produced by Seth Rogen)\\', \\'Martin Starr\\', \\'Preacher (TV series) (category Television shows directed by Steph Green)\\', \\'Long Shot (2019 film) (category Films produced by Seth Rogen)\\'].\\nThought 2: I can check search The Interview (Seth Rogen film), Jay and Seth Versus the Apocalypse, This Is the End (category Films directed by Seth Rogen) and find which is an action comedy film directed by Seth Rogen and Evan Goldberg.\\nAction 2: Search[The Interview (Seth Rogen film)]\\nObservation 2: The Interview is a 2014 action-adventure comedy film co-produced and directed by Seth Rogen and Evan Goldberg in their second directorial work, following This Is the End (2013). The screenplay was written by Dan Sterling, based on a story he co-wrote with Rogen and Goldberg. The film stars Rogen and James Franco as journalists who set up an interview with North Korean leader Kim Jong-un (Randall Park), and are then recruited by the CIA to assassinate him. The film is inspired by a 2012 Vice documentary.\\nThought 3: The Interview is an action comedy film directed by Seth Rogen and Evan Goldberg, and it is inspired by a 2012 Vice documentary. So I can probably stop now without checking other films, and the answer is probably a 2012 Vice documentary.\\nAction 3: Finish[a 2012 Vice documentary]\\nQuestion: The head coach during the 1997–98 Indiana Pacers season retired as a player from what NBA team?\\nThought 1: I can search Indiana Pacers, find the head coach during the 1997–98 season, then find from what NBA team it is retired as a player.\\nAction 1: Search[Indiana Pacers]\\nObservation 1: The Indiana Pacers are an American professional basketball team based in Indianapolis. The Pacers compete in the National Basketball Association (NBA) as a member of the league\\'s Eastern Conference Central Division. The Pacers were first established in 1967 as a member of the American Basketball Association (ABA) and became a member of the NBA in 1976 as a result of the ABAâ\\x80\\x93NBA merger. They play their home games at Gainbridge Fieldhouse. The team is named after the state of Indiana\\'s history with the Indianapolis 500\\'s pace cars and with the harness racing industry.[8][9]\\nThought 2: I can look up \"1997–98\" to find the head coach during the 1997–98 season.\\nAction 2: Lookup[1997–98]\\nObservation 2: No more results.\\nThought 3: I can look up \"1997\" instead to find the head coach during the 1997–98 season\\nAction 3: Lookup[1997]\\nObservation 3: (Result 1 / 5) In the 1997â\\x80\\x9398 NBA season, Indiana native and former Boston Celtics great Larry Bird was hired as head coach. He led the Pacers to a 19-game improvement over the previous season, finishing 58â\\x80\\x9324 â\\x80\\x93 at the time, the most the franchise had ever won as an NBA team, and tying the 1970â\\x80\\x9371 ABA Pacers for the franchise record. Chris Mullin joined the team in the off-season and immediately became a valuable part of the Pacers lineupâ\\x80\\x94and starting small forward. Assistant coaches Rick Carlisle, in charge of the offense, and Dick Harter, who coached the defense, were key in getting the most out of the Pacers\\' role players such as Dale Davis, Derrick McKey and a young Antonio Davis. Miller and Rik Smits both made the All-Star team that year, and in the playoffs, the Pacers breezed past the Cleveland Cavaliers and New York Knicks before falling to the Chicago Bulls in a seven-game Eastern Conference Finals.\\nThought 4: In the 1997-98 season, former Boston Celtics great Larry Bird was hired as head coach. So the answer is Boston Celtics.\\nAction 4: Finish[Boston Celtics]\\nQuestion: What profession does Nicholas Ray and Elia Kazan have in common?\\nThought 1: I need to search Nicholas Ray and Elia Kazan, find their professions, then find the profession they have in common.\\nAction 1: Search[Nicholas Ray]\\nObservation 1: Nicholas Ray (born Raymond Nicholas Kienzle Jr., August 7, 1911 – June 16, 1979) was an American film director, screenwriter, and actor best known for the 1955 film Rebel Without a Cause. He is appreciated for many narrative features produced between 1947 and 1963 including They Live By Night, In A Lonely Place, Johnny Guitar, and Bigger Than Life, as well as an experimental work produced throughout the 1970s titled We Can\\'t Go Home Again, which was unfinished at the time of Ray\\'s death.\\nThought 2: Professions of Nicholas Ray are director, screenwriter, and actor. I need to search Elia Kazan next and find his professions.\\nAction 2: Search[Elia Kazan]\\nObservation 2: Elia Kazan (/ˈiːliə kəˈzæn/;[1][2] born Elias Kazantzoglou (Greek: Ηλίας Καζαντζόγλου);[3] September 7, 1909 – September 28, 2003) was an American film and theatre director, producer, screenwriter and actor, described by The New York Times as \"one of the most honored and influential directors in Broadway and Hollywood history\".[4]\\nThought 3: Professions of Elia Kazan are director, producer, screenwriter, and actor. So profession Nicholas Ray and Elia Kazan have in common is director, screenwriter, and actor.\\nAction 3: Finish[director, screenwriter, actor]\\nQuestion: Which magazine was started first Arthur\\'s Magazine or First for Women?\\nThought 1: I need to search Arthur\\'s Magazine and First for Women, and find which was started first.\\nAction 1: Search[Arthur\\'s Magazine]\\nObservation 1: Arthur\\'s Magazine (1844â\\x80\\x931846) was an American literary periodical published in Philadelphia in the 19th century. Edited by Timothy Shay Arthur, it featured work by Edgar A. Poe, J.H. Ingraham, Sarah Josepha Hale, Thomas G. Spear, and others.[1][2] In May 1846 it was merged into Godey\\'s Lady\\'s Book.[3]\\nThought 2: Arthur\\'s Magazine was started in 1844. I need to search First for Women next.\\nAction 2: Search[First for Women]\\nObservation 2: First for Women is a woman\\'s magazine published by Bauer Media Group in the USA.[1] The magazine was started in 1989. It is based in Englewood Cliffs, New Jersey.[2] In 2011 the circulation of the magazine was 1,310,696 copies.[3]\\nThought 3: First for Women was started in 1989. 1844 (Arthur\\'s Magazine) < 1989 (First for Women), so Arthur\\'s Magazine was started first.\\nAction 3: Finish[Arthur\\'s Magazine]\\nQuestion: Were Pavel Urysohn and Leonid Levin known for the same type of work?\\nThought 1: I need to search Pavel Urysohn and Leonid Levin, find their types of work, then find if they are the same.\\nAction 1: Search[Pavel Urysohn]\\nObservation 1: Pavel Samuilovich Urysohn (Ð\\x9fÐ°Ì\\x81Ð²ÐµÐ» Ð¡Ð°Ð¼Ñ\\x83Ð¸Ì\\x81Ð»Ð¾Ð²Ð¸Ñ\\x87 Ð£Ñ\\x80Ñ\\x8bÑ\\x81Ð¾Ì\\x81Ð½) (February 3, 1898 â\\x80\\x93 August 17, 1924) was a Soviet mathematician who is best known for his contributions in dimension theory, and for developing Urysohn\\'s metrization theorem and Urysohn\\'s lemma, both of which are fundamental results in topology. His name is also commemorated in the terms Urysohn universal space, FrÃ©chetâ\\x80\\x93Urysohn space, Mengerâ\\x80\\x93Urysohn dimension and Urysohn integral equation. He and Pavel Alexandrov formulated the modern definition of compactness in 1923.\\nThought 2: Pavel Urysohn is a mathematician. I need to search Leonid Levin next and find its type of work.\\nAction 2: Search[Leonid Levin]\\nObservation 2: Leonid Anatolievich Levin (/leÉª.oÊ\\x8aË\\x88niË\\x90d Ë\\x88lÉ\\x9bvÉªn/ lay-oh-NEED LEV-in; Russian: Ð\\x9bÐµÐ¾Ð½Ð¸Ì\\x81Ð´ Ð\\x90Ð½Ð°Ñ\\x82Ð¾Ì\\x81Ð»Ñ\\x8cÐµÐ²Ð¸Ñ\\x87 Ð\\x9bÐµÌ\\x81Ð²Ð¸Ð½; Ukrainian: Ð\\x9bÐµÐ¾Ð½Ñ\\x96Ì\\x81Ð´ Ð\\x90Ð½Ð°Ñ\\x82Ð¾Ì\\x81Ð»Ñ\\x96Ð¹Ð¾Ð²Ð¸Ñ\\x87 Ð\\x9bÐµÌ\\x81Ð²Ñ\\x96Ð½; born November 2, 1948) is a Soviet-American mathematician and computer scientist. \\nThought 3: Leonid Levin is a mathematician and computer scientist. So Pavel Urysohn and Leonid Levin have the same type of work. \\nAction 3: Finish[yes]\\nQuestion: Which documentary is about Finnish rock groups, Adam Clayton Powell or The Saimaa Gesture?\\nThought 1: I need to search Adam Clayton Powell and The Saimaa Gesture, and find which documentary is about Finnish rock groups.\\nAction 1: Search[Adam Clayton Powell]\\nObservation 1: Could not find [Adam Clayton Powell]. Similar: [\\'Adam Clayton Powell Jr.\\', \\'Adam Clayton Powell Sr.\\', \\'Adam Clayton Powell IV\\', \\'Adam Clayton Powell III\\', \\'Seventh Avenue (Manhattan) (redirect from Adam Clayton Powell Jr. Boulevard)\\', \\'Adam Clayton Powell Jr. State Office Building\\', \\'Isabel Washington Powell\\', \\'Adam Powell\\', \\'Adam Clayton Powell (film)\\', \\'Giancarlo Esposito\\', \\'Harlem\\', \\'St. Nicholas Historic District\\', \\'Abyssinian Baptist Church\\', \\'Powell (surname)\\', \\'Adam (musical)\\', \\'Statue of Adam Clayton Powell Jr.\\', \\'List of people from Harlem\\', \\'Adam (given name)\\', \\'Five-Percent Nation\\', \\'List of American liberals\\'].\\nThought 2: I can search Adam Clayton Powell (film) to find the documentary.\\nAction 2: Search[Adam Clayton Powell (film)]\\nObservation 2: Adam Clayton Powell is a 1989 American documentary film directed by Richard Kilberg.\\nThe film is about the rise and fall of influential African-American politician Adam Clayton Powell Jr.[3][4] It was later aired as part of the PBS series The American Experience.\\nThought 3: Adam Clayton Powell (film) is a documentary about an African-American politician, not Finnish rock groups. So the documentary about Finnish rock groups must instead be The Saimaa Gesture.\\nAction 3: Finish[The Saimaa Gesture]\\n',\n",
       " 'cotqa_simple': '\\nQuestion: Musician and satirist Allie Goertz wrote a song about the \"The Simpsons\" character Milhouse, who Matt Groening named after who?\\nThought: Let\\'s think step by step. Milhouse was named after U.S. president Richard Nixon, so the answer is Richard Nixon.\\nAnswer: Richard Nixon\\nQuestion: Guitars for Wounded Warriors is an album that was recorded in the village in which New York county?\\nThought: Let\\'s think step by step. Guitars for Wounded Warriors was recorded at Tarquin\\'s Jungle Room Studios in New Paltz (village), New York. New Paltz is a village in Ulster County located in the U.S. state of New York. So the answer is Ulster County.\\nAnswer: Ulster County\\nQuestion: This American actor who starred in \"Veep\" was also in an action comedy film directed by Seth Rogen and Evan Goldberg heavily inspired by what?\\nThought: Let\\'s think step by step. The Interview is an action comedy film directed by Seth Rogen and Evan Goldberg. It is inspired by a 2012 Vice documentary. So the answer is a 2012 Vice documentary.\\nAnswer: a 2012 Vice documentary\\nQuestion: The head coach during the 1997–98 Indiana Pacers season retired as a player from what NBA team?\\nThought: Let\\'s think step by step. The head coach during the 1997–98 Indiana Pacers season was Larry Bird. Larry Bird retired as a player from Boston Celtics. So the answer is Boston Celtics.\\nAnswer: Boston Celtics\\nQuestion: What profession does Nicholas Ray and Elia Kazan have in common?\\nThought: Let\\'s think step by step. Professions of Nicholas Ray are director, screenwriter, and actor. Professions of Elia Kazan are director, producer, screenwriter, and actor. So profession Nicholas Ray and Elia Kazan have in common is director, screenwriter, and actor.\\nAnswer: director, screenwriter, actor\\nQuestion: Which band was founded first, Hole, the rock band that Courtney Love was a frontwoman of, or The Wolfhounds?\\nThought: Let\\'s think step by step. Hole was founded in 1989. The Wolfhounds was founded in 1985. 1989 (Hole) > 1985 (The Wolfhounds), so The Wolfhounds was founded first.\\nAnswer: The Wolfhounds\\nQuestion: Were Pavel Urysohn and Leonid Levin known for the same type of work?\\nThought: Let\\'s think step by step. Pavel Urysohn is a mathematician. Leonid Levin is a mathematician and computer scientist. So Pavel Urysohn and Leonid Levin have the same type of work.\\nAnswer: Yes\\nQuestion: Which documentary is about Finnish rock groups, Adam Clayton Powell or The Saimaa Gesture?\\nThought: Let\\'s think step by step. Adam Clayton Powell (film) is a documentary about an African-American politician, not Finnish rock groups. So the documentary about Finnish rock groups must instead be The Saimaa Gesture.\\nAnswer: The Saimaa Gesture\\n',\n",
       " 'webqa_simple': '\\nQuestion: Musician and satirist Allie Goertz wrote a song about the \"The Simpsons\" character Milhouse, who Matt Groening named after who?\\nAnswer: Richard Nixon\\nQuestion: Guitars for Wounded Warriors is an album that was recorded in the village in which New York county?\\nAnswer: Ulster County\\nQuestion: This American actor who starred in \"Veep\" was also in an action comedy film directed by Seth Rogen and Evan Goldberg heavily inspired by what?\\nAnswer: 2012 Vice documentary\\nQuestion: The head coach during the 1997–98 Indiana Pacers season retired as a player from what NBA team?\\nAnswer: Boston Celtics\\nQuestion: What profession does Nicholas Ray and Elia Kazan have in common?\\nAnswer: director, screenwriter, actor\\nQuestion: Which magazine was started first Arthur\\'s Magazine or First for Women?\\nAnswer: Arthur\\'s Magazine\\nQuestion: Were Pavel Urysohn and Leonid Levin known for the same type of work?\\nAnswer: yes\\nQuestion: Which documentary is about Finnish rock groups, Adam Clayton Powell or The Saimaa Gesture?\\nAnswer: The Saimaa Gesture\\n',\n",
       " 'webthink_simple_3': '\\nQuestion: What is the elevation range for the area that the eastern sector of the Colorado orogeny extends into?\\nThought 1: I need to search Colorado orogeny, find the area that the eastern sector of the Colorado orogeny extends into, then find the elevation range of the area.\\nAction 1: Search[Colorado orogeny]\\nObservation 1: The Colorado orogeny was an episode of mountain building (an orogeny) in Colorado and surrounding areas. This took place from 1780 to 1650 million years ago (Mya), during the Paleoproterozoic (Statherian Period). It is recorded in the Colorado orogen, a >500-km-wide belt of oceanic arc rock that extends southward into New Mexico. The Colorado orogeny was likely part of the larger Yavapai orogeny.\\nThought 2: It does not mention the eastern sector of the Colorado orogeny. I need to look up eastern sector.\\nAction 2: Lookup[eastern sector]\\nObservation 2: (Result 1 / 1) The Colorado orogen, formerly called the Colorado province, is a >500-km-wide belt of oceanic arc rock (1.78–1.65 Ga) that extends southward into New Mexico and composes a major part of the Proterozoic provinces of southwestern United States. This transcontinental collisional event occurred during the  Paleoproterozoic (Statherian Period).[1] The Wyoming sector of the Colorado orogeny was formerly called the Medicine Bow orogeny. The eastern sector extends into the High Plains and is called the Central Plains orogeny. The boundary between the Colorado orogeny and the Wyoming craton is the Cheyenne belt, a 5-km-wide mylonitic shear zone that verges northward. The Cheyenne belt transects and cuts off the south edge of the older Trans-Hudson orogeny.[2]\\nThought 3: The eastern sector of Colorado orogeny extends into the High Plains, so High Plains is the area. I need to search High Plains and find its elevation range.\\nAction 3: Search[High Plains]\\nObservation 3: High Plains refers to one of two distinct land regions:\\nThought 4: I need to search High Plains (United States).\\nAction 4: Search[High Plains (United States)]\\nObservation 4: The High Plains are a subregion of the Great Plains, mainly in the Western United States, but also partly in the Midwest states of Nebraska, Kansas, and South Dakota, generally encompassing the western part of the Great Plains before the region reaches the Rocky Mountains. The High Plains are located in eastern Montana, southeastern Wyoming, southwestern South Dakota, western Nebraska, eastern Colorado, western Kansas, eastern New Mexico, western Oklahoma, and to just south of the Texas Panhandle.[4] The southern region of the Western High Plains ecology region contains the geological formation known as Llano Estacado which can be seen from a short distance or on satellite maps.[5] From east to west, the High Plains rise in elevation from around 1,800 to 7,000 ft (550 to 2,130 m).[3]\\nThought 5: High Plains rise in elevation from around 1,800 to 7,000 ft, so the answer is 1,800 to 7,000 ft.\\nAction 5: Finish[1,800 to 7,000 ft]\\nQuestion: Guitars for Wounded Warriors is an album that was recorded in the village in which New York county?\\nThought 1: I need to search Guitars for Wounded Warriors, then find in which New York county it was recorded.\\nAction 1: Search[Guitars for Wounded Warriors]\\nObservation 1: Guitars for Wounded Warriors is the sixth solo studio album by guitarist Brian Tarquin, released in August 2014 by Cleopatra Records. In 2016, it received a Best Compilation Album nomination by the Independent Music Awards. All tracks were recorded at Tarquin\\'s Jungle Room Studios in New Paltz (village), New York. Being moved by the lack of support for returning veterans through his life Tarquin decided to compose a heavy instrumental rock album as a way to show his appreciation to all veterans. So once again he enlisted top notch players to guest with him on the album, Billy Sheehan on Black Hawk, Ron \"Bumblefoot\" Thal and Reb Beach on Taliban Terror, Steve Morse on Freedom, Chris Poland on Charlie Surfs and Hunting, Chuck Loeb on Escape Kabul, Hal Lindes on Sand & Blood, Gary Hoey on 5 Klicks To Hell and Baghdad, Alex De Rosso Dokken on Broken Arrow, and The Flyin\\' Ryan Brothers on Surgical Strike.  The entire album was engineered, produced and composed by Tarquin especially for each one of the guest guitarists. Partial proceeds are donated to the Fisher House Foundation from sales.\\nThought 2: Guitars for Wounded Warriors was recorded in New Paltz (village), New York. I need to search New Paltz (village), New York and find which county it is in.\\nAction 2: Search[New Paltz (village), New York]\\nObservation 2: New Paltz is a village in Ulster County located in the U.S. state of New York. It is approximately 80 miles (130 km) north of New York City and 70 miles (110 km) south of Albany. The population was 7,324 at the 2020 census.[3]\\nThought 3: New Paltz (village), New York is in Ulster County, so the answer is Ulster County.\\nAction 3: Finish[Ulster County]\\nQuestion: Which magazine was started first Arthur\\'s Magazine or First for Women?\\nThought 1: I need to search Arthur\\'s Magazine and First for Women, and find which was started first.\\nAction 1: Search[Arthur\\'s Magazine]\\nObservation 1: Arthur\\'s Magazine (1844â\\x80\\x931846) was an American literary periodical published in Philadelphia in the 19th century. Edited by Timothy Shay Arthur, it featured work by Edgar A. Poe, J.H. Ingraham, Sarah Josepha Hale, Thomas G. Spear, and others.[1][2] In May 1846 it was merged into Godey\\'s Lady\\'s Book.[3]\\nThought 2: Arthur\\'s Magazine was started in 1844. I need to search First for Women next.\\nAction 2: Search[First for Women]\\nObservation 2: First for Women is a woman\\'s magazine published by Bauer Media Group in the USA.[1] The magazine was started in 1989. It is based in Englewood Cliffs, New Jersey.[2] In 2011 the circulation of the magazine was 1,310,696 copies.[3]\\nThought 3: First for Women was started in 1989. 1844 (Arthur\\'s Magazine) < 1989 (First for Women), so Arthur\\'s Magazine was started first.\\nAction 3: Finish[Arthur\\'s Magazine]\\n',\n",
       " 'webthink_simple6': '\\nQuestion: What is the elevation range for the area that the eastern sector of the Colorado orogeny extends into?\\nThought 1: I need to search Colorado orogeny, find the area that the eastern sector of the Colorado orogeny extends into, then find the elevation range of the area.\\nAction 1: Search[Colorado orogeny]\\nObservation 1: The Colorado orogeny was an episode of mountain building (an orogeny) in Colorado and surrounding areas.\\nThought 2: It does not mention the eastern sector. So I need to look up eastern sector.\\nAction 2: Lookup[eastern sector]\\nObservation 2: (Result 1 / 1) The eastern sector extends into the High Plains and is called the Central Plains orogeny.\\nThought 3: The eastern sector of Colorado orogeny extends into the High Plains. So I need to search High Plains and find its elevation range.\\nAction 3: Search[High Plains]\\nObservation 3: High Plains refers to one of two distinct land regions:\\nThought 4: I need to instead search High Plains (United States).\\nAction 4: Search[High Plains (United States)]\\nObservation 4: The High Plains are a subregion of the Great Plains. From east to west, the High Plains rise in elevation from around 1,800 to 7,000 ft (550 to 2,130 m).[3]\\nThought 5: High Plains rise in elevation from around 1,800 to 7,000 ft, so the answer is 1,800 to 7,000 ft.\\nAction 5: Finish[1,800 to 7,000 ft]\\nQuestion: Musician and satirist Allie Goertz wrote a song about the \"The Simpsons\" character Milhouse, who Matt Groening named after who?\\nThought 1: The question simplifies to \"The Simpsons\" character Milhouse is named after who. I only need to search Milhouse and find who it is named after.\\nAction 1: Search[Milhouse]\\nObservation 1: Milhouse Mussolini Van Houten is a recurring character in the Fox animated television series The Simpsons voiced by Pamela Hayden and created by Matt Groening.\\nThought 2: The paragraph does not tell who Milhouse is named after, maybe I can look up \"named after\".\\nAction 2: Lookup[named after]\\nObservation 2: (Result 1 / 1) Milhouse was named after U.S. president Richard Nixon, whose middle name was Milhous. \\nThought 3: Milhouse was named after U.S. president Richard Nixon, so the answer is Richard Nixon.\\nAction 3: Finish[Richard Nixon]\\nQuestion: Which documentary is about Finnish rock groups, Adam Clayton Powell or The Saimaa Gesture?\\nThought 1: I need to search Adam Clayton Powell and The Saimaa Gesture, and find which documentary is about Finnish rock groups.\\nAction 1: Search[Adam Clayton Powell]\\nObservation 1: Could not find [Adam Clayton Powell]. Similar: [\\'Adam Clayton Powell III\\', \\'Seventh Avenue (Manhattan)\\', \\'Adam Clayton Powell Jr. State Office Building\\', \\'Isabel Washington Powell\\', \\'Adam Powell\\', \\'Adam Clayton Powell (film)\\', \\'Giancarlo Esposito\\'].\\nThought 2: To find the documentary, I can search Adam Clayton Powell (film).\\nAction 2: Search[Adam Clayton Powell (film)]\\nObservation 2: Adam Clayton Powell is a 1989 American documentary film directed by Richard Kilberg.\\nThe film is about the rise and fall of influential African-American politician Adam Clayton Powell Jr.[3][4] It was later aired as part of the PBS series The American Experience.\\nThought 3: Adam Clayton Powell (film) is a documentary about an African-American politician, not Finnish rock groups. So the documentary about Finnish rock groups must instead be The Saimaa Gesture.\\nAction 3: Finish[The Saimaa Gesture]\\nQuestion: What profession does Nicholas Ray and Elia Kazan have in common?\\nThought 1: I need to search Nicholas Ray and Elia Kazan, find their professions, then find the profession they have in common.\\nAction 1: Search[Nicholas Ray]\\nObservation 1: Nicholas Ray (born Raymond Nicholas Kienzle Jr., August 7, 1911 – June 16, 1979) was an American film director, screenwriter, and actor best known for the 1955 film Rebel Without a Cause.\\nThought 2: Professions of Nicholas Ray are director, screenwriter, and actor. I need to search Elia Kazan next and find his professions.\\nAction 2: Search[Elia Kazan]\\nObservation 2: Elia Kazan was an American film and theatre director, producer, screenwriter and actor.\\nThought 3: Professions of Elia Kazan are director, producer, screenwriter, and actor. So profession Nicholas Ray and Elia Kazan have in common is director, screenwriter, and actor.\\nAction 3: Finish[director, screenwriter, actor]\\nQuestion: Which magazine was started first Arthur\\'s Magazine or First for Women?\\nThought 1: I need to search Arthur\\'s Magazine and First for Women, and find which was started first.\\nAction 1: Search[Arthur\\'s Magazine]\\nObservation 1: Arthur\\'s Magazine (1844-\\x80\\x931846) was an American literary periodical published in Philadelphia in the 19th century. \\nThought 2: Arthur\\'s Magazine was started in 1844. I need to search First for Women next.\\nAction 2: Search[First for Women]\\nObservation 2: First for Women is a woman\\'s magazine published by Bauer Media Group in the USA.[1] The magazine was started in 1989. \\nThought 3: First for Women was started in 1989. 1844 (Arthur\\'s Magazine) < 1989 (First for Women), so Arthur\\'s Magazine was started first.\\nAction 3: Finish[Arthur\\'s Magazine]\\nQuestion: Were Pavel Urysohn and Leonid Levin known for the same type of work?\\nThought 1: I need to search Pavel Urysohn and Leonid Levin, find their types of work, then find if they are the same.\\nAction 1: Search[Pavel Urysohn]\\nObservation 1: Pavel Samuilovich Urysohn (February 3, 1898 â\\x80\\x93 August 17, 1924) was a Soviet mathematician who is best known for his contributions in dimension theory.\\nThought 2: Pavel Urysohn is a mathematician. I need to search Leonid Levin next and find its type of work.\\nAction 2: Search[Leonid Levin]\\nObservation 2: Leonid Anatolievich Levin is a Soviet-American mathematician and computer scientist. \\nThought 3: Leonid Levin is a mathematician and computer scientist. So Pavel Urysohn and Leonid Levin have the same type of work. \\nAction 3: Finish[yes]\\n',\n",
       " 'webact_simple6': 'Question: What is the elevation range for the area that the eastern sector of the Colorado orogeny extends into?\\nAction 1: Search[Colorado orogeny]\\nObservation 1: The Colorado orogeny was an episode of mountain building (an orogeny) in Colorado and surrounding areas.\\nAction 2: Lookup[eastern sector]\\nObservation 2: (Result 1 / 1) The eastern sector extends into the High Plains and is called the Central Plains orogeny.\\nAction 3: Search[High Plains]\\nObservation 3: High Plains refers to one of two distinct land regions:\\nAction 4: Search[High Plains (United States)]\\nObservation 4: The High Plains are a subregion of the Great Plains. From east to west, the High Plains rise in elevation from around 1,800 to 7,000 ft (550 to 2,130 m).[3]\\nAction 5: Finish[1,800 to 7,000 ft]\\nQuestion: Musician and satirist Allie Goertz wrote a song about the \"The Simpsons\" character Milhouse, who Matt Groening named after who?\\nAction 1: Search[Milhouse]\\nObservation 1: Milhouse Mussolini Van Houten is a recurring character in the Fox animated television series The Simpsons voiced by Pamela Hayden and created by Matt Groening.\\nAction 2: Lookup[named after]\\nObservation 2: (Result 1 / 1) Milhouse was named after U.S. president Richard Nixon, whose middle name was Milhous. \\nAction 3: Finish[Richard Nixon]\\nQuestion: Which documentary is about Finnish rock groups, Adam Clayton Powell or The Saimaa Gesture?\\nAction 1: Search[Adam Clayton Powell]\\nObservation 1: Could not find [Adam Clayton Powell]. Similar: [\\'Adam Clayton Powell III\\', \\'Seventh Avenue (Manhattan)\\', \\'Adam Clayton Powell Jr. State Office Building\\', \\'Isabel Washington Powell\\', \\'Adam Powell\\', \\'Adam Clayton Powell (film)\\', \\'Giancarlo Esposito\\'].\\nAction 2: Search[Adam Clayton Powell (film)]\\nObservation 2: Adam Clayton Powell is a 1989 American documentary film directed by Richard Kilberg.\\nThe film is about the rise and fall of influential African-American politician Adam Clayton Powell Jr.[3][4] It was later aired as part of the PBS series The American Experience.\\nAction 3: Finish[The Saimaa Gesture]\\nQuestion: What profession does Nicholas Ray and Elia Kazan have in common?\\nAction 1: Search[Nicholas Ray]\\nObservation 1: Nicholas Ray (born Raymond Nicholas Kienzle Jr., August 7, 1911 – June 16, 1979) was an American film director, screenwriter, and actor best known for the 1955 film Rebel Without a Cause.\\nAction 2: Search[Elia Kazan]\\nObservation 2: Elia Kazan was an American film and theatre director, producer, screenwriter and actor.\\nAction 3: Finish[director, screenwriter, actor]\\nQuestion: Which magazine was started first Arthur\\'s Magazine or First for Women?\\nAction 1: Search[Arthur\\'s Magazine]\\nObservation 1: Arthur\\'s Magazine (1844-\\x80\\x931846) was an American literary periodical published in Philadelphia in the 19th century. \\nAction 2: Search[First for Women]\\nObservation 2: First for Women is a woman\\'s magazine published by Bauer Media Group in the USA.[1] The magazine was started in 1989. \\nAction 3: Finish[Arthur\\'s Magazine]\\nQuestion: Were Pavel Urysohn and Leonid Levin known for the same type of work?\\nAction 1: Search[Pavel Urysohn]\\nObservation 1: Pavel Samuilovich Urysohn (February 3, 1898 â\\x80\\x93 August 17, 1924) was a Soviet mathematician who is best known for his contributions in dimension theory.\\nAction 2: Search[Leonid Levin]\\nObservation 2: Leonid Anatolievich Levin is a Soviet-American mathematician and computer scientist. \\nAction 3: Finish[yes]\\n\\n',\n",
       " 'cotqa_simple6': 'Question: What is the elevation range for the area that the eastern sector of the Colorado orogeny extends into?\\nThought: Let\\'s think step by step. The eastern sector of Colorado orogeny extends into the High Plains. High Plains rise in elevation from around 1,800 to 7,000 ft, so the answer is 1,800 to 7,000 ft.\\nAnswer: 1,800 to 7,000 ft\\nQuestion: Musician and satirist Allie Goertz wrote a song about the \"The Simpsons\" character Milhouse, who Matt Groening named after who?\\nThought: Let\\'s think step by step. Milhouse was named after U.S. president Richard Nixon, so the answer is Richard Nixon.\\nAnswer: Richard Nixon\\nQuestion: Which documentary is about Finnish rock groups, Adam Clayton Powell or The Saimaa Gesture?\\nThought: Let\\'s think step by step. Adam Clayton Powell (film) is a documentary about an African-American politician, not Finnish rock groups. So the documentary about Finnish rock groups must instead be The Saimaa Gesture.\\nAnswer: The Saimaa Gesture\\nQuestion: What profession does Nicholas Ray and Elia Kazan have in common?\\nThought: Let\\'s think step by step. Professions of Nicholas Ray are director, screenwriter, and actor. Professions of Elia Kazan are director, producer, screenwriter, and actor. So profession Nicholas Ray and Elia Kazan have in common is director, screenwriter, and actor.\\nAnswer: director, screenwriter, actor\\nQuestion: Which magazine was started first Arthur\\'s Magazine or First for Women?\\nThought: Let\\'s think step by step. Arthur\\'s Magazine was started in 1844. First for Women was started in 1989. 1844 (Arthur\\'s Magazine) < 1989 (First for Women), so Arthur\\'s Magazine was started first.\\nAnswer: Arthur\\'s Magazine\\nQuestion: Were Pavel Urysohn and Leonid Levin known for the same type of work?\\nThought: Let\\'s think step by step. Pavel Urysohn is a mathematician. Leonid Levin is a mathematician and computer scientist. So Pavel Urysohn and Leonid Levin have the same type of work.\\nAnswer: Yes\\n',\n",
       " 'webqa_simple6': 'Question: What is the elevation range for the area that the eastern sector of the Colorado orogeny extends into?\\nAnswer: 1,800 to 7,000 ft\\nQuestion: Musician and satirist Allie Goertz wrote a song about the \"The Simpsons\" character Milhouse, who Matt Groening named after who?\\nAnswer: Richard Nixon\\nQuestion: Which documentary is about Finnish rock groups, Adam Clayton Powell or The Saimaa Gesture?\\nAnswer: The Saimaa Gesture\\nQuestion: What profession does Nicholas Ray and Elia Kazan have in common?\\nAnswer: director, screenwriter, actor\\nQuestion: Which magazine was started first Arthur\\'s Magazine or First for Women?\\nAnswer: Arthur\\'s Magazine\\nQuestion: Were Pavel Urysohn and Leonid Levin known for the same type of work?\\nAnswer: Yes\\n'}"
      ]
     },
     "execution_count": 7,
     "metadata": {},
     "output_type": "execute_result"
    }
   ],
   "source": [
    "react_naive"
   ]
  },
  {
   "cell_type": "code",
   "execution_count": 19,
   "metadata": {},
   "outputs": [
    {
     "data": {
      "application/vnd.jupyter.widget-view+json": {
       "model_id": "f7176d19755244178a6b4d9671c35185",
       "version_major": 2,
       "version_minor": 0
      },
      "text/plain": [
       "Saving the dataset (0/15 shards):   0%|          | 0/5416537 [00:00<?, ? examples/s]"
      ]
     },
     "metadata": {},
     "output_type": "display_data"
    }
   ],
   "source": [
    "wikipages.save_to_disk(\"var/wiki-pages\")"
   ]
  },
  {
   "cell_type": "code",
   "execution_count": 20,
   "metadata": {},
   "outputs": [
    {
     "data": {
      "text/plain": [
       "DatasetDict({\n",
       "    train: Dataset({\n",
       "        features: ['id', 'text', 'lines'],\n",
       "        num_rows: 5416537\n",
       "    })\n",
       "})"
      ]
     },
     "execution_count": 20,
     "metadata": {},
     "output_type": "execute_result"
    }
   ],
   "source": [
    "wikipages"
   ]
  },
  {
   "cell_type": "code",
   "execution_count": null,
   "metadata": {},
   "outputs": [],
   "source": []
  }
 ],
 "metadata": {
  "kernelspec": {
   "display_name": "pdl",
   "language": "python",
   "name": "python3"
  },
  "language_info": {
   "codemirror_mode": {
    "name": "ipython",
    "version": 3
   },
   "file_extension": ".py",
   "mimetype": "text/x-python",
   "name": "python",
   "nbconvert_exporter": "python",
   "pygments_lexer": "ipython3",
   "version": "3.12.4"
  }
 },
 "nbformat": 4,
 "nbformat_minor": 2
}
