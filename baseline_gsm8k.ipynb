{
 "cells": [
  {
   "cell_type": "code",
   "execution_count": 1,
   "metadata": {},
   "outputs": [],
   "source": [
    "from datasets import load_dataset, Dataset, DatasetDict\n",
    "import re"
   ]
  },
  {
   "cell_type": "code",
   "execution_count": 2,
   "metadata": {},
   "outputs": [],
   "source": [
    "pal_demos = [\n",
    "  {\n",
    "    \"question\": \"Olivia has $23. She bought five bagels for $3 each. How much money does she have left?\",\n",
    "    \"reasoning\": \"She bought 5 bagels for $3 each. This means she spent $15. She has $8 left.\",\n",
    "    \"answer\": \"8\"\n",
    "  },\n",
    "  {\n",
    "    \"question\": \"Michael had 58 golf balls. On tuesday, he lost 23 golf balls. On wednesday, he lost 2 more. How many golf balls did he have at the end of wednesday?\",\n",
    "    \"reasoning\": \"Michael initially had 58 balls. He lost 23 on Tuesday, so after that he has <<58 - 23 = 35>>35 balls.\\nOn Wednesday he lost 2 more so now he has <<35 - 2 = 33>>33 balls.\",\n",
    "    \"answer\": \"33\"\n",
    "  },\n",
    "  {\n",
    "    \"question\": \"There were nine computers in the server room. Five more computers were installed each day, from monday to thursday. How many computers are now in the server room?\",\n",
    "    \"reasoning\": \"There are 4 days from monday to thursday. 5 computers were added each day. That means in total <<4 * 5 = 20>>20 computers were added.\\nThere were 9 computers in the beginning, so now there are <<9 + 20 = 29>>29 computers.\",\n",
    "    \"answer\": \"29\"\n",
    "  },\n",
    "  {\n",
    "    \"question\": \"Shawn has five toys. For Christmas, he got two toys each from his mom and dad. How many toys does he have now?\",\n",
    "    \"reasoning\": \"He has 5 toys. He got 2 from mom, so after that he has <<5 + 2 = 7>>7 toys.\\nThen he got 2 more from dad, so in total he has <<7 + 2 = 9>>9 toys.\",\n",
    "    \"answer\": \"9\"\n",
    "  },\n",
    "  {\n",
    "    \"question\": \"Jason had 20 lollipops. He gave Denny some lollipops. Now Jason has 12 lollipops. How many lollipops did Jason give to Denny?\",\n",
    "    \"reasoning\": \"Jason had 20 lollipops. Since he only has 12 now, he must have given the rest to Denny. The number of lollipops he has given to Denny must have been <<20 - 12 = 8>>8 lollipops.\",\n",
    "    \"answer\": \"8\"\n",
    "  },\n",
    "  {\n",
    "    \"question\": \"Leah had 32 chocolates and her sister had 42. If they ate 35, how many pieces do they have left in total?\",\n",
    "    \"reasoning\": \"Leah had 32 chocolates and Leah's sister had 42. That means there were originally <<32 + 42 = 74>>74 chocolates.\\n35 have been eaten. So in total they still have <<74 - 35 = 39>>39 chocolates.\",\n",
    "    \"answer\": \"39\"\n",
    "  },\n",
    "  {\n",
    "    \"question\": \"If there are 3 cars in the parking lot and 2 more cars arrive, how many cars are in the parking lot?\",\n",
    "    \"reasoning\": \"There are 3 cars in the parking lot already. 2 more arrive. Now there are <<3 + 2 = 5>>5 cars.\",\n",
    "    \"answer\": \"5\"\n",
    "  },\n",
    "  {\n",
    "    \"question\": \"There are 15 trees in the grove. Grove workers will plant trees in the grove today. After they are done, there will be 21 trees. How many trees did the grove workers plant today?\",\n",
    "    \"reasoning\": \"We start with 15 trees. Later we have 21 trees. The difference must be the number of trees they planted. So, they must have planted <<21 - 15 = 6>>6 trees.\",\n",
    "    \"answer\": \"6\"\n",
    "  }\n",
    "]\n"
   ]
  },
  {
   "cell_type": "code",
   "execution_count": 3,
   "metadata": {},
   "outputs": [],
   "source": [
    "sc_demos = [\n",
    "    {\n",
    "    \"question\": \"There are 15 trees in the grove. Grove workers will plant trees in the grove today. After they are done, there will be 21 trees. How many trees did the grove workers plant today?\",\n",
    "    \"reasoning\": \"We start with 15 trees. Later we have 21 trees. The difference must be the number of trees they planted. So, they must have planted <<21 - 15 = 6>>6 trees.\",\n",
    "    \"answer\": \"6\"\n",
    "  },\n",
    "  {\n",
    "    \"question\": \"If there are 3 cars in the parking lot and 2 more cars arrive, how many cars are in the parking lot?\",\n",
    "    \"reasoning\": \"There are 3 cars in the parking lot already. 2 more arrive. Now there are <<3 + 2 = 5>>5 cars.\",\n",
    "    \"answer\": \"5\"\n",
    "  },\n",
    "  {\n",
    "    \"question\": \"Leah had 32 chocolates and her sister had 42. If they ate 35, how many pieces do they have left in total?\",\n",
    "    \"reasoning\": \"Leah had 32 chocolates and Leah's sister had 42. That means there were originally <<32 + 42 = 74>>74 chocolates.\\n35 have been eaten. So in total they still have <<74 - 35 = 39>>39 chocolates.\",\n",
    "    \"answer\": \"39\"\n",
    "  },\n",
    "  {\n",
    "    \"question\": \"Jason had 20 lollipops. He gave Denny some lollipops. Now Jason has 12 lollipops. How many lollipops did Jason give to Denny?\",\n",
    "    \"reasoning\": \"Jason had 20 lollipops. Since he only has 12 now, he must have given the rest to Denny. The number of lollipops he has given to Denny must have been <<20 - 12 = 8>>8 lollipops.\",\n",
    "    \"answer\": \"8\"\n",
    "  },\n",
    "  {\n",
    "    \"question\": \"Shawn has five toys. For Christmas, he got two toys each from his mom and dad. How many toys does he have now?\",\n",
    "    \"reasoning\": \"He has 5 toys. He got 2 from mom, so after that he has <<5 + 2 = 7>>7 toys.\\nThen he got 2 more from dad, so in total he has <<7 + 2 = 9>>9 toys.\",\n",
    "    \"answer\": \"9\"\n",
    "  },\n",
    "  {\n",
    "    \"question\": \"There were nine computers in the server room. Five more computers were installed each day, from monday to thursday. How many computers are now in the server room?\",\n",
    "    \"reasoning\": \"There are 4 days from monday to thursday. 5 computers were added each day. That means in total <<4 * 5 = 20>>20 computers were added.\\nThere were 9 computers in the beginning, so now there are <<9 + 20 = 29>>29 computers.\",\n",
    "    \"answer\": \"29\"\n",
    "  },\n",
    "  {\n",
    "    \"question\": \"Michael had 58 golf balls. On tuesday, he lost 23 golf balls. On wednesday, he lost 2 more. How many golf balls did he have at the end of wednesday?\",\n",
    "    \"reasoning\": \"Michael initially had 58 balls. He lost 23 on Tuesday, so after that he has <<58 - 23 = 35>>35 balls.\\nOn Wednesday he lost 2 more so now he has <<35 - 2 = 33>>33 balls.\",\n",
    "    \"answer\": \"33\"\n",
    "  },\n",
    "  {\n",
    "    \"question\": \"Olivia has $23. She bought five bagels for $3 each. How much money does she have left?\",\n",
    "    \"reasoning\": \"She bought 5 bagels for $3 each. This means she spent $15. She has $8 left.\",\n",
    "    \"answer\": \"8\"\n",
    "  },\n",
    "]\n"
   ]
  },
  {
   "cell_type": "code",
   "execution_count": 4,
   "metadata": {},
   "outputs": [
    {
     "data": {
      "application/vnd.jupyter.widget-view+json": {
       "model_id": "0c899faa85af4d14b1ee9a6cbb0d7de3",
       "version_major": 2,
       "version_minor": 0
      },
      "text/plain": [
       "Map:   0%|          | 0/8 [00:00<?, ? examples/s]"
      ]
     },
     "metadata": {},
     "output_type": "display_data"
    },
    {
     "data": {
      "application/vnd.jupyter.widget-view+json": {
       "model_id": "b444de0bcd684aaeb19ef1e1a5125744",
       "version_major": 2,
       "version_minor": 0
      },
      "text/plain": [
       "Map:   0%|          | 0/8 [00:00<?, ? examples/s]"
      ]
     },
     "metadata": {},
     "output_type": "display_data"
    }
   ],
   "source": [
    "def react_trajectory(row):\n",
    "    question = row[\"question\"]\n",
    "    answer = row[\"answer\"]\n",
    "    reasoning = row[\"reasoning\"].splitlines()\n",
    "    trajectory = [{\"question\": question.strip()}]\n",
    "    res = answer\n",
    "\n",
    "    for line in reasoning:\n",
    "        pattern = (\n",
    "            r\"(?P<pre>(=(\\ )?|equals(\\ )?)?(\\$)?)<<(?P<exp>.*?)=(?P<res>.*?)>>([^\\s]*)\"\n",
    "        )\n",
    "        expressions = re.search(pattern, line)\n",
    "\n",
    "        if expressions is None:\n",
    "            trajectory += [\n",
    "                {\"thought\": line.strip().replace(\"  \", \" \")},\n",
    "            ]\n",
    "        else:\n",
    "            thought = re.sub(pattern, \"\", line)\n",
    "            thought = thought.rstrip(\".\").rstrip(\",\")\n",
    "            exp = expressions.group(\"exp\")\n",
    "            res = expressions.group(\"res\")\n",
    "\n",
    "            trajectory += [\n",
    "                {\n",
    "                    \"thought\": f\"{thought.strip().replace('  ', ' ')}. I need to calculate {exp.strip()}\"\n",
    "                },\n",
    "                {\"action\": f\"Calculator[{exp.strip()}]\"},\n",
    "                {\"observation\": res.strip()},\n",
    "            ]\n",
    "    if next(iter(trajectory[-1].keys())) == \"observation\":\n",
    "        trajectory.append({\"thought\": f\"The answer is {answer}\"})\n",
    "\n",
    "    trajectory.append({\"action\": f\"Finish[{answer}]\"})\n",
    "\n",
    "    traj_keys = [next(iter(t.keys())) for t in trajectory]\n",
    "    traj_values = [next(iter(t.values())) for t in trajectory]\n",
    "\n",
    "    return {\n",
    "        \"traj_keys\": traj_keys,\n",
    "        \"traj_values\": traj_values,\n",
    "    }\n",
    "\n",
    "pal_ds = Dataset.from_list(pal_demos).map(react_trajectory)\n",
    "sc_ds = Dataset.from_list(sc_demos).map(react_trajectory)"
   ]
  },
  {
   "cell_type": "code",
   "execution_count": 5,
   "metadata": {},
   "outputs": [],
   "source": [
    "gsm8k_baselines = DatasetDict(\n",
    "    {\"pal\": pal_ds,\n",
    "     \"sc\": sc_ds}\n",
    ")"
   ]
  },
  {
   "cell_type": "code",
   "execution_count": 6,
   "metadata": {},
   "outputs": [
    {
     "data": {
      "application/vnd.jupyter.widget-view+json": {
       "model_id": "6e7e1929a50d445c8c3e75ef198c0149",
       "version_major": 2,
       "version_minor": 0
      },
      "text/plain": [
       "Saving the dataset (0/1 shards):   0%|          | 0/8 [00:00<?, ? examples/s]"
      ]
     },
     "metadata": {},
     "output_type": "display_data"
    },
    {
     "data": {
      "application/vnd.jupyter.widget-view+json": {
       "model_id": "779360727016440c93c8fcf2684065ca",
       "version_major": 2,
       "version_minor": 0
      },
      "text/plain": [
       "Saving the dataset (0/1 shards):   0%|          | 0/8 [00:00<?, ? examples/s]"
      ]
     },
     "metadata": {},
     "output_type": "display_data"
    }
   ],
   "source": [
    "gsm8k_baselines.save_to_disk(\"var/gsm8k_base_prompts\")"
   ]
  },
  {
   "cell_type": "code",
   "execution_count": 22,
   "metadata": {},
   "outputs": [],
   "source": [
    "react = {\"webact_simple3\": \"\\nDetermine if there is Observation that SUPPORTS or REFUTES a Claim, or if there is NOT ENOUGH INFORMATION. \\nClaim: Nikolaj Coster-Waldau worked with the Fox Broadcasting Company.\\nAction 1: Search[Nikolaj Coster-Waldau]\\nObservation 1: Nikolaj William Coster-Waldau (born 27 July 1970) is a Danish actor and producer. He graduated from the Danish National School of Performing Arts in Copenhagen in 1993,[1] and had his breakthrough role in Denmark with the film Nightwatch (1994). He played Jaime Lannister in the HBO fantasy drama series Game of Thrones, for which he received two Primetime Emmy Award nominations for Outstanding Supporting Actor in a Drama Series.. Coster-Waldau has appeared in numerous films in his native Denmark and Scandinavia, including Headhunters (2011) and A Thousand Times Good Night (2013). In the U.S, his debut film role was in the war film Black Hawk Down (2001), playing Medal of Honor recipient Gary Gordon.[2] He then played a detective in the short-lived Fox television series New Amsterdam (2008), and appeared in the 2009 Fox television film Virtuality, originally intended as a pilot.\\nAction 2: Finish[SUPPORTS]\\n\\nClaim: Stranger Things is set in Bloomington, Indiana.\\nAction 1: Search[Stranger Things]\\nObservation 1: Stranger Things is an American science fiction horror drama television series created by the Duffer Brothers. Set in the 1980s, primarily in the fictional town of Hawkins, Indiana, the series centers on a number of mysteries and supernatural events occurring around the town and their impact on an ensemble of child and adult characters. \\nAction 2: Finish[REFUTES]\\n\\nClaim: Beautiful reached number two on the Billboard Hot 100 in 2003.?\\nAction 1: Search[Beautiful]\\nObservation 1: Could not find [Beautiful]. Similar: ['Beautiful', 'Beautiful, Beautiful', 'A Beautiful Mind (film)', 'Beautiful (Christina Aguilera song)', 'Life Is Beautiful'].\\nAction 2: Search[Beautiful (Christina Aguilera song)]\\nObservation 2: \\\"Beautiful\\\" is a song recorded by American singer Christina Aguilera for her fourth studio album, Stripped (2002).\\nAction 3: Lookup[Billboard Hot 100]\\nObservation 3: (Result 1 / 3) The song peaked at number two on the Billboard Hot 100 in the United States, where it was certified Gold for 500,000 units shipped.\\nAction 4: Finish[NOT ENOUGH INFO]\\n\\n\", \"cotqa_simple3\": \"Determine if there is Observation that SUPPORTS or REFUTES a Claim, or if there is NOT ENOUGH INFORMATION. \\nClaim: Nikolaj Coster-Waldau worked with the Fox Broadcasting Company.\\nThought: Nikolaj William Coster-Waldau appeared in the 2009 Fox television film Virtuality, so he has worked with the Fox Broadcasting Company.\\nAnswer: SUPPORTS\\n\\nClaim: Stranger Things is set in Bloomington, Indiana.\\nThought: Stranger Things is in the fictional town of Hawkins, Indiana, not in Bloomington, Indiana.\\nAnswer:REFUTES\\n\\nClaim: Beautiful reached number two on the Billboard Hot 100 in 2003.?\\nThought: The song peaked at number two on the Billboard Hot 100 in the United States, but not sure if it was in 2003.\\nAnswer: NOT ENOUGH INFO\\n\", \"webqa_simple3\": \"Determine if there is Observation that SUPPORTS or REFUTES a Claim, or if there is NOT ENOUGH INFORMATION. \\nClaim: Nikolaj Coster-Waldau worked with the Fox Broadcasting Company.\\nAnswer: SUPPORTS\\n\\nClaim: Stranger Things is set in Bloomington, Indiana.\\nAnswer:REFUTES\\n\\nClaim: Beautiful reached number two on the Billboard Hot 100 in 2003.?\\nAnswer: NOT ENOUGH INFO\\n\", \"webthink_simple3\": \"\\nDetermine if there is Observation that SUPPORTS or REFUTES a Claim, or if there is NOT ENOUGH INFORMATION. \\nClaim: Nikolaj Coster-Waldau worked with the Fox Broadcasting Company.\\nThought 1: I need to search Nikolaj Coster-Waldau and find if he has worked with the Fox Broadcasting Company.\\nAction 1: Search[Nikolaj Coster-Waldau]\\nObservation 1: Nikolaj William Coster-Waldau (born 27 July 1970) is a Danish actor and producer. He graduated from the Danish National School of Performing Arts in Copenhagen in 1993,[1] and had his breakthrough role in Denmark with the film Nightwatch (1994). He played Jaime Lannister in the HBO fantasy drama series Game of Thrones, for which he received two Primetime Emmy Award nominations for Outstanding Supporting Actor in a Drama Series.. Coster-Waldau has appeared in numerous films in his native Denmark and Scandinavia, including Headhunters (2011) and A Thousand Times Good Night (2013). In the U.S, his debut film role was in the war film Black Hawk Down (2001), playing Medal of Honor recipient Gary Gordon.[2] He then played a detective in the short-lived Fox television series New Amsterdam (2008), and appeared in the 2009 Fox television film Virtuality, originally intended as a pilot.\\nThought 2: Because he \\\"appeared in the 2009 Fox television film Virtuality\\\", he should have worked with the Fox Broadcasting Company.\\nAction 2: Finish[SUPPORTS]\\n\\nClaim: Stranger Things is set in Bloomington, Indiana.\\nThought 1: I should search for Stranger Things, and see if it is set in Bloomington, Indiana.\\nAction 1: Search[Stranger Things]\\nObservation 1: Stranger Things is an American science fiction horror drama television series created by the Duffer Brothers. Set in the 1980s, primarily in the fictional town of Hawkins, Indiana, the series centers on a number of mysteries and supernatural events occurring around the town and their impact on an ensemble of child and adult characters. \\nThought 2: The observation says that it is set in a \\\"fictional town of Hawkins, Indiana\\\", so it is not set in Bloomington.\\nAction 2: Finish[REFUTES]\\n\\nClaim: Beautiful reached number two on the Billboard Hot 100 in 2003.?\\nThought 1: I need to search the song Beautiful and find if it reached number two on the Billboard Hot 100 in 2003.\\nAction 1: Search[Beautiful]\\nObservation 1: Could not find [Beautiful]. Similar: ['Beautiful', 'Beautiful, Beautiful', 'A Beautiful Mind (film)', 'Beautiful (Christina Aguilera song)', 'Life Is Beautiful'].\\nThought 2: From suggestions, I should search \\\"Beautiful (Christina Aguilera song)\\\" to find the song.\\nAction 2: Search[Beautiful (Christina Aguilera song)]\\nObservation 2: \\\"Beautiful\\\" is a song recorded by American singer Christina Aguilera for her fourth studio album, Stripped (2002).\\nThought 3: It does not mention Billboard, so I need to look up \\\"Billboard Hot 100\\\" to find if it reached number two on it in 2003.\\nAction 3: Lookup[Billboard Hot 100]\\nObservation 3: (Result 1 / 3) The song peaked at number two on the Billboard Hot 100 in the United States, where it was certified Gold for 500,000 units shipped.\\nThought 4: It only says the song peaked at number two on the Billboard Hot 100, but not if it was in 2003. I am not sure if this claim is true or not.\\nAction 4: Finish[NOT ENOUGH INFO]\\n\\n\"}"
   ]
  },
  {
   "cell_type": "code",
   "execution_count": 24,
   "metadata": {},
   "outputs": [
    {
     "name": "stdout",
     "output_type": "stream",
     "text": [
      "\n",
      "Determine if there is Observation that SUPPORTS or REFUTES a Claim, or if there is NOT ENOUGH INFORMATION. \n",
      "Claim: Nikolaj Coster-Waldau worked with the Fox Broadcasting Company.\n",
      "Thought 1: I need to search Nikolaj Coster-Waldau and find if he has worked with the Fox Broadcasting Company.\n",
      "Action 1: Search[Nikolaj Coster-Waldau]\n",
      "Observation 1: Nikolaj William Coster-Waldau (born 27 July 1970) is a Danish actor and producer. He graduated from the Danish National School of Performing Arts in Copenhagen in 1993,[1] and had his breakthrough role in Denmark with the film Nightwatch (1994). He played Jaime Lannister in the HBO fantasy drama series Game of Thrones, for which he received two Primetime Emmy Award nominations for Outstanding Supporting Actor in a Drama Series.. Coster-Waldau has appeared in numerous films in his native Denmark and Scandinavia, including Headhunters (2011) and A Thousand Times Good Night (2013). In the U.S, his debut film role was in the war film Black Hawk Down (2001), playing Medal of Honor recipient Gary Gordon.[2] He then played a detective in the short-lived Fox television series New Amsterdam (2008), and appeared in the 2009 Fox television film Virtuality, originally intended as a pilot.\n",
      "Thought 2: Because he \"appeared in the 2009 Fox television film Virtuality\", he should have worked with the Fox Broadcasting Company.\n",
      "Action 2: Finish[SUPPORTS]\n",
      "\n",
      "Claim: Stranger Things is set in Bloomington, Indiana.\n",
      "Thought 1: I should search for Stranger Things, and see if it is set in Bloomington, Indiana.\n",
      "Action 1: Search[Stranger Things]\n",
      "Observation 1: Stranger Things is an American science fiction horror drama television series created by the Duffer Brothers. Set in the 1980s, primarily in the fictional town of Hawkins, Indiana, the series centers on a number of mysteries and supernatural events occurring around the town and their impact on an ensemble of child and adult characters. \n",
      "Thought 2: The observation says that it is set in a \"fictional town of Hawkins, Indiana\", so it is not set in Bloomington.\n",
      "Action 2: Finish[REFUTES]\n",
      "\n",
      "Claim: Beautiful reached number two on the Billboard Hot 100 in 2003.?\n",
      "Thought 1: I need to search the song Beautiful and find if it reached number two on the Billboard Hot 100 in 2003.\n",
      "Action 1: Search[Beautiful]\n",
      "Observation 1: Could not find [Beautiful]. Similar: ['Beautiful', 'Beautiful, Beautiful', 'A Beautiful Mind (film)', 'Beautiful (Christina Aguilera song)', 'Life Is Beautiful'].\n",
      "Thought 2: From suggestions, I should search \"Beautiful (Christina Aguilera song)\" to find the song.\n",
      "Action 2: Search[Beautiful (Christina Aguilera song)]\n",
      "Observation 2: \"Beautiful\" is a song recorded by American singer Christina Aguilera for her fourth studio album, Stripped (2002).\n",
      "Thought 3: It does not mention Billboard, so I need to look up \"Billboard Hot 100\" to find if it reached number two on it in 2003.\n",
      "Action 3: Lookup[Billboard Hot 100]\n",
      "Observation 3: (Result 1 / 3) The song peaked at number two on the Billboard Hot 100 in the United States, where it was certified Gold for 500,000 units shipped.\n",
      "Thought 4: It only says the song peaked at number two on the Billboard Hot 100, but not if it was in 2003. I am not sure if this claim is true or not.\n",
      "Action 4: Finish[NOT ENOUGH INFO]\n",
      "\n",
      "\n"
     ]
    }
   ],
   "source": [
    "print(react[\"webthink_simple3\"])"
   ]
  },
  {
   "cell_type": "code",
   "execution_count": null,
   "metadata": {},
   "outputs": [],
   "source": [
    "- \"Determine if there is Observation that SUPPORTS or REFUTES a Claim, or if there is NOT ENOUGH INFORMATION.\"\n",
    "\n",
    "Claim: Nikolaj Coster-Waldau worked with the Fox Broadcasting Company.\n",
    "Thought 1: I need to search Nikolaj Coster-Waldau and find if he has worked with the Fox Broadcasting Company.\n",
    "Action 1: Search[Nikolaj Coster-Waldau]\n",
    "Observation 1: Nikolaj William Coster-Waldau (born 27 July 1970) is a Danish actor and producer. He graduated from the Danish National School of Performing Arts in Copenhagen in 1993,[1] and had his breakthrough role in Denmark with the film Nightwatch (1994). He played Jaime Lannister in the HBO fantasy drama series Game of Thrones, for which he received two Primetime Emmy Award nominations for Outstanding Supporting Actor in a Drama Series.. Coster-Waldau has appeared in numerous films in his native Denmark and Scandinavia, including Headhunters (2011) and A Thousand Times Good Night (2013). In the U.S, his debut film role was in the war film Black Hawk Down (2001), playing Medal of Honor recipient Gary Gordon.[2] He then played a detective in the short-lived Fox television series New Amsterdam (2008), and appeared in the 2009 Fox television film Virtuality, originally intended as a pilot.\n",
    "Thought 2: Because he \"appeared in the 2009 Fox television film Virtuality\", he should have worked with the Fox Broadcasting Company.\n",
    "Action 2: Finish[SUPPORTS]\n",
    "\n",
    "Claim: Stranger Things is set in Bloomington, Indiana.\n",
    "Thought 1: I should search for Stranger Things, and see if it is set in Bloomington, Indiana.\n",
    "Action 1: Search[Stranger Things]\n",
    "Observation 1: Stranger Things is an American science fiction horror drama television series created by the Duffer Brothers. Set in the 1980s, primarily in the fictional town of Hawkins, Indiana, the series centers on a number of mysteries and supernatural events occurring around the town and their impact on an ensemble of child and adult characters.\n",
    "Thought 2: The observation says that it is set in a \"fictional town of Hawkins, Indiana\", so it is not set in Bloomington.\n",
    "Action 2: Finish[REFUTES]\n",
    "\n",
    "Claim: Beautiful reached number two on the Billboard Hot 100 in 2003.?\n",
    "Thought 1: I need to search the song Beautiful and find if it reached number two on the Billboard Hot 100 in 2003.\n",
    "Action 1: Search[Beautiful]\n",
    "Observation 1: Could not find [Beautiful]. Similar: ['Beautiful', 'Beautiful, Beautiful', 'A Beautiful Mind (film)', 'Beautiful (Christina Aguilera song)', 'Life Is Beautiful'].\n",
    "Thought 2: From suggestions, I should search \"Beautiful (Christina Aguilera song)\" to find the song.\n",
    "Action 2: Search[Beautiful (Christina Aguilera song)]\n",
    "Observation 2: \"Beautiful\" is a song recorded by American singer Christina Aguilera for her fourth studio album, Stripped (2002).\n",
    "Thought 3: It does not mention Billboard, so I need to look up \"Billboard Hot 100\" to find if it reached number two on it in 2003.\n",
    "Action 3: Lookup[Billboard Hot 100]\n",
    "Observation 3: (Result 1 / 3) The song peaked at number two on the Billboard Hot 100 in the United States, where it was certified Gold for 500,000 units shipped.\n",
    "Thought 4: It only says the song peaked at number two on the Billboard Hot 100, but not if it was in 2003. I am not sure if this claim is true or not.\n",
    "Action 4: Finish[NOT ENOUGH INFO]"
   ]
  },
  {
   "cell_type": "code",
   "execution_count": 25,
   "metadata": {},
   "outputs": [],
   "source": [
    "from numpy.random import default_rng\n",
    "\n",
    "rng = default_rng()"
   ]
  },
  {
   "cell_type": "code",
   "execution_count": 32,
   "metadata": {},
   "outputs": [
    {
     "data": {
      "text/plain": [
       "array([1, 0, 1, 0])"
      ]
     },
     "execution_count": 32,
     "metadata": {},
     "output_type": "execute_result"
    }
   ],
   "source": [
    "rng.choice(len([1,2]), size=4, replace=True)"
   ]
  },
  {
   "cell_type": "code",
   "execution_count": null,
   "metadata": {},
   "outputs": [],
   "source": []
  }
 ],
 "metadata": {
  "kernelspec": {
   "display_name": "pdlnew",
   "language": "python",
   "name": "python3"
  },
  "language_info": {
   "codemirror_mode": {
    "name": "ipython",
    "version": 3
   },
   "file_extension": ".py",
   "mimetype": "text/x-python",
   "name": "python",
   "nbconvert_exporter": "python",
   "pygments_lexer": "ipython3",
   "version": "3.12.7"
  }
 },
 "nbformat": 4,
 "nbformat_minor": 2
}
