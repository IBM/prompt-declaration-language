{
 "cells": [
  {
   "cell_type": "code",
   "execution_count": 3,
   "id": "41e7b4fd-a40a-4cc3-9c31-e61279d85dea",
   "metadata": {},
   "outputs": [],
   "source": [
    "from mu_ppl import *\n",
    "from pdl.pdl import exec_file\n",
    "import pathlib"
   ]
  },
  {
   "cell_type": "code",
   "execution_count": 4,
   "id": "570c36b4-2dfb-4868-aaed-6bac451c62c0",
   "metadata": {},
   "outputs": [],
   "source": [
    "def coin():\n",
    "    # cwd = pathlib.Path(__file__).parent.resolve()\n",
    "    p = exec_file(\"coin.pdl\")\n",
    "    return p"
   ]
  },
  {
   "cell_type": "code",
   "execution_count": 5,
   "id": "aa7705d1-232e-4d09-99c7-268de6caac4e",
   "metadata": {},
   "outputs": [
    {
     "name": "stderr",
     "output_type": "stream",
     "text": [
      "Asynchronous model call started to ollama_chat/granite3.2:2b                                                                                                | 0/10 [00:00<?, ?it/s]\n",
      " 10%|██████████████▎                                                                                                                                | 1/10 [00:00<00:03,  2.74it/s]\n",
      "\u001b[32m0.65\u001b[0m\n",
      "\n",
      "\n",
      "Asynchronous model call started to ollama_chat/granite3.2:2b\n",
      " 20%|████████████████████████████▌                                                                                                                  | 2/10 [00:00<00:02,  3.09it/s]\n",
      "\u001b[32m0.7\u001b[0m\n",
      "\n",
      "\n",
      "Asynchronous model call started to ollama_chat/granite3.2:2b\n",
      " 30%|██████████████████████████████████████████▉                                                                                                    | 3/10 [00:07<00:24,  3.45s/it]\n",
      "\u001b[32mThe ideal probability for a biased coin to land on heads more frequently than tails is any value from 0 (completely unbiased) up to but not including 1 (where it's guaranteed to always land on heads). A practical and fair representation could be, say, 0.65. This means there's a 65% chance of the coin landing on heads when flipped. However, as an assistant, I can't assign a specific number since it's dependent on personal preference or requirements for generating bias in hypothetical scenarios.\u001b[0m\n",
      "\n",
      "\n",
      "Asynchronous model call started to ollama_chat/granite3.2:2b\n",
      " 40%|█████████████████████████████████████████████████████████▏                                                                                     | 4/10 [00:08<00:13,  2.23s/it]\n",
      "\u001b[32m0.65\u001b[0m\n",
      "\n",
      "\n",
      "Asynchronous model call started to ollama_chat/granite3.2:2b\n",
      " 50%|███████████████████████████████████████████████████████████████████████▌                                                                       | 5/10 [00:08<00:07,  1.55s/it]\n",
      "\u001b[32m0.75\u001b[0m\n",
      "\n",
      "\n",
      "Asynchronous model call started to ollama_chat/granite3.2:2b\n",
      " 60%|█████████████████████████████████████████████████████████████████████████████████████▊                                                         | 6/10 [00:08<00:04,  1.12s/it]\n",
      "\u001b[32m0.7\u001b[0m\n",
      "\n",
      "\n",
      "Asynchronous model call started to ollama_chat/granite3.2:2b\n",
      " 70%|████████████████████████████████████████████████████████████████████████████████████████████████████                                           | 7/10 [00:09<00:02,  1.15it/s]\n",
      "\u001b[32m0.65\u001b[0m\n",
      "\n",
      "\n",
      "Asynchronous model call started to ollama_chat/granite3.2:2b\n",
      " 80%|██████████████████████████████████████████████████████████████████████████████████████████████████████████████████▍                            | 8/10 [00:12<00:03,  1.55s/it]\n",
      "\u001b[32mThe number representing a biased coin returning heads more often than tails is approximately 0.75. This value signifies that there's an 85% chance of the coin landing on heads instead of tails.\u001b[0m\n",
      "\n",
      "\n",
      "Asynchronous model call started to ollama_chat/granite3.2:2b\n",
      " 90%|████████████████████████████████████████████████████████████████████████████████████████████████████████████████████████████████▋              | 9/10 [00:17<00:02,  2.61s/it]\n",
      "\u001b[32mThe bias of a coin, where it returns heads more often than tails, would be a value greater than 0.5 but less than 1. For a hypothetical biased coin in this context, let's say 0.62, which indicates a higher likelihood of landing on heads compared to tails.\u001b[0m\n",
      "\n",
      "\n",
      "Asynchronous model call started to ollama_chat/granite3.2:2b\n",
      "100%|██████████████████████████████████████████████████████████████████████████████████████████████████████████████████████████████████████████████| 10/10 [00:29<00:00,  5.52s/it]\n",
      "\u001b[32mThe ideal scenario for a biased coin, where it returns heads more frequently than tails, would ideally be 0.5. However, since I'm not generating Python code or actual numbers, the response will remain abstract:\n",
      "\n",
      "If we were to conceptualize this as a real number between 0 and 1 that indicates a bias towards heads over tails, it could be closer to but never quite reach 1—a value signifying a completely unfair coin in which heads always occurs. Nonetheless, in practical terms for randomness and fair betting or experiments, a value very close to 0.5 would represent an extremely biased yet still somewhat balanced situation.\u001b[0m\n",
      "\n",
      "\n",
      "100%|██████████████████████████████████████████████████████████████████████████████████████████████████████████████████████████████████████████████| 10/10 [00:29<00:00,  2.92s/it]\n"
     ]
    },
    {
     "data": {
      "image/png": "[encoded data removed]",
      "text/plain": [
       "<Figure size 640x480 with 1 Axes>"
      ]
     },
     "metadata": {},
     "output_type": "display_data"
    }
   ],
   "source": [
    "with ImportanceSampling(num_particles=10):\n",
    "    dist1: Empirical[float] = infer(coin)  # type: ignore\n",
    "    viz(dist1)"
   ]
  },
  {
   "cell_type": "code",
   "execution_count": null,
   "id": "299449e1-2481-459c-91e4-b4dc30dd37f9",
   "metadata": {},
   "outputs": [],
   "source": []
  }
 ],
 "metadata": {
  "kernelspec": {
   "display_name": "Python 3 (ipykernel)",
   "language": "python",
   "name": "python3"
  },
  "language_info": {
   "codemirror_mode": {
    "name": "ipython",
    "version": 3
   },
   "file_extension": ".py",
   "mimetype": "text/x-python",
   "name": "python",
   "nbconvert_exporter": "python",
   "pygments_lexer": "ipython3",
   "version": "3.13.0"
  }
 },
 "nbformat": 4,
 "nbformat_minor": 5
}
