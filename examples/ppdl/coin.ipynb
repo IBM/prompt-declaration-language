{
 "cells": [
  {
   "cell_type": "code",
   "execution_count": null,
   "id": "41e7b4fd-a40a-4cc3-9c31-e61279d85dea",
   "metadata": {},
   "outputs": [],
   "source": [
    "from mu_ppl import *\n",
    "from pdl.pdl import exec_file"
   ]
  },
  {
   "cell_type": "code",
   "execution_count": 2,
   "id": "570c36b4-2dfb-4868-aaed-6bac451c62c0",
   "metadata": {},
   "outputs": [],
   "source": [
    "def coin():\n",
    "    p = exec_file(\"coin.pdl\")\n",
    "    return p"
   ]
  },
  {
   "cell_type": "code",
   "execution_count": null,
   "id": "aa7705d1-232e-4d09-99c7-268de6caac4e",
   "metadata": {},
   "outputs": [],
   "source": [
    "with MetropolisHastings(num_samples=10):\n",
    "    dist1: Empirical[float] = infer(coin)  # type: ignore\n",
    "    viz(dist1)"
   ]
  },
  {
   "cell_type": "code",
   "execution_count": null,
   "id": "299449e1-2481-459c-91e4-b4dc30dd37f9",
   "metadata": {},
   "outputs": [],
   "source": []
  }
 ],
 "metadata": {
  "kernelspec": {
   "display_name": "pdl-3.13",
   "language": "python",
   "name": "python3"
  },
  "language_info": {
   "codemirror_mode": {
    "name": "ipython",
    "version": 3
   },
   "file_extension": ".py",
   "mimetype": "text/x-python",
   "name": "python",
   "nbconvert_exporter": "python",
   "pygments_lexer": "ipython3",
   "version": "3.13.0"
  }
 },
 "nbformat": 4,
 "nbformat_minor": 5
}
