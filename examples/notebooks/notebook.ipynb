{
 "cells": [
  {
   "cell_type": "code",
   "execution_count": 12,
   "id": "e25a6874-54d9-4167-82ed-ab2f4fdc0a6f",
   "metadata": {},
   "outputs": [
    {
     "name": "stdout",
     "output_type": "stream",
     "text": [
      "The pdl.pdl_notebook_ext extension is already loaded. To reload it, use:\n",
      "  %reload_ext pdl.pdl_notebook_ext\n"
     ]
    }
   ],
   "source": [
    "%load_ext pdl.pdl_notebook_ext"
   ]
  },
  {
   "cell_type": "code",
   "execution_count": 13,
   "id": "f3c62df1-0347-4711-acd7-3892cfd5df30",
   "metadata": {},
   "outputs": [
    {
     "name": "stdout",
     "output_type": "stream",
     "text": [
      "Hello,\u001b[32m world\u001b[0m\u001b[32m!\u001b[0m"
     ]
    }
   ],
   "source": [
    "%%pdl\n",
    "description: Model call\n",
    "text: \n",
    "- Hello,\n",
    "- model: watsonx/ibm/granite-34b-code-instruct\n",
    "  parameters:\n",
    "    stop: [\"!\"]\n",
    "    include_stop_sequence: true"
   ]
  },
  {
   "cell_type": "code",
   "execution_count": 16,
   "id": "7f6c323b-ad1a-4434-8732-bc19c5c47883",
   "metadata": {},
   "outputs": [
    {
     "name": "stdout",
     "output_type": "stream",
     "text": [
      "\n",
      "@SuppressWarnings(\"unchecked\")\n",
      "public static Map<String, String> deserializeOffsetMap(String lastSourceOffset) throws IOException {\n",
      "  Map<String, String> offsetMap;\n",
      "  if (lastSourceOffset == null || lastSourceOffset.isEmpty()) {    \n",
      "    offsetMap = new HashMap<>();  \n",
      "  } else {\n",
      "    offsetMap = JSON_MAPPER.readValue(lastSourceOffset, Map.class);  \n",
      "  }\n",
      "  return offsetMap;\n",
      "}\n",
      "\n",
      "\u001b[32m\n",
      "\u001b[0m\u001b[32mThe\u001b[0m\u001b[32m function\u001b[0m\u001b[32m `\u001b[0m\u001b[32mdeserialize\u001b[0m\u001b[32mOffset\u001b[0m\u001b[32mMap\u001b[0m\u001b[32m`\u001b[0m\u001b[32m takes\u001b[0m\u001b[32m a\u001b[0m\u001b[32m string\u001b[0m\u001b[32m as\u001b[0m\u001b[32m input\u001b[0m\u001b[32m and\u001b[0m\u001b[32m returns\u001b[0m\u001b[32m a\u001b[0m\u001b[32m map\u001b[0m\u001b[32m.\u001b[0m\u001b[32m It\u001b[0m\u001b[32m first\u001b[0m\u001b[32m checks\u001b[0m\u001b[32m if\u001b[0m\u001b[32m the\u001b[0m\u001b[32m input\u001b[0m\u001b[32m string\u001b[0m\u001b[32m is\u001b[0m\u001b[32m null\u001b[0m\u001b[32m or\u001b[0m\u001b[32m empty\u001b[0m\u001b[32m.\u001b[0m\u001b[32m If\u001b[0m\u001b[32m it\u001b[0m\u001b[32m is\u001b[0m\u001b[32m,\u001b[0m\u001b[32m it\u001b[0m\u001b[32m creates\u001b[0m\u001b[32m a\u001b[0m\u001b[32m new\u001b[0m\u001b[32m empty\u001b[0m\u001b[32m map\u001b[0m\u001b[32m and\u001b[0m\u001b[32m returns\u001b[0m\u001b[32m it\u001b[0m\u001b[32m.\u001b[0m\u001b[32m Otherwise\u001b[0m\u001b[32m,\u001b[0m\u001b[32m it\u001b[0m\u001b[32m uses\u001b[0m\u001b[32m the\u001b[0m\u001b[32m Jack\u001b[0m\u001b[32mson\u001b[0m\u001b[32m library\u001b[0m\u001b[32m to\u001b[0m\u001b[32m parse\u001b[0m\u001b[32m the\u001b[0m\u001b[32m input\u001b[0m\u001b[32m string\u001b[0m\u001b[32m into\u001b[0m\u001b[32m a\u001b[0m\u001b[32m map\u001b[0m\u001b[32m and\u001b[0m\u001b[32m returns\u001b[0m\u001b[32m it\u001b[0m\u001b[32m.\u001b[0m\u001b[32m\n",
      "\u001b[0m\u001b[32m\n",
      "\u001b[0m\u001b[32mThe\u001b[0m\u001b[32m `@\u001b[0m\u001b[32mSuppressWarnings\u001b[0m\u001b[32m(\"\u001b[0m\u001b[32munchecked\u001b[0m\u001b[32m\")\u001b[0m\u001b[32m`\u001b[0m\u001b[32m annotation\u001b[0m\u001b[32m is\u001b[0m\u001b[32m used\u001b[0m\u001b[32m to\u001b[0m\u001b[32m suppress\u001b[0m\u001b[32m the\u001b[0m\u001b[32m warning\u001b[0m\u001b[32m that\u001b[0m\u001b[32m the\u001b[0m\u001b[32m type\u001b[0m\u001b[32m of\u001b[0m\u001b[32m the\u001b[0m\u001b[32m parsed\u001b[0m\u001b[32m map\u001b[0m\u001b[32m is\u001b[0m\u001b[32m not\u001b[0m\u001b[32m checked\u001b[0m\u001b[32m.\u001b[0m\u001b[32m This\u001b[0m\u001b[32m is\u001b[0m\u001b[32m because\u001b[0m\u001b[32m the\u001b[0m\u001b[32m Jack\u001b[0m\u001b[32mson\u001b[0m\u001b[32m library\u001b[0m\u001b[32m is\u001b[0m\u001b[32m used\u001b[0m\u001b[32m to\u001b[0m\u001b[32m parse\u001b[0m\u001b[32m the\u001b[0m\u001b[32m input\u001b[0m\u001b[32m string\u001b[0m\u001b[32m into\u001b[0m\u001b[32m a\u001b[0m\u001b[32m map\u001b[0m\u001b[32m,\u001b[0m\u001b[32m but\u001b[0m\u001b[32m the\u001b[0m\u001b[32m specific\u001b[0m\u001b[32m type\u001b[0m\u001b[32m of\u001b[0m\u001b[32m the\u001b[0m\u001b[32m map\u001b[0m\u001b[32m is\u001b[0m\u001b[32m not\u001b[0m\u001b[32m known\u001b[0m\u001b[32m at\u001b[0m\u001b[32m compile\u001b[0m\u001b[32m time\u001b[0m\u001b[32m.\u001b[0m\u001b[32m Therefore\u001b[0m\u001b[32m,\u001b[0m\u001b[32m the\u001b[0m\u001b[32m warning\u001b[0m\u001b[32m is\u001b[0m\u001b[32m supp\u001b[0m\u001b[32mressed\u001b[0m\u001b[32m to\u001b[0m\u001b[32m avoid\u001b[0m\u001b[32m potential\u001b[0m\u001b[32m issues\u001b[0m\u001b[32m.\u001b[0m\n",
      "\n",
      "EVALUATION:\n",
      "The similarity (Levenshtein) between this answer and the ground truth is:\n",
      "\u001b[35m0.9983818770226537\u001b[0m"
     ]
    }
   ],
   "source": [
    "%%pdl\n",
    "description: Code explanation example\n",
    "defs:\n",
    "  CODE:\n",
    "    read: ./data.yaml\n",
    "    parser: yaml\n",
    "  TRUTH:\n",
    "    read: ./ground_truth.txt\n",
    "text:\n",
    "- \"\\n${ CODE.source_code }\\n\"\n",
    "- model: watsonx/ibm/granite-34b-code-instruct\n",
    "  def: EXPLANATION\n",
    "  input: |\n",
    "      Here is some info about the location of the function in the repo.\n",
    "      repo: \n",
    "      ${ CODE.repo_info.repo }\n",
    "      path: ${ CODE.repo_info.path }\n",
    "      Function_name: ${ CODE.repo_info.function_name }\n",
    "\n",
    "\n",
    "      Explain the following code:\n",
    "      ```\n",
    "      ${ CODE.source_code }```\n",
    "- |\n",
    "\n",
    "\n",
    "  EVALUATION:\n",
    "  The similarity (Levenshtein) between this answer and the ground truth is:\n",
    "- def: EVAL\n",
    "  lang: python\n",
    "  code: |\n",
    "    import textdistance\n",
    "    expl = \"\"\"\n",
    "    ${ EXPLANATION }\n",
    "    \"\"\"\n",
    "    truth = \"\"\"\n",
    "    ${ TRUTH }\n",
    "    \"\"\"\n",
    "    result = textdistance.levenshtein.normalized_similarity(expl, truth)"
   ]
  },
  {
   "cell_type": "code",
   "execution_count": null,
   "id": "91667b7f-e097-42cc-a1b2-765867ca6d40",
   "metadata": {},
   "outputs": [],
   "source": []
  }
 ],
 "metadata": {
  "kernelspec": {
   "display_name": "Python 3 (ipykernel)",
   "language": "python",
   "name": "python3"
  },
  "language_info": {
   "codemirror_mode": {
    "name": "ipython",
    "version": 3
   },
   "file_extension": ".py",
   "mimetype": "text/x-python",
   "name": "python",
   "nbconvert_exporter": "python",
   "pygments_lexer": "ipython3",
   "version": "3.12.3"
  }
 },
 "nbformat": 4,
 "nbformat_minor": 5
}
