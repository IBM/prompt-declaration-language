{
 "cells": [
  {
   "cell_type": "code",
   "execution_count": 2,
   "id": "e25a6874-54d9-4167-82ed-ab2f4fdc0a6f",
   "metadata": {},
   "outputs": [],
   "source": [
    "%load_ext pdl.pdl_notebook_ext"
   ]
  },
  {
   "cell_type": "code",
   "execution_count": 4,
   "id": "f3c62df1-0347-4711-acd7-3892cfd5df30",
   "metadata": {},
   "outputs": [
    {
     "name": "stdout",
     "output_type": "stream",
     "text": [
      "Hello\n",
      "\u001b[32mHello\u001b[0m"
     ]
    }
   ],
   "source": [
    "%%pdl\n",
    "description: Model call\n",
    "text: \n",
    "- \"Hello\\n\"\n",
    "- model: \"replicate/ibm-granite/granite-3.0-8b-instruct\"\n",
    "  parameters:\n",
    "    stop_sequences: \"!\"\n",
    " "
   ]
  },
  {
   "cell_type": "code",
   "execution_count": 5,
   "id": "7f6c323b-ad1a-4434-8732-bc19c5c47883",
   "metadata": {},
   "outputs": [
    {
     "name": "stdout",
     "output_type": "stream",
     "text": [
      "\n",
      "@SuppressWarnings(\"unchecked\")\n",
      "public static Map<String, String> deserializeOffsetMap(String lastSourceOffset) throws IOException {\n",
      "  Map<String, String> offsetMap;\n",
      "  if (lastSourceOffset == null || lastSourceOffset.isEmpty()) {    \n",
      "    offsetMap = new HashMap<>();  \n",
      "  } else {\n",
      "    offsetMap = JSON_MAPPER.readValue(lastSourceOffset, Map.class);  \n",
      "  }\n",
      "  return offsetMap;\n",
      "}\n",
      "\n",
      "\u001b[32mThis Java function, `deserializeOffsetMap`, is designed to convert a JSON string into a `Map<String, String>`. Here's a breakdown of what it does:\n",
      "\n",
      "1. It takes a single argument, `lastSourceOffset`, which is expected to be a JSON string.\n",
      "\n",
      "2. It initializes a `Map<String\u001b[0m\u001b[32m, String>` called `offsetMap`.\n",
      "\n",
      "3. If `lastSourceOffset` is either `null` or an empty string, it creates a new `HashMap` and assigns it to `offsetMap`.\n",
      "\n",
      "4. If `lastSourceOffset` is not `null` or an empty string, it uses the `JSON_MAPPER` object (presumably an\u001b[0m\u001b[32m instance of `ObjectMapper` from the Jackson library) to convert the JSON string into a `Map<String, String>` and assigns it to `offsetMap`.\n",
      "\n",
      "5. Finally, it returns the `offsetMap`.\n",
      "\n",
      "The `@SuppressWarnings(\"unchecked\")` annotation is used to suppress a compile-time warning about the raw use of the `Map` type. This is\u001b[0m\u001b[32m because the `JSON_MAPPER.readValue` method returns a `Map`, but the compiler doesn't know that this `Map` will be a `Map<String, String>`. The `unchecked` warning is suppressed to avoid cluttering the output with this warning.\u001b[0m\n",
      "\n",
      "EVALUATION:\n",
      "The similarity (Levenshtein) between this answer and the ground truth is:\n",
      "\u001b[35m0.3671003717472119\u001b[0m"
     ]
    }
   ],
   "source": [
    "%%pdl\n",
    "description: Code explanation example\n",
    "defs:\n",
    "  CODE:\n",
    "    read: ./data.yaml\n",
    "    parser: yaml\n",
    "  TRUTH:\n",
    "    read: ./ground_truth.txt\n",
    "text:\n",
    "- \"\\n${ CODE.source_code }\\n\"\n",
    "- model: \"replicate/ibm-granite/granite-3.0-8b-instruct\"\n",
    "  def: EXPLANATION\n",
    "  input: |\n",
    "      Here is some info about the location of the function in the repo.\n",
    "      repo: \n",
    "      ${ CODE.repo_info.repo }\n",
    "      path: ${ CODE.repo_info.path }\n",
    "      Function_name: ${ CODE.repo_info.function_name }\n",
    "\n",
    "\n",
    "      Explain the following code:\n",
    "      ```\n",
    "      ${ CODE.source_code }```\n",
    "- |\n",
    "\n",
    "\n",
    "  EVALUATION:\n",
    "  The similarity (Levenshtein) between this answer and the ground truth is:\n",
    "- def: EVAL\n",
    "  lang: python\n",
    "  code: |\n",
    "    import textdistance\n",
    "    expl = \"\"\"\n",
    "    ${ EXPLANATION }\n",
    "    \"\"\"\n",
    "    truth = \"\"\"\n",
    "    ${ TRUTH }\n",
    "    \"\"\"\n",
    "    result = textdistance.levenshtein.normalized_similarity(expl, truth)"
   ]
  },
  {
   "cell_type": "code",
   "execution_count": null,
   "id": "91667b7f-e097-42cc-a1b2-765867ca6d40",
   "metadata": {},
   "outputs": [],
   "source": []
  }
 ],
 "metadata": {
  "kernelspec": {
   "display_name": "Python 3 (ipykernel)",
   "language": "python",
   "name": "python3"
  },
  "language_info": {
   "codemirror_mode": {
    "name": "ipython",
    "version": 3
   },
   "file_extension": ".py",
   "mimetype": "text/x-python",
   "name": "python",
   "nbconvert_exporter": "python",
   "pygments_lexer": "ipython3",
   "version": "3.12.5"
  }
 },
 "nbformat": 4,
 "nbformat_minor": 5
}
