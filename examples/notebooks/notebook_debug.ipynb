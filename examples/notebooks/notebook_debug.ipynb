{
 "cells": [
  {
   "cell_type": "code",
   "execution_count": null,
   "id": "e25a6874-54d9-4167-82ed-ab2f4fdc0a6f",
   "metadata": {},
   "outputs": [],
   "source": [
    "%load_ext pdl.pdl_notebook_ext"
   ]
  },
  {
   "cell_type": "code",
   "execution_count": null,
   "id": "f3c62df1-0347-4711-acd7-3892cfd5df30",
   "metadata": {},
   "outputs": [],
   "source": [
    "%%pdl_debug\n",
    "description: Model call\n",
    "document: \n",
    "- Hello,\n",
    "- model: watsonx/ibm/granite-34b-code-instruct\n",
    "  parameters:\n",
    "    stop: [\"!\"]\n",
    "    include_stop_sequence: true"
   ]
  },
  {
   "cell_type": "code",
   "execution_count": null,
   "id": "7f6c323b-ad1a-4434-8732-bc19c5c47883",
   "metadata": {},
   "outputs": [],
   "source": [
    "%%pdl_debug\n",
    "description: Code explanation example\n",
    "defs:\n",
    "  CODE:\n",
    "    read: ./data.yaml\n",
    "    parser: yaml\n",
    "  TRUTH:\n",
    "    read: ./ground_truth.txt\n",
    "document:\n",
    "- \"\\n{{ CODE.source_code }}\\n\"\n",
    "- model: watsonx/ibm/granite-34b-code-instruct\n",
    "  def: EXPLANATION\n",
    "  input: |\n",
    "      Here is some info about the location of the function in the repo.\n",
    "      repo: \n",
    "      {{ CODE.repo_info.repo }}\n",
    "      path: {{ CODE.repo_info.path }}\n",
    "      Function_name: {{ CODE.repo_info.function_name }}\n",
    "\n",
    "\n",
    "      Explain the following code:\n",
    "      ```\n",
    "      {{ CODE.source_code }}```\n",
    "- |\n",
    "\n",
    "\n",
    "  EVALUATION:\n",
    "  The similarity (Levenshtein) between this answer and the ground truth is:\n",
    "- def: EVAL\n",
    "  lan: python\n",
    "  code: |\n",
    "    import textdistance\n",
    "    expl = \"\"\"\n",
    "    {{ EXPLANATION }}\n",
    "    \"\"\"\n",
    "    truth = \"\"\"\n",
    "    {{ TRUTH }}\n",
    "    \"\"\"\n",
    "    result = textdistance.levenshtein.normalized_similarity(expl, truth)"
   ]
  },
  {
   "cell_type": "code",
   "execution_count": null,
   "id": "6b72c204-b8de-45b2-9beb-9c6565d28de2",
   "metadata": {},
   "outputs": [],
   "source": []
  }
 ],
 "metadata": {
  "kernelspec": {
   "display_name": "Python 3 (ipykernel)",
   "language": "python",
   "name": "python3"
  },
  "language_info": {
   "codemirror_mode": {
    "name": "ipython",
    "version": 3
   },
   "file_extension": ".py",
   "mimetype": "text/x-python",
   "name": "python",
   "nbconvert_exporter": "python",
   "pygments_lexer": "ipython3",
   "version": "3.12.3"
  }
 },
 "nbformat": 4,
 "nbformat_minor": 5
}
