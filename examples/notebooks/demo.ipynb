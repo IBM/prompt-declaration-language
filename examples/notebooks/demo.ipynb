{
 "cells": [
  {
   "cell_type": "markdown",
   "id": "a29514fc-9383-490c-8a73-63c547c21d95",
   "metadata": {},
   "source": [
    "# Prompt Declaration Language\n",
    "\n",
    "Prompt engineering is difficult: minor variations in prompts have large impacts on the output of LLMs and prompts are model-dependent. In recent years <i> prompt programming languages </i> have emerged to bring discipline to prompt engineering. Many of them are embedded in an imperative language such as Python or TypeScript, making it difficult for users to directly interact with prompts and multi-turn LLM interactions.\n",
    "\n",
    "The Prompt Declaration Language (PDL) is a YAML-based declarative approach to prompt programming, where prompts are at the forefront. PDL facilitates model chaining and tool use, abstracting away the plumbing necessary for such compositions, enables type checking of the input and output of models, and is based on LiteLLM to support a variety of model providers. PDL has been used with RAG, CoT, ReAct, and an agent for solving SWE-bench. PDL is [open-source](https://github.com/IBM/prompt-declaration-language) and works well with watsonx.ai and Granite models.\n",
    "\n",
    "All examples in this notebook use the new ibm/granite-8b-instruct-preview-4k model. You can use PDL stand-alone or from a Python SDK or, as shown here, in a notebook via a notebook extension. In the cell output, model-generated text is rendered in green font, and tool-generated text is rendered in purple font."
   ]
  },
  {
   "cell_type": "code",
   "execution_count": 6,
   "id": "ca2e7ba6-e0f0-4d88-a083-5ff257ed2c34",
   "metadata": {},
   "outputs": [
    {
     "name": "stdout",
     "output_type": "stream",
     "text": [
      "Requirement already satisfied: prompt-declaration-language[examples] in /Users/mvaziri/.pyenv/versions/3.12.5/lib/python3.12/site-packages (0.0.7)\n",
      "Requirement already satisfied: pydantic~=2.0 in /Users/mvaziri/.pyenv/versions/3.12.5/lib/python3.12/site-packages (from prompt-declaration-language[examples]) (2.9.1)\n",
      "Requirement already satisfied: ibm-generative-ai~=3.0 in /Users/mvaziri/.pyenv/versions/3.12.5/lib/python3.12/site-packages (from prompt-declaration-language[examples]) (3.0.0)\n",
      "Requirement already satisfied: requests~=2.0 in /Users/mvaziri/.pyenv/versions/3.12.5/lib/python3.12/site-packages (from prompt-declaration-language[examples]) (2.32.3)\n",
      "Requirement already satisfied: python-dotenv~=1.0 in /Users/mvaziri/.pyenv/versions/3.12.5/lib/python3.12/site-packages (from prompt-declaration-language[examples]) (1.0.1)\n",
      "Requirement already satisfied: jinja2~=3.0 in /Users/mvaziri/.pyenv/versions/3.12.5/lib/python3.12/site-packages (from prompt-declaration-language[examples]) (3.1.4)\n",
      "Requirement already satisfied: PyYAML~=6.0 in /Users/mvaziri/.pyenv/versions/3.12.5/lib/python3.12/site-packages (from prompt-declaration-language[examples]) (6.0.2)\n",
      "Requirement already satisfied: jsonschema~=4.0 in /Users/mvaziri/.pyenv/versions/3.12.5/lib/python3.12/site-packages (from prompt-declaration-language[examples]) (4.23.0)\n",
      "Requirement already satisfied: litellm~=1.49 in /Users/mvaziri/.pyenv/versions/3.12.5/lib/python3.12/site-packages (from prompt-declaration-language[examples]) (1.49.2)\n",
      "Requirement already satisfied: termcolor~=2.0 in /Users/mvaziri/.pyenv/versions/3.12.5/lib/python3.12/site-packages (from prompt-declaration-language[examples]) (2.4.0)\n",
      "Requirement already satisfied: ipython~=8.0 in /Users/mvaziri/.pyenv/versions/3.12.5/lib/python3.12/site-packages (from prompt-declaration-language[examples]) (8.27.0)\n",
      "Requirement already satisfied: wikipedia~=1.0 in /Users/mvaziri/.pyenv/versions/3.12.5/lib/python3.12/site-packages (from prompt-declaration-language[examples]) (1.4.0)\n",
      "Requirement already satisfied: textdistance~=4.0 in /Users/mvaziri/.pyenv/versions/3.12.5/lib/python3.12/site-packages (from prompt-declaration-language[examples]) (4.6.3)\n",
      "Requirement already satisfied: faiss-cpu~=1.0 in /Users/mvaziri/.pyenv/versions/3.12.5/lib/python3.12/site-packages (from prompt-declaration-language[examples]) (1.8.0.post1)\n",
      "Requirement already satisfied: datasets<4,>2 in /Users/mvaziri/.pyenv/versions/3.12.5/lib/python3.12/site-packages (from prompt-declaration-language[examples]) (3.0.1)\n",
      "Requirement already satisfied: sympy~=1.0 in /Users/mvaziri/.pyenv/versions/3.12.5/lib/python3.12/site-packages (from prompt-declaration-language[examples]) (1.13.2)\n",
      "Requirement already satisfied: filelock in /Users/mvaziri/.pyenv/versions/3.12.5/lib/python3.12/site-packages (from datasets<4,>2->prompt-declaration-language[examples]) (3.16.0)\n",
      "Requirement already satisfied: numpy>=1.17 in /Users/mvaziri/.pyenv/versions/3.12.5/lib/python3.12/site-packages (from datasets<4,>2->prompt-declaration-language[examples]) (1.26.4)\n",
      "Requirement already satisfied: pyarrow>=15.0.0 in /Users/mvaziri/.pyenv/versions/3.12.5/lib/python3.12/site-packages (from datasets<4,>2->prompt-declaration-language[examples]) (17.0.0)\n",
      "Requirement already satisfied: dill<0.3.9,>=0.3.0 in /Users/mvaziri/.pyenv/versions/3.12.5/lib/python3.12/site-packages (from datasets<4,>2->prompt-declaration-language[examples]) (0.3.8)\n",
      "Requirement already satisfied: pandas in /Users/mvaziri/.pyenv/versions/3.12.5/lib/python3.12/site-packages (from datasets<4,>2->prompt-declaration-language[examples]) (2.2.2)\n",
      "Requirement already satisfied: tqdm>=4.66.3 in /Users/mvaziri/.pyenv/versions/3.12.5/lib/python3.12/site-packages (from datasets<4,>2->prompt-declaration-language[examples]) (4.66.5)\n",
      "Requirement already satisfied: xxhash in /Users/mvaziri/.pyenv/versions/3.12.5/lib/python3.12/site-packages (from datasets<4,>2->prompt-declaration-language[examples]) (3.5.0)\n",
      "Requirement already satisfied: multiprocess in /Users/mvaziri/.pyenv/versions/3.12.5/lib/python3.12/site-packages (from datasets<4,>2->prompt-declaration-language[examples]) (0.70.16)\n",
      "Requirement already satisfied: fsspec<=2024.6.1,>=2023.1.0 in /Users/mvaziri/.pyenv/versions/3.12.5/lib/python3.12/site-packages (from fsspec[http]<=2024.6.1,>=2023.1.0->datasets<4,>2->prompt-declaration-language[examples]) (2024.6.1)\n",
      "Requirement already satisfied: aiohttp in /Users/mvaziri/.pyenv/versions/3.12.5/lib/python3.12/site-packages (from datasets<4,>2->prompt-declaration-language[examples]) (3.10.5)\n",
      "Requirement already satisfied: huggingface-hub>=0.22.0 in /Users/mvaziri/.pyenv/versions/3.12.5/lib/python3.12/site-packages (from datasets<4,>2->prompt-declaration-language[examples]) (0.24.7)\n",
      "Requirement already satisfied: packaging in /Users/mvaziri/.pyenv/versions/3.12.5/lib/python3.12/site-packages (from datasets<4,>2->prompt-declaration-language[examples]) (24.1)\n",
      "Requirement already satisfied: aiolimiter<2.0.0,>=1.1.0 in /Users/mvaziri/.pyenv/versions/3.12.5/lib/python3.12/site-packages (from ibm-generative-ai~=3.0->prompt-declaration-language[examples]) (1.1.0)\n",
      "Requirement already satisfied: deprecated<2.0.0,>=1.2.14 in /Users/mvaziri/.pyenv/versions/3.12.5/lib/python3.12/site-packages (from ibm-generative-ai~=3.0->prompt-declaration-language[examples]) (1.2.14)\n",
      "Requirement already satisfied: httpx<0.28.0,>=0.27.0 in /Users/mvaziri/.pyenv/versions/3.12.5/lib/python3.12/site-packages (from ibm-generative-ai~=3.0->prompt-declaration-language[examples]) (0.27.2)\n",
      "Requirement already satisfied: httpx-sse<0.5.0,>=0.4.0 in /Users/mvaziri/.pyenv/versions/3.12.5/lib/python3.12/site-packages (from ibm-generative-ai~=3.0->prompt-declaration-language[examples]) (0.4.0)\n",
      "Requirement already satisfied: decorator in /Users/mvaziri/.pyenv/versions/3.12.5/lib/python3.12/site-packages (from ipython~=8.0->prompt-declaration-language[examples]) (5.1.1)\n",
      "Requirement already satisfied: jedi>=0.16 in /Users/mvaziri/.pyenv/versions/3.12.5/lib/python3.12/site-packages (from ipython~=8.0->prompt-declaration-language[examples]) (0.19.1)\n",
      "Requirement already satisfied: matplotlib-inline in /Users/mvaziri/.pyenv/versions/3.12.5/lib/python3.12/site-packages (from ipython~=8.0->prompt-declaration-language[examples]) (0.1.7)\n",
      "Requirement already satisfied: prompt-toolkit<3.1.0,>=3.0.41 in /Users/mvaziri/.pyenv/versions/3.12.5/lib/python3.12/site-packages (from ipython~=8.0->prompt-declaration-language[examples]) (3.0.47)\n",
      "Requirement already satisfied: pygments>=2.4.0 in /Users/mvaziri/.pyenv/versions/3.12.5/lib/python3.12/site-packages (from ipython~=8.0->prompt-declaration-language[examples]) (2.18.0)\n",
      "Requirement already satisfied: stack-data in /Users/mvaziri/.pyenv/versions/3.12.5/lib/python3.12/site-packages (from ipython~=8.0->prompt-declaration-language[examples]) (0.6.3)\n",
      "Requirement already satisfied: traitlets>=5.13.0 in /Users/mvaziri/.pyenv/versions/3.12.5/lib/python3.12/site-packages (from ipython~=8.0->prompt-declaration-language[examples]) (5.14.3)\n",
      "Requirement already satisfied: pexpect>4.3 in /Users/mvaziri/.pyenv/versions/3.12.5/lib/python3.12/site-packages (from ipython~=8.0->prompt-declaration-language[examples]) (4.9.0)\n",
      "Requirement already satisfied: MarkupSafe>=2.0 in /Users/mvaziri/.pyenv/versions/3.12.5/lib/python3.12/site-packages (from jinja2~=3.0->prompt-declaration-language[examples]) (2.1.5)\n",
      "Requirement already satisfied: attrs>=22.2.0 in /Users/mvaziri/.pyenv/versions/3.12.5/lib/python3.12/site-packages (from jsonschema~=4.0->prompt-declaration-language[examples]) (24.2.0)\n",
      "Requirement already satisfied: jsonschema-specifications>=2023.03.6 in /Users/mvaziri/.pyenv/versions/3.12.5/lib/python3.12/site-packages (from jsonschema~=4.0->prompt-declaration-language[examples]) (2023.12.1)\n",
      "Requirement already satisfied: referencing>=0.28.4 in /Users/mvaziri/.pyenv/versions/3.12.5/lib/python3.12/site-packages (from jsonschema~=4.0->prompt-declaration-language[examples]) (0.35.1)\n",
      "Requirement already satisfied: rpds-py>=0.7.1 in /Users/mvaziri/.pyenv/versions/3.12.5/lib/python3.12/site-packages (from jsonschema~=4.0->prompt-declaration-language[examples]) (0.20.0)\n",
      "Requirement already satisfied: click in /Users/mvaziri/.pyenv/versions/3.12.5/lib/python3.12/site-packages (from litellm~=1.49->prompt-declaration-language[examples]) (8.1.7)\n",
      "Requirement already satisfied: importlib-metadata>=6.8.0 in /Users/mvaziri/.pyenv/versions/3.12.5/lib/python3.12/site-packages (from litellm~=1.49->prompt-declaration-language[examples]) (8.4.0)\n",
      "Requirement already satisfied: openai>=1.51.0 in /Users/mvaziri/.pyenv/versions/3.12.5/lib/python3.12/site-packages (from litellm~=1.49->prompt-declaration-language[examples]) (1.51.0)\n",
      "Requirement already satisfied: tiktoken>=0.7.0 in /Users/mvaziri/.pyenv/versions/3.12.5/lib/python3.12/site-packages (from litellm~=1.49->prompt-declaration-language[examples]) (0.7.0)\n",
      "Requirement already satisfied: tokenizers in /Users/mvaziri/.pyenv/versions/3.12.5/lib/python3.12/site-packages (from litellm~=1.49->prompt-declaration-language[examples]) (0.19.1)\n",
      "Requirement already satisfied: annotated-types>=0.6.0 in /Users/mvaziri/.pyenv/versions/3.12.5/lib/python3.12/site-packages (from pydantic~=2.0->prompt-declaration-language[examples]) (0.7.0)\n",
      "Requirement already satisfied: pydantic-core==2.23.3 in /Users/mvaziri/.pyenv/versions/3.12.5/lib/python3.12/site-packages (from pydantic~=2.0->prompt-declaration-language[examples]) (2.23.3)\n",
      "Requirement already satisfied: typing-extensions>=4.6.1 in /Users/mvaziri/.pyenv/versions/3.12.5/lib/python3.12/site-packages (from pydantic~=2.0->prompt-declaration-language[examples]) (4.12.2)\n",
      "Requirement already satisfied: charset-normalizer<4,>=2 in /Users/mvaziri/.pyenv/versions/3.12.5/lib/python3.12/site-packages (from requests~=2.0->prompt-declaration-language[examples]) (3.3.2)\n",
      "Requirement already satisfied: idna<4,>=2.5 in /Users/mvaziri/.pyenv/versions/3.12.5/lib/python3.12/site-packages (from requests~=2.0->prompt-declaration-language[examples]) (3.10)\n",
      "Requirement already satisfied: urllib3<3,>=1.21.1 in /Users/mvaziri/.pyenv/versions/3.12.5/lib/python3.12/site-packages (from requests~=2.0->prompt-declaration-language[examples]) (1.26.20)\n",
      "Requirement already satisfied: certifi>=2017.4.17 in /Users/mvaziri/.pyenv/versions/3.12.5/lib/python3.12/site-packages (from requests~=2.0->prompt-declaration-language[examples]) (2024.8.30)\n",
      "Requirement already satisfied: mpmath<1.4,>=1.1.0 in /Users/mvaziri/.pyenv/versions/3.12.5/lib/python3.12/site-packages (from sympy~=1.0->prompt-declaration-language[examples]) (1.3.0)\n",
      "Requirement already satisfied: beautifulsoup4 in /Users/mvaziri/.pyenv/versions/3.12.5/lib/python3.12/site-packages (from wikipedia~=1.0->prompt-declaration-language[examples]) (4.12.3)\n",
      "Requirement already satisfied: wrapt<2,>=1.10 in /Users/mvaziri/.pyenv/versions/3.12.5/lib/python3.12/site-packages (from deprecated<2.0.0,>=1.2.14->ibm-generative-ai~=3.0->prompt-declaration-language[examples]) (1.16.0)\n",
      "Requirement already satisfied: aiohappyeyeballs>=2.3.0 in /Users/mvaziri/.pyenv/versions/3.12.5/lib/python3.12/site-packages (from aiohttp->datasets<4,>2->prompt-declaration-language[examples]) (2.4.0)\n",
      "Requirement already satisfied: aiosignal>=1.1.2 in /Users/mvaziri/.pyenv/versions/3.12.5/lib/python3.12/site-packages (from aiohttp->datasets<4,>2->prompt-declaration-language[examples]) (1.3.1)\n",
      "Requirement already satisfied: frozenlist>=1.1.1 in /Users/mvaziri/.pyenv/versions/3.12.5/lib/python3.12/site-packages (from aiohttp->datasets<4,>2->prompt-declaration-language[examples]) (1.4.1)\n",
      "Requirement already satisfied: multidict<7.0,>=4.5 in /Users/mvaziri/.pyenv/versions/3.12.5/lib/python3.12/site-packages (from aiohttp->datasets<4,>2->prompt-declaration-language[examples]) (6.1.0)\n",
      "Requirement already satisfied: yarl<2.0,>=1.0 in /Users/mvaziri/.pyenv/versions/3.12.5/lib/python3.12/site-packages (from aiohttp->datasets<4,>2->prompt-declaration-language[examples]) (1.11.1)\n",
      "Requirement already satisfied: anyio in /Users/mvaziri/.pyenv/versions/3.12.5/lib/python3.12/site-packages (from httpx<0.28.0,>=0.27.0->ibm-generative-ai~=3.0->prompt-declaration-language[examples]) (4.4.0)\n",
      "Requirement already satisfied: httpcore==1.* in /Users/mvaziri/.pyenv/versions/3.12.5/lib/python3.12/site-packages (from httpx<0.28.0,>=0.27.0->ibm-generative-ai~=3.0->prompt-declaration-language[examples]) (1.0.5)\n",
      "Requirement already satisfied: sniffio in /Users/mvaziri/.pyenv/versions/3.12.5/lib/python3.12/site-packages (from httpx<0.28.0,>=0.27.0->ibm-generative-ai~=3.0->prompt-declaration-language[examples]) (1.3.1)\n",
      "Requirement already satisfied: h11<0.15,>=0.13 in /Users/mvaziri/.pyenv/versions/3.12.5/lib/python3.12/site-packages (from httpcore==1.*->httpx<0.28.0,>=0.27.0->ibm-generative-ai~=3.0->prompt-declaration-language[examples]) (0.14.0)\n",
      "Requirement already satisfied: zipp>=0.5 in /Users/mvaziri/.pyenv/versions/3.12.5/lib/python3.12/site-packages (from importlib-metadata>=6.8.0->litellm~=1.49->prompt-declaration-language[examples]) (3.20.1)\n",
      "Requirement already satisfied: parso<0.9.0,>=0.8.3 in /Users/mvaziri/.pyenv/versions/3.12.5/lib/python3.12/site-packages (from jedi>=0.16->ipython~=8.0->prompt-declaration-language[examples]) (0.8.4)\n",
      "Requirement already satisfied: distro<2,>=1.7.0 in /Users/mvaziri/.pyenv/versions/3.12.5/lib/python3.12/site-packages (from openai>=1.51.0->litellm~=1.49->prompt-declaration-language[examples]) (1.9.0)\n",
      "Requirement already satisfied: jiter<1,>=0.4.0 in /Users/mvaziri/.pyenv/versions/3.12.5/lib/python3.12/site-packages (from openai>=1.51.0->litellm~=1.49->prompt-declaration-language[examples]) (0.5.0)\n",
      "Requirement already satisfied: ptyprocess>=0.5 in /Users/mvaziri/.pyenv/versions/3.12.5/lib/python3.12/site-packages (from pexpect>4.3->ipython~=8.0->prompt-declaration-language[examples]) (0.7.0)\n",
      "Requirement already satisfied: wcwidth in /Users/mvaziri/.pyenv/versions/3.12.5/lib/python3.12/site-packages (from prompt-toolkit<3.1.0,>=3.0.41->ipython~=8.0->prompt-declaration-language[examples]) (0.2.13)\n",
      "Requirement already satisfied: regex>=2022.1.18 in /Users/mvaziri/.pyenv/versions/3.12.5/lib/python3.12/site-packages (from tiktoken>=0.7.0->litellm~=1.49->prompt-declaration-language[examples]) (2024.7.24)\n",
      "Requirement already satisfied: soupsieve>1.2 in /Users/mvaziri/.pyenv/versions/3.12.5/lib/python3.12/site-packages (from beautifulsoup4->wikipedia~=1.0->prompt-declaration-language[examples]) (2.6)\n",
      "Requirement already satisfied: python-dateutil>=2.8.2 in /Users/mvaziri/.pyenv/versions/3.12.5/lib/python3.12/site-packages (from pandas->datasets<4,>2->prompt-declaration-language[examples]) (2.9.0.post0)\n",
      "Requirement already satisfied: pytz>=2020.1 in /Users/mvaziri/.pyenv/versions/3.12.5/lib/python3.12/site-packages (from pandas->datasets<4,>2->prompt-declaration-language[examples]) (2024.2)\n",
      "Requirement already satisfied: tzdata>=2022.7 in /Users/mvaziri/.pyenv/versions/3.12.5/lib/python3.12/site-packages (from pandas->datasets<4,>2->prompt-declaration-language[examples]) (2024.1)\n",
      "Requirement already satisfied: executing>=1.2.0 in /Users/mvaziri/.pyenv/versions/3.12.5/lib/python3.12/site-packages (from stack-data->ipython~=8.0->prompt-declaration-language[examples]) (2.1.0)\n",
      "Requirement already satisfied: asttokens>=2.1.0 in /Users/mvaziri/.pyenv/versions/3.12.5/lib/python3.12/site-packages (from stack-data->ipython~=8.0->prompt-declaration-language[examples]) (2.4.1)\n",
      "Requirement already satisfied: pure-eval in /Users/mvaziri/.pyenv/versions/3.12.5/lib/python3.12/site-packages (from stack-data->ipython~=8.0->prompt-declaration-language[examples]) (0.2.3)\n",
      "Requirement already satisfied: six>=1.12.0 in /Users/mvaziri/.pyenv/versions/3.12.5/lib/python3.12/site-packages (from asttokens>=2.1.0->stack-data->ipython~=8.0->prompt-declaration-language[examples]) (1.16.0)\n"
     ]
    }
   ],
   "source": [
    "! pip install 'prompt-declaration-language[examples]'"
   ]
  },
  {
   "cell_type": "code",
   "execution_count": 2,
   "id": "e25a6874-54d9-4167-82ed-ab2f4fdc0a6f",
   "metadata": {},
   "outputs": [],
   "source": [
    "%load_ext pdl.pdl_notebook_ext"
   ]
  },
  {
   "cell_type": "markdown",
   "id": "0f4a750b-5765-4e2a-9dc1-9c9af2eab940",
   "metadata": {},
   "source": [
    "## Model call\n",
    "\n",
    "In PDL, the user specifies step-by-step the shape of data they want to generate. In the following, the `text` construct indicates a text block containing a prompt and a model call. Implicitly, PDL builds a background conversational context (list of role/content) which is used to make model calls. Each model call uses the context built so far as its input prompt."
   ]
  },
  {
   "cell_type": "code",
   "execution_count": 2,
   "id": "f3c62df1-0347-4711-acd7-3892cfd5df30",
   "metadata": {},
   "outputs": [
    {
     "name": "stdout",
     "output_type": "stream",
     "text": [
      "What is the meaning of life?\n",
      "\u001b[32mThe meaning of life is a philosophical and metaphysical question related to the purpose or significance of life or existence in general. This question has been asked for centuries and does not have a definitive answer. Some people find meaning through personal growth, relationships, love, or through contributing to the betterment of humanity. Others may find\u001b[0m\u001b[32m it through spirituality or religious beliefs. Ultimately, the meaning of life may be something personal and subjective.\u001b[0m"
     ]
    },
    {
     "name": "stderr",
     "output_type": "stream",
     "text": [
      "/Users/mvaziri/.pyenv/versions/3.12.5/lib/python3.12/site-packages/tqdm/auto.py:21: TqdmWarning: IProgress not found. Please update jupyter and ipywidgets. See https://ipywidgets.readthedocs.io/en/stable/user_install.html\n",
      "  from .autonotebook import tqdm as notebook_tqdm\n"
     ]
    }
   ],
   "source": [
    "%%pdl --reset-context\n",
    "text: \n",
    "- \"What is the meaning of life?\\n\"\n",
    "- model: \"replicate/ibm-granite/granite-3.0-8b-instruct\""
   ]
  },
  {
   "cell_type": "markdown",
   "id": "1e41eb56-e278-4024-9979-7c3410e9ccf5",
   "metadata": {},
   "source": [
    "## Model chaining\n",
    "Model chaining can be done by simply adding to the list of models to call declaratively. Since this cell has the `%%pdl` cell magic without `--reset-context`, it executes in the context created by the previous cell."
   ]
  },
  {
   "cell_type": "code",
   "execution_count": 5,
   "id": "7f6c323b-ad1a-4434-8732-bc19c5c47883",
   "metadata": {},
   "outputs": [
    {
     "name": "stdout",
     "output_type": "stream",
     "text": [
      "\n",
      "Say it like a poem\n",
      "\u001b[32mLife's meaning, a question vast,\n",
      "In philosophy, it's often cast.\n",
      "Personal growth, love, or a cause,\n",
      "Some find meaning in life's applause.\n",
      "\n",
      "Spirituality, faith, or belief,\n",
      "Can guide us, like a gentle relief.\n",
      "Meaning may be subjective,\n",
      "\u001b[0m\u001b[32mYet, in our hearts, it's subjective.\u001b[0m\n",
      "\n",
      "Translate it to French\n",
      "\u001b[32mLa signification de la vie, une question vaste,\n",
      "Dans la philosophie, elle est souvent lancée.\n",
      "La croissance personnelle, l'amour, ou une cause,\n",
      "Certains trouvent une signification dans la vie's applaudissement.\u001b[0m\u001b[32m\n",
      "\n",
      "Spiritualité, foi, ou croyance,\n",
      "Pouvant nous guider, comme une douce répit.\n",
      "La signification peut être subjective,\n",
      "Yet, dans nos cœurs, elle est subjective.\u001b[0m"
     ]
    }
   ],
   "source": [
    "%%pdl\n",
    "text:\n",
    "- \"\\nSay it like a poem\\n\"\n",
    "- model: \"replicate/ibm-granite/granite-3.0-8b-instruct\"\n",
    "- \"\\n\\nTranslate it to French\\n\"\n",
    "- model: \"replicate/ibm-granite/granite-3.0-8b-instruct\""
   ]
  },
  {
   "cell_type": "markdown",
   "id": "fe9b1959-e49b-48d3-b722-19ace9b981d2",
   "metadata": {},
   "source": [
    "## Chat templates\n",
    "\n",
    "The second call to the model in the above program submits the following prompt. PDL takes care of applying the appropriate chat templates and tags, and builds the background context implicitly. Chat templates make your program easier to port across models, since you do not need to specify control tokens by hand. All the user has to do is list the models they want to chain, PDL takes care of the rest.\n",
    "\n",
    "```\n",
    "<|start_of_role|>user<|end_of_role|>What is the meaning of life?\n",
    "<|end_of_text|>\n",
    "The meaning of life is a philosophical and metaphysical question related to the purpose or significance of life or existence in general. This concept has been approached by many perspectives including philosophy, religion, and science. Some people find meaning through personal growth, relationships, love, and through helping others. Others seek meaning through spirituality or religious beliefs. Ultimately, the meaning of life may be a personal and subjective experience.\n",
    "\n",
    "<|start_of_role|>user<|end_of_role|>Say it like a poem<|end_of_text|>\n",
    "Life's meaning, a question vast,\n",
    "In philosophy, religion, and science cast.\n",
    "Some find purpose in personal growth,\n",
    "In love and relationships, they find their troth.\n",
    "Others seek meaning through spirituality,\n",
    "In faith and belief, they find their reality.\n",
    "Ultimately, meaning is a personal quest,\n",
    "In life's journey, we are put to the test.\n",
    "\n",
    "<|start_of_role|>user<|end_of_role|>Translate it to French\n",
    "<|end_of_text|>\n",
    "<|start_of_role|>assistant<|end_of_role|>\n",
    "```"
   ]
  },
  {
   "cell_type": "markdown",
   "id": "99681db4-8a43-4b06-92a6-8d140989f2ea",
   "metadata": {},
   "source": [
    "## Data pipeline\n",
    "\n",
    "The following program shows a common prompting pattern: read some data, formulate a prompt using that data, submit to a model, and evaluate. In this program, we formulate a prompt for code explanation. The program first defines two variables: `code`, which holds the data we read, and `truth` for the ground truth. It then prints out the source code, formulates a prompts with the data, and calls a model to get an explanation. Finally, a Python code block uses the Levenshtein text distance metric and evaluate the explanation against the ground truth. This pipeline can similarly be applied to an entire data set to produce a jsonl file."
   ]
  },
  {
   "cell_type": "code",
   "execution_count": 3,
   "id": "b61b2e25-72a4-4f70-ae83-40d77bed3f4f",
   "metadata": {},
   "outputs": [
    {
     "name": "stdout",
     "output_type": "stream",
     "text": [
      "\n",
      "@SuppressWarnings(\"unchecked\")\n",
      "public static Map<String, String> deserializeOffsetMap(String lastSourceOffset) throws IOException {\n",
      "  Map<String, String> offsetMap;\n",
      "  if (lastSourceOffset == null || lastSourceOffset.isEmpty()) {    \n",
      "    offsetMap = new HashMap<>();  \n",
      "  } else {\n",
      "    offsetMap = JSON_MAPPER.readValue(lastSourceOffset, Map.class);  \n",
      "  }\n",
      "  return offsetMap;\n",
      "}\n",
      "\n",
      "\u001b[32mThis Java function, `deserializeOffsetMap`, is designed to convert a JSON string into a `Map<String, String>`. Here's a breakdown of what it does:\n",
      "\n",
      "1. It takes a single argument, `lastSourceOffset`, which is expected to be a JSON string.\n",
      "2. It initializes a `Map<String,\u001b[0m\u001b[32m String>` called `offsetMap`.\n",
      "3. If `lastSourceOffset` is either `null` or an empty string, it creates a new `HashMap` and assigns it to `offsetMap`.\n",
      "4. If `lastSourceOffset` is not `null` or empty, it uses Jackson's `JSON_MAPPER` to convert the JSON string into a `Map\u001b[0m\u001b[32m<String, String>` and assigns it to `offsetMap`.\n",
      "5. Finally, it returns the `offsetMap`.\n",
      "\n",
      "The `@SuppressWarnings(\"unchecked\")` annotation is used to suppress a compile-time warning about the raw use of the `Map` type. This is because the `JSON_MAPPER.readValue` method returns a `Map` of `Object` and\u001b[0m\u001b[32m `Object`, which is then cast to `Map<String, String>`.\u001b[0m\n",
      "Evaluation:\n",
      "The similarity (Levenshtein) between this answer and the ground truth is:\n",
      "\u001b[35m0.3113839285714286\u001b[0m"
     ]
    }
   ],
   "source": [
    "%%pdl\n",
    "defs:\n",
    "  code:\n",
    "    read: ./data.yaml\n",
    "    parser: yaml\n",
    "  truth:\n",
    "    read: ./ground_truth.txt\n",
    "text:\n",
    "- \"\\n${ code.source_code }\\n\"\n",
    "- model: \"replicate/ibm-granite/granite-3.0-8b-instruct\"\n",
    "  def: explanation\n",
    "  input: |\n",
    "      Here is some info about the location of the function in the repo.\n",
    "      repo: \n",
    "      ${ code.repo_info.repo }\n",
    "      path: ${ code.repo_info.path }\n",
    "      Function_name: ${ code.repo_info.function_name }\n",
    "\n",
    "\n",
    "      Explain the following code:\n",
    "      ```\n",
    "      ${ code.source_code }```\n",
    "- |\n",
    "\n",
    "  Evaluation:\n",
    "  The similarity (Levenshtein) between this answer and the ground truth is:\n",
    "- def: EVAL\n",
    "  lang: python\n",
    "  code: |\n",
    "    import textdistance\n",
    "    expl = \"\"\"\n",
    "    ${ explanation }\n",
    "    \"\"\"\n",
    "    truth = \"\"\"\n",
    "    ${ truth }\n",
    "    \"\"\"\n",
    "    result = textdistance.levenshtein.normalized_similarity(expl, truth)\n"
   ]
  },
  {
   "cell_type": "markdown",
   "id": "41a0dd93-febb-408b-ae22-e829e02906e9",
   "metadata": {},
   "source": [
    "## Agentic Flow\n",
    "\n",
    "The following PDL program shows an agentic flow with a ReAct prompt pattern. It first reads some demonstrations to be used as few-shots. The ReAct pattern is captured with PDL control structures (repeat-until and if-then-else), and consists of cycling through thoughts, actions, and observations. The tools available are Wikipedia search, and calculator (as Python code). The agent decides when to search and when to calculate. The `spec` indicates a type for the output of the model when actions are produced, it is used to dynamically check outputs of models and fail when they don't conform to the expectation. "
   ]
  },
  {
   "cell_type": "code",
   "execution_count": 3,
   "id": "dfef7096-b7a6-4966-8356-a306e701974b",
   "metadata": {
    "scrolled": true
   },
   "outputs": [
    {
     "name": "stdout",
     "output_type": "stream",
     "text": [
      "How many years ago was the discoverer of the Hudson River born? Keep in mind we are in 2024.\n",
      "\u001b[32mTho: I need to search Henry Hudson, find out when he was born, and then calculate how many years ago that was.\n",
      "\u001b[0m"
     ]
    },
    {
     "name": "stderr",
     "output_type": "stream",
     "text": [
      "/Users/mvaziri/.pyenv/versions/3.12.5/lib/python3.12/site-packages/tqdm/auto.py:21: TqdmWarning: IProgress not found. Please update jupyter and ipywidgets. See https://ipywidgets.readthedocs.io/en/stable/user_install.html\n",
      "  from .autonotebook import tqdm as notebook_tqdm\n"
     ]
    },
    {
     "name": "stdout",
     "output_type": "stream",
     "text": [
      "\u001b[32mAct: {\"name\": \"Search\", \"arguments\": {\"topic\": \"Henry Hudson\"}}\u001b[0m\n",
      "Obs: \u001b[35mHenry Hudson (c. 1565 – disappeared 23 June 1611) was an English sea explorer and navigator during the early 17th century, best known for his explorations of present-day Canada and parts of the Northeastern United States.\n",
      "In 1607 and 1608, Hudson made two attempts on behalf of English merchants to find a rumoured Northeast Passage to Cathay via a route above the Arctic Circle. In 1609, he landed in North America on behalf of the Dutch East India Company and explored the region around the modern New York metropolitan area. Looking for a Northwest Passage to Asia on his ship Halve Maen (\"Half Moon\"), he sailed up the Hudson River, which was later named after him, and thereby laid the foundation for Dutch colonization of the region. His contributions to the exploration of the New World were significant and lasting. His voyages helped to establish European contact with the native peoples of North America and contributed to the development of trade and commerce. \n",
      "On his final expedition, while still searching for the Northwest Passage, Hudson became the first European to see Hudson Strait and the immense Hudson Bay. In 1611, after wintering on the shore of James Bay, Hudson wanted to press on to the west, but most of his crew mutinied. The mutineers cast Hudson, his son, and six others adrift; the Hudsons and their companions were never seen again.\u001b[0m\n",
      "\u001b[32mTho: Henry Hudson was born around 1565.\n",
      "\u001b[0m\u001b[32mAct: {\"name\": \"Calc\", \"arguments\": {\"expr\": \"2024 - 1565\"}}\u001b[0m\n",
      "Obs: \u001b[35m459\u001b[0m\n"
     ]
    }
   ],
   "source": [
    "%%pdl --reset-context\n",
    "text:\n",
    "- read: demonstrations.txt\n",
    "  contribute: [context]\n",
    "- \"How many years ago was the discoverer of the Hudson River born? Keep in mind we are in 2024.\\n\"\n",
    "- repeat:\n",
    "    text:\n",
    "    - def: thought\n",
    "      model: replicate/ibm-granite/granite-3.0-8b-instruct\n",
    "      parameters:\n",
    "        stop_sequences: \"Act:\"\n",
    "        temperature: 0\n",
    "    - def: rawAction\n",
    "      model: replicate/ibm-granite/granite-3.0-8b-instruct\n",
    "      parameters:\n",
    "        stop_sequences: \"\\n\"\n",
    "        temperature: 0\n",
    "    - def: action\n",
    "      lang: python\n",
    "      parser: json\n",
    "      spec: {name: str, arguments: obj}\n",
    "      contribute: [context]\n",
    "      code:\n",
    "        |\n",
    "        result = '${ rawAction }'.replace(\"Act: \", \"\")\n",
    "    - def: observation\n",
    "      if: ${ action.name == \"Search\" }\n",
    "      then:\n",
    "        text:\n",
    "        - \"\\nObs: \"\n",
    "        - lang: python\n",
    "          code: |\n",
    "            import warnings, wikipedia\n",
    "            warnings.simplefilter(\"ignore\")\n",
    "            try:\n",
    "              result = wikipedia.summary(\"${ action.arguments.topic }\")\n",
    "            except wikipedia.WikipediaException as e:\n",
    "              result = str(e)\n",
    "        - \"\\n\"\n",
    "      else:\n",
    "        - if: ${ action.name == \"Calc\" }\n",
    "          then:\n",
    "            text:\n",
    "            - \"\\nObs: \"\n",
    "            - lang: python\n",
    "              code: result = ${ action.arguments.expr }\n",
    "            - \"\\n\"\n",
    "  until: ${ action.name != \"Search\" }\n",
    "\n"
   ]
  },
  {
   "cell_type": "code",
   "execution_count": null,
   "id": "9b919506-79ed-4a13-ac1d-1fdfc3e4f9d9",
   "metadata": {},
   "outputs": [],
   "source": [
    "! cat log.txt"
   ]
  },
  {
   "cell_type": "markdown",
   "id": "89438b62-29e4-472e-89ec-57c1626ffd44",
   "metadata": {},
   "source": [
    "## Conclusion\n",
    "\n",
    "Since prompts are at the forefront, PDL makes users more productive in their trial-and-error with LLMs. Try it!\n",
    "\n",
    "https://github.com/IBM/prompt-declaration-language"
   ]
  },
  {
   "cell_type": "code",
   "execution_count": null,
   "id": "b7576532-aee3-4580-85fd-0b97bc503621",
   "metadata": {},
   "outputs": [],
   "source": []
  }
 ],
 "metadata": {
  "kernelspec": {
   "display_name": "Python 3 (ipykernel)",
   "language": "python",
   "name": "python3"
  },
  "language_info": {
   "codemirror_mode": {
    "name": "ipython",
    "version": 3
   },
   "file_extension": ".py",
   "mimetype": "text/x-python",
   "name": "python",
   "nbconvert_exporter": "python",
   "pygments_lexer": "ipython3",
   "version": "3.12.5"
  }
 },
 "nbformat": 4,
 "nbformat_minor": 5
}
