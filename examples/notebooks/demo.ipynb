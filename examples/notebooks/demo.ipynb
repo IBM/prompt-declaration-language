{
 "cells": [
  {
   "cell_type": "markdown",
   "id": "a29514fc-9383-490c-8a73-63c547c21d95",
   "metadata": {},
   "source": [
    "# Prompt Declaration Language\n",
    "\n",
    "Prompt engineering is difficult: minor variations in prompts have large impacts on the output of LLMs and prompts are model-dependent. In recent years <i> prompt programming languages </i> have emerged to bring discipline to prompt engineering. Many of them are embedded in an imperative language such as Python or TypeScript, making it difficult for users to directly interact with prompts and multi-turn LLM interactions.\n",
    "\n",
    "The Prompt Declaration Language (PDL) is a YAML-based declarative approach to prompt programming, where prompts are at the forefront. PDL facilitates model chaining and tool use, abstracting away the plumbing necessary for such compositions, enables type checking of the input and output of models, and is based on LiteLLM to support a variety of model providers. PDL has been used with RAG, CoT, ReAct, and an agent for solving SWE-bench. PDL is [open-source](https://github.com/IBM/prompt-declaration-language) and works well with watsonx.ai and Granite models.\n",
    "\n",
    "All examples in this notebook use the new ibm/granite-8b-instruct-preview-4k model. You can use PDL stand-alone or from a Python SDK or, as shown here, in a notebook via a notebook extension. In the cell output, model-generated text is rendered in green font, and tool-generated text is rendered in purple font."
   ]
  },
  {
   "cell_type": "code",
   "execution_count": null,
   "id": "ca2e7ba6-e0f0-4d88-a083-5ff257ed2c34",
   "metadata": {},
   "outputs": [],
   "source": [
    "! pip install prompt-declaration-language\n",
    "! pip install 'prompt-declaration-language[examples]'"
   ]
  },
  {
   "cell_type": "code",
   "execution_count": 2,
   "id": "e25a6874-54d9-4167-82ed-ab2f4fdc0a6f",
   "metadata": {},
   "outputs": [],
   "source": [
    "%load_ext pdl.pdl_notebook_ext"
   ]
  },
  {
   "cell_type": "markdown",
   "id": "0f4a750b-5765-4e2a-9dc1-9c9af2eab940",
   "metadata": {},
   "source": [
    "## Model call\n",
    "\n",
    "In PDL, the user specifies step-by-step the shape of data they want to generate. In the following, the `text` construct indicates a text block containing a prompt and a model call. Implicitly, PDL builds a background conversational context (list of role/content) which is used to make model calls. Each model call uses the context built so far as its input prompt."
   ]
  },
  {
   "cell_type": "code",
   "execution_count": 2,
   "id": "f3c62df1-0347-4711-acd7-3892cfd5df30",
   "metadata": {},
   "outputs": [
    {
     "name": "stdout",
     "output_type": "stream",
     "text": [
      "What is the meaning of life?\n",
      "\u001b[32mThe\u001b[0m\u001b[32m meaning\u001b[0m\u001b[32m of\u001b[0m\u001b[32m life\u001b[0m\u001b[32m is\u001b[0m\u001b[32m a\u001b[0m\u001b[32m ph\u001b[0m\u001b[32milo\u001b[0m\u001b[32msop\u001b[0m\u001b[32mh\u001b[0m\u001b[32mical\u001b[0m\u001b[32m and\u001b[0m\u001b[32m met\u001b[0m\u001b[32maph\u001b[0m\u001b[32mysical\u001b[0m\u001b[32m question\u001b[0m\u001b[32m related\u001b[0m\u001b[32m to\u001b[0m\u001b[32m the\u001b[0m\u001b[32m purpose\u001b[0m\u001b[32m or\u001b[0m\u001b[32m signific\u001b[0m\u001b[32mance\u001b[0m\u001b[32m of\u001b[0m\u001b[32m life\u001b[0m\u001b[32m or\u001b[0m\u001b[32m existence\u001b[0m\u001b[32m in\u001b[0m\u001b[32m general\u001b[0m\u001b[32m.\u001b[0m\u001b[32m This\u001b[0m\u001b[32m concept\u001b[0m\u001b[32m has\u001b[0m\u001b[32m been\u001b[0m\u001b[32m appro\u001b[0m\u001b[32mached\u001b[0m\u001b[32m by\u001b[0m\u001b[32m many\u001b[0m\u001b[32m pers\u001b[0m\u001b[32mpect\u001b[0m\u001b[32mives\u001b[0m\u001b[32m including\u001b[0m\u001b[32m ph\u001b[0m\u001b[32milo\u001b[0m\u001b[32msophy\u001b[0m\u001b[32m,\u001b[0m\u001b[32m rel\u001b[0m\u001b[32migion\u001b[0m\u001b[32m,\u001b[0m\u001b[32m and\u001b[0m\u001b[32m science\u001b[0m\u001b[32m.\u001b[0m\u001b[32m Some\u001b[0m\u001b[32m people\u001b[0m\u001b[32m find\u001b[0m\u001b[32m meaning\u001b[0m\u001b[32m through\u001b[0m\u001b[32m personal\u001b[0m\u001b[32m growth\u001b[0m\u001b[32m,\u001b[0m\u001b[32m relationships\u001b[0m\u001b[32m,\u001b[0m\u001b[32m love\u001b[0m\u001b[32m,\u001b[0m\u001b[32m and\u001b[0m\u001b[32m through\u001b[0m\u001b[32m helping\u001b[0m\u001b[32m others\u001b[0m\u001b[32m.\u001b[0m\u001b[32m O\u001b[0m\u001b[32mthers\u001b[0m\u001b[32m seek\u001b[0m\u001b[32m meaning\u001b[0m\u001b[32m through\u001b[0m\u001b[32m spirit\u001b[0m\u001b[32mual\u001b[0m\u001b[32mity\u001b[0m\u001b[32m or\u001b[0m\u001b[32m rel\u001b[0m\u001b[32mig\u001b[0m\u001b[32mious\u001b[0m\u001b[32m bel\u001b[0m\u001b[32mie\u001b[0m\u001b[32mfs\u001b[0m\u001b[32m.\u001b[0m\u001b[32m U\u001b[0m\u001b[32mlt\u001b[0m\u001b[32mimately\u001b[0m\u001b[32m,\u001b[0m\u001b[32m the\u001b[0m\u001b[32m meaning\u001b[0m\u001b[32m of\u001b[0m\u001b[32m life\u001b[0m\u001b[32m may\u001b[0m\u001b[32m be\u001b[0m\u001b[32m a\u001b[0m\u001b[32m personal\u001b[0m\u001b[32m and\u001b[0m\u001b[32m subject\u001b[0m\u001b[32mive\u001b[0m\u001b[32m experience\u001b[0m\u001b[32m.\u001b[0m"
     ]
    }
   ],
   "source": [
    "%%pdl --reset-context\n",
    "text: \n",
    "- \"What is the meaning of life?\\n\"\n",
    "- model: ibm/granite-8b-instruct-preview-4k\n",
    "  platform: bam"
   ]
  },
  {
   "cell_type": "markdown",
   "id": "1e41eb56-e278-4024-9979-7c3410e9ccf5",
   "metadata": {},
   "source": [
    "## Model chaining\n",
    "Model chaining can be done by simply adding to the list of models to call declaratively. Since this cell has the `%%pdl` cell magic without `--reset-context`, it executes in the context created by the previous cell."
   ]
  },
  {
   "cell_type": "code",
   "execution_count": 3,
   "id": "7f6c323b-ad1a-4434-8732-bc19c5c47883",
   "metadata": {},
   "outputs": [
    {
     "name": "stdout",
     "output_type": "stream",
     "text": [
      "\n",
      "Say it like a poem\n",
      "\u001b[32mLife\u001b[0m\u001b[32m's\u001b[0m\u001b[32m meaning\u001b[0m\u001b[32m,\u001b[0m\u001b[32m a\u001b[0m\u001b[32m question\u001b[0m\u001b[32m vast\u001b[0m\u001b[32m,\u001b[0m\u001b[32m\n",
      "\u001b[0m\u001b[32mIn\u001b[0m\u001b[32m ph\u001b[0m\u001b[32milo\u001b[0m\u001b[32msophy\u001b[0m\u001b[32m,\u001b[0m\u001b[32m rel\u001b[0m\u001b[32migion\u001b[0m\u001b[32m,\u001b[0m\u001b[32m and\u001b[0m\u001b[32m science\u001b[0m\u001b[32m cast\u001b[0m\u001b[32m.\u001b[0m\u001b[32m\n",
      "\u001b[0m\u001b[32mSome\u001b[0m\u001b[32m find\u001b[0m\u001b[32m purpose\u001b[0m\u001b[32m in\u001b[0m\u001b[32m personal\u001b[0m\u001b[32m growth\u001b[0m\u001b[32m,\u001b[0m\u001b[32m\n",
      "\u001b[0m\u001b[32mIn\u001b[0m\u001b[32m love\u001b[0m\u001b[32m and\u001b[0m\u001b[32m relationships\u001b[0m\u001b[32m,\u001b[0m\u001b[32m they\u001b[0m\u001b[32m find\u001b[0m\u001b[32m their\u001b[0m\u001b[32m tro\u001b[0m\u001b[32mth\u001b[0m\u001b[32m.\u001b[0m\u001b[32m\n",
      "\u001b[0m\u001b[32mOthers\u001b[0m\u001b[32m seek\u001b[0m\u001b[32m meaning\u001b[0m\u001b[32m through\u001b[0m\u001b[32m spirit\u001b[0m\u001b[32mual\u001b[0m\u001b[32mity\u001b[0m\u001b[32m,\u001b[0m\u001b[32m\n",
      "\u001b[0m\u001b[32mIn\u001b[0m\u001b[32m fa\u001b[0m\u001b[32mith\u001b[0m\u001b[32m and\u001b[0m\u001b[32m bel\u001b[0m\u001b[32mief\u001b[0m\u001b[32m,\u001b[0m\u001b[32m they\u001b[0m\u001b[32m find\u001b[0m\u001b[32m their\u001b[0m\u001b[32m reality\u001b[0m\u001b[32m.\u001b[0m\u001b[32m\n",
      "\u001b[0m\u001b[32mUlt\u001b[0m\u001b[32mimately\u001b[0m\u001b[32m,\u001b[0m\u001b[32m meaning\u001b[0m\u001b[32m is\u001b[0m\u001b[32m a\u001b[0m\u001b[32m personal\u001b[0m\u001b[32m quest\u001b[0m\u001b[32m,\u001b[0m\u001b[32m\n",
      "\u001b[0m\u001b[32mIn\u001b[0m\u001b[32m life\u001b[0m\u001b[32m's\u001b[0m\u001b[32m journey\u001b[0m\u001b[32m,\u001b[0m\u001b[32m we\u001b[0m\u001b[32m are\u001b[0m\u001b[32m put\u001b[0m\u001b[32m to\u001b[0m\u001b[32m the\u001b[0m\u001b[32m test\u001b[0m\u001b[32m.\u001b[0m\n",
      "\n",
      "Translate it to French\n",
      "\u001b[32mLa\u001b[0m\u001b[32m sign\u001b[0m\u001b[32mification\u001b[0m\u001b[32m de\u001b[0m\u001b[32m la\u001b[0m\u001b[32m v\u001b[0m\u001b[32mie\u001b[0m\u001b[32m,\u001b[0m\u001b[32m une\u001b[0m\u001b[32m question\u001b[0m\u001b[32m imm\u001b[0m\u001b[32mense\u001b[0m\u001b[32m,\u001b[0m\u001b[32m\n",
      "\u001b[0m\u001b[32mD\u001b[0m\u001b[32mans\u001b[0m\u001b[32m la\u001b[0m\u001b[32m ph\u001b[0m\u001b[32milo\u001b[0m\u001b[32msop\u001b[0m\u001b[32mh\u001b[0m\u001b[32mie\u001b[0m\u001b[32m,\u001b[0m\u001b[32m la\u001b[0m\u001b[32m rel\u001b[0m\u001b[32migion\u001b[0m\u001b[32m et\u001b[0m\u001b[32m la\u001b[0m\u001b[32m science\u001b[0m\u001b[32m,\u001b[0m\u001b[32m el\u001b[0m\u001b[32mle\u001b[0m\u001b[32m est\u001b[0m\u001b[32m pos\u001b[0m\u001b[32mée\u001b[0m\u001b[32m.\u001b[0m\u001b[32m\n",
      "\u001b[0m\u001b[32mQue\u001b[0m\u001b[32ml\u001b[0m\u001b[32mques\u001b[0m\u001b[32m-\u001b[0m\u001b[32muns\u001b[0m\u001b[32m tro\u001b[0m\u001b[32mu\u001b[0m\u001b[32mvent\u001b[0m\u001b[32m un\u001b[0m\u001b[32m but\u001b[0m\u001b[32m dans\u001b[0m\u001b[32m le\u001b[0m\u001b[32mur\u001b[0m\u001b[32m cro\u001b[0m\u001b[32miss\u001b[0m\u001b[32mance\u001b[0m\u001b[32m person\u001b[0m\u001b[32mnel\u001b[0m\u001b[32mle\u001b[0m\u001b[32m,\u001b[0m\u001b[32m\n",
      "\u001b[0m\u001b[32mD\u001b[0m\u001b[32mans\u001b[0m\u001b[32m l\u001b[0m\u001b[32m'\u001b[0m\u001b[32mam\u001b[0m\u001b[32mour\u001b[0m\u001b[32m et\u001b[0m\u001b[32m les\u001b[0m\u001b[32m relations\u001b[0m\u001b[32m,\u001b[0m\u001b[32m il\u001b[0m\u001b[32ms\u001b[0m\u001b[32m tro\u001b[0m\u001b[32mu\u001b[0m\u001b[32mvent\u001b[0m\u001b[32m le\u001b[0m\u001b[32mur\u001b[0m\u001b[32m foi\u001b[0m\u001b[32m.\u001b[0m\u001b[32m\n",
      "\u001b[0m\u001b[32mD\u001b[0m\u001b[32m'\u001b[0m\u001b[32maut\u001b[0m\u001b[32mres\u001b[0m\u001b[32m ch\u001b[0m\u001b[32mer\u001b[0m\u001b[32mch\u001b[0m\u001b[32ment\u001b[0m\u001b[32m la\u001b[0m\u001b[32m sign\u001b[0m\u001b[32mification\u001b[0m\u001b[32m à\u001b[0m\u001b[32m tra\u001b[0m\u001b[32mvers\u001b[0m\u001b[32m la\u001b[0m\u001b[32m spirit\u001b[0m\u001b[32mual\u001b[0m\u001b[32mité\u001b[0m\u001b[32m,\u001b[0m\u001b[32m\n",
      "\u001b[0m\u001b[32mD\u001b[0m\u001b[32mans\u001b[0m\u001b[32m la\u001b[0m\u001b[32m foi\u001b[0m\u001b[32m et\u001b[0m\u001b[32m la\u001b[0m\u001b[32m c\u001b[0m\u001b[32mroy\u001b[0m\u001b[32mance\u001b[0m\u001b[32m,\u001b[0m\u001b[32m il\u001b[0m\u001b[32ms\u001b[0m\u001b[32m tro\u001b[0m\u001b[32mu\u001b[0m\u001b[32mvent\u001b[0m\u001b[32m le\u001b[0m\u001b[32mur\u001b[0m\u001b[32m ré\u001b[0m\u001b[32mal\u001b[0m\u001b[32mité\u001b[0m\u001b[32m.\u001b[0m\u001b[32m\n",
      "\u001b[0m\u001b[32mEn\u001b[0m\u001b[32m fin\u001b[0m\u001b[32m de\u001b[0m\u001b[32m compte\u001b[0m\u001b[32m,\u001b[0m\u001b[32m le\u001b[0m\u001b[32m but\u001b[0m\u001b[32m est\u001b[0m\u001b[32m une\u001b[0m\u001b[32m qu\u001b[0m\u001b[32mête\u001b[0m\u001b[32m person\u001b[0m\u001b[32mnel\u001b[0m\u001b[32mle\u001b[0m\u001b[32m,\u001b[0m\u001b[32m\n",
      "\u001b[0m\u001b[32mD\u001b[0m\u001b[32mans\u001b[0m\u001b[32m le\u001b[0m\u001b[32m vo\u001b[0m\u001b[32my\u001b[0m\u001b[32mage\u001b[0m\u001b[32m de\u001b[0m\u001b[32m la\u001b[0m\u001b[32m v\u001b[0m\u001b[32mie\u001b[0m\u001b[32m,\u001b[0m\u001b[32m nous\u001b[0m\u001b[32m som\u001b[0m\u001b[32mmes\u001b[0m\u001b[32m mis\u001b[0m\u001b[32m à\u001b[0m\u001b[32m l\u001b[0m\u001b[32m'\u001b[0m\u001b[32mé\u001b[0m\u001b[32mpre\u001b[0m\u001b[32muve\u001b[0m\u001b[32m.\u001b[0m"
     ]
    }
   ],
   "source": [
    "%%pdl\n",
    "text:\n",
    "- \"\\nSay it like a poem\\n\"\n",
    "- model: ibm/granite-8b-instruct-preview-4k\n",
    "  platform: bam\n",
    "- \"\\n\\nTranslate it to French\\n\"\n",
    "- model: ibm/granite-8b-instruct-preview-4k\n",
    "  platform: bam"
   ]
  },
  {
   "cell_type": "markdown",
   "id": "fe9b1959-e49b-48d3-b722-19ace9b981d2",
   "metadata": {},
   "source": [
    "## Chat templates\n",
    "\n",
    "The second call to the model in the above program submits the following prompt. PDL takes care of applying the appropriate chat templates and tags, and builds the background context implicitly. Chat templates make your program easier to port across models, since you do not need to specify control tokens by hand. All the user has to do is list the models they want to chain, PDL takes care of the rest.\n",
    "\n",
    "```\n",
    "<|start_of_role|>user<|end_of_role|>What is the meaning of life?\n",
    "<|end_of_text|>\n",
    "The meaning of life is a philosophical and metaphysical question related to the purpose or significance of life or existence in general. This concept has been approached by many perspectives including philosophy, religion, and science. Some people find meaning through personal growth, relationships, love, and through helping others. Others seek meaning through spirituality or religious beliefs. Ultimately, the meaning of life may be a personal and subjective experience.\n",
    "\n",
    "<|start_of_role|>user<|end_of_role|>Say it like a poem<|end_of_text|>\n",
    "Life's meaning, a question vast,\n",
    "In philosophy, religion, and science cast.\n",
    "Some find purpose in personal growth,\n",
    "In love and relationships, they find their troth.\n",
    "Others seek meaning through spirituality,\n",
    "In faith and belief, they find their reality.\n",
    "Ultimately, meaning is a personal quest,\n",
    "In life's journey, we are put to the test.\n",
    "\n",
    "<|start_of_role|>user<|end_of_role|>Translate it to French\n",
    "<|end_of_text|>\n",
    "<|start_of_role|>assistant<|end_of_role|>\n",
    "```"
   ]
  },
  {
   "cell_type": "markdown",
   "id": "99681db4-8a43-4b06-92a6-8d140989f2ea",
   "metadata": {},
   "source": [
    "## Data pipeline\n",
    "\n",
    "The following program shows a common prompting pattern: read some data, formulate a prompt using that data, submit to a model, and evaluate. In this program, we formulate a prompt for code explanation. The program first defines two variables: `code`, which holds the data we read, and `truth` for the ground truth. It then prints out the source code, formulates a prompts with the data, and calls a model to get an explanation. Finally, a Python code block uses the Levenshtein text distance metric and evaluate the explanation against the ground truth. This pipeline can similarly be applied to an entire data set to produce a jsonl file."
   ]
  },
  {
   "cell_type": "code",
   "execution_count": 4,
   "id": "b61b2e25-72a4-4f70-ae83-40d77bed3f4f",
   "metadata": {},
   "outputs": [
    {
     "name": "stdout",
     "output_type": "stream",
     "text": [
      "\n",
      "@SuppressWarnings(\"unchecked\")\n",
      "public static Map<String, String> deserializeOffsetMap(String lastSourceOffset) throws IOException {\n",
      "  Map<String, String> offsetMap;\n",
      "  if (lastSourceOffset == null || lastSourceOffset.isEmpty()) {    \n",
      "    offsetMap = new HashMap<>();  \n",
      "  } else {\n",
      "    offsetMap = JSON_MAPPER.readValue(lastSourceOffset, Map.class);  \n",
      "  }\n",
      "  return offsetMap;\n",
      "}\n",
      "\n",
      "\u001b[32m\n",
      "\u001b[0m\u001b[32mThis\u001b[0m\u001b[32m Java\u001b[0m\u001b[32m method\u001b[0m\u001b[32m,\u001b[0m\u001b[32m `\u001b[0m\u001b[32mdeserialize\u001b[0m\u001b[32mOffset\u001b[0m\u001b[32mMap\u001b[0m\u001b[32m`,\u001b[0m\u001b[32m is\u001b[0m\u001b[32m designed\u001b[0m\u001b[32m to\u001b[0m\u001b[32m convert\u001b[0m\u001b[32m a\u001b[0m\u001b[32m JSON\u001b[0m\u001b[32m string\u001b[0m\u001b[32m into\u001b[0m\u001b[32m a\u001b[0m\u001b[32m `\u001b[0m\u001b[32mMap\u001b[0m\u001b[32m<\u001b[0m\u001b[32mString\u001b[0m\u001b[32m,\u001b[0m\u001b[32m String\u001b[0m\u001b[32m>`.\u001b[0m\u001b[32m Here\u001b[0m\u001b[32m's\u001b[0m\u001b[32m a\u001b[0m\u001b[32m break\u001b[0m\u001b[32mdown\u001b[0m\u001b[32m of\u001b[0m\u001b[32m the\u001b[0m\u001b[32m code\u001b[0m\u001b[32m:\u001b[0m\u001b[32m\n",
      "\u001b[0m\u001b[32m\n",
      "\u001b[0m\u001b[32m1\u001b[0m\u001b[32m.\u001b[0m\u001b[32m The\u001b[0m\u001b[32m method\u001b[0m\u001b[32m takes\u001b[0m\u001b[32m a\u001b[0m\u001b[32m single\u001b[0m\u001b[32m parameter\u001b[0m\u001b[32m,\u001b[0m\u001b[32m `\u001b[0m\u001b[32mlast\u001b[0m\u001b[32mSource\u001b[0m\u001b[32mOffset\u001b[0m\u001b[32m`,\u001b[0m\u001b[32m which\u001b[0m\u001b[32m is\u001b[0m\u001b[32m expected\u001b[0m\u001b[32m to\u001b[0m\u001b[32m be\u001b[0m\u001b[32m a\u001b[0m\u001b[32m JSON\u001b[0m\u001b[32m string\u001b[0m\u001b[32m representing\u001b[0m\u001b[32m a\u001b[0m\u001b[32m map\u001b[0m\u001b[32m.\u001b[0m\u001b[32m\n",
      "\u001b[0m\u001b[32m\n",
      "\u001b[0m\u001b[32m2\u001b[0m\u001b[32m.\u001b[0m\u001b[32m It\u001b[0m\u001b[32m first\u001b[0m\u001b[32m checks\u001b[0m\u001b[32m if\u001b[0m\u001b[32m `\u001b[0m\u001b[32mlast\u001b[0m\u001b[32mSource\u001b[0m\u001b[32mOffset\u001b[0m\u001b[32m`\u001b[0m\u001b[32m is\u001b[0m\u001b[32m either\u001b[0m\u001b[32m null\u001b[0m\u001b[32m or\u001b[0m\u001b[32m an\u001b[0m\u001b[32m empty\u001b[0m\u001b[32m string\u001b[0m\u001b[32m.\u001b[0m\u001b[32m If\u001b[0m\u001b[32m true\u001b[0m\u001b[32m,\u001b[0m\u001b[32m it\u001b[0m\u001b[32m initializes\u001b[0m\u001b[32m a\u001b[0m\u001b[32m new\u001b[0m\u001b[32m `\u001b[0m\u001b[32mHashMap\u001b[0m\u001b[32m`\u001b[0m\u001b[32m and\u001b[0m\u001b[32m assigns\u001b[0m\u001b[32m it\u001b[0m\u001b[32m to\u001b[0m\u001b[32m `\u001b[0m\u001b[32moffset\u001b[0m\u001b[32mMap\u001b[0m\u001b[32m`.\u001b[0m\u001b[32m\n",
      "\u001b[0m\u001b[32m\n",
      "\u001b[0m\u001b[32m3\u001b[0m\u001b[32m.\u001b[0m\u001b[32m If\u001b[0m\u001b[32m `\u001b[0m\u001b[32mlast\u001b[0m\u001b[32mSource\u001b[0m\u001b[32mOffset\u001b[0m\u001b[32m`\u001b[0m\u001b[32m is\u001b[0m\u001b[32m not\u001b[0m\u001b[32m null\u001b[0m\u001b[32m or\u001b[0m\u001b[32m empty\u001b[0m\u001b[32m,\u001b[0m\u001b[32m it\u001b[0m\u001b[32m uses\u001b[0m\u001b[32m Jack\u001b[0m\u001b[32mson\u001b[0m\u001b[32m's\u001b[0m\u001b[32m `\u001b[0m\u001b[32mJSON\u001b[0m\u001b[32m_\u001b[0m\u001b[32mMAP\u001b[0m\u001b[32mPER\u001b[0m\u001b[32m`\u001b[0m\u001b[32m to\u001b[0m\u001b[32m deserialize\u001b[0m\u001b[32m the\u001b[0m\u001b[32m JSON\u001b[0m\u001b[32m string\u001b[0m\u001b[32m into\u001b[0m\u001b[32m a\u001b[0m\u001b[32m `\u001b[0m\u001b[32mMap\u001b[0m\u001b[32m<\u001b[0m\u001b[32mString\u001b[0m\u001b[32m,\u001b[0m\u001b[32m String\u001b[0m\u001b[32m>`\u001b[0m\u001b[32m and\u001b[0m\u001b[32m assigns\u001b[0m\u001b[32m it\u001b[0m\u001b[32m to\u001b[0m\u001b[32m `\u001b[0m\u001b[32moffset\u001b[0m\u001b[32mMap\u001b[0m\u001b[32m`.\u001b[0m\u001b[32m\n",
      "\u001b[0m\u001b[32m\n",
      "\u001b[0m\u001b[32m4\u001b[0m\u001b[32m.\u001b[0m\u001b[32m Finally\u001b[0m\u001b[32m,\u001b[0m\u001b[32m it\u001b[0m\u001b[32m returns\u001b[0m\u001b[32m the\u001b[0m\u001b[32m `\u001b[0m\u001b[32moffset\u001b[0m\u001b[32mMap\u001b[0m\u001b[32m`.\u001b[0m\u001b[32m\n",
      "\u001b[0m\u001b[32m\n",
      "\u001b[0m\u001b[32mThe\u001b[0m\u001b[32m `@\u001b[0m\u001b[32mSuppressWarnings\u001b[0m\u001b[32m(\"\u001b[0m\u001b[32munchecked\u001b[0m\u001b[32m\")\u001b[0m\u001b[32m`\u001b[0m\u001b[32m annotation\u001b[0m\u001b[32m is\u001b[0m\u001b[32m used\u001b[0m\u001b[32m to\u001b[0m\u001b[32m suppress\u001b[0m\u001b[32m a\u001b[0m\u001b[32m potential\u001b[0m\u001b[32m unchecked\u001b[0m\u001b[32m warning\u001b[0m\u001b[32m that\u001b[0m\u001b[32m might\u001b[0m\u001b[32m occur\u001b[0m\u001b[32m due\u001b[0m\u001b[32m to\u001b[0m\u001b[32m the\u001b[0m\u001b[32m raw\u001b[0m\u001b[32m type\u001b[0m\u001b[32m usage\u001b[0m\u001b[32m in\u001b[0m\u001b[32m the\u001b[0m\u001b[32m method\u001b[0m\u001b[32m signature\u001b[0m\u001b[32m.\u001b[0m\u001b[32m However\u001b[0m\u001b[32m,\u001b[0m\u001b[32m this\u001b[0m\u001b[32m is\u001b[0m\u001b[32m generally\u001b[0m\u001b[32m considered\u001b[0m\u001b[32m a\u001b[0m\u001b[32m code\u001b[0m\u001b[32m s\u001b[0m\u001b[32mmell\u001b[0m\u001b[32m and\u001b[0m\u001b[32m should\u001b[0m\u001b[32m be\u001b[0m\u001b[32m a\u001b[0m\u001b[32mvo\u001b[0m\u001b[32mided\u001b[0m\u001b[32m if\u001b[0m\u001b[32m possible\u001b[0m\u001b[32m.\u001b[0m\u001b[32m It\u001b[0m\u001b[32m's\u001b[0m\u001b[32m better\u001b[0m\u001b[32m to\u001b[0m\u001b[32m use\u001b[0m\u001b[32m gener\u001b[0m\u001b[32mics\u001b[0m\u001b[32m to\u001b[0m\u001b[32m avoid\u001b[0m\u001b[32m such\u001b[0m\u001b[32m warnings\u001b[0m\u001b[32m.\u001b[0m\n",
      "Evaluation:\n",
      "The similarity (Levenshtein) between this answer and the ground truth is:\n",
      "\u001b[35m0.33441208198489747\u001b[0m"
     ]
    }
   ],
   "source": [
    "%%pdl\n",
    "defs:\n",
    "  code:\n",
    "    read: ./data.yaml\n",
    "    parser: yaml\n",
    "  truth:\n",
    "    read: ./ground_truth.txt\n",
    "text:\n",
    "- \"\\n${ code.source_code }\\n\"\n",
    "- model: ibm/granite-8b-instruct-preview-4k\n",
    "  platform: bam\n",
    "  def: explanation\n",
    "  input: |\n",
    "      Here is some info about the location of the function in the repo.\n",
    "      repo: \n",
    "      ${ code.repo_info.repo }\n",
    "      path: ${ code.repo_info.path }\n",
    "      Function_name: ${ code.repo_info.function_name }\n",
    "\n",
    "\n",
    "      Explain the following code:\n",
    "      ```\n",
    "      ${ code.source_code }```\n",
    "- |\n",
    "\n",
    "  Evaluation:\n",
    "  The similarity (Levenshtein) between this answer and the ground truth is:\n",
    "- def: EVAL\n",
    "  lang: python\n",
    "  code: |\n",
    "    import textdistance\n",
    "    expl = \"\"\"\n",
    "    ${ explanation }\n",
    "    \"\"\"\n",
    "    truth = \"\"\"\n",
    "    ${ truth }\n",
    "    \"\"\"\n",
    "    result = textdistance.levenshtein.normalized_similarity(expl, truth)\n"
   ]
  },
  {
   "cell_type": "markdown",
   "id": "41a0dd93-febb-408b-ae22-e829e02906e9",
   "metadata": {},
   "source": [
    "## Agentic Flow\n",
    "\n",
    "The following PDL program shows an agentic flow with a ReAct prompt pattern. It first reads some demonstrations to be used as few-shots. The ReAct pattern is captured with PDL control structures (repeat-until and if-then-else), and consists of cycling through thoughts, actions, and observations. The tools available are Wikipedia search, and calculator (as Python code). The agent decides when to search and when to calculate. The `spec` indicates a type for the output of the model when actions are produced, it is used to dynamically check outputs of models and fail when they don't conform to the expectation. "
   ]
  },
  {
   "cell_type": "code",
   "execution_count": 17,
   "id": "dfef7096-b7a6-4966-8356-a306e701974b",
   "metadata": {
    "scrolled": true
   },
   "outputs": [
    {
     "name": "stdout",
     "output_type": "stream",
     "text": [
      "How many years ago was the discoverer of the Hudson River born? Keep in mind we are in 2024.\n",
      "\u001b[32mAct\u001b[0m\u001b[32m:\u001b[0m\u001b[32m{\"\u001b[0m\u001b[32mname\u001b[0m\u001b[32m\":\u001b[0m\u001b[32m \"\u001b[0m\u001b[32mSearch\u001b[0m\u001b[32m\",\u001b[0m\u001b[32m \"\u001b[0m\u001b[32marguments\u001b[0m\u001b[32m\":\u001b[0m\u001b[32m {\"\u001b[0m\u001b[32mtopic\u001b[0m\u001b[32m\":\u001b[0m\u001b[32m \"\u001b[0m\u001b[32mH\u001b[0m\u001b[32men\u001b[0m\u001b[32mry\u001b[0m\u001b[32m H\u001b[0m\u001b[32mudson\u001b[0m\u001b[32m\"}}\u001b[0m\u001b[32m\n",
      "\u001b[0mObs: \u001b[35mHenry Hudson (c. 1565 – disappeared 23 June 1611) was an English sea explorer and navigator during the early 17th century, best known for his explorations of present-day Canada and parts of the Northeastern United States.\n",
      "In 1607 and 1608, Hudson made two attempts on behalf of English merchants to find a rumoured Northeast Passage to Cathay via a route above the Arctic Circle. In 1609, he landed in North America on behalf of the Dutch East India Company and explored the region around the modern New York metropolitan area. Looking for a Northwest Passage to Asia on his ship Halve Maen (\"Half Moon\"), he sailed up the Hudson River, which was later named after him, and thereby laid the foundation for Dutch colonization of the region. His contributions to the exploration of the New World were significant and lasting. His voyages helped to establish European contact with the native peoples of North America and contributed to the development of trade and commerce. \n",
      "On his final expedition, while still searching for the Northwest Passage, Hudson became the first European to see Hudson Strait and the immense Hudson Bay. In 1611, after wintering on the shore of James Bay, Hudson wanted to press on to the west, but most of his crew mutinied. The mutineers cast Hudson, his son, and six others adrift; the Hudsons and their companions were never seen again.\u001b[0m\n",
      "\u001b[32mH\u001b[0m\u001b[32men\u001b[0m\u001b[32mry\u001b[0m\u001b[32m H\u001b[0m\u001b[32mudson\u001b[0m\u001b[32m was\u001b[0m\u001b[32m born\u001b[0m\u001b[32m in\u001b[0m\u001b[32m the\u001b[0m\u001b[32m late\u001b[0m\u001b[32m \u001b[0m\u001b[32m1\u001b[0m\u001b[32m6\u001b[0m\u001b[32mth\u001b[0m\u001b[32m cent\u001b[0m\u001b[32mury\u001b[0m\u001b[32m,\u001b[0m\u001b[32m around\u001b[0m\u001b[32m \u001b[0m\u001b[32m1\u001b[0m\u001b[32m5\u001b[0m\u001b[32m6\u001b[0m\u001b[32m5\u001b[0m\u001b[32m.\u001b[0m\u001b[32m To\u001b[0m\u001b[32m find\u001b[0m\u001b[32m out\u001b[0m\u001b[32m how\u001b[0m\u001b[32m many\u001b[0m\u001b[32m years\u001b[0m\u001b[32m ago\u001b[0m\u001b[32m he\u001b[0m\u001b[32m was\u001b[0m\u001b[32m born\u001b[0m\u001b[32m,\u001b[0m\u001b[32m we\u001b[0m\u001b[32m need\u001b[0m\u001b[32m to\u001b[0m\u001b[32m subtract\u001b[0m\u001b[32m his\u001b[0m\u001b[32m birth\u001b[0m\u001b[32m year\u001b[0m\u001b[32m from\u001b[0m\u001b[32m the\u001b[0m\u001b[32m current\u001b[0m\u001b[32m year\u001b[0m\u001b[32m,\u001b[0m\u001b[32m which\u001b[0m\u001b[32m is\u001b[0m\u001b[32m \u001b[0m\u001b[32m2\u001b[0m\u001b[32m0\u001b[0m\u001b[32m2\u001b[0m\u001b[32m4\u001b[0m\u001b[32m.\u001b[0m\u001b[32m\n",
      "\u001b[0m\u001b[32m\n",
      "\u001b[0m\u001b[32mAct\u001b[0m\u001b[32m:\u001b[0m\u001b[32m{\"\u001b[0m\u001b[32mname\u001b[0m\u001b[32m\":\u001b[0m\u001b[32m \"\u001b[0m\u001b[32mCalc\u001b[0m\u001b[32m\",\u001b[0m\u001b[32m \"\u001b[0m\u001b[32marguments\u001b[0m\u001b[32m\":\u001b[0m\u001b[32m {\"\u001b[0m\u001b[32mexpr\u001b[0m\u001b[32m\":\u001b[0m\u001b[32m \"\u001b[0m\u001b[32m2\u001b[0m\u001b[32m0\u001b[0m\u001b[32m2\u001b[0m\u001b[32m4\u001b[0m\u001b[32m -\u001b[0m\u001b[32m \u001b[0m\u001b[32m1\u001b[0m\u001b[32m5\u001b[0m\u001b[32m6\u001b[0m\u001b[32m5\u001b[0m\u001b[32m\"}}\u001b[0m\u001b[32m\n",
      "\u001b[0mObs: \u001b[35m459\u001b[0m\n"
     ]
    }
   ],
   "source": [
    "%%pdl --reset-context\n",
    "text:\n",
    "- read: demonstrations.txt\n",
    "  contribute: [context]\n",
    "- \"How many years ago was the discoverer of the Hudson River born? Keep in mind we are in 2024.\\n\"\n",
    "- repeat:\n",
    "    text:\n",
    "    - def: thought\n",
    "      model: ibm/granite-8b-instruct-preview-4k\n",
    "      platform: bam\n",
    "      parameters:\n",
    "        stop_sequences: [\"Act:\"]\n",
    "        include_stop_sequence: true\n",
    "    - def: action\n",
    "      model: ibm/granite-8b-instruct-preview-4k\n",
    "      platform: bam\n",
    "      parameters:\n",
    "        stop_sequences: [\"\\n\"]\n",
    "      parser: json\n",
    "      spec: {name: str, arguments: obj}\n",
    "    - def: observation\n",
    "      if: ${ action.name == \"Search\" }\n",
    "      then:\n",
    "        text:\n",
    "        - \"Obs: \"\n",
    "        - lang: python\n",
    "          code: |\n",
    "            import warnings, wikipedia\n",
    "            warnings.simplefilter(\"ignore\")\n",
    "            try:\n",
    "              result = wikipedia.summary(\"${ action.arguments.topic }\", auto_suggest=False)\n",
    "            except wikipedia.WikipediaException as e:\n",
    "              result = str(e)\n",
    "        - \"\\n\"\n",
    "      else:\n",
    "        - if: ${ action.name == \"Calc\" }\n",
    "          then:\n",
    "            text:\n",
    "            - \"Obs: \"\n",
    "            - lang: python\n",
    "              code: result = ${ action.arguments.expr }\n",
    "            - \"\\n\"\n",
    "  until: ${ action.name != \"Search\" }"
   ]
  },
  {
   "cell_type": "markdown",
   "id": "89438b62-29e4-472e-89ec-57c1626ffd44",
   "metadata": {},
   "source": [
    "## Conclusion\n",
    "\n",
    "Since prompts are at the forefront, PDL makes users more productive in their trial-and-error with LLMs. Try it!\n",
    "\n",
    "https://github.com/IBM/prompt-declaration-language"
   ]
  },
  {
   "cell_type": "code",
   "execution_count": null,
   "id": "b7576532-aee3-4580-85fd-0b97bc503621",
   "metadata": {},
   "outputs": [],
   "source": []
  }
 ],
 "metadata": {
  "kernelspec": {
   "display_name": "Python 3 (ipykernel)",
   "language": "python",
   "name": "python3"
  },
  "language_info": {
   "codemirror_mode": {
    "name": "ipython",
    "version": 3
   },
   "file_extension": ".py",
   "mimetype": "text/x-python",
   "name": "python",
   "nbconvert_exporter": "python",
   "pygments_lexer": "ipython3",
   "version": "3.12.5"
  }
 },
 "nbformat": 4,
 "nbformat_minor": 5
}
