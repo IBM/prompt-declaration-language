{
 "cells": [
  {
   "cell_type": "markdown",
   "id": "50f4ce4a",
   "metadata": {},
   "source": [
    "# PDL - Granite IO Processor Demo\n",
    "\n",
    "The Prompt Declaration Language (PDL) is a YAML-based declarative approach to prompt programming, where prompts are at the forefront. PDL facilitates model chaining and tool use, abstracting away the plumbing necessary for such compositions, enables type checking of the input and output of models, and is based on LiteLLM to support a variety of model providers. PDL has been used with RAG, CoT, ReAct, and an agent for solving SWE-bench. PDL is [open-source](https://github.com/IBM/prompt-declaration-language) and works well with watsonx.ai and Granite models.\n",
    "\n",
    "You can use PDL stand-alone or from a Python SDK or, as shown here, in a notebook via a notebook extension. In the cell output, model-generated text is rendered in green font, and tool-generated text is rendered in purple font.\n",
    "\n",
    "In this notebook, we demonstrate how PDL is integrated with the [Granite IO Processor](https://github.com/ibm-granite/granite-io) framework, which enables a developer to transform how a user calls an IBM Granite model and how the output from the model is returned to the user. PDL uses granite-io as an alternative backend to LiteLLM. The following examples show how to call an Ollama Granite model via PDL and granite-io, how to extract hallucination scores and citations, and how to toggle the thinking control, which turns on reasoning.\n",
    "\n",
    "First make sure you have Ollama installed and ollama serve is running, and that you have pulled the `granite3.2:2b` model."
   ]
  },
  {
   "cell_type": "code",
   "execution_count": null,
   "id": "bfc303da",
   "metadata": {},
   "outputs": [],
   "source": [
    "! pip install 'prompt-declaration-language[examples]'"
   ]
  },
  {
   "cell_type": "code",
   "execution_count": null,
   "id": "e25a6874-54d9-4167-82ed-ab2f4fdc0a6f",
   "metadata": {},
   "outputs": [],
   "source": [
    "%load_ext pdl.pdl_notebook_ext"
   ]
  },
  {
   "cell_type": "markdown",
   "id": "b2234ce9",
   "metadata": {},
   "source": [
    "## Model call with granite-io\n",
    "\n",
    "In PDL, the user specifies step-by-step the shape of data they want to generate. In the following, the `text` construct indicates a text block containing a prompt and a model call. Implicitly, PDL builds a background conversational context (list of role/content) which is used to make model calls. Each model call uses the context built so far as its input prompt.\n",
    "\n",
    "In this example, we infer using the `granite3.2:2b` model on Ollama via `granite-io`. Note that the `platform` field can be omited."
   ]
  },
  {
   "cell_type": "code",
   "execution_count": null,
   "id": "f3c62df1-0347-4711-acd7-3892cfd5df30",
   "metadata": {},
   "outputs": [],
   "source": [
    "%%pdl --reset-context\n",
    "text:\n",
    "- \"Hello!\\n\"\n",
    "- model: \"granite3.2:2b\"\n",
    "  platform: granite-io\n",
    "  backend: openai"
   ]
  },
  {
   "cell_type": "markdown",
   "id": "152180fe-2c69-4760-9989-8c52ec60b341",
   "metadata": {},
   "source": [
    "## Model call with thinking flag\n",
    "\n",
    "In the following example, we pass the `thinking` flag to the model, which causes it to reason. This flag is passed to the Ollama model via the `granite-io` library, which shapes the prompt appropriately given the `thinking` flag."
   ]
  },
  {
   "cell_type": "code",
   "execution_count": null,
   "id": "bb01f89d-afaa-409c-ad48-10cc50c3fbc5",
   "metadata": {},
   "outputs": [],
   "source": [
    "%%pdl --reset-context\n",
    "text:\n",
    "- |\n",
    "  Find the fastest way for a seller to visit all the cities in their region\n",
    "  >> Response:\n",
    "- model: \"granite3.2:2b\"\n",
    "  backend: openai\n",
    "  parameters: \n",
    "    thinking: true\n",
    "  modelResponse: outputs\n",
    "- |\n",
    "  >> Thoughts:\n",
    "  ${ outputs.results[0].next_message.reasoning_content }\n"
   ]
  },
  {
   "cell_type": "markdown",
   "id": "c9d405f8",
   "metadata": {},
   "source": [
    "## Hallucination Score and Citations\n",
    "\n",
    "In the following example, we pass the hallucination and citations controls to the model call."
   ]
  },
  {
   "cell_type": "code",
   "execution_count": null,
   "id": "d7149b3f",
   "metadata": {},
   "outputs": [],
   "source": [
    "%%pdl --reset-context\n",
    "defs:\n",
    "  doc:\n",
    "    data:\n",
    "      text: |\n",
    "        Audrey Faith McGraw (born September 21, 1967) is an American singer \n",
    "        and record producer. She is one of the most successful country artists \n",
    "        of all time, having sold more than 40 million albums worldwide. Hill is \n",
    "        married to American singer Tim McGraw, with whom she has recorded several duets. \n",
    "        Hill's first two albums, Take Me as I Am (1993) and It Matters to Me (1995), \n",
    "        were major successes and placed a combined three number ones on Billboard's \n",
    "        country charts. Hill's debut album was Take Me as I Am (1993); sales were strong, \n",
    "        buoyed by the chart success of \"Wild One\". Hill became the first female country \n",
    "        singer in 30 years to hold Billboard's number one position for four consecutive \n",
    "        weeks when \"Wild One\" managed the feat in 1994. Her version of \"Piece of My Heart\", \n",
    "        also went to the top of the country charts in 1994. The album sold a total of \n",
    "        3 million copies. Other singles from the album include \"Take Me as I Am\".  The recording \n",
    "        of Faith's second album was delayed by surgery to repair a ruptured blood vessel on \n",
    "        her vocal cords. It Matters to Me finally appeared in 1995 and was another \n",
    "        success, with the title track becoming her third number-one country single. \n",
    "        Several other top 10 singles followed, and more than 3 million copies of the \n",
    "        album were sold. The fifth single from the album, \"I Can't Do That Anymore\", \n",
    "        was written by country music artist Alan Jackson. Other singles from the album \n",
    "        include \"You Can't Lose Me\", \"Someone Else's Dream\", and \"Let's Go to Vegas\". \n",
    "        During this period, Hill appeared on the acclaimed PBS music program Austin City Limits.  \n",
    "        In spring 1996, Hill began the Spontaneous Combustion Tour with country singer Tim McGraw. \n",
    "        At that time, Hill had recently become engaged to her former producer, Scott Hendricks, \n",
    "        and McGraw had recently broken an engagement. McGraw and Hill were quickly \n",
    "        attracted to each other and began an affair. After discovering that Hill was \n",
    "        pregnant with their first child, the couple married on October 6, 1996. The \n",
    "        couple have three daughters together: Gracie Katherine (born 1997), Maggie Elizabeth (born 1998) \n",
    "        and Audrey Caroline (born 2001). Since their marriage, Hill and McGraw have endeavored \n",
    "        never to be apart for more than three consecutive days.  After the release of It Matters to Me, \n",
    "        Hill took a three-year break from recording to give herself a rest from four years of touring\n",
    "        and to begin a family with McGraw. During her break, she joined forces with her husband \n",
    "        for their first duet, \"It's Your Love\". The song stayed at number one for six weeks, \n",
    "        and won awards from both the Academy of Country Music and the Country Music Association. \n",
    "        Hill has remarked that sometimes when they perform the song together, \n",
    "        \"it [doesn't] feel like anybody else was really watching.\"\n",
    "\n",
    "text:\n",
    "- Did Faith Hill take a break from recording after releasing her second album, It Matters to Me?\n",
    "- model: \"granite3.2:2b\"\n",
    "  backend: openai\n",
    "  parameters:\n",
    "    documents:\n",
    "    - ${ doc }\n",
    "    controls:\n",
    "      hallucinations: true\n",
    "      citations: true\n",
    "  modelResponse: output\n",
    "- \"\\nHallucinations:\\n\"\n",
    "- for:  \n",
    "    hallucination: ${ output.results[0].next_message.hallucinations }\n",
    "  repeat:\n",
    "    text: \n",
    "    - \"Hallucination Risk: ${ hallucination.risk }\"\n",
    "    - \"\\nSentence: ${ hallucination.response_text }\"\n",
    "  join: \n",
    "    with: \"\\n\"\n",
    "- \"\\n\\nCitations:\\n\"\n",
    "- for:\n",
    "    citation: ${ output.results[0].next_message.citations }\n",
    "  repeat:\n",
    "    text: \n",
    "    - \"Citation: ${ citation.context_text }\"\n",
    "    - \"\\nSentence: ${ citation.response_text }\"\n",
    "  join:\n",
    "    with: \"\\n\""
   ]
  },
  {
   "cell_type": "markdown",
   "id": "61c40266",
   "metadata": {},
   "source": [
    "## Conclusion\n",
    "\n",
    "Since prompts are at the forefront, PDL makes users more productive in their trial-and-error with LLMs. With the `granite-io` platform, PDL users can take advantage of controls such as thinking, hallucination scores and citations. Try it!\n",
    "\n",
    "https://github.com/IBM/prompt-declaration-language"
   ]
  },
  {
   "cell_type": "code",
   "execution_count": null,
   "id": "35899e04-c75f-40ed-be5e-34e031c22573",
   "metadata": {},
   "outputs": [],
   "source": []
  }
 ],
 "metadata": {
  "kernelspec": {
   "display_name": "Python 3 (ipykernel)",
   "language": "python",
   "name": "python3"
  },
  "language_info": {
   "codemirror_mode": {
    "name": "ipython",
    "version": 3
   },
   "file_extension": ".py",
   "mimetype": "text/x-python",
   "name": "python",
   "nbconvert_exporter": "python",
   "pygments_lexer": "ipython3",
   "version": "3.12.5"
  }
 },
 "nbformat": 4,
 "nbformat_minor": 5
}
