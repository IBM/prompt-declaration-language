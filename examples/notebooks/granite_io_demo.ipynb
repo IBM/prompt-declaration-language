{
 "cells": [
  {
   "cell_type": "markdown",
   "id": "50f4ce4a",
   "metadata": {},
   "source": [
    "# PDL - Granite IO Processor Demo\n",
    "\n",
    "The Prompt Declaration Language (PDL) is a YAML-based declarative approach to prompt programming, where prompts are at the forefront. PDL facilitates model chaining and tool use, abstracting away the plumbing necessary for such compositions, enables type checking of the input and output of models, and is based on LiteLLM to support a variety of model providers. PDL has been used with RAG, CoT, ReAct, and an agent for solving SWE-bench. PDL is [open-source](https://github.com/IBM/prompt-declaration-language) and works well with watsonx.ai and Granite models.\n",
    "\n",
    "You can use PDL stand-alone or from a Python SDK or, as shown here, in a notebook via a notebook extension. In the cell output, model-generated text is rendered in green font, and tool-generated text is rendered in purple font.\n",
    "\n",
    "In this notebook, we demonstrate how PDL is integrated with the [Granite IO Processor](https://github.com/ibm-granite/granite-io) framework, which enables a developer to transform how a user calls an IBM Granite model and how the output from the model is returned to the user. PDL uses granite-io as an alternative backend to LiteLLM. The following examples show how to call an Ollama Granite model via PDL and granite-io, how to extract hallucination scores and citations, and how to toggle the thinking control, which turns on reasoning.\n",
    "\n",
    "First make sure you have Ollama installed and ollama serve is running, and that you have pulled the `granite3.2:2b` model."
   ]
  },
  {
   "cell_type": "code",
   "execution_count": null,
   "id": "bfc303da",
   "metadata": {},
   "outputs": [],
   "source": [
    "! pip install 'prompt-declaration-language[examples]'"
   ]
  },
  {
   "cell_type": "code",
   "execution_count": 2,
   "id": "e25a6874-54d9-4167-82ed-ab2f4fdc0a6f",
   "metadata": {},
   "outputs": [],
   "source": [
    "%load_ext pdl.pdl_notebook_ext"
   ]
  },
  {
   "cell_type": "markdown",
   "id": "b2234ce9",
   "metadata": {},
   "source": [
    "## Model call with granite-io\n",
    "\n",
    "In PDL, the user specifies step-by-step the shape of data they want to generate. In the following, the `text` construct indicates a text block containing a prompt and a model call. Implicitly, PDL builds a background conversational context (list of role/content) which is used to make model calls. Each model call uses the context built so far as its input prompt.\n",
    "\n",
    "In this example, we infer using the `granite3.2:2b` model on Ollama via `granite-io`. Note that the `platform` field can be omited."
   ]
  },
  {
   "cell_type": "code",
   "execution_count": 6,
   "id": "f3c62df1-0347-4711-acd7-3892cfd5df30",
   "metadata": {},
   "outputs": [
    {
     "name": "stdout",
     "output_type": "stream",
     "text": [
      "Hello!\n",
      "\u001b[32mHello! It seems like there's no question or context provided for me to respond to yet. How can I assist you today? Maybe you have some questions on a wide range of topics, from general knowledge, science, history, literature, technology, and more. Feel free to share what's on your mind. For instance, here are a few areas I'm prepared to cover:\n",
      "\n",
      "1. **Science**: Explain concepts in physics, biology, chemistry or even space exploration.\n",
      "2. **History**: Provide information or context about historical events.\n",
      "3. **Literature and Arts**: Discuss various literary works, authors, artists, their periods, movements, and styles.\n",
      "4. **Technology**: Talk about current trends, explain technical terms or concepts, even describe how certain tech products might work.\n",
      "5. **Current Events**: Give a summary of recent news across the globe or discuss topics like climate change, politics, or popular culture.\n",
      "\n",
      "Please share what you're interested in learning more about today, and I'll do my best to provide an informative and engaging response.\u001b[0m"
     ]
    }
   ],
   "source": [
    "%%pdl --reset-context\n",
    "text:\n",
    "- \"Hello!\\n\"\n",
    "- model: \"granite3.2:2b\"\n",
    "  platform: granite-io\n",
    "  backend: openai"
   ]
  },
  {
   "cell_type": "markdown",
   "id": "152180fe-2c69-4760-9989-8c52ec60b341",
   "metadata": {},
   "source": [
    "## Model call with thinking flag\n",
    "\n",
    "In the following example, we pass the `thinking` flag to the model, which causes it to reason. This flag is passed to the Ollama model via the `granite-io` library, which shapes the prompt appropriately given the `thinking` flag."
   ]
  },
  {
   "cell_type": "code",
   "execution_count": 5,
   "id": "bb01f89d-afaa-409c-ad48-10cc50c3fbc5",
   "metadata": {},
   "outputs": [
    {
     "name": "stdout",
     "output_type": "stream",
     "text": [
      "Find the fastest way for a seller to visit all the cities in their region\n",
      ">> Response:\n",
      "\u001b[32m\n",
      "\n",
      "To find the fastest way—in terms of minimizing cities visited and ensuring every city is covered without repetition—for a seller (let's assume they operate as a last-mile courier within a defined region) to visit all cities along a circular path from any one starting point, your best bet would be to employ specialized algorithms designed to solve variants of the Traveling Salesman Problem. One such tool is Concorde TSP Solver, an open-source exact solver that's renowned for its performance on real-world data sets and industrial scale instances due to sophisticated optimizations, primarily:\n",
      "\n",
      "1. **Branch-and-Cut Method**: This technique cuts away non-integral solutions iteratively while retaining feasible paths to maintain a balance between improving the objective (i.e., cities visited) and adhering to constraints, thus finding near-optimal results efficiently.\n",
      "\n",
      "2. **Preprocessing**: Concorde uses advanced preprocessing steps like the Lin–Kernighan algorithm followed by linear programming refinement to further improve its running time and solution quality as large instances scale.\n",
      "\n",
      "3. **Integration and Use** (Pseudo-Python Implementation Using Python Concorde Library):\n",
      "\n",
      "   ```python\n",
      "   import concorde\n",
      "\n",
      "   # List of cities, use 0 for home base\n",
      "   cities = [1, 2, 3, 4, 5, 6, 7, 8, 9, 1]  # Example: Cities in order from 0 to nine (e.g., [1-based index)]\n",
      "\n",
      "   # Set starting city (index)\n",
      "   start = 0\n",
      "   \n",
      "   # Run Concorde as an exact TSP solver with a specified timeout (optional; you can set it for more time if needed)\n",
      "   solver = concorde.TspSolver()\n",
      "   results = solver.solve(cities_from=list(range(len(cities))), start=start, max_seconds=3600)  # Adjust 'max_seconds' based on your tolerance\n",
      "\n",
      "   print(\"Optimal Route with Minimum Cities Visited:\", results.best_path())\n",
      "   ```\n",
      "\n",
      ">> Thoughts:will be a sequence of indices representing the optimal cities to visit that minimizes total visits while covering all predefined locations exactly once, which in the city context signifies the most efficient path for the seller’s courier rounds without revisiting any city till every stop is made. Note that Concorde's results are typically very close to optimal with real-world applications—the primary benefit being scalability and execution speed across diverse dataset sizes. While not an exact polynomial-time algorithm, it outperforms most other methods for large TSP instances due to its sophisticated heuristics and optimization techniques.\u001b[0m\n",
      "\n",
      "\n",
      "1. **Understand the Problem**: The goal is to find the quickest route that allows a seller, who operates in a specific geographical region (let's assume this for this exercise as a circular map of cities), to visit each city exactly once and return to their starting point without revisiting any city until all visits are complete.\n",
      "\n",
      "2. **Type of Problem**: This problem isn't about distance traveled between two points but rather the number of cities crossed while minimizing repetitions until no more routes are possible. It's similar to the Traveling Salesman Problem (TSP), a well-known NP-hard combinatorial optimization problem, with an added constraint: we know some starting and ending (home) point, which simplifies the task somewhat.\n",
      "\n",
      "3. **Strategy**: To find the fastest route in this context, I'll focus on minimizing total cities visited while ensuring every city is covered—akin to a 1-sequence that visits each city exactly once. This type of solution aligns with what you might consider when planning the quickest delivery schedule for multiple stops from one starting point.\n",
      "\n",
      "4. **Algorithm Choice**: For such an optimization problem, efficient heuristics and approximation algorithms are often used because exact solutions become impractical for large sets of cities due to their computational complexity. One such popular, widely-used algorithm is Concorde TSP Solver, which employs a branch-and-cut method and can solve very large TSP problems quickly.\n",
      "\n",
      "5. **Tool Utilization**: Since Concorde is an offline exact solver, I would suggest using it to find the optimal or near-optimal solution. It's freely available for non-commercial use with open source licensing for programming implementations in various languages including C++, Java, and Python.\n",
      "\n",
      "6. **Implementation Notes (pseudo-code)**:\n",
      "   - Initialize the software with a list of cities.\n",
      "   - Set the starting city as prescribed, i.e., their home base.\n",
      "   - Run the algorithm (Concorde):\n",
      "     ```python\n",
      "     # In pseudo-Python:\n",
      "      solver = ConcordeTsp(cities, method=\"exact\", timeout=3600)  # Adjust time limit per your need\n",
      "     results = solver.solve()\n",
      "     ```\n",
      "   - The output `results` will contain the optimal path that visits each city exactly once with the shortest possible total distance (or cost if weights are used), minus some tolerance for computational reasons, which should be negligible in this context since it's an exact solver.\n",
      "\n",
      "\n"
     ]
    }
   ],
   "source": [
    "%%pdl --reset-context\n",
    "text:\n",
    "- |\n",
    "  Find the fastest way for a seller to visit all the cities in their region\n",
    "  >> Response:\n",
    "- model: \"granite3.2:2b\"\n",
    "  backend: openai\n",
    "  parameters: \n",
    "    thinking: true\n",
    "  modelResponse: outputs\n",
    "- |\n",
    "  >> Thoughts:\n",
    "  ${ outputs.reasoning_content }\n"
   ]
  },
  {
   "cell_type": "markdown",
   "id": "c9d405f8",
   "metadata": {},
   "source": [
    "## Hallucination Score and Citations\n",
    "\n",
    "In the following example, we pass the hallucination and citations controls to the model call."
   ]
  },
  {
   "cell_type": "code",
   "execution_count": 9,
   "id": "d7149b3f",
   "metadata": {},
   "outputs": [
    {
     "name": "stdout",
     "output_type": "stream",
     "text": [
      "Did Faith Hill take a break from recording after releasing her second album, It Matters to Me?\u001b[32mYes, after the release of her sophomore album, It Matters to Me (1995), Faith Hill indeed took a three-year break from recording <co>1</co>. This pause in music allowed her to prepare for motherhood, as she started a family with fellow country artist Tim McGraw at that time. During this period, which began in 1996 after HIll's engagement with producer Scott Hendricks turned into an affair and subsequent marriage, she collaborated on the hit single \"It's Your Love\" with her future husband (released post-separation).\n",
      "\n",
      "<co>1</co> The documents suggest that Faith Hill, after becoming successful with her albums Take Me as I Am (1993) and It Matters to Me (1995), decided to step back from the studio for approximately three years. This decision was partly driven by her desire to start a family with Tim McGraw and provide more time to their young kids, who included Gracie Katherine (born 1997), Maggie Elizabeth (born 1998), and Audrey Caroline (born 2001) at the time of this break.\n",
      "\n",
      "# Hallucinations:\n",
      "1. Risk low: Yes, after the release of her sophomore album, It Matters to Me (1995), Faith Hill indeed took a three-year break from recording <co>1</co>.\n",
      "2. Risk low: This pause in music allowed her to prepare for motherhood, as she started a family with fellow country artist Tim McGraw at that time.\n",
      "3. Risk high: During this period, which began in 1996 after HIll's engagement with producer Scott Hendricks turned into an affair and subsequent marriage, she collaborated on the hit single \"It's Your Love\" with her future husband (released post-separation).\n",
      "4. Risk low: <co>1</co> The documents suggest that Faith Hill, after becoming successful with her albums Take Me as I Am (1993) and It Matters to Me (1995), decided to step back from the studio for approximately three years.\n",
      "5. Risk low: This decision was partly driven by her desire to start a family with Tim McGraw and provide more time to their young kids, who included Gracie Katherine (born 1997), Maggie Elizabeth (born 1998), and Audrey Caroline (born 2001) at the time of this break.\u001b[0m"
     ]
    }
   ],
   "source": [
    "%%pdl\n",
    "defs:\n",
    "  doc:\n",
    "    data:\n",
    "      text: |\n",
    "        Audrey Faith McGraw (born September 21, 1967) is an American singer \n",
    "        and record producer. She is one of the most successful country artists \n",
    "        of all time, having sold more than 40 million albums worldwide. Hill is \n",
    "        married to American singer Tim McGraw, with whom she has recorded several duets. \n",
    "        Hill's first two albums, Take Me as I Am (1993) and It Matters to Me (1995), \n",
    "        were major successes and placed a combined three number ones on Billboard's \n",
    "        country charts. Hill's debut album was Take Me as I Am (1993); sales were strong, \n",
    "        buoyed by the chart success of \"Wild One\". Hill became the first female country \n",
    "        singer in 30 years to hold Billboard's number one position for four consecutive \n",
    "        weeks when \"Wild One\" managed the feat in 1994. Her version of \"Piece of My Heart\", \n",
    "        also went to the top of the country charts in 1994. The album sold a total of \n",
    "        3 million copies. Other singles from the album include \"Take Me as I Am\".  The recording \n",
    "        of Faith's second album was delayed by surgery to repair a ruptured blood vessel on \n",
    "        her vocal cords. It Matters to Me finally appeared in 1995 and was another \n",
    "        success, with the title track becoming her third number-one country single. \n",
    "        Several other top 10 singles followed, and more than 3 million copies of the \n",
    "        album were sold. The fifth single from the album, \"I Can't Do That Anymore\", \n",
    "        was written by country music artist Alan Jackson. Other singles from the album \n",
    "        include \"You Can't Lose Me\", \"Someone Else's Dream\", and \"Let's Go to Vegas\". \n",
    "        During this period, Hill appeared on the acclaimed PBS music program Austin City Limits.  \n",
    "        In spring 1996, Hill began the Spontaneous Combustion Tour with country singer Tim McGraw. \n",
    "        At that time, Hill had recently become engaged to her former producer, Scott Hendricks, \n",
    "        and McGraw had recently broken an engagement. McGraw and Hill were quickly \n",
    "        attracted to each other and began an affair. After discovering that Hill was \n",
    "        pregnant with their first child, the couple married on October 6, 1996. The \n",
    "        couple have three daughters together: Gracie Katherine (born 1997), Maggie Elizabeth (born 1998) \n",
    "        and Audrey Caroline (born 2001). Since their marriage, Hill and McGraw have endeavored \n",
    "        never to be apart for more than three consecutive days.  After the release of It Matters to Me, \n",
    "        Hill took a three-year break from recording to give herself a rest from four years of touring\n",
    "        and to begin a family with McGraw. During her break, she joined forces with her husband \n",
    "        for their first duet, \"It's Your Love\". The song stayed at number one for six weeks, \n",
    "        and won awards from both the Academy of Country Music and the Country Music Association. \n",
    "        Hill has remarked that sometimes when they perform the song together, \n",
    "        \"it [doesn't] feel like anybody else was really watching.\"\n",
    "\n",
    "text:\n",
    "- Did Faith Hill take a break from recording after releasing her second album, It Matters to Me?\n",
    "- model: \"granite3.2:2b\"\n",
    "  backend: openai\n",
    "  parameters:\n",
    "    documents:\n",
    "    - ${ doc }\n",
    "    controls:\n",
    "      hallucinations: true\n",
    "      citations: true\n",
    " "
   ]
  },
  {
   "cell_type": "markdown",
   "id": "61c40266",
   "metadata": {},
   "source": [
    "## Conclusion\n",
    "\n",
    "Since prompts are at the forefront, PDL makes users more productive in their trial-and-error with LLMs. With the `granite-io` platform, PDL users can take advantage of controls such as thinking, hallucination scores and citations. Try it!\n",
    "\n",
    "https://github.com/IBM/prompt-declaration-language"
   ]
  },
  {
   "cell_type": "code",
   "execution_count": null,
   "id": "35899e04-c75f-40ed-be5e-34e031c22573",
   "metadata": {},
   "outputs": [],
   "source": []
  }
 ],
 "metadata": {
  "kernelspec": {
   "display_name": "Python 3 (ipykernel)",
   "language": "python",
   "name": "python3"
  },
  "language_info": {
   "codemirror_mode": {
    "name": "ipython",
    "version": 3
   },
   "file_extension": ".py",
   "mimetype": "text/x-python",
   "name": "python",
   "nbconvert_exporter": "python",
   "pygments_lexer": "ipython3",
   "version": "3.12.5"
  }
 },
 "nbformat": 4,
 "nbformat_minor": 5
}
