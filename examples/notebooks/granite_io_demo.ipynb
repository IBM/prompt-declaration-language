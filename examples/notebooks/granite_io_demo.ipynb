{
 "cells": [
  {
   "cell_type": "markdown",
   "id": "50f4ce4a",
   "metadata": {},
   "source": [
    "# PDL - Granite IO Processor Demo\n",
    "\n",
    "The Prompt Declaration Language (PDL) is a YAML-based declarative approach to prompt programming, where prompts are at the forefront. PDL facilitates model chaining and tool use, abstracting away the plumbing necessary for such compositions, enables type checking of the input and output of models, and is based on LiteLLM to support a variety of model providers. PDL has been used with RAG, CoT, ReAct, and an agent for solving SWE-bench. PDL is [open-source](https://github.com/IBM/prompt-declaration-language) and works well with watsonx.ai and Granite models.\n",
    "\n",
    "You can use PDL stand-alone or from a Python SDK or, as shown here, in a notebook via a notebook extension. In the cell output, model-generated text is rendered in green font, and tool-generated text is rendered in purple font.\n",
    "\n",
    "In this notebook, we demonstrate how PDL is integrated with the [Granite IO Processor](https://github.com/ibm-granite/granite-io) framework, which enables a developer to transform how a user calls an IBM Granite model and how the output from the model is returned to the user. PDL uses granite-io as an alternative backend to LiteLLM. The following examples show how to call an Ollama Granite model via PDL and granite-io, how to extract hallucination scores and citations, and how to toggle the thinking control, which turns on reasoning.\n",
    "\n",
    "First make sure you have Ollama installed and ollama serve is running, and that you have pulled the `granite3.2:2b` model."
   ]
  },
  {
   "cell_type": "code",
   "execution_count": null,
   "id": "bfc303da",
   "metadata": {},
   "outputs": [],
   "source": [
    "! pip install 'prompt-declaration-language[examples]'"
   ]
  },
  {
   "cell_type": "code",
   "execution_count": 1,
   "id": "e25a6874-54d9-4167-82ed-ab2f4fdc0a6f",
   "metadata": {},
   "outputs": [
    {
     "name": "stderr",
     "output_type": "stream",
     "text": [
      "ERROR:root:Error in adding the context spans to citation:                             Cited text not found in corresponding document\n",
      "ERROR:asyncio:Task exception was never retrieved\n",
      "future: <Task finished name='Task-14' coro=<AsyncClient.aclose() done, defined at /Users/lmandel/.pyenv/versions/3.13.0/envs/pdl-3.13/lib/python3.13/site-packages/httpx/_client.py:2024> exception=RuntimeError('Event loop is closed')>\n",
      "Traceback (most recent call last):\n",
      "  File \"/Users/lmandel/.pyenv/versions/3.13.0/envs/pdl-3.13/lib/python3.13/site-packages/httpx/_client.py\", line 2031, in aclose\n",
      "    await self._transport.aclose()\n",
      "  File \"/Users/lmandel/.pyenv/versions/3.13.0/envs/pdl-3.13/lib/python3.13/site-packages/httpx/_transports/default.py\", line 389, in aclose\n",
      "    await self._pool.aclose()\n",
      "  File \"/Users/lmandel/.pyenv/versions/3.13.0/envs/pdl-3.13/lib/python3.13/site-packages/httpcore/_async/connection_pool.py\", line 353, in aclose\n",
      "    await self._close_connections(closing_connections)\n",
      "  File \"/Users/lmandel/.pyenv/versions/3.13.0/envs/pdl-3.13/lib/python3.13/site-packages/httpcore/_async/connection_pool.py\", line 345, in _close_connections\n",
      "    await connection.aclose()\n",
      "  File \"/Users/lmandel/.pyenv/versions/3.13.0/envs/pdl-3.13/lib/python3.13/site-packages/httpcore/_async/connection.py\", line 173, in aclose\n",
      "    await self._connection.aclose()\n",
      "  File \"/Users/lmandel/.pyenv/versions/3.13.0/envs/pdl-3.13/lib/python3.13/site-packages/httpcore/_async/http11.py\", line 258, in aclose\n",
      "    await self._network_stream.aclose()\n",
      "  File \"/Users/lmandel/.pyenv/versions/3.13.0/envs/pdl-3.13/lib/python3.13/site-packages/httpcore/_backends/anyio.py\", line 53, in aclose\n",
      "    await self._stream.aclose()\n",
      "  File \"/Users/lmandel/.pyenv/versions/3.13.0/envs/pdl-3.13/lib/python3.13/site-packages/anyio/_backends/_asyncio.py\", line 1306, in aclose\n",
      "    self._transport.close()\n",
      "    ~~~~~~~~~~~~~~~~~~~~~^^\n",
      "  File \"/Users/lmandel/.pyenv/versions/3.13.0/lib/python3.13/asyncio/selector_events.py\", line 1202, in close\n",
      "    super().close()\n",
      "    ~~~~~~~~~~~~~^^\n",
      "  File \"/Users/lmandel/.pyenv/versions/3.13.0/lib/python3.13/asyncio/selector_events.py\", line 865, in close\n",
      "    self._loop.call_soon(self._call_connection_lost, None)\n",
      "    ~~~~~~~~~~~~~~~~~~~~^^^^^^^^^^^^^^^^^^^^^^^^^^^^^^^^^^\n",
      "  File \"/Users/lmandel/.pyenv/versions/3.13.0/lib/python3.13/asyncio/base_events.py\", line 829, in call_soon\n",
      "    self._check_closed()\n",
      "    ~~~~~~~~~~~~~~~~~~^^\n",
      "  File \"/Users/lmandel/.pyenv/versions/3.13.0/lib/python3.13/asyncio/base_events.py\", line 552, in _check_closed\n",
      "    raise RuntimeError('Event loop is closed')\n",
      "RuntimeError: Event loop is closed\n"
     ]
    }
   ],
   "source": [
    "%load_ext pdl.pdl_notebook_ext"
   ]
  },
  {
   "cell_type": "markdown",
   "id": "b2234ce9",
   "metadata": {},
   "source": [
    "## Model call with granite-io\n",
    "\n",
    "In PDL, the user specifies step-by-step the shape of data they want to generate. In the following, the `text` construct indicates a text block containing a prompt and a model call. Implicitly, PDL builds a background conversational context (list of role/content) which is used to make model calls. Each model call uses the context built so far as its input prompt.\n",
    "\n",
    "In this example, we infer using the `granite3.2:2b` model on Ollama via `granite-io`. Note that the `platform` field can be omited."
   ]
  },
  {
   "cell_type": "code",
   "execution_count": 2,
   "id": "f3c62df1-0347-4711-acd7-3892cfd5df30",
   "metadata": {},
   "outputs": [
    {
     "name": "stdout",
     "output_type": "stream",
     "text": [
      "Hello!\n",
      "\u001b[32mHello! It seems like we're having a bit of an interruption in time due to the knowledge cutoff date being April 2024 and today's date being March 26, 2025. As Granite, I can still provide information based on knowledge up to that point, so go ahead with your question! How can I assist you within this context?\u001b[0m"
     ]
    }
   ],
   "source": [
    "%%pdl --reset-context\n",
    "text:\n",
    "- \"Hello!\\n\"\n",
    "- model: \"granite3.2:2b\"\n",
    "  platform: granite-io\n",
    "  backend: openai"
   ]
  },
  {
   "cell_type": "markdown",
   "id": "152180fe-2c69-4760-9989-8c52ec60b341",
   "metadata": {},
   "source": [
    "## Model call with thinking flag\n",
    "\n",
    "In the following example, we pass the `thinking` flag to the model, which causes it to reason. This flag is passed to the Ollama model via the `granite-io` library, which shapes the prompt appropriately given the `thinking` flag."
   ]
  },
  {
   "cell_type": "code",
   "execution_count": 3,
   "id": "bb01f89d-afaa-409c-ad48-10cc50c3fbc5",
   "metadata": {},
   "outputs": [
    {
     "name": "stdout",
     "output_type": "stream",
     "text": [
      "Find the fastest way for a seller to visit all the cities in their region\n",
      ">> Response:\n",
      "\u001b[32mTo determine the fastest route for a seller to visit every city in their region, we employ solutions from advanced graph theory and optimization algorithms. Here’s how you could approach this problem using modern computational methods:\n",
      "\n",
      "1. **Data Representation**:\n",
      "   - Begin by compiling all cities of interest that constitute your seller's region into a set of vertices or nodes in an undirected graph (G = (V, E)), where each vertex 'v' represents one city.\n",
      "   - Assign weights to the edges (w(u, v)) based on a suitable metric relevant to your seller’s context – this could be driving distance between cities measured via GPS if vehicles are used for travel, or it might represent time estimations for business travelers if you're optimizing for operational efficiency.\n",
      "\n",
      "2. **Algorithm Selection**: For solving the complicated TSP problem of finding the shortest path through all these points while minimizing total cost (distance, time taken, etc.), consider one of the following proven methods:\n",
      "   \n",
      "   - **Exact Methods**:\n",
      "     - **Christofides' Algorithm** – This is a widely accepted approximation algorithm with a guaranteed performance bound of 3/2 times the optimal solution. It converts the TSP into a combination of a near-optimal spanning tree and certain Hamiltonian cycles, making it computationally managed for most realistic scenarios.\n",
      "     - **Genetic Algorithms**, Ant Colony Optimization, or other heuristics – These evolutionary methods are powerful approximators that draw on principles from biological processes to iteratively refine solutions until good quality is reached rapidly.\n",
      "   \n",
      "   - **Commercial and Open-Source TSP Solvers**: \n",
      "     Tools like CPLEX (IBM's solvers) for complex optimization tasks can efficiently tackle larger TSP problems. For open-source solutions, GraphHopper or Google OR-Tools provide robust and scalable alternatives, though they might demand a more powerful computational platform than smartphone-level hardware would suggest.\n",
      "\n",
      "3. **Implementation Steps**:\n",
      "   - **Data Preparation**: Compile the list of cities with associated cost data into the correct format for your chosen algorithm – typically, a matrix where w(cityi, cityj) equals the cost or distance between them.\n",
      "   \n",
      "   - **Execution**:\n",
      "     - If using an exact method like Christofides', implement this process iteratively:\n",
      "       1. Start with an initial spanning tree and two or more Hamiltonian cycles.\n",
      "       2. At each step, replace a part of the minimum-weight alternating path from the tree with the edges from one of these cycles (to enhance the overall tour quality).\n",
      "       3. When no further improvements are possible in this manner, you have an approximation to the optimum solution.\n",
      "     - For heuristics or exact solvers like CPLEX:\n",
      "       1. Load your dataset into the solver software.\n",
      "       2. Set objective parameters to minimize \"total cost\" (e.g., time or distance).\n",
      "       3. Run the solver and wait for the optimal (or near-optimal) route solution to present itself.\n",
      "\n",
      "4. **Analysis**:\n",
      "   - Analyze outcomes from both exact and heuristic methods. Compare results to qualitatively assess which approach gives a more efficient route for your seller, considering tolerance levels for deviations from theoretical optima due to computational restrictions or other constraints on your data. Adjust parameters like the \"population size\" in genetic algorithms or solver settings like time limits if needed, recalculating until satisfactory performance is achieved.\n",
      "\n",
      "5. **Route Interpretation**:\n",
      "   - Once a solution is secured:\n",
      "     - Map out each city it includes.\n",
      "     - Estimate travel times between them according to the weight function used (actual transit times, expected average driving speeds, business-optimal schedules). \n",
      "     - Use this insight to plan trips efficiently, maximizing sales visits while minimizing operational downtime or travel expenses.\n",
      "\n",
      "Ultimately, leveraging these advanced analytical tools and following a structured procedure ensures that the seller not only completes all necessary city visits but also does so in the most efficient manner possible based on the constraints and objectives defined for this strategic route planning problem.\u001b[0m>> Thoughts:\n",
      "1. **Understanding the Problem**: The goal is to find the most efficient route that allows a seller to visit every city in their defined region exactly once. This problem can be solved using strategies from graph theory, specifically, the Traveling Salesman Problem (TSP), a well-known type of optimization problem.\n",
      "\n",
      "2. **Representation**: Cities can be represented as vertices in a mathematical graph. Edges between these vertices would represent potential routes that connect cities, with weights possibly measuring distance, time, or cost depending on the context.\n",
      "\n",
      "3. **Optimal Solution**: The ideal solution for this problem is an optimal TSP tour – a route visiting each city exactly once and returning to the initial city, minimizing total travel distance, time, or cost.\n",
      "\n",
      "4. **Algorithms and Tools**: Several algorithms can solve TSP efficiently:\n",
      "   - ** brute force method** – This could involve generating every possible permutation of city visits then selecting the one with the shortest cumulative distance or cost. Though practical for small numbers of cities due to exponential time complexity (O(n!)), it's impractical for larger problems like global routes.\n",
      "   - **approximation algorithms** – Such as Christofides' algorithm or a variant of the nearest neighbor (NN) approach can quickly produce near-optimal solutions with provable performance bounds.\n",
      "   - **Exact solvers** including commercial software packages (like CPLEX, Gurobi) and open-source tools (such as BranchAndCut in Python's PuLP library), which are capable of solving larger TSP problems to global optimality but at the cost of computational time proportional to 2^n or n log(n).\n",
      "\n",
      "5. **Implementation Considerations**:\n",
      "   - **Input Data**: Necessary data should be provided including a list of all cities and their coordinates (if route calculations depend on geographical distance) along with connectivity information between these points.\n",
      "   - **Software Tools** – Depending upon the city count, a laptop might suffice for exploring optimal routes with current techniques; professional TSP tools could be required for larger datasets or if global optima beyond approximations are needed.\n",
      "\n",
      "6. **Solution Outline**:\n",
      "   1. Collect and record all cities in the seller's region as vertices of a graph.\n",
      "   2. Weigh each city pair by its relevant metric (distance, time, cost), constituting edges or distances within this graph.\n",
      "   3. Employ an optimal TSP solver tool/algorithm to compute the least aggregate distance path visiting all cities once and returning to the origin.\n"
     ]
    }
   ],
   "source": [
    "%%pdl --reset-context\n",
    "text:\n",
    "- |\n",
    "  Find the fastest way for a seller to visit all the cities in their region\n",
    "  >> Response:\n",
    "- model: \"granite3.2:2b\"\n",
    "  backend: openai\n",
    "  parameters: \n",
    "    thinking: true\n",
    "  modelResponse: outputs\n",
    "- |\n",
    "  >> Thoughts:\n",
    "  ${ outputs.results[0].next_message.reasoning_content }\n"
   ]
  },
  {
   "cell_type": "markdown",
   "id": "c9d405f8",
   "metadata": {},
   "source": [
    "## Hallucination Score and Citations\n",
    "\n",
    "In the following example, we pass the hallucination and citations controls to the model call."
   ]
  },
  {
   "cell_type": "code",
   "execution_count": 4,
   "id": "d7149b3f",
   "metadata": {},
   "outputs": [
    {
     "name": "stdout",
     "output_type": "stream",
     "text": [
      "Did Faith Hill take a break from recording after releasing her second album, It Matters to Me?Error during 'granite3.2:2b' model call: PDLRuntimeError(\"Error during 'granite3.2:2b' model call: ValueError('Failed to parse citations, documents and hallucinations from model ouput.')\")\n"
     ]
    }
   ],
   "source": [
    "%%pdl --reset-context\n",
    "defs:\n",
    "  doc:\n",
    "    data:\n",
    "      text: |\n",
    "        Audrey Faith McGraw (born September 21, 1967) is an American singer \n",
    "        and record producer. She is one of the most successful country artists \n",
    "        of all time, having sold more than 40 million albums worldwide. Hill is \n",
    "        married to American singer Tim McGraw, with whom she has recorded several duets. \n",
    "        Hill's first two albums, Take Me as I Am (1993) and It Matters to Me (1995), \n",
    "        were major successes and placed a combined three number ones on Billboard's \n",
    "        country charts. Hill's debut album was Take Me as I Am (1993); sales were strong, \n",
    "        buoyed by the chart success of \"Wild One\". Hill became the first female country \n",
    "        singer in 30 years to hold Billboard's number one position for four consecutive \n",
    "        weeks when \"Wild One\" managed the feat in 1994. Her version of \"Piece of My Heart\", \n",
    "        also went to the top of the country charts in 1994. The album sold a total of \n",
    "        3 million copies. Other singles from the album include \"Take Me as I Am\".  The recording \n",
    "        of Faith's second album was delayed by surgery to repair a ruptured blood vessel on \n",
    "        her vocal cords. It Matters to Me finally appeared in 1995 and was another \n",
    "        success, with the title track becoming her third number-one country single. \n",
    "        Several other top 10 singles followed, and more than 3 million copies of the \n",
    "        album were sold. The fifth single from the album, \"I Can't Do That Anymore\", \n",
    "        was written by country music artist Alan Jackson. Other singles from the album \n",
    "        include \"You Can't Lose Me\", \"Someone Else's Dream\", and \"Let's Go to Vegas\". \n",
    "        During this period, Hill appeared on the acclaimed PBS music program Austin City Limits.  \n",
    "        In spring 1996, Hill began the Spontaneous Combustion Tour with country singer Tim McGraw. \n",
    "        At that time, Hill had recently become engaged to her former producer, Scott Hendricks, \n",
    "        and McGraw had recently broken an engagement. McGraw and Hill were quickly \n",
    "        attracted to each other and began an affair. After discovering that Hill was \n",
    "        pregnant with their first child, the couple married on October 6, 1996. The \n",
    "        couple have three daughters together: Gracie Katherine (born 1997), Maggie Elizabeth (born 1998) \n",
    "        and Audrey Caroline (born 2001). Since their marriage, Hill and McGraw have endeavored \n",
    "        never to be apart for more than three consecutive days.  After the release of It Matters to Me, \n",
    "        Hill took a three-year break from recording to give herself a rest from four years of touring\n",
    "        and to begin a family with McGraw. During her break, she joined forces with her husband \n",
    "        for their first duet, \"It's Your Love\". The song stayed at number one for six weeks, \n",
    "        and won awards from both the Academy of Country Music and the Country Music Association. \n",
    "        Hill has remarked that sometimes when they perform the song together, \n",
    "        \"it [doesn't] feel like anybody else was really watching.\"\n",
    "\n",
    "text:\n",
    "- Did Faith Hill take a break from recording after releasing her second album, It Matters to Me?\n",
    "- model: \"granite3.2:2b\"\n",
    "  backend: openai\n",
    "  parameters:\n",
    "    documents:\n",
    "    - ${ doc }\n",
    "    controls:\n",
    "      hallucinations: true\n",
    "      citations: true\n",
    " "
   ]
  },
  {
   "cell_type": "markdown",
   "id": "61c40266",
   "metadata": {},
   "source": [
    "## Conclusion\n",
    "\n",
    "Since prompts are at the forefront, PDL makes users more productive in their trial-and-error with LLMs. With the `granite-io` platform, PDL users can take advantage of controls such as thinking, hallucination scores and citations. Try it!\n",
    "\n",
    "https://github.com/IBM/prompt-declaration-language"
   ]
  },
  {
   "cell_type": "code",
   "execution_count": null,
   "id": "35899e04-c75f-40ed-be5e-34e031c22573",
   "metadata": {},
   "outputs": [],
   "source": []
  }
 ],
 "metadata": {
  "kernelspec": {
   "display_name": "pdl-3.13",
   "language": "python",
   "name": "python3"
  },
  "language_info": {
   "codemirror_mode": {
    "name": "ipython",
    "version": 3
   },
   "file_extension": ".py",
   "mimetype": "text/x-python",
   "name": "python",
   "nbconvert_exporter": "python",
   "pygments_lexer": "ipython3",
   "version": "3.13.0"
  }
 },
 "nbformat": 4,
 "nbformat_minor": 5
}
